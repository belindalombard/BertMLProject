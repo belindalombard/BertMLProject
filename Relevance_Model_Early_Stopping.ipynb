{
  "cells": [
    {
      "cell_type": "markdown",
      "metadata": {
        "id": "view-in-github",
        "colab_type": "text"
      },
      "source": [
        "<a href=\"https://colab.research.google.com/github/belindalombard/BertMLProject/blob/master/Relevance_Model_Early_Stopping.ipynb\" target=\"_parent\"><img src=\"https://colab.research.google.com/assets/colab-badge.svg\" alt=\"Open In Colab\"/></a>"
      ]
    },
    {
      "cell_type": "markdown",
      "id": "f60af366",
      "metadata": {
        "id": "f60af366"
      },
      "source": [
        "# Machine Annotation - BERTimbau - Relevance\n",
        "\n",
        "\n",
        "---"
      ]
    },
    {
      "cell_type": "markdown",
      "source": [
        "For this research project, we will be utilizing the BERTimbau pretrained model. See citation below: \\\n",
        "\n",
        "@inproceedings { \\\n",
        "  souza2020bertimbau, \\\n",
        "  author    = {F{\\'a}bio Souza and Rodrigo Nogueira and Roberto Lotufo}, \\\n",
        "  title     = {{BERT}imbau: pretrained {BERT} models for {B}razilian {P}ortuguese}, \\\n",
        "  booktitle = {9th Brazilian Conference on Intelligent Systems, {BRACIS}, Rio Grande do Sul, Brazil, October 20-23 (to appear)}, \\\n",
        "  year      = {2020} \\\n",
        "}\n"
      ],
      "metadata": {
        "id": "jZdzHVsXWiTY"
      },
      "id": "jZdzHVsXWiTY"
    },
    {
      "cell_type": "markdown",
      "source": [
        "## Set Up\n",
        "Mount to drive to access files for training the model:"
      ],
      "metadata": {
        "id": "mHmTeQNnUszz"
      },
      "id": "mHmTeQNnUszz"
    },
    {
      "cell_type": "code",
      "source": [
        "from google.colab import drive\n",
        "drive.mount('/content/drive')"
      ],
      "metadata": {
        "id": "UaYA4PulqHWG",
        "colab": {
          "base_uri": "https://localhost:8080/"
        },
        "outputId": "a2b2f8e3-4347-4544-f6e5-e08764c604b3"
      },
      "id": "UaYA4PulqHWG",
      "execution_count": null,
      "outputs": [
        {
          "output_type": "stream",
          "name": "stdout",
          "text": [
            "Drive already mounted at /content/drive; to attempt to forcibly remount, call drive.mount(\"/content/drive\", force_remount=True).\n"
          ]
        }
      ]
    },
    {
      "cell_type": "markdown",
      "source": [
        "### Libraries"
      ],
      "metadata": {
        "id": "TMVsslLUVBsn"
      },
      "id": "TMVsslLUVBsn"
    },
    {
      "cell_type": "markdown",
      "id": "b608a1eb",
      "metadata": {
        "id": "b608a1eb"
      },
      "source": [
        "Install transformers:\n"
      ]
    },
    {
      "cell_type": "code",
      "execution_count": null,
      "id": "15d75e46",
      "metadata": {
        "id": "15d75e46",
        "collapsed": true,
        "colab": {
          "base_uri": "https://localhost:8080/"
        },
        "outputId": "493d7f71-971e-48b5-fea1-e35e97867ebd"
      },
      "outputs": [
        {
          "output_type": "stream",
          "name": "stdout",
          "text": [
            "Requirement already satisfied: transformers in /usr/local/lib/python3.10/dist-packages (4.42.4)\n",
            "Requirement already satisfied: filelock in /usr/local/lib/python3.10/dist-packages (from transformers) (3.15.4)\n",
            "Requirement already satisfied: huggingface-hub<1.0,>=0.23.2 in /usr/local/lib/python3.10/dist-packages (from transformers) (0.23.5)\n",
            "Requirement already satisfied: numpy<2.0,>=1.17 in /usr/local/lib/python3.10/dist-packages (from transformers) (1.26.4)\n",
            "Requirement already satisfied: packaging>=20.0 in /usr/local/lib/python3.10/dist-packages (from transformers) (24.1)\n",
            "Requirement already satisfied: pyyaml>=5.1 in /usr/local/lib/python3.10/dist-packages (from transformers) (6.0.1)\n",
            "Requirement already satisfied: regex!=2019.12.17 in /usr/local/lib/python3.10/dist-packages (from transformers) (2024.5.15)\n",
            "Requirement already satisfied: requests in /usr/local/lib/python3.10/dist-packages (from transformers) (2.31.0)\n",
            "Requirement already satisfied: safetensors>=0.4.1 in /usr/local/lib/python3.10/dist-packages (from transformers) (0.4.3)\n",
            "Requirement already satisfied: tokenizers<0.20,>=0.19 in /usr/local/lib/python3.10/dist-packages (from transformers) (0.19.1)\n",
            "Requirement already satisfied: tqdm>=4.27 in /usr/local/lib/python3.10/dist-packages (from transformers) (4.66.4)\n",
            "Requirement already satisfied: fsspec>=2023.5.0 in /usr/local/lib/python3.10/dist-packages (from huggingface-hub<1.0,>=0.23.2->transformers) (2024.6.1)\n",
            "Requirement already satisfied: typing-extensions>=3.7.4.3 in /usr/local/lib/python3.10/dist-packages (from huggingface-hub<1.0,>=0.23.2->transformers) (4.12.2)\n",
            "Requirement already satisfied: charset-normalizer<4,>=2 in /usr/local/lib/python3.10/dist-packages (from requests->transformers) (3.3.2)\n",
            "Requirement already satisfied: idna<4,>=2.5 in /usr/local/lib/python3.10/dist-packages (from requests->transformers) (3.7)\n",
            "Requirement already satisfied: urllib3<3,>=1.21.1 in /usr/local/lib/python3.10/dist-packages (from requests->transformers) (2.0.7)\n",
            "Requirement already satisfied: certifi>=2017.4.17 in /usr/local/lib/python3.10/dist-packages (from requests->transformers) (2024.7.4)\n"
          ]
        }
      ],
      "source": [
        "!pip install transformers"
      ]
    },
    {
      "cell_type": "markdown",
      "source": [
        "Import libraries:"
      ],
      "metadata": {
        "id": "zr3ZeX_IOnyz"
      },
      "id": "zr3ZeX_IOnyz"
    },
    {
      "cell_type": "code",
      "execution_count": null,
      "id": "cea81cc2",
      "metadata": {
        "id": "cea81cc2"
      },
      "outputs": [],
      "source": [
        "import transformers\n",
        "from transformers import BertForSequenceClassification, BertTokenizer, pipeline\n",
        "import pandas as pd\n",
        "import numpy as np\n",
        "from torch.utils.data import TensorDataset, random_split, Subset, RandomSampler, SequentialSampler, Dataset\n",
        "import sklearn\n",
        "from sklearn.model_selection import train_test_split\n",
        "from sklearn.metrics import f1_score, confusion_matrix, classification_report\n",
        "import os\n",
        "import torch\n",
        "from torch.optim import AdamW\n",
        "import seaborn as sns\n",
        "import random\n",
        "import gc"
      ]
    },
    {
      "cell_type": "markdown",
      "source": [
        "Package versions:"
      ],
      "metadata": {
        "id": "pA3iw9B7PHbW"
      },
      "id": "pA3iw9B7PHbW"
    },
    {
      "cell_type": "code",
      "source": [
        "print(f\"Transformers version: {transformers.__version__}\")\n",
        "print(f\"Pandas version: {pd.__version__}\")\n",
        "print(f\"Numpy version: {np.__version__}\")\n",
        "print(f\"PyTorch version: {torch.__version__}\")\n",
        "print(f\"Scikit-learn version: {sklearn.__version__}\")\n",
        "print(f\"Seaborn version: {sns.__version__}\")"
      ],
      "metadata": {
        "id": "nWPQL1gdPLUu",
        "colab": {
          "base_uri": "https://localhost:8080/"
        },
        "outputId": "5c07b52a-b3f5-409a-efe2-1d7b32324fbd"
      },
      "id": "nWPQL1gdPLUu",
      "execution_count": null,
      "outputs": [
        {
          "output_type": "stream",
          "name": "stdout",
          "text": [
            "Transformers version: 4.42.4\n",
            "Pandas version: 2.1.4\n",
            "Numpy version: 1.26.4\n",
            "PyTorch version: 2.3.1+cu121\n",
            "Scikit-learn version: 1.3.2\n",
            "Seaborn version: 0.13.1\n"
          ]
        }
      ]
    },
    {
      "cell_type": "markdown",
      "source": [
        "### Connect to GPU\n",
        "Connect to GPU if available:"
      ],
      "metadata": {
        "id": "8x_gB7fgzw5s"
      },
      "id": "8x_gB7fgzw5s"
    },
    {
      "cell_type": "code",
      "source": [
        "import torch\n",
        "\n",
        "# If there's a GPU available:\n",
        "if torch.cuda.is_available():\n",
        "\n",
        "    # Use GPU\n",
        "    device = torch.device(\"cuda\")\n",
        "\n",
        "    print(\"There are available GPU(s).\") # torch.cuda.device_cour\n",
        "\n",
        "    print(\"We will use the GPU:\", torch.cuda.get_device_name(0))\n",
        "\n",
        "# If not\n",
        "\n",
        "else:\n",
        "    print(\"No GPU available, using CPU\")\n",
        "    device = torch.device(\"cpu\")"
      ],
      "metadata": {
        "id": "mRGhgm9drGq9",
        "colab": {
          "base_uri": "https://localhost:8080/"
        },
        "outputId": "6f901851-eace-4f90-d67c-2e1e3898afbd"
      },
      "id": "mRGhgm9drGq9",
      "execution_count": null,
      "outputs": [
        {
          "output_type": "stream",
          "name": "stdout",
          "text": [
            "There are available GPU(s).\n",
            "We will use the GPU: Tesla T4\n"
          ]
        }
      ]
    },
    {
      "cell_type": "markdown",
      "source": [
        "## GLOBAL VARIABLES - MODEL"
      ],
      "metadata": {
        "id": "LuMMG3FLpYYy"
      },
      "id": "LuMMG3FLpYYy"
    },
    {
      "cell_type": "markdown",
      "source": [
        "Below are global variables related to training the model. \\\n",
        "This will make the code more maintainable and easier to experiment with new values."
      ],
      "metadata": {
        "id": "ej8R6M1HZNz2"
      },
      "id": "ej8R6M1HZNz2"
    },
    {
      "cell_type": "markdown",
      "source": [
        "Seed values used: [66, 109, 85, 42, 120, 172, 239, 19, 124, 48, 83, 184, 47, 160, 238, 49, 209, 110, 174, 118]"
      ],
      "metadata": {
        "id": "O1iKjhq4lRDP"
      },
      "id": "O1iKjhq4lRDP"
    },
    {
      "cell_type": "code",
      "source": [
        "import os\n",
        "\n",
        "MODEL_TYPE = 'neuralmind/bert-base-portuguese-cased'\n",
        "NUM_CLASSES = 2\n",
        "\n",
        "SEED_VAL = 42\n",
        "\n",
        "NUM_FOLDS = 5\n",
        "NUM_EPOCHS = 5\n",
        "\n",
        "L_RATE = 2e-5 # Testar novos valores\n",
        "MAX_LEN = 256 # Testar novos valores\n",
        "BATCH_SIZE = 32 # Testar novos valores\n",
        "EPS = 1e-8 # Testar novos valores\n",
        "# regression epsylon\n",
        "\n",
        "NUM_CORES = os.cpu_count()"
      ],
      "metadata": {
        "id": "3FG0mAtWtfut"
      },
      "id": "3FG0mAtWtfut",
      "execution_count": null,
      "outputs": []
    },
    {
      "cell_type": "markdown",
      "source": [
        "## GLOBAL VARIABLES - DATA\n",
        "FILE_PATH = path to data file that will be used \\\n",
        "\n",
        "RELEVANCE = name of column representing relevance \\\n",
        "RELEVANCE_ID = column value that represents (relevance == True) \\\n",
        "\n",
        "POST = name of column representing the content of the tweet \\\n",
        "POST_DATE = name of column representing the post date \\\n",
        "POST_ID = name of column representing the tweet id\n",
        "\n",
        "YEAR = year of when the dataset is from (to be used for file/folder naming)"
      ],
      "metadata": {
        "id": "8-3218n_elhK"
      },
      "id": "8-3218n_elhK"
    },
    {
      "cell_type": "code",
      "source": [
        "FILE_PATH = '/content/drive/MyDrive/pesquisa-usp/relevant_tweets_2020-12-31.csv'\n",
        "FOLDER_PATH = ('/content/drive/MyDrive/pesquisa-usp/early_stopping_relevance/seed_' + str(SEED_VAL) + '/')\n",
        "\n",
        "RELEVANCE = 'relevance'\n",
        "RELEVANCE_ID = 'relevant'\n",
        "\n",
        "POST = 'content'\n",
        "POST_DATE = 'post_date'\n",
        "POST_ID = 'tweet_id'\n",
        "\n",
        "YEAR = '2020'\n"
      ],
      "metadata": {
        "id": "RQRRyNytek3K"
      },
      "id": "RQRRyNytek3K",
      "execution_count": null,
      "outputs": []
    },
    {
      "cell_type": "markdown",
      "source": [
        "## Load BERT"
      ],
      "metadata": {
        "id": "yppgDLFm0p8d"
      },
      "id": "yppgDLFm0p8d"
    },
    {
      "cell_type": "markdown",
      "source": [
        "Here, we will load BertForSequenceClassification. \\\n",
        "This is a pre-trained BERT model with a single linear classification layer on top."
      ],
      "metadata": {
        "id": "Vh0rp4uqdDbh"
      },
      "id": "Vh0rp4uqdDbh"
    },
    {
      "cell_type": "code",
      "source": [
        "from transformers import BertForSequenceClassification\n",
        "\n",
        "\n",
        "model = BertForSequenceClassification.from_pretrained(\n",
        "          MODEL_TYPE,\n",
        "          num_labels = NUM_CLASSES,\n",
        "          output_attentions = False,\n",
        "          output_hidden_states = False\n",
        "        )\n",
        "\n",
        "\n",
        "# Send the model to the device:\n",
        "model.to(device)"
      ],
      "metadata": {
        "id": "9qpDYkk_0z9A",
        "colab": {
          "base_uri": "https://localhost:8080/"
        },
        "outputId": "880c91bc-754a-4e1a-ebee-569953e379ce"
      },
      "id": "9qpDYkk_0z9A",
      "execution_count": null,
      "outputs": [
        {
          "output_type": "stream",
          "name": "stderr",
          "text": [
            "/usr/local/lib/python3.10/dist-packages/huggingface_hub/utils/_token.py:89: UserWarning: \n",
            "The secret `HF_TOKEN` does not exist in your Colab secrets.\n",
            "To authenticate with the Hugging Face Hub, create a token in your settings tab (https://huggingface.co/settings/tokens), set it as secret in your Google Colab and restart your session.\n",
            "You will be able to reuse this secret in all of your notebooks.\n",
            "Please note that authentication is recommended but still optional to access public models or datasets.\n",
            "  warnings.warn(\n",
            "Some weights of BertForSequenceClassification were not initialized from the model checkpoint at neuralmind/bert-base-portuguese-cased and are newly initialized: ['classifier.bias', 'classifier.weight']\n",
            "You should probably TRAIN this model on a down-stream task to be able to use it for predictions and inference.\n"
          ]
        },
        {
          "output_type": "execute_result",
          "data": {
            "text/plain": [
              "BertForSequenceClassification(\n",
              "  (bert): BertModel(\n",
              "    (embeddings): BertEmbeddings(\n",
              "      (word_embeddings): Embedding(29794, 768, padding_idx=0)\n",
              "      (position_embeddings): Embedding(512, 768)\n",
              "      (token_type_embeddings): Embedding(2, 768)\n",
              "      (LayerNorm): LayerNorm((768,), eps=1e-12, elementwise_affine=True)\n",
              "      (dropout): Dropout(p=0.1, inplace=False)\n",
              "    )\n",
              "    (encoder): BertEncoder(\n",
              "      (layer): ModuleList(\n",
              "        (0-11): 12 x BertLayer(\n",
              "          (attention): BertAttention(\n",
              "            (self): BertSdpaSelfAttention(\n",
              "              (query): Linear(in_features=768, out_features=768, bias=True)\n",
              "              (key): Linear(in_features=768, out_features=768, bias=True)\n",
              "              (value): Linear(in_features=768, out_features=768, bias=True)\n",
              "              (dropout): Dropout(p=0.1, inplace=False)\n",
              "            )\n",
              "            (output): BertSelfOutput(\n",
              "              (dense): Linear(in_features=768, out_features=768, bias=True)\n",
              "              (LayerNorm): LayerNorm((768,), eps=1e-12, elementwise_affine=True)\n",
              "              (dropout): Dropout(p=0.1, inplace=False)\n",
              "            )\n",
              "          )\n",
              "          (intermediate): BertIntermediate(\n",
              "            (dense): Linear(in_features=768, out_features=3072, bias=True)\n",
              "            (intermediate_act_fn): GELUActivation()\n",
              "          )\n",
              "          (output): BertOutput(\n",
              "            (dense): Linear(in_features=3072, out_features=768, bias=True)\n",
              "            (LayerNorm): LayerNorm((768,), eps=1e-12, elementwise_affine=True)\n",
              "            (dropout): Dropout(p=0.1, inplace=False)\n",
              "          )\n",
              "        )\n",
              "      )\n",
              "    )\n",
              "    (pooler): BertPooler(\n",
              "      (dense): Linear(in_features=768, out_features=768, bias=True)\n",
              "      (activation): Tanh()\n",
              "    )\n",
              "  )\n",
              "  (dropout): Dropout(p=0.1, inplace=False)\n",
              "  (classifier): Linear(in_features=768, out_features=2, bias=True)\n",
              ")"
            ]
          },
          "metadata": {},
          "execution_count": 8
        }
      ]
    },
    {
      "cell_type": "markdown",
      "source": [
        "\n",
        "\n",
        "---\n",
        "\n",
        "\n",
        "We will also save the path to this model so that it can be accessed at the start of the training loop.\\\n",
        "Variation of performance was observed when a new BertForSequenceClassification model is loaded.\n",
        "\n",
        "We plan to compare pre-training performance with post-training performance. \\\n",
        "Thus, we want to ensure that the model being trained is the same model that was previously evaluated."
      ],
      "metadata": {
        "id": "fWIq84iEgbhG"
      },
      "id": "fWIq84iEgbhG"
    },
    {
      "cell_type": "code",
      "source": [
        "model_name = 'original_model.bin'\n",
        "\n",
        "torch.save(model.state_dict(), model_name)\n",
        "print('Saved model as', model_name)"
      ],
      "metadata": {
        "id": "VtsKLwFqhww4",
        "colab": {
          "base_uri": "https://localhost:8080/"
        },
        "outputId": "af17384c-3370-48fd-b959-108ab5530985"
      },
      "id": "VtsKLwFqhww4",
      "execution_count": null,
      "outputs": [
        {
          "output_type": "stream",
          "name": "stdout",
          "text": [
            "Saved model as original_model.bin\n"
          ]
        }
      ]
    },
    {
      "cell_type": "markdown",
      "source": [
        "## Load Tokenizer"
      ],
      "metadata": {
        "id": "c0wkGa3GveW5"
      },
      "id": "c0wkGa3GveW5"
    },
    {
      "cell_type": "markdown",
      "source": [
        "Load BERT tokenizer:"
      ],
      "metadata": {
        "id": "IYS38S-Xc_bR"
      },
      "id": "IYS38S-Xc_bR"
    },
    {
      "cell_type": "code",
      "source": [
        "from transformers import BertTokenizer\n",
        "\n",
        "print('Loading BERT tokenizer...')\n",
        "tokenizer = BertTokenizer.from_pretrained(MODEL_TYPE, do_lower_case=False)"
      ],
      "metadata": {
        "id": "vuSepgBmvjTX",
        "colab": {
          "base_uri": "https://localhost:8080/"
        },
        "outputId": "54e21e60-f730-465e-ad00-fd469e8b3f2a"
      },
      "id": "vuSepgBmvjTX",
      "execution_count": null,
      "outputs": [
        {
          "output_type": "stream",
          "name": "stdout",
          "text": [
            "Loading BERT tokenizer...\n"
          ]
        }
      ]
    },
    {
      "cell_type": "markdown",
      "id": "83314bbe",
      "metadata": {
        "id": "83314bbe"
      },
      "source": [
        "## Prepare Dataset\n",
        "\n",
        "---"
      ]
    },
    {
      "cell_type": "markdown",
      "source": [
        "Load the cvs file of the dataset chosen to train the model:"
      ],
      "metadata": {
        "id": "gQ5oPenxfKon"
      },
      "id": "gQ5oPenxfKon"
    },
    {
      "cell_type": "code",
      "execution_count": null,
      "id": "8ab7464e",
      "metadata": {
        "id": "8ab7464e",
        "collapsed": true
      },
      "outputs": [],
      "source": [
        "import pandas as pd\n",
        "import numpy as np\n",
        "\n",
        "pd.set_option('display.max_columns', None)\n",
        "\n",
        "df = pd.read_csv(FILE_PATH)"
      ]
    },
    {
      "cell_type": "markdown",
      "source": [
        "Run this cell to display the dataset:"
      ],
      "metadata": {
        "id": "SYOZdtrQfhJB"
      },
      "id": "SYOZdtrQfhJB"
    },
    {
      "cell_type": "code",
      "source": [
        "df"
      ],
      "metadata": {
        "collapsed": true,
        "id": "FQIgSbOBS5eF",
        "colab": {
          "base_uri": "https://localhost:8080/",
          "height": 423
        },
        "outputId": "2085f998-163c-4f43-df82-94693f13cefb"
      },
      "id": "FQIgSbOBS5eF",
      "execution_count": null,
      "outputs": [
        {
          "output_type": "execute_result",
          "data": {
            "text/plain": [
              "     tweet_id                                            content   post_date  \\\n",
              "0        A522  A cabeça pensa onde o pé pisa. Quem governa de...  2020-09-15   \n",
              "1        A457  Sarto vai fazer um grande Programa de Enfrenta...  2020-11-20   \n",
              "2        A445  A Câmara dos Deputados votou hoje a MP que tra...  2020-12-18   \n",
              "3        A546  Tirar Bolsonaro do poder é uma questão de vida...  2020-11-10   \n",
              "4        A847  E a LIESA decidiu adiar os desfiles do #Carnav...  2020-09-24   \n",
              "...       ...                                                ...         ...   \n",
              "2997    B2717  \"Estou exigindo a questão da cloroquina.\" Algu...  2020-05-14   \n",
              "2998    B4586  #FeijoadaBeneficente | Participei neste sábado...  2020-03-09   \n",
              "2999    B4134  Aracaju tem um legado. Legado de desenvolvimen...  2020-06-10   \n",
              "3000    B2705  Estudo publicado pelo Imperial College estima ...  2020-04-01   \n",
              "3001    B5084  Na próxima quinta, 2 de abril, é o Dia Mundial...  2020-03-30   \n",
              "\n",
              "       relevance  \n",
              "0       relevant  \n",
              "1       relevant  \n",
              "2       relevant  \n",
              "3       relevant  \n",
              "4       relevant  \n",
              "...          ...  \n",
              "2997    relevant  \n",
              "2998  irrelevant  \n",
              "2999  irrelevant  \n",
              "3000  irrelevant  \n",
              "3001  irrelevant  \n",
              "\n",
              "[3002 rows x 4 columns]"
            ],
            "text/html": [
              "\n",
              "  <div id=\"df-8a629b08-8b85-48b1-82f1-c7b129d1aea7\" class=\"colab-df-container\">\n",
              "    <div>\n",
              "<style scoped>\n",
              "    .dataframe tbody tr th:only-of-type {\n",
              "        vertical-align: middle;\n",
              "    }\n",
              "\n",
              "    .dataframe tbody tr th {\n",
              "        vertical-align: top;\n",
              "    }\n",
              "\n",
              "    .dataframe thead th {\n",
              "        text-align: right;\n",
              "    }\n",
              "</style>\n",
              "<table border=\"1\" class=\"dataframe\">\n",
              "  <thead>\n",
              "    <tr style=\"text-align: right;\">\n",
              "      <th></th>\n",
              "      <th>tweet_id</th>\n",
              "      <th>content</th>\n",
              "      <th>post_date</th>\n",
              "      <th>relevance</th>\n",
              "    </tr>\n",
              "  </thead>\n",
              "  <tbody>\n",
              "    <tr>\n",
              "      <th>0</th>\n",
              "      <td>A522</td>\n",
              "      <td>A cabeça pensa onde o pé pisa. Quem governa de...</td>\n",
              "      <td>2020-09-15</td>\n",
              "      <td>relevant</td>\n",
              "    </tr>\n",
              "    <tr>\n",
              "      <th>1</th>\n",
              "      <td>A457</td>\n",
              "      <td>Sarto vai fazer um grande Programa de Enfrenta...</td>\n",
              "      <td>2020-11-20</td>\n",
              "      <td>relevant</td>\n",
              "    </tr>\n",
              "    <tr>\n",
              "      <th>2</th>\n",
              "      <td>A445</td>\n",
              "      <td>A Câmara dos Deputados votou hoje a MP que tra...</td>\n",
              "      <td>2020-12-18</td>\n",
              "      <td>relevant</td>\n",
              "    </tr>\n",
              "    <tr>\n",
              "      <th>3</th>\n",
              "      <td>A546</td>\n",
              "      <td>Tirar Bolsonaro do poder é uma questão de vida...</td>\n",
              "      <td>2020-11-10</td>\n",
              "      <td>relevant</td>\n",
              "    </tr>\n",
              "    <tr>\n",
              "      <th>4</th>\n",
              "      <td>A847</td>\n",
              "      <td>E a LIESA decidiu adiar os desfiles do #Carnav...</td>\n",
              "      <td>2020-09-24</td>\n",
              "      <td>relevant</td>\n",
              "    </tr>\n",
              "    <tr>\n",
              "      <th>...</th>\n",
              "      <td>...</td>\n",
              "      <td>...</td>\n",
              "      <td>...</td>\n",
              "      <td>...</td>\n",
              "    </tr>\n",
              "    <tr>\n",
              "      <th>2997</th>\n",
              "      <td>B2717</td>\n",
              "      <td>\"Estou exigindo a questão da cloroquina.\" Algu...</td>\n",
              "      <td>2020-05-14</td>\n",
              "      <td>relevant</td>\n",
              "    </tr>\n",
              "    <tr>\n",
              "      <th>2998</th>\n",
              "      <td>B4586</td>\n",
              "      <td>#FeijoadaBeneficente | Participei neste sábado...</td>\n",
              "      <td>2020-03-09</td>\n",
              "      <td>irrelevant</td>\n",
              "    </tr>\n",
              "    <tr>\n",
              "      <th>2999</th>\n",
              "      <td>B4134</td>\n",
              "      <td>Aracaju tem um legado. Legado de desenvolvimen...</td>\n",
              "      <td>2020-06-10</td>\n",
              "      <td>irrelevant</td>\n",
              "    </tr>\n",
              "    <tr>\n",
              "      <th>3000</th>\n",
              "      <td>B2705</td>\n",
              "      <td>Estudo publicado pelo Imperial College estima ...</td>\n",
              "      <td>2020-04-01</td>\n",
              "      <td>irrelevant</td>\n",
              "    </tr>\n",
              "    <tr>\n",
              "      <th>3001</th>\n",
              "      <td>B5084</td>\n",
              "      <td>Na próxima quinta, 2 de abril, é o Dia Mundial...</td>\n",
              "      <td>2020-03-30</td>\n",
              "      <td>irrelevant</td>\n",
              "    </tr>\n",
              "  </tbody>\n",
              "</table>\n",
              "<p>3002 rows × 4 columns</p>\n",
              "</div>\n",
              "    <div class=\"colab-df-buttons\">\n",
              "\n",
              "  <div class=\"colab-df-container\">\n",
              "    <button class=\"colab-df-convert\" onclick=\"convertToInteractive('df-8a629b08-8b85-48b1-82f1-c7b129d1aea7')\"\n",
              "            title=\"Convert this dataframe to an interactive table.\"\n",
              "            style=\"display:none;\">\n",
              "\n",
              "  <svg xmlns=\"http://www.w3.org/2000/svg\" height=\"24px\" viewBox=\"0 -960 960 960\">\n",
              "    <path d=\"M120-120v-720h720v720H120Zm60-500h600v-160H180v160Zm220 220h160v-160H400v160Zm0 220h160v-160H400v160ZM180-400h160v-160H180v160Zm440 0h160v-160H620v160ZM180-180h160v-160H180v160Zm440 0h160v-160H620v160Z\"/>\n",
              "  </svg>\n",
              "    </button>\n",
              "\n",
              "  <style>\n",
              "    .colab-df-container {\n",
              "      display:flex;\n",
              "      gap: 12px;\n",
              "    }\n",
              "\n",
              "    .colab-df-convert {\n",
              "      background-color: #E8F0FE;\n",
              "      border: none;\n",
              "      border-radius: 50%;\n",
              "      cursor: pointer;\n",
              "      display: none;\n",
              "      fill: #1967D2;\n",
              "      height: 32px;\n",
              "      padding: 0 0 0 0;\n",
              "      width: 32px;\n",
              "    }\n",
              "\n",
              "    .colab-df-convert:hover {\n",
              "      background-color: #E2EBFA;\n",
              "      box-shadow: 0px 1px 2px rgba(60, 64, 67, 0.3), 0px 1px 3px 1px rgba(60, 64, 67, 0.15);\n",
              "      fill: #174EA6;\n",
              "    }\n",
              "\n",
              "    .colab-df-buttons div {\n",
              "      margin-bottom: 4px;\n",
              "    }\n",
              "\n",
              "    [theme=dark] .colab-df-convert {\n",
              "      background-color: #3B4455;\n",
              "      fill: #D2E3FC;\n",
              "    }\n",
              "\n",
              "    [theme=dark] .colab-df-convert:hover {\n",
              "      background-color: #434B5C;\n",
              "      box-shadow: 0px 1px 3px 1px rgba(0, 0, 0, 0.15);\n",
              "      filter: drop-shadow(0px 1px 2px rgba(0, 0, 0, 0.3));\n",
              "      fill: #FFFFFF;\n",
              "    }\n",
              "  </style>\n",
              "\n",
              "    <script>\n",
              "      const buttonEl =\n",
              "        document.querySelector('#df-8a629b08-8b85-48b1-82f1-c7b129d1aea7 button.colab-df-convert');\n",
              "      buttonEl.style.display =\n",
              "        google.colab.kernel.accessAllowed ? 'block' : 'none';\n",
              "\n",
              "      async function convertToInteractive(key) {\n",
              "        const element = document.querySelector('#df-8a629b08-8b85-48b1-82f1-c7b129d1aea7');\n",
              "        const dataTable =\n",
              "          await google.colab.kernel.invokeFunction('convertToInteractive',\n",
              "                                                    [key], {});\n",
              "        if (!dataTable) return;\n",
              "\n",
              "        const docLinkHtml = 'Like what you see? Visit the ' +\n",
              "          '<a target=\"_blank\" href=https://colab.research.google.com/notebooks/data_table.ipynb>data table notebook</a>'\n",
              "          + ' to learn more about interactive tables.';\n",
              "        element.innerHTML = '';\n",
              "        dataTable['output_type'] = 'display_data';\n",
              "        await google.colab.output.renderOutput(dataTable, element);\n",
              "        const docLink = document.createElement('div');\n",
              "        docLink.innerHTML = docLinkHtml;\n",
              "        element.appendChild(docLink);\n",
              "      }\n",
              "    </script>\n",
              "  </div>\n",
              "\n",
              "\n",
              "<div id=\"df-f602a3a0-2e63-454d-852c-5f1c5b3e025f\">\n",
              "  <button class=\"colab-df-quickchart\" onclick=\"quickchart('df-f602a3a0-2e63-454d-852c-5f1c5b3e025f')\"\n",
              "            title=\"Suggest charts\"\n",
              "            style=\"display:none;\">\n",
              "\n",
              "<svg xmlns=\"http://www.w3.org/2000/svg\" height=\"24px\"viewBox=\"0 0 24 24\"\n",
              "     width=\"24px\">\n",
              "    <g>\n",
              "        <path d=\"M19 3H5c-1.1 0-2 .9-2 2v14c0 1.1.9 2 2 2h14c1.1 0 2-.9 2-2V5c0-1.1-.9-2-2-2zM9 17H7v-7h2v7zm4 0h-2V7h2v10zm4 0h-2v-4h2v4z\"/>\n",
              "    </g>\n",
              "</svg>\n",
              "  </button>\n",
              "\n",
              "<style>\n",
              "  .colab-df-quickchart {\n",
              "      --bg-color: #E8F0FE;\n",
              "      --fill-color: #1967D2;\n",
              "      --hover-bg-color: #E2EBFA;\n",
              "      --hover-fill-color: #174EA6;\n",
              "      --disabled-fill-color: #AAA;\n",
              "      --disabled-bg-color: #DDD;\n",
              "  }\n",
              "\n",
              "  [theme=dark] .colab-df-quickchart {\n",
              "      --bg-color: #3B4455;\n",
              "      --fill-color: #D2E3FC;\n",
              "      --hover-bg-color: #434B5C;\n",
              "      --hover-fill-color: #FFFFFF;\n",
              "      --disabled-bg-color: #3B4455;\n",
              "      --disabled-fill-color: #666;\n",
              "  }\n",
              "\n",
              "  .colab-df-quickchart {\n",
              "    background-color: var(--bg-color);\n",
              "    border: none;\n",
              "    border-radius: 50%;\n",
              "    cursor: pointer;\n",
              "    display: none;\n",
              "    fill: var(--fill-color);\n",
              "    height: 32px;\n",
              "    padding: 0;\n",
              "    width: 32px;\n",
              "  }\n",
              "\n",
              "  .colab-df-quickchart:hover {\n",
              "    background-color: var(--hover-bg-color);\n",
              "    box-shadow: 0 1px 2px rgba(60, 64, 67, 0.3), 0 1px 3px 1px rgba(60, 64, 67, 0.15);\n",
              "    fill: var(--button-hover-fill-color);\n",
              "  }\n",
              "\n",
              "  .colab-df-quickchart-complete:disabled,\n",
              "  .colab-df-quickchart-complete:disabled:hover {\n",
              "    background-color: var(--disabled-bg-color);\n",
              "    fill: var(--disabled-fill-color);\n",
              "    box-shadow: none;\n",
              "  }\n",
              "\n",
              "  .colab-df-spinner {\n",
              "    border: 2px solid var(--fill-color);\n",
              "    border-color: transparent;\n",
              "    border-bottom-color: var(--fill-color);\n",
              "    animation:\n",
              "      spin 1s steps(1) infinite;\n",
              "  }\n",
              "\n",
              "  @keyframes spin {\n",
              "    0% {\n",
              "      border-color: transparent;\n",
              "      border-bottom-color: var(--fill-color);\n",
              "      border-left-color: var(--fill-color);\n",
              "    }\n",
              "    20% {\n",
              "      border-color: transparent;\n",
              "      border-left-color: var(--fill-color);\n",
              "      border-top-color: var(--fill-color);\n",
              "    }\n",
              "    30% {\n",
              "      border-color: transparent;\n",
              "      border-left-color: var(--fill-color);\n",
              "      border-top-color: var(--fill-color);\n",
              "      border-right-color: var(--fill-color);\n",
              "    }\n",
              "    40% {\n",
              "      border-color: transparent;\n",
              "      border-right-color: var(--fill-color);\n",
              "      border-top-color: var(--fill-color);\n",
              "    }\n",
              "    60% {\n",
              "      border-color: transparent;\n",
              "      border-right-color: var(--fill-color);\n",
              "    }\n",
              "    80% {\n",
              "      border-color: transparent;\n",
              "      border-right-color: var(--fill-color);\n",
              "      border-bottom-color: var(--fill-color);\n",
              "    }\n",
              "    90% {\n",
              "      border-color: transparent;\n",
              "      border-bottom-color: var(--fill-color);\n",
              "    }\n",
              "  }\n",
              "</style>\n",
              "\n",
              "  <script>\n",
              "    async function quickchart(key) {\n",
              "      const quickchartButtonEl =\n",
              "        document.querySelector('#' + key + ' button');\n",
              "      quickchartButtonEl.disabled = true;  // To prevent multiple clicks.\n",
              "      quickchartButtonEl.classList.add('colab-df-spinner');\n",
              "      try {\n",
              "        const charts = await google.colab.kernel.invokeFunction(\n",
              "            'suggestCharts', [key], {});\n",
              "      } catch (error) {\n",
              "        console.error('Error during call to suggestCharts:', error);\n",
              "      }\n",
              "      quickchartButtonEl.classList.remove('colab-df-spinner');\n",
              "      quickchartButtonEl.classList.add('colab-df-quickchart-complete');\n",
              "    }\n",
              "    (() => {\n",
              "      let quickchartButtonEl =\n",
              "        document.querySelector('#df-f602a3a0-2e63-454d-852c-5f1c5b3e025f button');\n",
              "      quickchartButtonEl.style.display =\n",
              "        google.colab.kernel.accessAllowed ? 'block' : 'none';\n",
              "    })();\n",
              "  </script>\n",
              "</div>\n",
              "\n",
              "  <div id=\"id_463f354e-c85e-415f-ac6f-48f3ea7d84f4\">\n",
              "    <style>\n",
              "      .colab-df-generate {\n",
              "        background-color: #E8F0FE;\n",
              "        border: none;\n",
              "        border-radius: 50%;\n",
              "        cursor: pointer;\n",
              "        display: none;\n",
              "        fill: #1967D2;\n",
              "        height: 32px;\n",
              "        padding: 0 0 0 0;\n",
              "        width: 32px;\n",
              "      }\n",
              "\n",
              "      .colab-df-generate:hover {\n",
              "        background-color: #E2EBFA;\n",
              "        box-shadow: 0px 1px 2px rgba(60, 64, 67, 0.3), 0px 1px 3px 1px rgba(60, 64, 67, 0.15);\n",
              "        fill: #174EA6;\n",
              "      }\n",
              "\n",
              "      [theme=dark] .colab-df-generate {\n",
              "        background-color: #3B4455;\n",
              "        fill: #D2E3FC;\n",
              "      }\n",
              "\n",
              "      [theme=dark] .colab-df-generate:hover {\n",
              "        background-color: #434B5C;\n",
              "        box-shadow: 0px 1px 3px 1px rgba(0, 0, 0, 0.15);\n",
              "        filter: drop-shadow(0px 1px 2px rgba(0, 0, 0, 0.3));\n",
              "        fill: #FFFFFF;\n",
              "      }\n",
              "    </style>\n",
              "    <button class=\"colab-df-generate\" onclick=\"generateWithVariable('df')\"\n",
              "            title=\"Generate code using this dataframe.\"\n",
              "            style=\"display:none;\">\n",
              "\n",
              "  <svg xmlns=\"http://www.w3.org/2000/svg\" height=\"24px\"viewBox=\"0 0 24 24\"\n",
              "       width=\"24px\">\n",
              "    <path d=\"M7,19H8.4L18.45,9,17,7.55,7,17.6ZM5,21V16.75L18.45,3.32a2,2,0,0,1,2.83,0l1.4,1.43a1.91,1.91,0,0,1,.58,1.4,1.91,1.91,0,0,1-.58,1.4L9.25,21ZM18.45,9,17,7.55Zm-12,3A5.31,5.31,0,0,0,4.9,8.1,5.31,5.31,0,0,0,1,6.5,5.31,5.31,0,0,0,4.9,4.9,5.31,5.31,0,0,0,6.5,1,5.31,5.31,0,0,0,8.1,4.9,5.31,5.31,0,0,0,12,6.5,5.46,5.46,0,0,0,6.5,12Z\"/>\n",
              "  </svg>\n",
              "    </button>\n",
              "    <script>\n",
              "      (() => {\n",
              "      const buttonEl =\n",
              "        document.querySelector('#id_463f354e-c85e-415f-ac6f-48f3ea7d84f4 button.colab-df-generate');\n",
              "      buttonEl.style.display =\n",
              "        google.colab.kernel.accessAllowed ? 'block' : 'none';\n",
              "\n",
              "      buttonEl.onclick = () => {\n",
              "        google.colab.notebook.generateWithVariable('df');\n",
              "      }\n",
              "      })();\n",
              "    </script>\n",
              "  </div>\n",
              "\n",
              "    </div>\n",
              "  </div>\n"
            ],
            "application/vnd.google.colaboratory.intrinsic+json": {
              "type": "dataframe",
              "variable_name": "df",
              "summary": "{\n  \"name\": \"df\",\n  \"rows\": 3002,\n  \"fields\": [\n    {\n      \"column\": \"tweet_id\",\n      \"properties\": {\n        \"dtype\": \"string\",\n        \"num_unique_values\": 3002,\n        \"samples\": [\n          \"A643\",\n          \"B5026\",\n          \"B507\"\n        ],\n        \"semantic_type\": \"\",\n        \"description\": \"\"\n      }\n    },\n    {\n      \"column\": \"content\",\n      \"properties\": {\n        \"dtype\": \"string\",\n        \"num_unique_values\": 2992,\n        \"samples\": [\n          \"Bolsonaro e seus aliados, n\\u00e3o podem continuar desinformando a popula\\u00e7\\u00e3o em hip\\u00f3tese alguma. A vacina n\\u00e3o deve ser politizada, nunca. A vacina ser\\u00e1 a preven\\u00e7\\u00e3o dos brasileiros a covid-19 e ainda bem que a Anvisa reformou sua decis\\u00e3o.\",\n          \"A vacina n\\u00e3o imuniza contra o Coronav\\u00edrus, mas diminui os casos de crises respirat\\u00f3rias agudas que no inverno s\\u00e3o muitas.\",\n          \"Estou fazendo o tratamento precoce sim, e defendo que esse \\u00e9 um direito de todos os porto-alegrenses que desejarem. Sem preconceito ou ran\\u00e7o ideol\\u00f3gico, Porto Alegre pode muito mais! \"\n        ],\n        \"semantic_type\": \"\",\n        \"description\": \"\"\n      }\n    },\n    {\n      \"column\": \"post_date\",\n      \"properties\": {\n        \"dtype\": \"object\",\n        \"num_unique_values\": 352,\n        \"samples\": [\n          \"2020-09-29\",\n          \"2020-08-09\",\n          \"2020-07-23\"\n        ],\n        \"semantic_type\": \"\",\n        \"description\": \"\"\n      }\n    },\n    {\n      \"column\": \"relevance\",\n      \"properties\": {\n        \"dtype\": \"category\",\n        \"num_unique_values\": 2,\n        \"samples\": [\n          \"irrelevant\",\n          \"relevant\"\n        ],\n        \"semantic_type\": \"\",\n        \"description\": \"\"\n      }\n    }\n  ]\n}"
            }
          },
          "metadata": {},
          "execution_count": 12
        }
      ]
    },
    {
      "cell_type": "markdown",
      "id": "ebf081a9",
      "metadata": {
        "id": "ebf081a9"
      },
      "source": [
        "###  Parsing"
      ]
    },
    {
      "cell_type": "markdown",
      "source": [
        "Display the class distribution of the dataset:"
      ],
      "metadata": {
        "id": "97hZQOF-UOXi"
      },
      "id": "97hZQOF-UOXi"
    },
    {
      "cell_type": "code",
      "source": [
        "print(\"Tweet_Relevancies\", YEAR + \":\")\n",
        "\n",
        "print(df[RELEVANCE].value_counts())"
      ],
      "metadata": {
        "id": "8X1xE1R8HFP7",
        "colab": {
          "base_uri": "https://localhost:8080/"
        },
        "outputId": "b9360341-21c3-4a7b-ff8c-a59e9c682f42"
      },
      "id": "8X1xE1R8HFP7",
      "execution_count": null,
      "outputs": [
        {
          "output_type": "stream",
          "name": "stdout",
          "text": [
            "Tweet_Relevancies 2020:\n",
            "relevance\n",
            "irrelevant    1595\n",
            "relevant      1407\n",
            "Name: count, dtype: int64\n"
          ]
        }
      ]
    },
    {
      "cell_type": "markdown",
      "source": [
        "Here, we will recode the class names to use integers instead of strings:"
      ],
      "metadata": {
        "id": "PH0_CMBSWEdq"
      },
      "id": "PH0_CMBSWEdq"
    },
    {
      "cell_type": "code",
      "execution_count": null,
      "id": "af9d3e11",
      "metadata": {
        "id": "af9d3e11"
      },
      "outputs": [],
      "source": [
        "def condition(x):\n",
        "    if x == RELEVANCE_ID:\n",
        "        return 1\n",
        "    else:\n",
        "        return 0\n",
        "\n",
        "df[RELEVANCE] = df[RELEVANCE].apply(condition)\n"
      ]
    },
    {
      "cell_type": "markdown",
      "source": [
        "We will illustrate this recoding of class names by displaying the class distributions again:"
      ],
      "metadata": {
        "id": "64Z9jrRRgNyZ"
      },
      "id": "64Z9jrRRgNyZ"
    },
    {
      "cell_type": "code",
      "source": [
        "print(df[RELEVANCE].value_counts())"
      ],
      "metadata": {
        "id": "UepfLsx7gfuj",
        "colab": {
          "base_uri": "https://localhost:8080/"
        },
        "outputId": "eb2607d6-3ecd-4ac0-df1a-e0358b8a025b"
      },
      "id": "UepfLsx7gfuj",
      "execution_count": null,
      "outputs": [
        {
          "output_type": "stream",
          "name": "stdout",
          "text": [
            "relevance\n",
            "0    1595\n",
            "1    1407\n",
            "Name: count, dtype: int64\n"
          ]
        }
      ]
    },
    {
      "cell_type": "markdown",
      "source": [
        "Plot overall class distribution and save the graph as a png:"
      ],
      "metadata": {
        "id": "zEwndYjNiFxi"
      },
      "id": "zEwndYjNiFxi"
    },
    {
      "cell_type": "code",
      "source": [
        "import seaborn as sns\n",
        "import matplotlib.pyplot as plt\n",
        "\n",
        "plt.figure(figsize=(5, 5))\n",
        "ax = sns.countplot(df,\n",
        "                   x=RELEVANCE,\n",
        "                   hue=RELEVANCE,\n",
        "                   palette=\"Paired\",\n",
        "                   width=0.3,\n",
        "                   legend=False\n",
        "                  )\n",
        "\n",
        "plt.title(\"Class Distribution - Whole Dataset\",fontsize=22)\n",
        "plt.xlabel('Relevance',fontsize=12)\n",
        "plt.ylabel('Count',fontsize=12)\n",
        "\n",
        "plt.xticks([0,1],['not relevant', 'relevant'])\n",
        "\n",
        "plt.grid(True,axis='y',\n",
        "         linestyle=':',\n",
        "         linewidth=0.5\n",
        "        )\n",
        "\n",
        "for i in ax.containers:\n",
        "    ax.bar_label(i,)\n",
        "\n",
        "\n",
        "plt.savefig(FOLDER_PATH+'ClassDistribution_WholeDataset.png',\n",
        "            format='png',\n",
        "            transparent = True,\n",
        "            bbox_inches='tight',\n",
        "            pad_inches=0.1\n",
        "           )"
      ],
      "metadata": {
        "id": "Wym1M45NiJyP",
        "colab": {
          "base_uri": "https://localhost:8080/",
          "height": 500
        },
        "outputId": "19ababf2-123d-480a-a642-ed7e2f8dc354"
      },
      "id": "Wym1M45NiJyP",
      "execution_count": null,
      "outputs": [
        {
          "output_type": "display_data",
          "data": {
            "text/plain": [
              "<Figure size 500x500 with 1 Axes>"
            ],
            "image/png": "[encoded data removed]"
          },
          "metadata": {}
        }
      ]
    },
    {
      "cell_type": "markdown",
      "source": [
        "### Split Train/Test Sets"
      ],
      "metadata": {
        "id": "C-dYohVKoByW"
      },
      "id": "C-dYohVKoByW"
    },
    {
      "cell_type": "markdown",
      "source": [
        "Here, we separate **10%** of the total observations for the **test set**. \\\\\n",
        "We use train_test_split so that the **data is shuffled** before splitting, using a seed (SEED_VAL) for the random state. \\\\\n",
        "We use a stratifier to ensure that **class distribution proportions are maintained** in both sets. \\\\\n",
        "\n",
        "**NOTE:** Train and Test sets should be tokenized and processed separately to avoid data leakage. \\\\"
      ],
      "metadata": {
        "id": "Dvx2_VjBSKfA"
      },
      "id": "Dvx2_VjBSKfA"
    },
    {
      "cell_type": "code",
      "source": [
        "from sklearn.model_selection import train_test_split\n",
        "\n",
        "df_train, df_test = train_test_split(df,\n",
        "                                     test_size = 0.1, # 10% for the test set\n",
        "                                     stratify = df[RELEVANCE], # maintain class proportions\n",
        "                                     random_state = SEED_VAL # ensures reproducibility of results\n",
        "                                    )"
      ],
      "metadata": {
        "id": "2HiVYUuDoE6F"
      },
      "id": "2HiVYUuDoE6F",
      "execution_count": null,
      "outputs": []
    },
    {
      "cell_type": "markdown",
      "source": [
        "Display class distributions of each set:"
      ],
      "metadata": {
        "id": "-zHrDbVdYVSm"
      },
      "id": "-zHrDbVdYVSm"
    },
    {
      "cell_type": "code",
      "source": [
        "print(\"Training Set Class Distribution:\")\n",
        "print(df_train[RELEVANCE].value_counts())\n",
        "print(\"\\nTest Set Class Distribution:\")\n",
        "print(df_test[RELEVANCE].value_counts())"
      ],
      "metadata": {
        "id": "MqhHvh5MYX6T",
        "colab": {
          "base_uri": "https://localhost:8080/"
        },
        "outputId": "63d10e21-5061-4780-c256-964ebd84254b"
      },
      "id": "MqhHvh5MYX6T",
      "execution_count": null,
      "outputs": [
        {
          "output_type": "stream",
          "name": "stdout",
          "text": [
            "Training Set Class Distribution:\n",
            "relevance\n",
            "0    1435\n",
            "1    1266\n",
            "Name: count, dtype: int64\n",
            "\n",
            "Test Set Class Distribution:\n",
            "relevance\n",
            "0    160\n",
            "1    141\n",
            "Name: count, dtype: int64\n"
          ]
        }
      ]
    },
    {
      "cell_type": "markdown",
      "source": [
        "Here, we plot class distributions across training/test sets and save graph as a png. \\\n",
        "We add the DATASET column for plotting purposes, it will not be relevant later."
      ],
      "metadata": {
        "id": "Y9Hv4XHUjRK8"
      },
      "id": "Y9Hv4XHUjRK8"
    },
    {
      "cell_type": "code",
      "source": [
        "df_train['DATASET'] = 'Train'\n",
        "df_test['DATASET'] = 'Test'\n",
        "\n",
        "# Combine the two DataFrames\n",
        "df_combined = pd.concat([df_train, df_test])\n",
        "\n",
        "# Plot class distributions in a single plot\n",
        "plt.figure(figsize=(5, 5))\n",
        "ax = sns.countplot(x='DATASET',\n",
        "                   hue=RELEVANCE,\n",
        "                   data=df_combined,\n",
        "                   palette=\"Paired\",\n",
        "                   width=0.5\n",
        "                  )\n",
        "\n",
        "plt.title('Class Distribution - Train/Test Sets', fontsize=22)\n",
        "plt.xlabel('Dataset',fontsize=12)\n",
        "plt.ylabel('Count',fontsize=12)\n",
        "plt.legend(title='Relevance', labels=['not relevant', 'relevant'])\n",
        "\n",
        "plt.grid(True,axis='y',\n",
        "         linestyle=':',\n",
        "         linewidth=0.5\n",
        "        )\n",
        "\n",
        "for i in ax.containers:\n",
        "    ax.bar_label(i,)\n",
        "\n",
        "plt.savefig(FOLDER_PATH+'ClassDistribution_TrainTestSplit.png',\n",
        "            format='png',\n",
        "            transparent = True,\n",
        "            bbox_inches='tight',\n",
        "            pad_inches=0.1\n",
        "           )"
      ],
      "metadata": {
        "id": "4__zHtJMjXVS",
        "colab": {
          "base_uri": "https://localhost:8080/",
          "height": 500
        },
        "outputId": "6fd9ace9-0a0d-4c12-94f3-29cb4f0908a8"
      },
      "id": "4__zHtJMjXVS",
      "execution_count": null,
      "outputs": [
        {
          "output_type": "display_data",
          "data": {
            "text/plain": [
              "<Figure size 500x500 with 1 Axes>"
            ],
            "image/png": "[encoded data removed]"
          },
          "metadata": {}
        }
      ]
    },
    {
      "cell_type": "markdown",
      "source": [
        "### Custom Dataset Class"
      ],
      "metadata": {
        "id": "Ctc1ZTW3olhK"
      },
      "id": "Ctc1ZTW3olhK"
    },
    {
      "cell_type": "markdown",
      "source": [
        "This class will be used to tokenize sentences:"
      ],
      "metadata": {
        "id": "hJfsakvNj96D"
      },
      "id": "hJfsakvNj96D"
    },
    {
      "cell_type": "code",
      "source": [
        "from torch.utils.data import Dataset\n",
        "\n",
        "class TweetDataset(Dataset):\n",
        "  def __init__(self, df):\n",
        "    self.df_data = df\n",
        "\n",
        "  def __getitem__(self, index):\n",
        "    # Get the sentences from the dataframe\n",
        "    sentence = self.df_data.iloc[index][POST]\n",
        "\n",
        "    # Transform the sentence\n",
        "\n",
        "    encoded_dict = tokenizer.encode_plus(sentence,  # Sentences to be tokenized\n",
        "                                         add_special_tokens = True, # [CLS] and [SEP]\n",
        "                                         padding = 'max_length',\n",
        "                                         max_length = MAX_LEN,\n",
        "                                         return_attention_mask = True, # Build attn. masks.\n",
        "                                         return_tensors = 'pt', # Return pytorch tensors\n",
        "                                        )\n",
        "\n",
        "\n",
        "    # Torch Tensors\n",
        "\n",
        "    padded_token_list = encoded_dict['input_ids'][0]\n",
        "    att_mask = encoded_dict['attention_mask'][0]\n",
        "    token_type_ids = encoded_dict['token_type_ids'][0]\n",
        "\n",
        "\n",
        "    # Transforming the Target into a tensor\n",
        "\n",
        "    target = torch.tensor(self.df_data.iloc[index][RELEVANCE])\n",
        "\n",
        "    sample = (padded_token_list, att_mask, token_type_ids, target)\n",
        "\n",
        "    return sample\n",
        "\n",
        "\n",
        "  def __len__(self):\n",
        "\n",
        "    return len(self.df_data)"
      ],
      "metadata": {
        "id": "RT4jFm7Hoxm1"
      },
      "id": "RT4jFm7Hoxm1",
      "execution_count": null,
      "outputs": []
    },
    {
      "cell_type": "markdown",
      "source": [
        "### Create Test Dataloader"
      ],
      "metadata": {
        "id": "NzSknRaEuKrK"
      },
      "id": "NzSknRaEuKrK"
    },
    {
      "cell_type": "markdown",
      "source": [
        "Here, we create an object of the TweetDataset to tokenize all sentences in our curated dataset. \\\n",
        "We then create a DataLoader object to split the test data into batches, which will be used for the testing loop later one."
      ],
      "metadata": {
        "id": "Bc0SIfk0kJSE"
      },
      "id": "Bc0SIfk0kJSE"
    },
    {
      "cell_type": "code",
      "source": [
        "from torch.utils.data import DataLoader\n",
        "\n",
        "df_test.reset_index(drop=True, inplace=True)\n",
        "test_data = TweetDataset(df_test)\n",
        "\n",
        "test_dataloader = DataLoader(test_data,\n",
        "                             batch_size=BATCH_SIZE,\n",
        "                             shuffle=False,\n",
        "                             num_workers=NUM_CORES\n",
        "                            )\n",
        "\n",
        "print('Test Dataloader Length:',len(test_dataloader))\n",
        "print('\\nIndex Range of Test Dataloader:', df_test.index)\n",
        "print('\\nFirst 5 Rows of Test Dataloader:')\n",
        "print(df_test.head())\n"
      ],
      "metadata": {
        "id": "1aPhljZ4ph6R",
        "colab": {
          "base_uri": "https://localhost:8080/"
        },
        "outputId": "fdabeb02-d2af-42ec-c749-0bfd615f4f15"
      },
      "id": "1aPhljZ4ph6R",
      "execution_count": null,
      "outputs": [
        {
          "output_type": "stream",
          "name": "stdout",
          "text": [
            "Test Dataloader Length: 10\n",
            "\n",
            "Index Range of Test Dataloader: RangeIndex(start=0, stop=301, step=1)\n",
            "\n",
            "First 5 Rows of Test Dataloader:\n",
            "  tweet_id                                            content   post_date  \\\n",
            "0    B3816  Bolsonaro insiste em brincar com coisa séria. ...  2020-07-22   \n",
            "1    B6222  para que não sejam retomadas as aulas presenci...  2020-04-28   \n",
            "2      A37  Nós da oposição na Câmara vamos acionar o STF ...  2020-10-21   \n",
            "3    B3907  Ontem no #EncontroDaEducação eu bem tratei de ...  2020-07-09   \n",
            "4    B1880  @xomano_eu Diante disso, o Hospital do Câncer ...  2020-12-16   \n",
            "\n",
            "   relevance DATASET  \n",
            "0          1    Test  \n",
            "1          0    Test  \n",
            "2          1    Test  \n",
            "3          0    Test  \n",
            "4          0    Test  \n"
          ]
        }
      ]
    },
    {
      "cell_type": "markdown",
      "source": [
        "## Metrics Function"
      ],
      "metadata": {
        "id": "K5d0UAxx7OLT"
      },
      "id": "K5d0UAxx7OLT"
    },
    {
      "cell_type": "markdown",
      "source": [
        "To return evaluation scores, we will use the **classification_report_with_accuracy_score** as defined below."
      ],
      "metadata": {
        "id": "iUZqCDy7mzUA"
      },
      "id": "iUZqCDy7mzUA"
    },
    {
      "cell_type": "markdown",
      "source": [
        "Arguments: \\\n",
        "- **preds** = a flat list of the predictions of the model as integers\n",
        "- **labels** = a flat list of the true classification of the corresponding predictions\n",
        "\n",
        "Returns: \\\n",
        "- **df_class_report** = a DataFrame of the classification report made using **preds** and **labels**, which includes:\n",
        "\n",
        " - *precision*, *recall*, and *F1-score* for each class.\n",
        "\n",
        " - *macro average* and *weighted average* between both classes for precision, recall and F1-score.\n",
        "\n",
        "\n",
        " - **overall_accuracy** = overall *accuracy* of the model.\n",
        "\n",
        " All metrics are rounded to the closest 2 decimals."
      ],
      "metadata": {
        "id": "ZnewCz6frxMG"
      },
      "id": "ZnewCz6frxMG"
    },
    {
      "cell_type": "code",
      "source": [
        "from sklearn.metrics import classification_report\n",
        "\n",
        "def classification_report_with_accuracy_score(preds, labels):\n",
        "    report = classification_report(labels, preds, output_dict = True, zero_division = 0)\n",
        "\n",
        "    df_class_report = pd.DataFrame(report).transpose()\n",
        "    df_class_report = df_class_report.round(decimals=2) # for better readibility\n",
        "\n",
        "    overall_accuracy = np.sum(preds == labels) / len(labels)\n",
        "    rounded_accuracy = overall_accuracy.round(decimals=2)\n",
        "\n",
        "    return df_class_report, rounded_accuracy"
      ],
      "metadata": {
        "id": "s9IkFODb7V_K"
      },
      "id": "s9IkFODb7V_K",
      "execution_count": null,
      "outputs": []
    },
    {
      "cell_type": "markdown",
      "source": [
        "## Evaluate the BERTimbau Pre-Trained Model\n",
        "\n"
      ],
      "metadata": {
        "id": "nljQ_ztLt-8J"
      },
      "id": "nljQ_ztLt-8J"
    },
    {
      "cell_type": "markdown",
      "source": [
        "Here, we will evaluate how BERTimbau (a pre-trained model) performs before being trained on our curated dataset. \\\n",
        "We refer to the process of specifically training BERTimbau on our dataset as fine-tuning, which will be done later on.  \n",
        "\n",
        "\\\\\n",
        "We will evaluate performance using the following metrics: \\\\\n",
        "- **Accuracy**: correct predictions/total number of instances\n",
        "- **Precision**: percentage of instances that the model classified correctly for a given class\n",
        "- **Recall**: percentage of instances of a given class that were classified correctly\n",
        "- **F1-Score**: harmonic mean of precision and recall\n",
        "- **Confusion Matrix**: represents number of actual outputs versus predicted outputs\n"
      ],
      "metadata": {
        "id": "lVVwwBD0DRGq"
      },
      "id": "lVVwwBD0DRGq"
    },
    {
      "cell_type": "markdown",
      "source": [
        "###Test batches"
      ],
      "metadata": {
        "id": "ZQ_DR5iV9EYM"
      },
      "id": "ZQ_DR5iV9EYM"
    },
    {
      "cell_type": "markdown",
      "source": [
        "Use the test_dataloader to evaluate BERTimbau's performance, testing in batches:"
      ],
      "metadata": {
        "id": "NL4wCVGPrgKk"
      },
      "id": "NL4wCVGPrgKk"
    },
    {
      "cell_type": "code",
      "source": [
        "model.eval()\n",
        "torch.set_grad_enabled(False)\n",
        "\n",
        "for i, test_batch in enumerate(test_dataloader):\n",
        "  test_status = 'Batch ' + str(i+1) + ' / ' + str(len(test_dataloader))\n",
        "  print(test_status, end='\\r')\n",
        "\n",
        "  b_input_ids = test_batch[0].to(device)\n",
        "  b_input_mask = test_batch[1].to(device)\n",
        "  b_token_type_ids = test_batch[2].to(device)\n",
        "\n",
        "\n",
        "  outputs = model(b_input_ids,\n",
        "                  token_type_ids=None,\n",
        "                  attention_mask=b_input_mask,\n",
        "                  return_dict = False)\n",
        "\n",
        "  preds = outputs[0]\n",
        "  test_preds = preds.detach().cpu().numpy()\n",
        "\n",
        "\n",
        "  if i == 0:  # first batch\n",
        "    stacked_test_preds = test_preds\n",
        "\n",
        "  else:\n",
        "    stacked_test_preds = np.vstack((stacked_test_preds, test_preds))\n"
      ],
      "metadata": {
        "id": "vFT0kkkH326f",
        "colab": {
          "base_uri": "https://localhost:8080/"
        },
        "outputId": "f84341f5-7911-4e28-f9be-8f97311930c5"
      },
      "id": "vFT0kkkH326f",
      "execution_count": null,
      "outputs": [
        {
          "output_type": "stream",
          "name": "stderr",
          "text": [
            "/usr/lib/python3.10/multiprocessing/popen_fork.py:66: RuntimeWarning: os.fork() was called. os.fork() is incompatible with multithreaded code, and JAX is multithreaded, so this will likely lead to a deadlock.\n",
            "  self.pid = os.fork()\n"
          ]
        },
        {
          "output_type": "stream",
          "name": "stdout",
          "text": []
        }
      ]
    },
    {
      "cell_type": "markdown",
      "source": [
        "Each prediction returned by the model is a tuple - the logits are still raw.\n",
        "\n",
        "The first value of the tuple represents the score given for Class 0, and the second value represents the score given for Class 1. \\\\\n",
        "To get the real prediction, we take the max of both values to know whether the model's final prediction was Class 0 or Class 1. \\\\\n",
        "\n",
        "For clarity, we will illustrate this below:"
      ],
      "metadata": {
        "id": "2hkM89YPkFZv"
      },
      "id": "2hkM89YPkFZv"
    },
    {
      "cell_type": "code",
      "source": [
        "print(\"First 5 predictions as a raw logit tuple:\\n\", stacked_test_preds[0:6])\n",
        "final_preds = np.argmax(stacked_test_preds, axis=1)\n",
        "print(\"\\nFirst 5 predictions final decisions after taking the max:\\n\", final_preds[0:6])\n"
      ],
      "metadata": {
        "id": "6uBBZ_Kqa9wX",
        "colab": {
          "base_uri": "https://localhost:8080/"
        },
        "outputId": "bda9ef76-30ca-44e0-be73-7c48e6b397a6"
      },
      "id": "6uBBZ_Kqa9wX",
      "execution_count": null,
      "outputs": [
        {
          "output_type": "stream",
          "name": "stdout",
          "text": [
            "First 5 predictions as a raw logit tuple:\n",
            " [[ 0.3004043  -0.12453939]\n",
            " [ 0.07206456  0.20826781]\n",
            " [ 0.34508932 -0.15639117]\n",
            " [ 0.22794977 -0.1737061 ]\n",
            " [ 0.10411403 -0.135169  ]\n",
            " [-0.24592495  0.08101112]]\n",
            "\n",
            "First 5 predictions final decisions after taking the max:\n",
            " [0 1 0 0 0 1]\n"
          ]
        }
      ]
    },
    {
      "cell_type": "markdown",
      "source": [
        "###Performance Scores"
      ],
      "metadata": {
        "id": "4OVUNPioyMbX"
      },
      "id": "4OVUNPioyMbX"
    },
    {
      "cell_type": "markdown",
      "source": [
        "Now, we can calculate the model's performance scores using the function that was previously defined. \\"
      ],
      "metadata": {
        "id": "Ik6aUaSGtODD"
      },
      "id": "Ik6aUaSGtODD"
    },
    {
      "cell_type": "markdown",
      "source": [
        "It must be noted that when reloading the model and rerunning the tests, a small fluctuation of values was observed in the performance scores. \\\n",
        "It was ensured that the Train/Test split of the dataset and the tokenization of the test set were the same in all trials.\n"
      ],
      "metadata": {
        "id": "UKMq_hWNpIrm"
      },
      "id": "UKMq_hWNpIrm"
    },
    {
      "cell_type": "code",
      "source": [
        "labels = df_test[RELEVANCE]\n",
        "\n",
        "report, accuracy = classification_report_with_accuracy_score(final_preds, labels)\n",
        "\n",
        "print(report)"
      ],
      "metadata": {
        "id": "p2OhVqajsaZU",
        "colab": {
          "base_uri": "https://localhost:8080/"
        },
        "outputId": "13155acb-2bcf-4508-ce20-9f9e77992255"
      },
      "id": "p2OhVqajsaZU",
      "execution_count": null,
      "outputs": [
        {
          "output_type": "stream",
          "name": "stdout",
          "text": [
            "              precision  recall  f1-score  support\n",
            "0                  0.52    0.91      0.66   160.00\n",
            "1                  0.33    0.05      0.09   141.00\n",
            "accuracy           0.51    0.51      0.51     0.51\n",
            "macro avg          0.43    0.48      0.38   301.00\n",
            "weighted avg       0.43    0.51      0.39   301.00\n"
          ]
        }
      ]
    },
    {
      "cell_type": "markdown",
      "source": [
        "Plot report as a table and save figure as a png:"
      ],
      "metadata": {
        "id": "1mFDCp40fwkb"
      },
      "id": "1mFDCp40fwkb"
    },
    {
      "cell_type": "code",
      "source": [
        "without_acc = report.loc[['0', '1', 'macro avg', 'weighted avg']]\n",
        "without_acc = without_acc.rename(index={'0': 'not relevant', '1': 'relevant'})\n",
        "\n",
        "fig, ax = plt.subplots(figsize=(2,4))\n",
        "ax.axis('off')\n",
        "table = pd.plotting.table(ax,\n",
        "                          without_acc,\n",
        "                          loc='right',\n",
        "                          cellLoc='center',\n",
        "                          rowLoc='center'\n",
        "                         )\n",
        "\n",
        "table.auto_set_font_size(False)\n",
        "table.set_fontsize(14)\n",
        "table.scale(2.9, 3)\n",
        "plt.title('BERTimbau Performance Before Fine-Tuning',\n",
        "          loc='left',\n",
        "          fontsize=20\n",
        "         )\n",
        "\n",
        "acc_str = 'Overall Accuracy: '+ str(accuracy)\n",
        "fig.text(0.67, 0.08,\n",
        "         acc_str,\n",
        "         ha='center',\n",
        "         fontsize=14\n",
        "        )\n",
        "\n",
        "\n",
        "plt.savefig(FOLDER_PATH+'PerformanceTable_PreTrainedModel.png',\n",
        "            format='png',\n",
        "            transparent = True,\n",
        "            bbox_inches='tight',\n",
        "            pad_inches=0.1\n",
        "           )"
      ],
      "metadata": {
        "id": "LSIjveam0ymh",
        "colab": {
          "base_uri": "https://localhost:8080/",
          "height": 391
        },
        "outputId": "b63c524c-c8eb-4cee-91d3-7ed23cfa7bfb"
      },
      "id": "LSIjveam0ymh",
      "execution_count": null,
      "outputs": [
        {
          "output_type": "display_data",
          "data": {
            "text/plain": [
              "<Figure size 200x400 with 1 Axes>"
            ],
            "image/png": "[encoded data removed]"
          },
          "metadata": {}
        }
      ]
    },
    {
      "cell_type": "markdown",
      "source": [
        "Plot the confusion matrix to visualize the model's predictions against their true value, and save the figure as a png:"
      ],
      "metadata": {
        "id": "1v77GE8svzV9"
      },
      "id": "1v77GE8svzV9"
    },
    {
      "cell_type": "code",
      "source": [
        "from sklearn.metrics import confusion_matrix\n",
        "import seaborn as sns\n",
        "\n",
        "\n",
        "confusion_matrix = confusion_matrix(df_test[RELEVANCE], final_preds)\n",
        "\n",
        "fig = plt.figure(figsize=(10, 8))\n",
        "\n",
        "ax = sns.heatmap(confusion_matrix,\n",
        "                 annot=True,\n",
        "                 cmap=\"rocket_r\",\n",
        "                 fmt = '.0f',\n",
        "                 yticklabels=['not relevant', 'relevant'],\n",
        "                 xticklabels=['not relevant', 'relevant'],\n",
        "                 square=True,\n",
        "                 annot_kws={\"size\": 14},\n",
        "                 cbar=True,\n",
        "                 cbar_kws={'shrink': 0.9}\n",
        "                )\n",
        "\n",
        "plt.xticks(fontsize=12)\n",
        "plt.yticks(fontsize=12)\n",
        "\n",
        "# Add title and labels\n",
        "plt.title('BERTimbau Performance Before Fine-Tuning',\n",
        "          fontsize = 22,\n",
        "          loc = 'center',\n",
        "          pad = 20\n",
        "         )\n",
        "\n",
        "plt.xlabel('Predicted Labels', fontsize=16)\n",
        "plt.ylabel('True Labels', fontsize=16)\n",
        "\n",
        "plt.savefig(FOLDER_PATH+'ConfusionMatrix_PreTrainedModel.png',\n",
        "            format='png',\n",
        "            transparent = True,\n",
        "            bbox_inches='tight',\n",
        "            pad_inches=0.1\n",
        "           )\n"
      ],
      "metadata": {
        "id": "qRJ6Wc90H51c",
        "colab": {
          "base_uri": "https://localhost:8080/",
          "height": 757
        },
        "outputId": "aa3f31d9-70ff-4a84-a06e-4519d4d99d77"
      },
      "id": "qRJ6Wc90H51c",
      "execution_count": null,
      "outputs": [
        {
          "output_type": "display_data",
          "data": {
            "text/plain": [
              "<Figure size 1000x800 with 2 Axes>"
            ],
            "image/png": "[encoded data removed]"
          },
          "metadata": {}
        }
      ]
    },
    {
      "cell_type": "markdown",
      "source": [
        "##Train Model"
      ],
      "metadata": {
        "id": "c_iafbTvuuvn"
      },
      "id": "c_iafbTvuuvn"
    },
    {
      "cell_type": "markdown",
      "source": [
        "We will now train BERTimbau on our curated dataset.\\\n",
        "The goal is to achieve significantly better evaluation scores compared to the pre-trained model's performance."
      ],
      "metadata": {
        "id": "AeAhjhZuwIF-"
      },
      "id": "AeAhjhZuwIF-"
    },
    {
      "cell_type": "markdown",
      "source": [
        "###Set the Seed"
      ],
      "metadata": {
        "id": "crarghCovW58"
      },
      "id": "crarghCovW58"
    },
    {
      "cell_type": "markdown",
      "source": [
        "The seed will ensure reproducibility of these experiments:"
      ],
      "metadata": {
        "id": "-UThqikvx2X0"
      },
      "id": "-UThqikvx2X0"
    },
    {
      "cell_type": "code",
      "source": [
        "random.seed(SEED_VAL)\n",
        "np.random.seed(SEED_VAL)\n",
        "torch.manual_seed(SEED_VAL)\n",
        "torch.cuda.manual_seed_all(SEED_VAL)"
      ],
      "metadata": {
        "id": "I1pKuz5VvcTA"
      },
      "id": "I1pKuz5VvcTA",
      "execution_count": null,
      "outputs": []
    },
    {
      "cell_type": "markdown",
      "source": [
        "###Remove Warnings"
      ],
      "metadata": {
        "id": "vBqYaQxtDxTi"
      },
      "id": "vBqYaQxtDxTi"
    },
    {
      "cell_type": "code",
      "source": [
        "from transformers import AdamW\n",
        "import random\n",
        "import gc\n",
        "from sklearn.model_selection import StratifiedKFold\n",
        "from sklearn.utils import shuffle\n",
        "\n",
        "# Remove Warnings\n",
        "\n",
        "from transformers import logging\n",
        "\n",
        "logging.set_verbosity_warning()"
      ],
      "metadata": {
        "id": "csWHPk4l9G1o"
      },
      "id": "csWHPk4l9G1o",
      "execution_count": null,
      "outputs": []
    },
    {
      "cell_type": "markdown",
      "source": [
        "###Create Folds"
      ],
      "metadata": {
        "id": "4Ua3_mcAu57a"
      },
      "id": "4Ua3_mcAu57a"
    },
    {
      "cell_type": "markdown",
      "source": [
        "In order to train the model, we must split the training dataset into train/validation sets.\\\n",
        "To do this, we will create folds such that each fold will have a different randomized (but seed controlled) dataset split."
      ],
      "metadata": {
        "id": "4CMluaX9u9Rf"
      },
      "id": "4CMluaX9u9Rf"
    },
    {
      "cell_type": "code",
      "source": [
        "skf = StratifiedKFold(n_splits = NUM_FOLDS,\n",
        "                      shuffle = True,\n",
        "                      random_state = SEED_VAL)\n",
        "\n",
        "targets = df_train[RELEVANCE]\n",
        "\n",
        "folds_list = skf.split(df_train,targets)"
      ],
      "metadata": {
        "id": "ySIZ9marCuwc"
      },
      "id": "ySIZ9marCuwc",
      "execution_count": null,
      "outputs": []
    },
    {
      "cell_type": "markdown",
      "source": [
        "###Class Distribution Across Folds"
      ],
      "metadata": {
        "id": "Cg1JDeNqKLxp"
      },
      "id": "Cg1JDeNqKLxp"
    },
    {
      "cell_type": "code",
      "source": [
        "# create a figure with subplots\n",
        "fig, axes = plt.subplots(1,NUM_FOLDS, figsize=(18, 8))\n",
        "fig.suptitle('Class Distributions Across Folds', fontsize=18)\n",
        "\n",
        "for n, (train_index, val_index) in enumerate(skf.split(df_train,targets)):\n",
        "  train = df_train.iloc[train_index,:]\n",
        "  validation = df_train.iloc[val_index,:]\n",
        "\n",
        "  # Group the datasets to be plotted:\n",
        "  train.loc[:, 'DATASET'] = 'Train'\n",
        "  validation.loc[:, 'DATASET'] = 'Validation'\n",
        "  df_combined = pd.concat([train, validation])\n",
        "  # plt.figure(figsize=(5, 5))\n",
        "\n",
        "  sub_fig = axes[n]\n",
        "  ax = sns.countplot(ax=sub_fig, x='DATASET', hue=RELEVANCE, data=df_combined, palette=\"Paired\", width=0.5)\n",
        "\n",
        "  title = 'Fold ' + str(n+1)\n",
        "  sub_fig.set_title(title, fontsize=14)\n",
        "\n",
        "  # Set labels and legend\n",
        "  sub_fig.set_xlabel('Dataset', fontsize=12)\n",
        "  sub_fig.set_ylabel('')\n",
        "  sub_fig.legend(title='Relevance', loc='upper right')\n",
        "  sub_fig.grid(True, axis='y', linestyle=':', linewidth=0.5)\n",
        "\n",
        "\n",
        "  for i in ax.containers:\n",
        "      ax.bar_label(i,)\n",
        "\n",
        "\n",
        "plt.tight_layout(rect=[0, 0.03, 1, 0.95])\n",
        "plt.savefig(FOLDER_PATH+'ClassDistribution_AcrossFolds.png', format='png', transparent = True, bbox_inches='tight',pad_inches=0.1)"
      ],
      "metadata": {
        "id": "wnkJcGFTJO5h",
        "colab": {
          "base_uri": "https://localhost:8080/",
          "height": 505
        },
        "outputId": "5d5ce3a9-9583-413e-ef60-a02c54e5253a"
      },
      "id": "wnkJcGFTJO5h",
      "execution_count": null,
      "outputs": [
        {
          "output_type": "display_data",
          "data": {
            "text/plain": [
              "<Figure size 1800x800 with 5 Axes>"
            ],
            "image/png": "[encoded data removed]"
          },
          "metadata": {}
        }
      ]
    },
    {
      "cell_type": "markdown",
      "source": [
        "###Lists for Performance Scores/Data"
      ],
      "metadata": {
        "id": "MZgpmbmLF0Cw"
      },
      "id": "MZgpmbmLF0Cw"
    },
    {
      "cell_type": "markdown",
      "source": [
        "We will use the list below to store performance scores of all epochs across all folds.\n",
        "\n",
        "Each epoch is a dictionary containing:\n",
        "- fold number\n",
        "- epoch number\n",
        "\n",
        "- total train loss\n",
        "- average train loss\n",
        "- total validation loss\n",
        "- average validation loss\n",
        "\n",
        "- classification report\n",
        "- validation accuracy"
      ],
      "metadata": {
        "id": "ErBSYvttQnyw"
      },
      "id": "ErBSYvttQnyw"
    },
    {
      "cell_type": "code",
      "source": [
        "training_stats = []"
      ],
      "metadata": {
        "id": "YzkFfbnuO1h0"
      },
      "id": "YzkFfbnuO1h0",
      "execution_count": null,
      "outputs": []
    },
    {
      "cell_type": "markdown",
      "source": [
        "###Training Loop"
      ],
      "metadata": {
        "id": "roi36bWDFob9"
      },
      "id": "roi36bWDFob9"
    },
    {
      "cell_type": "markdown",
      "source": [
        "We train the model in NUM_FOLDS folds, each of which will have NUM_EPOCHS epochs."
      ],
      "metadata": {
        "id": "Sn3bafuZAXav"
      },
      "id": "Sn3bafuZAXav"
    },
    {
      "cell_type": "markdown",
      "source": [
        "\n",
        "Each fold loads a new pre-trained BERTimbau model to fine-tune. \\\n",
        "\n",
        "Each epoch in this fold will train the model on the fold's train set, followed by an evaluation of the model using the fold's validation set. \\\n",
        "\\\n",
        "If its Macro F1-score is better than the other epochs, that model will be saved using: \\\n",
        "  - model_name = 'fold_' + str(fold_index) + '.bin'\n",
        "  - torch.save(model.state_dict(), model_name)\n",
        "\n",
        "We will also use a variable to store the name of the best model out of all folds, so that we can load it later for testing.\n",
        "\n",
        "\n",
        "\n",
        "\n"
      ],
      "metadata": {
        "id": "KP9mSbhH7cKB"
      },
      "id": "KP9mSbhH7cKB"
    },
    {
      "cell_type": "code",
      "source": [
        "best_fold_path = ''"
      ],
      "metadata": {
        "id": "YEbCDboRqoaJ"
      },
      "id": "YEbCDboRqoaJ",
      "execution_count": null,
      "outputs": []
    },
    {
      "cell_type": "code",
      "source": [
        "%%time\n",
        "\n",
        "for fold_index, (train_index, val_index) in enumerate(skf.split(df_train,targets)):\n",
        "  print('\\n################## Fold Model Number', str((fold_index+1)) + ' / ' + str(NUM_FOLDS), '##################')\n",
        "\n",
        "  # ..................................................\n",
        "  # Defining Dataloaders of Training and Validation\n",
        "  # ..................................................\n",
        "\n",
        "  # Train and Validation Sets\n",
        "  train = df_train.iloc[train_index,:]\n",
        "  val = df_train.iloc[val_index,:]\n",
        "\n",
        "\n",
        "  # Reseting Indices so it will work\n",
        "  train = train.reset_index(drop = True)\n",
        "  val = val.reset_index(drop = True)\n",
        "\n",
        "\n",
        "  # Tokenizing and Transforming Inputs (att masks, labels, etc.)\n",
        "  train_data = TweetDataset(train)\n",
        "  val_data = TweetDataset(val)\n",
        "\n",
        "  # Train/Validation Split for this Fold:\n",
        "  train_dataloader = torch.utils.data.DataLoader(train_data,\n",
        "                                                 batch_size=BATCH_SIZE,\n",
        "                                                 shuffle=False,\n",
        "                                                 num_workers=NUM_CORES)\n",
        "\n",
        "  val_dataloader = torch.utils.data.DataLoader(val_data,\n",
        "                                               batch_size=BATCH_SIZE,\n",
        "                                               shuffle=False,\n",
        "                                               num_workers=NUM_CORES)\n",
        "\n",
        "  # ..................................................\n",
        "  # List for Epoch Evaluation Metric:\n",
        "  # ..................................................\n",
        "  fold_f1_macro_list = []\n",
        "\n",
        "#------------------------------------------------------------------------------\n",
        "  for epoch in range(NUM_EPOCHS):\n",
        "#------------------------------------------------------------------------------\n",
        "\n",
        "    #......................\n",
        "    # Loading Fold Model\n",
        "    #......................\n",
        "\n",
        "    if epoch == 0:\n",
        "\n",
        "      # Load model from pre-training evaluation:\n",
        "      model.load_state_dict(torch.load('original_model.bin'))\n",
        "\n",
        "      optimizer = AdamW(model.parameters(),\n",
        "                        lr = L_RATE,\n",
        "                        eps = EPS\n",
        "                       )\n",
        "\n",
        "    else:\n",
        "      # Load the fold's model:\n",
        "      path_model = 'fold_' + str(fold_index+1) + '.bin'\n",
        "\n",
        "      if os.path.exists(path_model):\n",
        "        model.load_state_dict(torch.load(path_model))\n",
        "\n",
        "      else:\n",
        "        print(f\"Error: {path_model} does not exist\")\n",
        "\n",
        "        model.to(device)\n",
        "\n",
        "\n",
        "    # ==========================================================================\n",
        "    #               Training\n",
        "    # ==========================================================================\n",
        "    print('============== Epoch {:} / {:} =============='.format(epoch + 1, NUM_EPOCHS))\n",
        "    print(\" \")\n",
        "    print('\\nTraining...')\n",
        "    print('')\n",
        "\n",
        "    # Put the model into train mode:\n",
        "    model.train()\n",
        "\n",
        "    # Turn gradient calculations on:\n",
        "    torch.set_grad_enabled(True)\n",
        "\n",
        "\n",
        "    # .......................................................\n",
        "    # Defining Variables to Track This Epoch's Performance\n",
        "    # .......................................................\n",
        "\n",
        "    # overall stats:\n",
        "    epoch_stats = {'fold': fold_index + 1,\n",
        "                   'epoch': epoch + 1}\n",
        "\n",
        "    total_macro_f1 = 0\n",
        "    avg_macro_f1 = 0\n",
        "\n",
        "    # train stats:\n",
        "    total_train_loss = 0\n",
        "    avg_train_loss = 0\n",
        "\n",
        "    # validation stats:\n",
        "    total_val_loss = 0\n",
        "    avg_val_loss = 0\n",
        "\n",
        "    # ..................\n",
        "    # Train the Model\n",
        "    # ..................\n",
        "\n",
        "    for i, batch in enumerate(train_dataloader):\n",
        "\n",
        "      train_status = 'Batch ' + str(i+1) + ' of ' + str(len(train_dataloader))\n",
        "\n",
        "      print(train_status, end='\\r')\n",
        "\n",
        "\n",
        "      b_input_ids = batch[0].to(device)\n",
        "      b_input_mask = batch[1].to(device)\n",
        "      b_token_type_ids = batch[2].to(device)\n",
        "      b_labels = batch[3].to(device)\n",
        "\n",
        "      model.zero_grad()\n",
        "\n",
        "\n",
        "      loss, logits = model(b_input_ids,\n",
        "                           token_type_ids=None,\n",
        "                           attention_mask=b_input_mask,\n",
        "                           return_dict = False,\n",
        "                           labels=b_labels)\n",
        "\n",
        "      # Calculate loss:\n",
        "      batch_loss = loss.item()\n",
        "\n",
        "      total_train_loss += batch_loss\n",
        "\n",
        "\n",
        "      # Zero the gradients:\n",
        "      optimizer.zero_grad()\n",
        "\n",
        "      # Perform a backward pass to calculate the gradients:\n",
        "      loss.backward()\n",
        "\n",
        "\n",
        "      # Clip the norm of the gradients to 1.0.\n",
        "      # This is to help prevent the \"exploding gradients\" problem.\n",
        "      torch.nn.utils.clip_grad_norm_(model.parameters(), 1.0)\n",
        "\n",
        "\n",
        "      # Update Weights:\n",
        "      optimizer.step()   # for GPU\n",
        "\n",
        "      # https://pytorch.org/xla/\n",
        "      #xm.optimizer_step(optimizer, barrier=True)   #for TPU\n",
        "\n",
        "\n",
        "    # ........................................\n",
        "    # Update Training Performance Variables\n",
        "    # ........................................\n",
        "\n",
        "    avg_train_loss = total_train_loss / len(train_dataloader)\n",
        "\n",
        "    print('Total Train loss:' ,total_train_loss)\n",
        "    print('Average Train Loss: ', avg_train_loss)\n",
        "\n",
        "\n",
        "    # .......................................\n",
        "    # Add Scores to Epoch Stats Dictionary\n",
        "    # .......................................\n",
        "\n",
        "    epoch_stats['total_train_loss'] = total_train_loss\n",
        "    epoch_stats['avg_train_loss'] = avg_train_loss\n",
        "\n",
        "\n",
        "\n",
        "    # ==========================================================================\n",
        "    #               Validation\n",
        "    # ==========================================================================\n",
        "    print(\" \")\n",
        "    print('=============================================')\n",
        "    print('\\nValidation...')\n",
        "    print(' ')\n",
        "\n",
        "    # Put the model in evaluation mode:\n",
        "    model.eval()\n",
        "\n",
        "    # Turn off the gradient calculations.\n",
        "    # This tells the model not to compute or store gradients.\n",
        "    # This step saves memory and speeds up validation.\n",
        "    torch.set_grad_enabled(False)\n",
        "\n",
        "\n",
        "    # Lists to accumulate all predictions and their corresponding labels:\n",
        "    stacked_val_preds = []\n",
        "    val_targets = []\n",
        "\n",
        "\n",
        "    # .....................\n",
        "    # Validate the Model\n",
        "    # .....................\n",
        "\n",
        "    for j, val_batch in enumerate(val_dataloader):\n",
        "\n",
        "      val_status = 'Batch ' + str(j+1) + ' of ' + str(len(val_dataloader))\n",
        "\n",
        "      print(val_status, end='\\r')\n",
        "\n",
        "\n",
        "      b_input_ids = val_batch[0].to(device)\n",
        "      b_input_mask = val_batch[1].to(device)\n",
        "      b_token_type_ids = val_batch[2].to(device)\n",
        "      b_labels = val_batch[3].to(device)\n",
        "\n",
        "\n",
        "      loss, logits = model(b_input_ids,\n",
        "                           token_type_ids=None,\n",
        "                           attention_mask=b_input_mask,\n",
        "                           return_dict = False,\n",
        "                           labels=b_labels)\n",
        "\n",
        "\n",
        "      # Calculate loss:\n",
        "      batch_loss = loss.item()\n",
        "      total_val_loss += batch_loss\n",
        "\n",
        "\n",
        "      # Move labels and predictions to the CPU:\n",
        "      batch_targets = b_labels.to('cpu').numpy()\n",
        "      batch_preds = logits.detach().cpu().numpy()\n",
        "\n",
        "\n",
        "      # Append the labels and predictions to their lists:\n",
        "      val_targets.extend(batch_targets)\n",
        "\n",
        "      if j == 0:\n",
        "        stacked_val_preds = batch_preds\n",
        "      else:\n",
        "        stacked_val_preds = np.vstack((stacked_val_preds, batch_preds))\n",
        "\n",
        "\n",
        "      batch_preds = np.argmax(batch_preds, axis = 1)\n",
        "\n",
        "      total_macro_f1 += f1_score(batch_targets,\n",
        "                                 batch_preds,\n",
        "                                 average = 'macro'\n",
        "                                )\n",
        "      # usage: sklearn.metrics.f1_score(y_true, y_pred)\n",
        "\n",
        "\n",
        "    # ..........................................\n",
        "    # Update Validation Performance Variables\n",
        "    # ..........................................\n",
        "\n",
        "    avg_val_loss = total_val_loss / len(val_dataloader)\n",
        "\n",
        "    avg_macro_f1 = total_macro_f1 / len(val_dataloader)\n",
        "\n",
        "\n",
        "    print('Total Validation loss:' ,total_val_loss)\n",
        "    print('Average Validation Loss: ', avg_val_loss)\n",
        "\n",
        "    print(\"Macro F1-score: {0:.2f}\".format(avg_macro_f1))\n",
        "\n",
        "\n",
        "\n",
        "    stacked_val_preds = np.argmax(stacked_val_preds, axis=1)\n",
        "\n",
        "    class_report, val_acc = classification_report_with_accuracy_score(stacked_val_preds, val_targets)\n",
        "\n",
        "\n",
        "    print('Validation accuracy: ', val_acc)\n",
        "    print('Classification Report: \\n', class_report)\n",
        "\n",
        "\n",
        "\n",
        "    # .......................................\n",
        "    # Add Scores to Epoch Stats Dictionary\n",
        "    # .......................................\n",
        "    epoch_stats['total_val_loss'] = total_val_loss\n",
        "    epoch_stats['avg_val_loss'] = avg_val_loss\n",
        "    epoch_stats['val_accuracy'] = val_acc\n",
        "    epoch_stats['f1_macro'] = avg_macro_f1\n",
        "    epoch_stats['report'] = class_report\n",
        "\n",
        "    # .........................................\n",
        "    # Add Epoch Stats to Training Stats List\n",
        "    # .........................................\n",
        "    training_stats.append(epoch_stats)\n",
        "\n",
        "\n",
        "    # ......................\n",
        "    # Save the best model\n",
        "    # ......................\n",
        "\n",
        "    if epoch == 0:\n",
        "\n",
        "      # Save the Model:\n",
        "      model_name = 'fold_' + str(fold_index+1) + '.bin'\n",
        "      torch.save(model.state_dict(), model_name)\n",
        "      print('Saved model as', model_name)\n",
        "\n",
        "\n",
        "\n",
        "    else:\n",
        "      # # Get the best Macro-F1 score seen so far:\n",
        "      # best_f1_macro = max(fold_f1_macro_list)\n",
        "\n",
        "\n",
        "      # # Keep the model with the best Macro-F1 score (if not overfitted):\n",
        "      # prev_epoch = training_stats[epoch-1]\n",
        "      # prev_val_loss = prev_epoch['avg_val_loss']\n",
        "\n",
        "      stop = total_val_loss > total_train_loss\n",
        "\n",
        "\n",
        "      if not stop:\n",
        "\n",
        "        model_name = 'fold_' + str(fold_index+1) + '.bin'\n",
        "        torch.save(model.state_dict(), model_name)\n",
        "\n",
        "        # best_fold_path = model_name\n",
        "        print('F1-Macro improved. Saved model as', model_name)\n",
        "\n",
        "      else:\n",
        "        print('Model overfitted at epoch', str(epoch+1) + '. Model was not saved.')\n",
        "        break\n",
        "\n",
        "    # # Add the Macro-F1 scores of this epoch to the overall list:\n",
        "    # fold_f1_macro_list.append(avg_macro_f1)\n",
        "\n",
        "\n",
        "\n",
        "\n",
        "    # Use the garbage collector to save memory:\n",
        "    gc.collect()\n"
      ],
      "metadata": {
        "id": "tlWoSAxkFrqC",
        "colab": {
          "base_uri": "https://localhost:8080/"
        },
        "outputId": "c680c590-dc7f-4b37-b0a6-62e36ad81422"
      },
      "id": "tlWoSAxkFrqC",
      "execution_count": null,
      "outputs": [
        {
          "metadata": {
            "tags": null
          },
          "name": "stdout",
          "output_type": "stream",
          "text": [
            "\n",
            "################## Fold Model Number 1 / 5 ##################\n",
            "============== Epoch 1 / 5 ==============\n",
            " \n",
            "\n",
            "Training...\n",
            "\n"
          ]
        },
        {
          "metadata": {
            "tags": null
          },
          "name": "stderr",
          "output_type": "stream",
          "text": [
            "/usr/local/lib/python3.10/dist-packages/transformers/optimization.py:591: FutureWarning: This implementation of AdamW is deprecated and will be removed in a future version. Use the PyTorch implementation torch.optim.AdamW instead, or set `no_deprecation_warning=True` to disable this warning\n",
            "  warnings.warn(\n",
            "/usr/lib/python3.10/multiprocessing/popen_fork.py:66: RuntimeWarning: os.fork() was called. os.fork() is incompatible with multithreaded code, and JAX is multithreaded, so this will likely lead to a deadlock.\n",
            "  self.pid = os.fork()\n"
          ]
        },
        {
          "metadata": {
            "tags": null
          },
          "name": "stdout",
          "output_type": "stream",
          "text": [
            ""
          ]
        },
        {
          "metadata": {
            "tags": null
          },
          "name": "stderr",
          "output_type": "stream",
          "text": [
            "/usr/lib/python3.10/multiprocessing/popen_fork.py:66: RuntimeWarning: os.fork() was called. os.fork() is incompatible with multithreaded code, and JAX is multithreaded, so this will likely lead to a deadlock.\n",
            "  self.pid = os.fork()\n"
          ]
        },
        {
          "metadata": {
            "tags": null
          },
          "name": "stdout",
          "output_type": "stream",
          "text": [
            "Total Train loss: 24.141655856743455\n",
            "Average Train Loss:  0.3550243508344626\n",
            " \n",
            "=============================================\n",
            "\n",
            "Validation...\n",
            " \n",
            "Total Validation loss: 3.636639053002\n",
            "Average Validation Loss:  0.21391994429423528\n",
            "Macro F1-score: 0.93\n",
            "Validation accuracy:  0.93\n",
            "Classification Report: \n",
            "               precision  recall  f1-score  support\n",
            "0                  0.97    0.91      0.94   287.00\n",
            "1                  0.90    0.96      0.93   254.00\n",
            "accuracy           0.93    0.93      0.93     0.93\n",
            "macro avg          0.93    0.94      0.93   541.00\n",
            "weighted avg       0.94    0.93      0.93   541.00\n",
            "Saved model as fold_1.bin\n",
            "============== Epoch 2 / 5 ==============\n",
            " \n",
            "\n",
            "Training...\n",
            "\n"
          ]
        },
        {
          "metadata": {
            "tags": null
          },
          "name": "stderr",
          "output_type": "stream",
          "text": [
            "/usr/lib/python3.10/multiprocessing/popen_fork.py:66: RuntimeWarning: os.fork() was called. os.fork() is incompatible with multithreaded code, and JAX is multithreaded, so this will likely lead to a deadlock.\n",
            "  self.pid = os.fork()\n"
          ]
        },
        {
          "metadata": {
            "tags": null
          },
          "name": "stdout",
          "output_type": "stream",
          "text": [
            ""
          ]
        },
        {
          "metadata": {
            "tags": null
          },
          "name": "stderr",
          "output_type": "stream",
          "text": [
            "/usr/lib/python3.10/multiprocessing/popen_fork.py:66: RuntimeWarning: os.fork() was called. os.fork() is incompatible with multithreaded code, and JAX is multithreaded, so this will likely lead to a deadlock.\n",
            "  self.pid = os.fork()\n"
          ]
        },
        {
          "metadata": {
            "tags": null
          },
          "name": "stdout",
          "output_type": "stream",
          "text": [
            "Total Train loss: 8.225170206278563\n",
            "Average Train Loss:  0.12095838538644944\n",
            " \n",
            "=============================================\n",
            "\n",
            "Validation...\n",
            " \n",
            "Total Validation loss: 3.5011542830616236\n",
            "Average Validation Loss:  0.20595025194480138\n",
            "Macro F1-score: 0.95\n",
            "Validation accuracy:  0.95\n",
            "Classification Report: \n",
            "               precision  recall  f1-score  support\n",
            "0                  0.97    0.93      0.95   287.00\n",
            "1                  0.93    0.96      0.95   254.00\n",
            "accuracy           0.95    0.95      0.95     0.95\n",
            "macro avg          0.95    0.95      0.95   541.00\n",
            "weighted avg       0.95    0.95      0.95   541.00\n",
            "F1-Macro improved. Saved model as fold_1.bin\n",
            "============== Epoch 3 / 5 ==============\n",
            " \n",
            "\n",
            "Training...\n",
            "\n"
          ]
        },
        {
          "metadata": {
            "tags": null
          },
          "name": "stderr",
          "output_type": "stream",
          "text": [
            "/usr/lib/python3.10/multiprocessing/popen_fork.py:66: RuntimeWarning: os.fork() was called. os.fork() is incompatible with multithreaded code, and JAX is multithreaded, so this will likely lead to a deadlock.\n",
            "  self.pid = os.fork()\n"
          ]
        },
        {
          "metadata": {
            "tags": null
          },
          "name": "stdout",
          "output_type": "stream",
          "text": [
            "Total Train loss: 5.051169491838664\n",
            "Average Train Loss:  0.07428190429174505\n",
            " \n",
            "=============================================\n",
            "\n",
            "Validation...\n",
            " \n",
            "Total Validation loss: 3.5530793846119195\n",
            "Average Validation Loss:  0.2090046696830541\n",
            "Macro F1-score: 0.95\n",
            "Validation accuracy:  0.95\n",
            "Classification Report: \n",
            "               precision  recall  f1-score  support\n",
            "0                  0.96    0.95      0.96   287.00\n",
            "1                  0.94    0.96      0.95   254.00\n",
            "accuracy           0.95    0.95      0.95     0.95\n",
            "macro avg          0.95    0.95      0.95   541.00\n",
            "weighted avg       0.95    0.95      0.95   541.00\n",
            "F1-Macro improved. Saved model as fold_1.bin\n",
            "============== Epoch 4 / 5 ==============\n",
            " \n",
            "\n",
            "Training...\n",
            "\n"
          ]
        },
        {
          "metadata": {
            "tags": null
          },
          "name": "stderr",
          "output_type": "stream",
          "text": [
            "/usr/lib/python3.10/multiprocessing/popen_fork.py:66: RuntimeWarning: os.fork() was called. os.fork() is incompatible with multithreaded code, and JAX is multithreaded, so this will likely lead to a deadlock.\n",
            "  self.pid = os.fork()\n"
          ]
        },
        {
          "metadata": {
            "tags": null
          },
          "name": "stdout",
          "output_type": "stream",
          "text": [
            ""
          ]
        },
        {
          "metadata": {
            "tags": null
          },
          "name": "stderr",
          "output_type": "stream",
          "text": [
            "/usr/lib/python3.10/multiprocessing/popen_fork.py:66: RuntimeWarning: os.fork() was called. os.fork() is incompatible with multithreaded code, and JAX is multithreaded, so this will likely lead to a deadlock.\n",
            "  self.pid = os.fork()\n"
          ]
        },
        {
          "metadata": {
            "tags": null
          },
          "name": "stdout",
          "output_type": "stream",
          "text": [
            "Total Train loss: 2.4537493342068046\n",
            "Average Train Loss:  0.036084549032453006\n",
            " \n",
            "=============================================\n",
            "\n",
            "Validation...\n",
            " \n",
            "Total Validation loss: 3.9955934524768963\n",
            "Average Validation Loss:  0.23503490896922918\n",
            "Macro F1-score: 0.95\n",
            "Validation accuracy:  0.96\n",
            "Classification Report: \n",
            "               precision  recall  f1-score  support\n",
            "0                  0.96    0.96      0.96   287.00\n",
            "1                  0.95    0.95      0.95   254.00\n",
            "accuracy           0.96    0.96      0.96     0.96\n",
            "macro avg          0.96    0.96      0.96   541.00\n",
            "weighted avg       0.96    0.96      0.96   541.00\n",
            "Model overfitted at epoch 4. Model was not saved.\n",
            "\n",
            "################## Fold Model Number 2 / 5 ##################\n",
            "============== Epoch 1 / 5 ==============\n",
            " \n",
            "\n",
            "Training...\n",
            "\n"
          ]
        },
        {
          "metadata": {
            "tags": null
          },
          "name": "stderr",
          "output_type": "stream",
          "text": [
            "/usr/local/lib/python3.10/dist-packages/transformers/optimization.py:591: FutureWarning: This implementation of AdamW is deprecated and will be removed in a future version. Use the PyTorch implementation torch.optim.AdamW instead, or set `no_deprecation_warning=True` to disable this warning\n",
            "  warnings.warn(\n",
            "/usr/lib/python3.10/multiprocessing/popen_fork.py:66: RuntimeWarning: os.fork() was called. os.fork() is incompatible with multithreaded code, and JAX is multithreaded, so this will likely lead to a deadlock.\n",
            "  self.pid = os.fork()\n"
          ]
        },
        {
          "metadata": {
            "tags": null
          },
          "name": "stdout",
          "output_type": "stream",
          "text": [
            "Total Train loss: 25.000412702560425\n",
            "Average Train Loss:  0.36765312797882976\n",
            " \n",
            "=============================================\n",
            "\n",
            "Validation...\n",
            " \n",
            "Total Validation loss: 2.7735430262982845\n",
            "Average Validation Loss:  0.16314958978225202\n",
            "Macro F1-score: 0.95\n",
            "Validation accuracy:  0.95\n",
            "Classification Report: \n",
            "               precision  recall  f1-score  support\n",
            "0                  0.95    0.95      0.95   287.00\n",
            "1                  0.95    0.94      0.94   253.00\n",
            "accuracy           0.95    0.95      0.95     0.95\n",
            "macro avg          0.95    0.95      0.95   540.00\n",
            "weighted avg       0.95    0.95      0.95   540.00\n",
            "Saved model as fold_2.bin\n",
            "============== Epoch 2 / 5 ==============\n",
            " \n",
            "\n",
            "Training...\n",
            "\n"
          ]
        },
        {
          "metadata": {
            "tags": null
          },
          "name": "stderr",
          "output_type": "stream",
          "text": [
            "/usr/lib/python3.10/multiprocessing/popen_fork.py:66: RuntimeWarning: os.fork() was called. os.fork() is incompatible with multithreaded code, and JAX is multithreaded, so this will likely lead to a deadlock.\n",
            "  self.pid = os.fork()\n"
          ]
        },
        {
          "metadata": {
            "tags": null
          },
          "name": "stdout",
          "output_type": "stream",
          "text": [
            ""
          ]
        },
        {
          "metadata": {
            "tags": null
          },
          "name": "stderr",
          "output_type": "stream",
          "text": [
            "/usr/lib/python3.10/multiprocessing/popen_fork.py:66: RuntimeWarning: os.fork() was called. os.fork() is incompatible with multithreaded code, and JAX is multithreaded, so this will likely lead to a deadlock.\n",
            "  self.pid = os.fork()\n"
          ]
        },
        {
          "metadata": {
            "tags": null
          },
          "name": "stdout",
          "output_type": "stream",
          "text": [
            "Total Train loss: 9.104653799906373\n",
            "Average Train Loss:  0.13389196764568195\n",
            " \n",
            "=============================================\n",
            "\n",
            "Validation...\n",
            " \n",
            "Total Validation loss: 2.1763366162776947\n",
            "Average Validation Loss:  0.12801980095751145\n",
            "Macro F1-score: 0.96\n",
            "Validation accuracy:  0.96\n",
            "Classification Report: \n",
            "               precision  recall  f1-score  support\n",
            "0                  0.97    0.96      0.97   287.00\n",
            "1                  0.96    0.96      0.96   253.00\n",
            "accuracy           0.96    0.96      0.96     0.96\n",
            "macro avg          0.96    0.96      0.96   540.00\n",
            "weighted avg       0.96    0.96      0.96   540.00\n",
            "F1-Macro improved. Saved model as fold_2.bin\n",
            "============== Epoch 3 / 5 ==============\n",
            " \n",
            "\n",
            "Training...\n",
            "\n"
          ]
        },
        {
          "metadata": {
            "tags": null
          },
          "name": "stderr",
          "output_type": "stream",
          "text": [
            "/usr/lib/python3.10/multiprocessing/popen_fork.py:66: RuntimeWarning: os.fork() was called. os.fork() is incompatible with multithreaded code, and JAX is multithreaded, so this will likely lead to a deadlock.\n",
            "  self.pid = os.fork()\n"
          ]
        },
        {
          "metadata": {
            "tags": null
          },
          "name": "stdout",
          "output_type": "stream",
          "text": [
            ""
          ]
        },
        {
          "metadata": {
            "tags": null
          },
          "name": "stderr",
          "output_type": "stream",
          "text": [
            "/usr/lib/python3.10/multiprocessing/popen_fork.py:66: RuntimeWarning: os.fork() was called. os.fork() is incompatible with multithreaded code, and JAX is multithreaded, so this will likely lead to a deadlock.\n",
            "  self.pid = os.fork()\n"
          ]
        },
        {
          "metadata": {
            "tags": null
          },
          "name": "stdout",
          "output_type": "stream",
          "text": [
            "Total Train loss: 3.8676169612444937\n",
            "Average Train Loss:  0.05687672001830138\n",
            " \n",
            "=============================================\n",
            "\n",
            "Validation...\n",
            " \n",
            "Total Validation loss: 2.833209279226139\n",
            "Average Validation Loss:  0.16665936936624348\n",
            "Macro F1-score: 0.96\n",
            "Validation accuracy:  0.96\n",
            "Classification Report: \n",
            "               precision  recall  f1-score  support\n",
            "0                  0.97    0.95      0.96   287.00\n",
            "1                  0.95    0.97      0.96   253.00\n",
            "accuracy           0.96    0.96      0.96     0.96\n",
            "macro avg          0.96    0.96      0.96   540.00\n",
            "weighted avg       0.96    0.96      0.96   540.00\n",
            "F1-Macro improved. Saved model as fold_2.bin\n",
            "============== Epoch 4 / 5 ==============\n",
            " \n",
            "\n",
            "Training...\n",
            "\n"
          ]
        },
        {
          "metadata": {
            "tags": null
          },
          "name": "stderr",
          "output_type": "stream",
          "text": [
            "/usr/lib/python3.10/multiprocessing/popen_fork.py:66: RuntimeWarning: os.fork() was called. os.fork() is incompatible with multithreaded code, and JAX is multithreaded, so this will likely lead to a deadlock.\n",
            "  self.pid = os.fork()\n"
          ]
        },
        {
          "metadata": {
            "tags": null
          },
          "name": "stdout",
          "output_type": "stream",
          "text": [
            "Total Train loss: 2.1008351928321645\n",
            "Average Train Loss:  0.030894635188708303\n",
            " \n",
            "=============================================\n",
            "\n",
            "Validation...\n",
            " \n",
            "Total Validation loss: 3.2626897916197777\n",
            "Average Validation Loss:  0.19192292891881046\n",
            "Macro F1-score: 0.96\n",
            "Validation accuracy:  0.96\n",
            "Classification Report: \n",
            "               precision  recall  f1-score  support\n",
            "0                  0.97    0.97      0.97   287.00\n",
            "1                  0.96    0.96      0.96   253.00\n",
            "accuracy           0.96    0.96      0.96     0.96\n",
            "macro avg          0.96    0.96      0.96   540.00\n",
            "weighted avg       0.96    0.96      0.96   540.00\n",
            "Model overfitted at epoch 4. Model was not saved.\n",
            "\n",
            "################## Fold Model Number 3 / 5 ##################\n",
            "============== Epoch 1 / 5 ==============\n",
            " \n",
            "\n",
            "Training...\n",
            "\n"
          ]
        },
        {
          "metadata": {
            "tags": null
          },
          "name": "stderr",
          "output_type": "stream",
          "text": [
            "/usr/local/lib/python3.10/dist-packages/transformers/optimization.py:591: FutureWarning: This implementation of AdamW is deprecated and will be removed in a future version. Use the PyTorch implementation torch.optim.AdamW instead, or set `no_deprecation_warning=True` to disable this warning\n",
            "  warnings.warn(\n",
            "/usr/lib/python3.10/multiprocessing/popen_fork.py:66: RuntimeWarning: os.fork() was called. os.fork() is incompatible with multithreaded code, and JAX is multithreaded, so this will likely lead to a deadlock.\n",
            "  self.pid = os.fork()\n"
          ]
        },
        {
          "metadata": {
            "tags": null
          },
          "name": "stdout",
          "output_type": "stream",
          "text": [
            "Total Train loss: 24.63007500767708\n",
            "Average Train Loss:  0.36220698540701585\n",
            " \n",
            "=============================================\n",
            "\n",
            "Validation...\n",
            " \n",
            "Total Validation loss: 3.3289503268897533\n",
            "Average Validation Loss:  0.19582060746410312\n",
            "Macro F1-score: 0.92\n",
            "Validation accuracy:  0.92\n",
            "Classification Report: \n",
            "               precision  recall  f1-score  support\n",
            "0                  0.90    0.96      0.93   287.00\n",
            "1                  0.95    0.88      0.92   253.00\n",
            "accuracy           0.92    0.92      0.92     0.92\n",
            "macro avg          0.93    0.92      0.92   540.00\n",
            "weighted avg       0.93    0.92      0.92   540.00\n",
            "Saved model as fold_3.bin\n",
            "============== Epoch 2 / 5 ==============\n",
            " \n",
            "\n",
            "Training...\n",
            "\n"
          ]
        },
        {
          "metadata": {
            "tags": null
          },
          "name": "stderr",
          "output_type": "stream",
          "text": [
            "/usr/lib/python3.10/multiprocessing/popen_fork.py:66: RuntimeWarning: os.fork() was called. os.fork() is incompatible with multithreaded code, and JAX is multithreaded, so this will likely lead to a deadlock.\n",
            "  self.pid = os.fork()\n"
          ]
        },
        {
          "metadata": {
            "tags": null
          },
          "name": "stdout",
          "output_type": "stream",
          "text": [
            ""
          ]
        },
        {
          "metadata": {
            "tags": null
          },
          "name": "stderr",
          "output_type": "stream",
          "text": [
            "/usr/lib/python3.10/multiprocessing/popen_fork.py:66: RuntimeWarning: os.fork() was called. os.fork() is incompatible with multithreaded code, and JAX is multithreaded, so this will likely lead to a deadlock.\n",
            "  self.pid = os.fork()\n"
          ]
        },
        {
          "metadata": {
            "tags": null
          },
          "name": "stdout",
          "output_type": "stream",
          "text": [
            "Total Train loss: 7.905973393004388\n",
            "Average Train Loss:  0.1162643146030057\n",
            " \n",
            "=============================================\n",
            "\n",
            "Validation...\n",
            " \n",
            "Total Validation loss: 3.525396422483027\n",
            "Average Validation Loss:  0.20737626014606042\n",
            "Macro F1-score: 0.95\n",
            "Validation accuracy:  0.95\n",
            "Classification Report: \n",
            "               precision  recall  f1-score  support\n",
            "0                  0.96    0.94      0.95   287.00\n",
            "1                  0.93    0.95      0.94   253.00\n",
            "accuracy           0.95    0.95      0.95     0.95\n",
            "macro avg          0.95    0.95      0.95   540.00\n",
            "weighted avg       0.95    0.95      0.95   540.00\n",
            "F1-Macro improved. Saved model as fold_3.bin\n",
            "============== Epoch 3 / 5 ==============\n",
            " \n",
            "\n",
            "Training...\n",
            "\n"
          ]
        },
        {
          "metadata": {
            "tags": null
          },
          "name": "stderr",
          "output_type": "stream",
          "text": [
            "/usr/lib/python3.10/multiprocessing/popen_fork.py:66: RuntimeWarning: os.fork() was called. os.fork() is incompatible with multithreaded code, and JAX is multithreaded, so this will likely lead to a deadlock.\n",
            "  self.pid = os.fork()\n"
          ]
        },
        {
          "metadata": {
            "tags": null
          },
          "name": "stdout",
          "output_type": "stream",
          "text": [
            ""
          ]
        },
        {
          "metadata": {
            "tags": null
          },
          "name": "stderr",
          "output_type": "stream",
          "text": [
            "/usr/lib/python3.10/multiprocessing/popen_fork.py:66: RuntimeWarning: os.fork() was called. os.fork() is incompatible with multithreaded code, and JAX is multithreaded, so this will likely lead to a deadlock.\n",
            "  self.pid = os.fork()\n"
          ]
        },
        {
          "metadata": {
            "tags": null
          },
          "name": "stdout",
          "output_type": "stream",
          "text": [
            "Total Train loss: 4.560556629206985\n",
            "Average Train Loss:  0.0670670092530439\n",
            " \n",
            "=============================================\n",
            "\n",
            "Validation...\n",
            " \n",
            "Total Validation loss: 2.7885847934521735\n",
            "Average Validation Loss:  0.16403439961483374\n",
            "Macro F1-score: 0.96\n",
            "Validation accuracy:  0.96\n",
            "Classification Report: \n",
            "               precision  recall  f1-score  support\n",
            "0                  0.96    0.96      0.96   287.00\n",
            "1                  0.95    0.96      0.96   253.00\n",
            "accuracy           0.96    0.96      0.96     0.96\n",
            "macro avg          0.96    0.96      0.96   540.00\n",
            "weighted avg       0.96    0.96      0.96   540.00\n",
            "F1-Macro improved. Saved model as fold_3.bin\n",
            "============== Epoch 4 / 5 ==============\n",
            " \n",
            "\n",
            "Training...\n",
            "\n"
          ]
        },
        {
          "metadata": {
            "tags": null
          },
          "name": "stderr",
          "output_type": "stream",
          "text": [
            "/usr/lib/python3.10/multiprocessing/popen_fork.py:66: RuntimeWarning: os.fork() was called. os.fork() is incompatible with multithreaded code, and JAX is multithreaded, so this will likely lead to a deadlock.\n",
            "  self.pid = os.fork()\n"
          ]
        },
        {
          "metadata": {
            "tags": null
          },
          "name": "stdout",
          "output_type": "stream",
          "text": [
            ""
          ]
        },
        {
          "metadata": {
            "tags": null
          },
          "name": "stderr",
          "output_type": "stream",
          "text": [
            "/usr/lib/python3.10/multiprocessing/popen_fork.py:66: RuntimeWarning: os.fork() was called. os.fork() is incompatible with multithreaded code, and JAX is multithreaded, so this will likely lead to a deadlock.\n",
            "  self.pid = os.fork()\n"
          ]
        },
        {
          "metadata": {
            "tags": null
          },
          "name": "stdout",
          "output_type": "stream",
          "text": [
            "Total Train loss: 2.4979632848408073\n",
            "Average Train Loss:  0.0367347541888354\n",
            " \n",
            "=============================================\n",
            "\n",
            "Validation...\n",
            " \n",
            "Total Validation loss: 3.4037898416863754\n",
            "Average Validation Loss:  0.20022293186390444\n",
            "Macro F1-score: 0.96\n",
            "Validation accuracy:  0.96\n",
            "Classification Report: \n",
            "               precision  recall  f1-score  support\n",
            "0                  0.95    0.97      0.96   287.00\n",
            "1                  0.97    0.94      0.95   253.00\n",
            "accuracy           0.96    0.96      0.96     0.96\n",
            "macro avg          0.96    0.96      0.96   540.00\n",
            "weighted avg       0.96    0.96      0.96   540.00\n",
            "Model overfitted at epoch 4. Model was not saved.\n",
            "\n",
            "################## Fold Model Number 4 / 5 ##################\n",
            "============== Epoch 1 / 5 ==============\n",
            " \n",
            "\n",
            "Training...\n",
            "\n"
          ]
        },
        {
          "metadata": {
            "tags": null
          },
          "name": "stderr",
          "output_type": "stream",
          "text": [
            "/usr/local/lib/python3.10/dist-packages/transformers/optimization.py:591: FutureWarning: This implementation of AdamW is deprecated and will be removed in a future version. Use the PyTorch implementation torch.optim.AdamW instead, or set `no_deprecation_warning=True` to disable this warning\n",
            "  warnings.warn(\n",
            "/usr/lib/python3.10/multiprocessing/popen_fork.py:66: RuntimeWarning: os.fork() was called. os.fork() is incompatible with multithreaded code, and JAX is multithreaded, so this will likely lead to a deadlock.\n",
            "  self.pid = os.fork()\n"
          ]
        },
        {
          "metadata": {
            "tags": null
          },
          "name": "stdout",
          "output_type": "stream",
          "text": [
            ""
          ]
        },
        {
          "metadata": {
            "tags": null
          },
          "name": "stderr",
          "output_type": "stream",
          "text": [
            "/usr/lib/python3.10/multiprocessing/popen_fork.py:66: RuntimeWarning: os.fork() was called. os.fork() is incompatible with multithreaded code, and JAX is multithreaded, so this will likely lead to a deadlock.\n",
            "  self.pid = os.fork()\n"
          ]
        },
        {
          "metadata": {
            "tags": null
          },
          "name": "stdout",
          "output_type": "stream",
          "text": [
            "Total Train loss: 24.5802229270339\n",
            "Average Train Loss:  0.36147386657402797\n",
            " \n",
            "=============================================\n",
            "\n",
            "Validation...\n",
            " \n",
            "Total Validation loss: 3.163222948089242\n",
            "Average Validation Loss:  0.18607193812289657\n",
            "Macro F1-score: 0.94\n",
            "Validation accuracy:  0.94\n",
            "Classification Report: \n",
            "               precision  recall  f1-score  support\n",
            "0                  0.96    0.94      0.95   287.00\n",
            "1                  0.93    0.95      0.94   253.00\n",
            "accuracy           0.94    0.94      0.94     0.94\n",
            "macro avg          0.94    0.94      0.94   540.00\n",
            "weighted avg       0.94    0.94      0.94   540.00\n",
            "Saved model as fold_4.bin\n",
            "============== Epoch 2 / 5 ==============\n",
            " \n",
            "\n",
            "Training...\n",
            "\n"
          ]
        },
        {
          "metadata": {
            "tags": null
          },
          "name": "stderr",
          "output_type": "stream",
          "text": [
            "/usr/lib/python3.10/multiprocessing/popen_fork.py:66: RuntimeWarning: os.fork() was called. os.fork() is incompatible with multithreaded code, and JAX is multithreaded, so this will likely lead to a deadlock.\n",
            "  self.pid = os.fork()\n"
          ]
        },
        {
          "metadata": {
            "tags": null
          },
          "name": "stdout",
          "output_type": "stream",
          "text": [
            ""
          ]
        },
        {
          "metadata": {
            "tags": null
          },
          "name": "stderr",
          "output_type": "stream",
          "text": [
            "/usr/lib/python3.10/multiprocessing/popen_fork.py:66: RuntimeWarning: os.fork() was called. os.fork() is incompatible with multithreaded code, and JAX is multithreaded, so this will likely lead to a deadlock.\n",
            "  self.pid = os.fork()\n"
          ]
        },
        {
          "metadata": {
            "tags": null
          },
          "name": "stdout",
          "output_type": "stream",
          "text": [
            "Total Train loss: 7.938775788992643\n",
            "Average Train Loss:  0.11674670277930357\n",
            " \n",
            "=============================================\n",
            "\n",
            "Validation...\n",
            " \n",
            "Total Validation loss: 2.92927563842386\n",
            "Average Validation Loss:  0.17231033167199178\n",
            "Macro F1-score: 0.95\n",
            "Validation accuracy:  0.95\n",
            "Classification Report: \n",
            "               precision  recall  f1-score  support\n",
            "0                  0.97    0.94      0.96   287.00\n",
            "1                  0.94    0.97      0.95   253.00\n",
            "accuracy           0.95    0.95      0.95     0.95\n",
            "macro avg          0.95    0.95      0.95   540.00\n",
            "weighted avg       0.95    0.95      0.95   540.00\n",
            "F1-Macro improved. Saved model as fold_4.bin\n",
            "============== Epoch 3 / 5 ==============\n",
            " \n",
            "\n",
            "Training...\n",
            "\n"
          ]
        },
        {
          "metadata": {
            "tags": null
          },
          "name": "stderr",
          "output_type": "stream",
          "text": [
            "/usr/lib/python3.10/multiprocessing/popen_fork.py:66: RuntimeWarning: os.fork() was called. os.fork() is incompatible with multithreaded code, and JAX is multithreaded, so this will likely lead to a deadlock.\n",
            "  self.pid = os.fork()\n"
          ]
        },
        {
          "metadata": {
            "tags": null
          },
          "name": "stdout",
          "output_type": "stream",
          "text": [
            ""
          ]
        },
        {
          "metadata": {
            "tags": null
          },
          "name": "stderr",
          "output_type": "stream",
          "text": [
            "/usr/lib/python3.10/multiprocessing/popen_fork.py:66: RuntimeWarning: os.fork() was called. os.fork() is incompatible with multithreaded code, and JAX is multithreaded, so this will likely lead to a deadlock.\n",
            "  self.pid = os.fork()\n"
          ]
        },
        {
          "metadata": {
            "tags": null
          },
          "name": "stdout",
          "output_type": "stream",
          "text": [
            "Total Train loss: 3.7812790698371828\n",
            "Average Train Loss:  0.055607045144664455\n",
            " \n",
            "=============================================\n",
            "\n",
            "Validation...\n",
            " \n",
            "Total Validation loss: 3.290909358067438\n",
            "Average Validation Loss:  0.19358290341573164\n",
            "Macro F1-score: 0.96\n",
            "Validation accuracy:  0.96\n",
            "Classification Report: \n",
            "               precision  recall  f1-score  support\n",
            "0                  0.96    0.95      0.96   287.00\n",
            "1                  0.95    0.96      0.95   253.00\n",
            "accuracy           0.96    0.96      0.96     0.96\n",
            "macro avg          0.96    0.96      0.96   540.00\n",
            "weighted avg       0.96    0.96      0.96   540.00\n",
            "F1-Macro improved. Saved model as fold_4.bin\n",
            "============== Epoch 4 / 5 ==============\n",
            " \n",
            "\n",
            "Training...\n",
            "\n"
          ]
        },
        {
          "metadata": {
            "tags": null
          },
          "name": "stderr",
          "output_type": "stream",
          "text": [
            "/usr/lib/python3.10/multiprocessing/popen_fork.py:66: RuntimeWarning: os.fork() was called. os.fork() is incompatible with multithreaded code, and JAX is multithreaded, so this will likely lead to a deadlock.\n",
            "  self.pid = os.fork()\n"
          ]
        },
        {
          "output_type": "stream",
          "name": "stdout",
          "text": []
        },
        {
          "output_type": "stream",
          "name": "stderr",
          "text": [
            "/usr/lib/python3.10/multiprocessing/popen_fork.py:66: RuntimeWarning: os.fork() was called. os.fork() is incompatible with multithreaded code, and JAX is multithreaded, so this will likely lead to a deadlock.\n",
            "  self.pid = os.fork()\n"
          ]
        },
        {
          "output_type": "stream",
          "name": "stdout",
          "text": [
            "Total Train loss: 2.2367173795355484\n",
            "Average Train Loss:  0.03289290264022865\n",
            " \n",
            "=============================================\n",
            "\n",
            "Validation...\n",
            " \n",
            "Total Validation loss: 3.738375067943707\n",
            "Average Validation Loss:  0.21990441576139452\n",
            "Macro F1-score: 0.95\n",
            "Validation accuracy:  0.95\n",
            "Classification Report: \n",
            "               precision  recall  f1-score  support\n",
            "0                  0.96    0.95      0.96   287.00\n",
            "1                  0.94    0.96      0.95   253.00\n",
            "accuracy           0.95    0.95      0.95     0.95\n",
            "macro avg          0.95    0.95      0.95   540.00\n",
            "weighted avg       0.95    0.95      0.95   540.00\n",
            "Model overfitted at epoch 4. Model was not saved.\n",
            "\n",
            "################## Fold Model Number 5 / 5 ##################\n",
            "============== Epoch 1 / 5 ==============\n",
            " \n",
            "\n",
            "Training...\n",
            "\n"
          ]
        },
        {
          "output_type": "stream",
          "name": "stderr",
          "text": [
            "/usr/local/lib/python3.10/dist-packages/transformers/optimization.py:591: FutureWarning: This implementation of AdamW is deprecated and will be removed in a future version. Use the PyTorch implementation torch.optim.AdamW instead, or set `no_deprecation_warning=True` to disable this warning\n",
            "  warnings.warn(\n",
            "/usr/lib/python3.10/multiprocessing/popen_fork.py:66: RuntimeWarning: os.fork() was called. os.fork() is incompatible with multithreaded code, and JAX is multithreaded, so this will likely lead to a deadlock.\n",
            "  self.pid = os.fork()\n"
          ]
        },
        {
          "output_type": "stream",
          "name": "stdout",
          "text": [
            "Total Train loss: 25.045756302773952\n",
            "Average Train Loss:  0.3683199456290287\n",
            " \n",
            "=============================================\n",
            "\n",
            "Validation...\n",
            " \n",
            "Total Validation loss: 2.5822801031172276\n",
            "Average Validation Loss:  0.15189882959513104\n",
            "Macro F1-score: 0.95\n",
            "Validation accuracy:  0.95\n",
            "Classification Report: \n",
            "               precision  recall  f1-score  support\n",
            "0                  0.96    0.95      0.95   287.00\n",
            "1                  0.94    0.96      0.95   253.00\n",
            "accuracy           0.95    0.95      0.95     0.95\n",
            "macro avg          0.95    0.95      0.95   540.00\n",
            "weighted avg       0.95    0.95      0.95   540.00\n",
            "Saved model as fold_5.bin\n",
            "============== Epoch 2 / 5 ==============\n",
            " \n",
            "\n",
            "Training...\n",
            "\n"
          ]
        },
        {
          "output_type": "stream",
          "name": "stderr",
          "text": [
            "/usr/lib/python3.10/multiprocessing/popen_fork.py:66: RuntimeWarning: os.fork() was called. os.fork() is incompatible with multithreaded code, and JAX is multithreaded, so this will likely lead to a deadlock.\n",
            "  self.pid = os.fork()\n"
          ]
        },
        {
          "output_type": "stream",
          "name": "stdout",
          "text": []
        },
        {
          "output_type": "stream",
          "name": "stderr",
          "text": [
            "/usr/lib/python3.10/multiprocessing/popen_fork.py:66: RuntimeWarning: os.fork() was called. os.fork() is incompatible with multithreaded code, and JAX is multithreaded, so this will likely lead to a deadlock.\n",
            "  self.pid = os.fork()\n"
          ]
        },
        {
          "output_type": "stream",
          "name": "stdout",
          "text": [
            "Total Train loss: 8.47270832490176\n",
            "Average Train Loss:  0.12459865183679059\n",
            " \n",
            "=============================================\n",
            "\n",
            "Validation...\n",
            " \n",
            "Total Validation loss: 2.4107499988749623\n",
            "Average Validation Loss:  0.1418088234632331\n",
            "Macro F1-score: 0.96\n",
            "Validation accuracy:  0.96\n",
            "Classification Report: \n",
            "               precision  recall  f1-score  support\n",
            "0                  0.97    0.95      0.96   287.00\n",
            "1                  0.95    0.97      0.96   253.00\n",
            "accuracy           0.96    0.96      0.96     0.96\n",
            "macro avg          0.96    0.96      0.96   540.00\n",
            "weighted avg       0.96    0.96      0.96   540.00\n",
            "F1-Macro improved. Saved model as fold_5.bin\n",
            "============== Epoch 3 / 5 ==============\n",
            " \n",
            "\n",
            "Training...\n",
            "\n"
          ]
        },
        {
          "output_type": "stream",
          "name": "stderr",
          "text": [
            "/usr/lib/python3.10/multiprocessing/popen_fork.py:66: RuntimeWarning: os.fork() was called. os.fork() is incompatible with multithreaded code, and JAX is multithreaded, so this will likely lead to a deadlock.\n",
            "  self.pid = os.fork()\n"
          ]
        },
        {
          "output_type": "stream",
          "name": "stdout",
          "text": []
        },
        {
          "output_type": "stream",
          "name": "stderr",
          "text": [
            "/usr/lib/python3.10/multiprocessing/popen_fork.py:66: RuntimeWarning: os.fork() was called. os.fork() is incompatible with multithreaded code, and JAX is multithreaded, so this will likely lead to a deadlock.\n",
            "  self.pid = os.fork()\n"
          ]
        },
        {
          "output_type": "stream",
          "name": "stdout",
          "text": [
            "Total Train loss: 4.887162372935563\n",
            "Average Train Loss:  0.07187003489611123\n",
            " \n",
            "=============================================\n",
            "\n",
            "Validation...\n",
            " \n",
            "Total Validation loss: 2.5645561506971717\n",
            "Average Validation Loss:  0.15085624415865717\n",
            "Macro F1-score: 0.96\n",
            "Validation accuracy:  0.96\n",
            "Classification Report: \n",
            "               precision  recall  f1-score  support\n",
            "0                  0.99    0.95      0.97   287.00\n",
            "1                  0.94    0.98      0.96   253.00\n",
            "accuracy           0.96    0.96      0.96     0.96\n",
            "macro avg          0.96    0.97      0.96   540.00\n",
            "weighted avg       0.97    0.96      0.96   540.00\n",
            "F1-Macro improved. Saved model as fold_5.bin\n",
            "============== Epoch 4 / 5 ==============\n",
            " \n",
            "\n",
            "Training...\n",
            "\n"
          ]
        },
        {
          "output_type": "stream",
          "name": "stderr",
          "text": [
            "/usr/lib/python3.10/multiprocessing/popen_fork.py:66: RuntimeWarning: os.fork() was called. os.fork() is incompatible with multithreaded code, and JAX is multithreaded, so this will likely lead to a deadlock.\n",
            "  self.pid = os.fork()\n"
          ]
        },
        {
          "output_type": "stream",
          "name": "stdout",
          "text": [
            "Total Train loss: 3.0879702153615654\n",
            "Average Train Loss:  0.04541132669649361\n",
            " \n",
            "=============================================\n",
            "\n",
            "Validation...\n",
            " \n",
            "Total Validation loss: 2.727226812392473\n",
            "Average Validation Loss:  0.16042510661132195\n",
            "Macro F1-score: 0.97\n",
            "Validation accuracy:  0.97\n",
            "Classification Report: \n",
            "               precision  recall  f1-score  support\n",
            "0                  0.97    0.97      0.97   287.00\n",
            "1                  0.96    0.97      0.97   253.00\n",
            "accuracy           0.97    0.97      0.97     0.97\n",
            "macro avg          0.97    0.97      0.97   540.00\n",
            "weighted avg       0.97    0.97      0.97   540.00\n",
            "F1-Macro improved. Saved model as fold_5.bin\n",
            "============== Epoch 5 / 5 ==============\n",
            " \n",
            "\n",
            "Training...\n",
            "\n"
          ]
        },
        {
          "output_type": "stream",
          "name": "stderr",
          "text": [
            "/usr/lib/python3.10/multiprocessing/popen_fork.py:66: RuntimeWarning: os.fork() was called. os.fork() is incompatible with multithreaded code, and JAX is multithreaded, so this will likely lead to a deadlock.\n",
            "  self.pid = os.fork()\n"
          ]
        },
        {
          "output_type": "stream",
          "name": "stdout",
          "text": []
        },
        {
          "output_type": "stream",
          "name": "stderr",
          "text": [
            "/usr/lib/python3.10/multiprocessing/popen_fork.py:66: RuntimeWarning: os.fork() was called. os.fork() is incompatible with multithreaded code, and JAX is multithreaded, so this will likely lead to a deadlock.\n",
            "  self.pid = os.fork()\n"
          ]
        },
        {
          "output_type": "stream",
          "name": "stdout",
          "text": [
            "Total Train loss: 1.030783292488195\n",
            "Average Train Loss:  0.01515857783070875\n",
            " \n",
            "=============================================\n",
            "\n",
            "Validation...\n",
            " \n",
            "Total Validation loss: 2.763321573496796\n",
            "Average Validation Loss:  0.16254832785275272\n",
            "Macro F1-score: 0.97\n",
            "Validation accuracy:  0.97\n",
            "Classification Report: \n",
            "               precision  recall  f1-score  support\n",
            "0                  0.98    0.96      0.97   287.00\n",
            "1                  0.95    0.98      0.97   253.00\n",
            "accuracy           0.97    0.97      0.97     0.97\n",
            "macro avg          0.97    0.97      0.97   540.00\n",
            "weighted avg       0.97    0.97      0.97   540.00\n",
            "Model overfitted at epoch 5. Model was not saved.\n",
            "CPU times: user 19min 40s, sys: 10min 37s, total: 30min 17s\n",
            "Wall time: 32min 10s\n"
          ]
        }
      ]
    },
    {
      "cell_type": "markdown",
      "source": [
        "##Model Evaluation"
      ],
      "metadata": {
        "id": "biwKevXu_9jg"
      },
      "id": "biwKevXu_9jg"
    },
    {
      "cell_type": "markdown",
      "source": [
        "### Prepare Data"
      ],
      "metadata": {
        "id": "tCKMSkWrloM1"
      },
      "id": "tCKMSkWrloM1"
    },
    {
      "cell_type": "markdown",
      "source": [
        "Convert the training_stats dictionary into a dataframe that will be used for data visualization:"
      ],
      "metadata": {
        "id": "m1wdPte0t-RN"
      },
      "id": "m1wdPte0t-RN"
    },
    {
      "cell_type": "code",
      "source": [
        "pd.set_option('display.precision', 2)\n",
        "\n",
        "df = pd.DataFrame(training_stats)\n"
      ],
      "metadata": {
        "id": "XKpimY16Daxk"
      },
      "id": "XKpimY16Daxk",
      "execution_count": null,
      "outputs": []
    },
    {
      "cell_type": "markdown",
      "source": [
        "Save the data frame as cvs and excel files:"
      ],
      "metadata": {
        "id": "mfd6T1tvW7sG"
      },
      "id": "mfd6T1tvW7sG"
    },
    {
      "cell_type": "code",
      "source": [
        "path = FOLDER_PATH + 'training_stats.cvs'\n",
        "df.to_csv(path)\n",
        "\n",
        "path = FOLDER_PATH + 'training_stats.xlsx'\n",
        "df.to_excel(path)"
      ],
      "metadata": {
        "id": "pp1s488UFMbD"
      },
      "id": "pp1s488UFMbD",
      "execution_count": null,
      "outputs": []
    },
    {
      "cell_type": "markdown",
      "source": [
        "Display the dataframe to see what it looks like:"
      ],
      "metadata": {
        "id": "4qY4i4-VUdbr"
      },
      "id": "4qY4i4-VUdbr"
    },
    {
      "cell_type": "code",
      "source": [
        "df"
      ],
      "metadata": {
        "id": "5-D5375yEI9f",
        "colab": {
          "base_uri": "https://localhost:8080/",
          "height": 707
        },
        "outputId": "896a23a8-9710-4bbd-9cf6-8ab68c700943"
      },
      "id": "5-D5375yEI9f",
      "execution_count": null,
      "outputs": [
        {
          "output_type": "execute_result",
          "data": {
            "text/plain": [
              "    fold  epoch  total_train_loss  avg_train_loss  total_val_loss  \\\n",
              "0      1      1             24.14            0.36            3.64   \n",
              "1      1      2              8.23            0.12            3.50   \n",
              "2      1      3              5.05            0.07            3.55   \n",
              "3      1      4              2.45            0.04            4.00   \n",
              "4      2      1             25.00            0.37            2.77   \n",
              "5      2      2              9.10            0.13            2.18   \n",
              "6      2      3              3.87            0.06            2.83   \n",
              "7      2      4              2.10            0.03            3.26   \n",
              "8      3      1             24.63            0.36            3.33   \n",
              "9      3      2              7.91            0.12            3.53   \n",
              "10     3      3              4.56            0.07            2.79   \n",
              "11     3      4              2.50            0.04            3.40   \n",
              "12     4      1             24.58            0.36            3.16   \n",
              "13     4      2              7.94            0.12            2.93   \n",
              "14     4      3              3.78            0.06            3.29   \n",
              "15     4      4              2.24            0.03            3.74   \n",
              "16     5      1             25.05            0.37            2.58   \n",
              "17     5      2              8.47            0.12            2.41   \n",
              "18     5      3              4.89            0.07            2.56   \n",
              "19     5      4              3.09            0.05            2.73   \n",
              "20     5      5              1.03            0.02            2.76   \n",
              "\n",
              "    avg_val_loss  val_accuracy  f1_macro  \\\n",
              "0           0.21          0.93      0.93   \n",
              "1           0.21          0.95      0.95   \n",
              "2           0.21          0.95      0.95   \n",
              "3           0.24          0.96      0.95   \n",
              "4           0.16          0.95      0.95   \n",
              "5           0.13          0.96      0.96   \n",
              "6           0.17          0.96      0.96   \n",
              "7           0.19          0.96      0.96   \n",
              "8           0.20          0.92      0.92   \n",
              "9           0.21          0.95      0.95   \n",
              "10          0.16          0.96      0.96   \n",
              "11          0.20          0.96      0.96   \n",
              "12          0.19          0.94      0.94   \n",
              "13          0.17          0.95      0.95   \n",
              "14          0.19          0.96      0.96   \n",
              "15          0.22          0.95      0.95   \n",
              "16          0.15          0.95      0.95   \n",
              "17          0.14          0.96      0.96   \n",
              "18          0.15          0.96      0.96   \n",
              "19          0.16          0.97      0.97   \n",
              "20          0.16          0.97      0.97   \n",
              "\n",
              "                                               report  \n",
              "0                 precision  recall  f1-score  sup...  \n",
              "1                 precision  recall  f1-score  sup...  \n",
              "2                 precision  recall  f1-score  sup...  \n",
              "3                 precision  recall  f1-score  sup...  \n",
              "4                 precision  recall  f1-score  sup...  \n",
              "5                 precision  recall  f1-score  sup...  \n",
              "6                 precision  recall  f1-score  sup...  \n",
              "7                 precision  recall  f1-score  sup...  \n",
              "8                 precision  recall  f1-score  sup...  \n",
              "9                 precision  recall  f1-score  sup...  \n",
              "10                precision  recall  f1-score  sup...  \n",
              "11                precision  recall  f1-score  sup...  \n",
              "12                precision  recall  f1-score  sup...  \n",
              "13                precision  recall  f1-score  sup...  \n",
              "14                precision  recall  f1-score  sup...  \n",
              "15                precision  recall  f1-score  sup...  \n",
              "16                precision  recall  f1-score  sup...  \n",
              "17                precision  recall  f1-score  sup...  \n",
              "18                precision  recall  f1-score  sup...  \n",
              "19                precision  recall  f1-score  sup...  \n",
              "20                precision  recall  f1-score  sup...  "
            ],
            "text/html": [
              "\n",
              "  <div id=\"df-653147c7-accc-4492-9536-4033f6504f44\" class=\"colab-df-container\">\n",
              "    <div>\n",
              "<style scoped>\n",
              "    .dataframe tbody tr th:only-of-type {\n",
              "        vertical-align: middle;\n",
              "    }\n",
              "\n",
              "    .dataframe tbody tr th {\n",
              "        vertical-align: top;\n",
              "    }\n",
              "\n",
              "    .dataframe thead th {\n",
              "        text-align: right;\n",
              "    }\n",
              "</style>\n",
              "<table border=\"1\" class=\"dataframe\">\n",
              "  <thead>\n",
              "    <tr style=\"text-align: right;\">\n",
              "      <th></th>\n",
              "      <th>fold</th>\n",
              "      <th>epoch</th>\n",
              "      <th>total_train_loss</th>\n",
              "      <th>avg_train_loss</th>\n",
              "      <th>total_val_loss</th>\n",
              "      <th>avg_val_loss</th>\n",
              "      <th>val_accuracy</th>\n",
              "      <th>f1_macro</th>\n",
              "      <th>report</th>\n",
              "    </tr>\n",
              "  </thead>\n",
              "  <tbody>\n",
              "    <tr>\n",
              "      <th>0</th>\n",
              "      <td>1</td>\n",
              "      <td>1</td>\n",
              "      <td>24.14</td>\n",
              "      <td>0.36</td>\n",
              "      <td>3.64</td>\n",
              "      <td>0.21</td>\n",
              "      <td>0.93</td>\n",
              "      <td>0.93</td>\n",
              "      <td>precision  recall  f1-score  sup...</td>\n",
              "    </tr>\n",
              "    <tr>\n",
              "      <th>1</th>\n",
              "      <td>1</td>\n",
              "      <td>2</td>\n",
              "      <td>8.23</td>\n",
              "      <td>0.12</td>\n",
              "      <td>3.50</td>\n",
              "      <td>0.21</td>\n",
              "      <td>0.95</td>\n",
              "      <td>0.95</td>\n",
              "      <td>precision  recall  f1-score  sup...</td>\n",
              "    </tr>\n",
              "    <tr>\n",
              "      <th>2</th>\n",
              "      <td>1</td>\n",
              "      <td>3</td>\n",
              "      <td>5.05</td>\n",
              "      <td>0.07</td>\n",
              "      <td>3.55</td>\n",
              "      <td>0.21</td>\n",
              "      <td>0.95</td>\n",
              "      <td>0.95</td>\n",
              "      <td>precision  recall  f1-score  sup...</td>\n",
              "    </tr>\n",
              "    <tr>\n",
              "      <th>3</th>\n",
              "      <td>1</td>\n",
              "      <td>4</td>\n",
              "      <td>2.45</td>\n",
              "      <td>0.04</td>\n",
              "      <td>4.00</td>\n",
              "      <td>0.24</td>\n",
              "      <td>0.96</td>\n",
              "      <td>0.95</td>\n",
              "      <td>precision  recall  f1-score  sup...</td>\n",
              "    </tr>\n",
              "    <tr>\n",
              "      <th>4</th>\n",
              "      <td>2</td>\n",
              "      <td>1</td>\n",
              "      <td>25.00</td>\n",
              "      <td>0.37</td>\n",
              "      <td>2.77</td>\n",
              "      <td>0.16</td>\n",
              "      <td>0.95</td>\n",
              "      <td>0.95</td>\n",
              "      <td>precision  recall  f1-score  sup...</td>\n",
              "    </tr>\n",
              "    <tr>\n",
              "      <th>5</th>\n",
              "      <td>2</td>\n",
              "      <td>2</td>\n",
              "      <td>9.10</td>\n",
              "      <td>0.13</td>\n",
              "      <td>2.18</td>\n",
              "      <td>0.13</td>\n",
              "      <td>0.96</td>\n",
              "      <td>0.96</td>\n",
              "      <td>precision  recall  f1-score  sup...</td>\n",
              "    </tr>\n",
              "    <tr>\n",
              "      <th>6</th>\n",
              "      <td>2</td>\n",
              "      <td>3</td>\n",
              "      <td>3.87</td>\n",
              "      <td>0.06</td>\n",
              "      <td>2.83</td>\n",
              "      <td>0.17</td>\n",
              "      <td>0.96</td>\n",
              "      <td>0.96</td>\n",
              "      <td>precision  recall  f1-score  sup...</td>\n",
              "    </tr>\n",
              "    <tr>\n",
              "      <th>7</th>\n",
              "      <td>2</td>\n",
              "      <td>4</td>\n",
              "      <td>2.10</td>\n",
              "      <td>0.03</td>\n",
              "      <td>3.26</td>\n",
              "      <td>0.19</td>\n",
              "      <td>0.96</td>\n",
              "      <td>0.96</td>\n",
              "      <td>precision  recall  f1-score  sup...</td>\n",
              "    </tr>\n",
              "    <tr>\n",
              "      <th>8</th>\n",
              "      <td>3</td>\n",
              "      <td>1</td>\n",
              "      <td>24.63</td>\n",
              "      <td>0.36</td>\n",
              "      <td>3.33</td>\n",
              "      <td>0.20</td>\n",
              "      <td>0.92</td>\n",
              "      <td>0.92</td>\n",
              "      <td>precision  recall  f1-score  sup...</td>\n",
              "    </tr>\n",
              "    <tr>\n",
              "      <th>9</th>\n",
              "      <td>3</td>\n",
              "      <td>2</td>\n",
              "      <td>7.91</td>\n",
              "      <td>0.12</td>\n",
              "      <td>3.53</td>\n",
              "      <td>0.21</td>\n",
              "      <td>0.95</td>\n",
              "      <td>0.95</td>\n",
              "      <td>precision  recall  f1-score  sup...</td>\n",
              "    </tr>\n",
              "    <tr>\n",
              "      <th>10</th>\n",
              "      <td>3</td>\n",
              "      <td>3</td>\n",
              "      <td>4.56</td>\n",
              "      <td>0.07</td>\n",
              "      <td>2.79</td>\n",
              "      <td>0.16</td>\n",
              "      <td>0.96</td>\n",
              "      <td>0.96</td>\n",
              "      <td>precision  recall  f1-score  sup...</td>\n",
              "    </tr>\n",
              "    <tr>\n",
              "      <th>11</th>\n",
              "      <td>3</td>\n",
              "      <td>4</td>\n",
              "      <td>2.50</td>\n",
              "      <td>0.04</td>\n",
              "      <td>3.40</td>\n",
              "      <td>0.20</td>\n",
              "      <td>0.96</td>\n",
              "      <td>0.96</td>\n",
              "      <td>precision  recall  f1-score  sup...</td>\n",
              "    </tr>\n",
              "    <tr>\n",
              "      <th>12</th>\n",
              "      <td>4</td>\n",
              "      <td>1</td>\n",
              "      <td>24.58</td>\n",
              "      <td>0.36</td>\n",
              "      <td>3.16</td>\n",
              "      <td>0.19</td>\n",
              "      <td>0.94</td>\n",
              "      <td>0.94</td>\n",
              "      <td>precision  recall  f1-score  sup...</td>\n",
              "    </tr>\n",
              "    <tr>\n",
              "      <th>13</th>\n",
              "      <td>4</td>\n",
              "      <td>2</td>\n",
              "      <td>7.94</td>\n",
              "      <td>0.12</td>\n",
              "      <td>2.93</td>\n",
              "      <td>0.17</td>\n",
              "      <td>0.95</td>\n",
              "      <td>0.95</td>\n",
              "      <td>precision  recall  f1-score  sup...</td>\n",
              "    </tr>\n",
              "    <tr>\n",
              "      <th>14</th>\n",
              "      <td>4</td>\n",
              "      <td>3</td>\n",
              "      <td>3.78</td>\n",
              "      <td>0.06</td>\n",
              "      <td>3.29</td>\n",
              "      <td>0.19</td>\n",
              "      <td>0.96</td>\n",
              "      <td>0.96</td>\n",
              "      <td>precision  recall  f1-score  sup...</td>\n",
              "    </tr>\n",
              "    <tr>\n",
              "      <th>15</th>\n",
              "      <td>4</td>\n",
              "      <td>4</td>\n",
              "      <td>2.24</td>\n",
              "      <td>0.03</td>\n",
              "      <td>3.74</td>\n",
              "      <td>0.22</td>\n",
              "      <td>0.95</td>\n",
              "      <td>0.95</td>\n",
              "      <td>precision  recall  f1-score  sup...</td>\n",
              "    </tr>\n",
              "    <tr>\n",
              "      <th>16</th>\n",
              "      <td>5</td>\n",
              "      <td>1</td>\n",
              "      <td>25.05</td>\n",
              "      <td>0.37</td>\n",
              "      <td>2.58</td>\n",
              "      <td>0.15</td>\n",
              "      <td>0.95</td>\n",
              "      <td>0.95</td>\n",
              "      <td>precision  recall  f1-score  sup...</td>\n",
              "    </tr>\n",
              "    <tr>\n",
              "      <th>17</th>\n",
              "      <td>5</td>\n",
              "      <td>2</td>\n",
              "      <td>8.47</td>\n",
              "      <td>0.12</td>\n",
              "      <td>2.41</td>\n",
              "      <td>0.14</td>\n",
              "      <td>0.96</td>\n",
              "      <td>0.96</td>\n",
              "      <td>precision  recall  f1-score  sup...</td>\n",
              "    </tr>\n",
              "    <tr>\n",
              "      <th>18</th>\n",
              "      <td>5</td>\n",
              "      <td>3</td>\n",
              "      <td>4.89</td>\n",
              "      <td>0.07</td>\n",
              "      <td>2.56</td>\n",
              "      <td>0.15</td>\n",
              "      <td>0.96</td>\n",
              "      <td>0.96</td>\n",
              "      <td>precision  recall  f1-score  sup...</td>\n",
              "    </tr>\n",
              "    <tr>\n",
              "      <th>19</th>\n",
              "      <td>5</td>\n",
              "      <td>4</td>\n",
              "      <td>3.09</td>\n",
              "      <td>0.05</td>\n",
              "      <td>2.73</td>\n",
              "      <td>0.16</td>\n",
              "      <td>0.97</td>\n",
              "      <td>0.97</td>\n",
              "      <td>precision  recall  f1-score  sup...</td>\n",
              "    </tr>\n",
              "    <tr>\n",
              "      <th>20</th>\n",
              "      <td>5</td>\n",
              "      <td>5</td>\n",
              "      <td>1.03</td>\n",
              "      <td>0.02</td>\n",
              "      <td>2.76</td>\n",
              "      <td>0.16</td>\n",
              "      <td>0.97</td>\n",
              "      <td>0.97</td>\n",
              "      <td>precision  recall  f1-score  sup...</td>\n",
              "    </tr>\n",
              "  </tbody>\n",
              "</table>\n",
              "</div>\n",
              "    <div class=\"colab-df-buttons\">\n",
              "\n",
              "  <div class=\"colab-df-container\">\n",
              "    <button class=\"colab-df-convert\" onclick=\"convertToInteractive('df-653147c7-accc-4492-9536-4033f6504f44')\"\n",
              "            title=\"Convert this dataframe to an interactive table.\"\n",
              "            style=\"display:none;\">\n",
              "\n",
              "  <svg xmlns=\"http://www.w3.org/2000/svg\" height=\"24px\" viewBox=\"0 -960 960 960\">\n",
              "    <path d=\"M120-120v-720h720v720H120Zm60-500h600v-160H180v160Zm220 220h160v-160H400v160Zm0 220h160v-160H400v160ZM180-400h160v-160H180v160Zm440 0h160v-160H620v160ZM180-180h160v-160H180v160Zm440 0h160v-160H620v160Z\"/>\n",
              "  </svg>\n",
              "    </button>\n",
              "\n",
              "  <style>\n",
              "    .colab-df-container {\n",
              "      display:flex;\n",
              "      gap: 12px;\n",
              "    }\n",
              "\n",
              "    .colab-df-convert {\n",
              "      background-color: #E8F0FE;\n",
              "      border: none;\n",
              "      border-radius: 50%;\n",
              "      cursor: pointer;\n",
              "      display: none;\n",
              "      fill: #1967D2;\n",
              "      height: 32px;\n",
              "      padding: 0 0 0 0;\n",
              "      width: 32px;\n",
              "    }\n",
              "\n",
              "    .colab-df-convert:hover {\n",
              "      background-color: #E2EBFA;\n",
              "      box-shadow: 0px 1px 2px rgba(60, 64, 67, 0.3), 0px 1px 3px 1px rgba(60, 64, 67, 0.15);\n",
              "      fill: #174EA6;\n",
              "    }\n",
              "\n",
              "    .colab-df-buttons div {\n",
              "      margin-bottom: 4px;\n",
              "    }\n",
              "\n",
              "    [theme=dark] .colab-df-convert {\n",
              "      background-color: #3B4455;\n",
              "      fill: #D2E3FC;\n",
              "    }\n",
              "\n",
              "    [theme=dark] .colab-df-convert:hover {\n",
              "      background-color: #434B5C;\n",
              "      box-shadow: 0px 1px 3px 1px rgba(0, 0, 0, 0.15);\n",
              "      filter: drop-shadow(0px 1px 2px rgba(0, 0, 0, 0.3));\n",
              "      fill: #FFFFFF;\n",
              "    }\n",
              "  </style>\n",
              "\n",
              "    <script>\n",
              "      const buttonEl =\n",
              "        document.querySelector('#df-653147c7-accc-4492-9536-4033f6504f44 button.colab-df-convert');\n",
              "      buttonEl.style.display =\n",
              "        google.colab.kernel.accessAllowed ? 'block' : 'none';\n",
              "\n",
              "      async function convertToInteractive(key) {\n",
              "        const element = document.querySelector('#df-653147c7-accc-4492-9536-4033f6504f44');\n",
              "        const dataTable =\n",
              "          await google.colab.kernel.invokeFunction('convertToInteractive',\n",
              "                                                    [key], {});\n",
              "        if (!dataTable) return;\n",
              "\n",
              "        const docLinkHtml = 'Like what you see? Visit the ' +\n",
              "          '<a target=\"_blank\" href=https://colab.research.google.com/notebooks/data_table.ipynb>data table notebook</a>'\n",
              "          + ' to learn more about interactive tables.';\n",
              "        element.innerHTML = '';\n",
              "        dataTable['output_type'] = 'display_data';\n",
              "        await google.colab.output.renderOutput(dataTable, element);\n",
              "        const docLink = document.createElement('div');\n",
              "        docLink.innerHTML = docLinkHtml;\n",
              "        element.appendChild(docLink);\n",
              "      }\n",
              "    </script>\n",
              "  </div>\n",
              "\n",
              "\n",
              "<div id=\"df-08c7c628-54cf-4b38-8089-6de729eee4f8\">\n",
              "  <button class=\"colab-df-quickchart\" onclick=\"quickchart('df-08c7c628-54cf-4b38-8089-6de729eee4f8')\"\n",
              "            title=\"Suggest charts\"\n",
              "            style=\"display:none;\">\n",
              "\n",
              "<svg xmlns=\"http://www.w3.org/2000/svg\" height=\"24px\"viewBox=\"0 0 24 24\"\n",
              "     width=\"24px\">\n",
              "    <g>\n",
              "        <path d=\"M19 3H5c-1.1 0-2 .9-2 2v14c0 1.1.9 2 2 2h14c1.1 0 2-.9 2-2V5c0-1.1-.9-2-2-2zM9 17H7v-7h2v7zm4 0h-2V7h2v10zm4 0h-2v-4h2v4z\"/>\n",
              "    </g>\n",
              "</svg>\n",
              "  </button>\n",
              "\n",
              "<style>\n",
              "  .colab-df-quickchart {\n",
              "      --bg-color: #E8F0FE;\n",
              "      --fill-color: #1967D2;\n",
              "      --hover-bg-color: #E2EBFA;\n",
              "      --hover-fill-color: #174EA6;\n",
              "      --disabled-fill-color: #AAA;\n",
              "      --disabled-bg-color: #DDD;\n",
              "  }\n",
              "\n",
              "  [theme=dark] .colab-df-quickchart {\n",
              "      --bg-color: #3B4455;\n",
              "      --fill-color: #D2E3FC;\n",
              "      --hover-bg-color: #434B5C;\n",
              "      --hover-fill-color: #FFFFFF;\n",
              "      --disabled-bg-color: #3B4455;\n",
              "      --disabled-fill-color: #666;\n",
              "  }\n",
              "\n",
              "  .colab-df-quickchart {\n",
              "    background-color: var(--bg-color);\n",
              "    border: none;\n",
              "    border-radius: 50%;\n",
              "    cursor: pointer;\n",
              "    display: none;\n",
              "    fill: var(--fill-color);\n",
              "    height: 32px;\n",
              "    padding: 0;\n",
              "    width: 32px;\n",
              "  }\n",
              "\n",
              "  .colab-df-quickchart:hover {\n",
              "    background-color: var(--hover-bg-color);\n",
              "    box-shadow: 0 1px 2px rgba(60, 64, 67, 0.3), 0 1px 3px 1px rgba(60, 64, 67, 0.15);\n",
              "    fill: var(--button-hover-fill-color);\n",
              "  }\n",
              "\n",
              "  .colab-df-quickchart-complete:disabled,\n",
              "  .colab-df-quickchart-complete:disabled:hover {\n",
              "    background-color: var(--disabled-bg-color);\n",
              "    fill: var(--disabled-fill-color);\n",
              "    box-shadow: none;\n",
              "  }\n",
              "\n",
              "  .colab-df-spinner {\n",
              "    border: 2px solid var(--fill-color);\n",
              "    border-color: transparent;\n",
              "    border-bottom-color: var(--fill-color);\n",
              "    animation:\n",
              "      spin 1s steps(1) infinite;\n",
              "  }\n",
              "\n",
              "  @keyframes spin {\n",
              "    0% {\n",
              "      border-color: transparent;\n",
              "      border-bottom-color: var(--fill-color);\n",
              "      border-left-color: var(--fill-color);\n",
              "    }\n",
              "    20% {\n",
              "      border-color: transparent;\n",
              "      border-left-color: var(--fill-color);\n",
              "      border-top-color: var(--fill-color);\n",
              "    }\n",
              "    30% {\n",
              "      border-color: transparent;\n",
              "      border-left-color: var(--fill-color);\n",
              "      border-top-color: var(--fill-color);\n",
              "      border-right-color: var(--fill-color);\n",
              "    }\n",
              "    40% {\n",
              "      border-color: transparent;\n",
              "      border-right-color: var(--fill-color);\n",
              "      border-top-color: var(--fill-color);\n",
              "    }\n",
              "    60% {\n",
              "      border-color: transparent;\n",
              "      border-right-color: var(--fill-color);\n",
              "    }\n",
              "    80% {\n",
              "      border-color: transparent;\n",
              "      border-right-color: var(--fill-color);\n",
              "      border-bottom-color: var(--fill-color);\n",
              "    }\n",
              "    90% {\n",
              "      border-color: transparent;\n",
              "      border-bottom-color: var(--fill-color);\n",
              "    }\n",
              "  }\n",
              "</style>\n",
              "\n",
              "  <script>\n",
              "    async function quickchart(key) {\n",
              "      const quickchartButtonEl =\n",
              "        document.querySelector('#' + key + ' button');\n",
              "      quickchartButtonEl.disabled = true;  // To prevent multiple clicks.\n",
              "      quickchartButtonEl.classList.add('colab-df-spinner');\n",
              "      try {\n",
              "        const charts = await google.colab.kernel.invokeFunction(\n",
              "            'suggestCharts', [key], {});\n",
              "      } catch (error) {\n",
              "        console.error('Error during call to suggestCharts:', error);\n",
              "      }\n",
              "      quickchartButtonEl.classList.remove('colab-df-spinner');\n",
              "      quickchartButtonEl.classList.add('colab-df-quickchart-complete');\n",
              "    }\n",
              "    (() => {\n",
              "      let quickchartButtonEl =\n",
              "        document.querySelector('#df-08c7c628-54cf-4b38-8089-6de729eee4f8 button');\n",
              "      quickchartButtonEl.style.display =\n",
              "        google.colab.kernel.accessAllowed ? 'block' : 'none';\n",
              "    })();\n",
              "  </script>\n",
              "</div>\n",
              "\n",
              "  <div id=\"id_2f0a656c-f70a-46f3-9129-253fec27dcb0\">\n",
              "    <style>\n",
              "      .colab-df-generate {\n",
              "        background-color: #E8F0FE;\n",
              "        border: none;\n",
              "        border-radius: 50%;\n",
              "        cursor: pointer;\n",
              "        display: none;\n",
              "        fill: #1967D2;\n",
              "        height: 32px;\n",
              "        padding: 0 0 0 0;\n",
              "        width: 32px;\n",
              "      }\n",
              "\n",
              "      .colab-df-generate:hover {\n",
              "        background-color: #E2EBFA;\n",
              "        box-shadow: 0px 1px 2px rgba(60, 64, 67, 0.3), 0px 1px 3px 1px rgba(60, 64, 67, 0.15);\n",
              "        fill: #174EA6;\n",
              "      }\n",
              "\n",
              "      [theme=dark] .colab-df-generate {\n",
              "        background-color: #3B4455;\n",
              "        fill: #D2E3FC;\n",
              "      }\n",
              "\n",
              "      [theme=dark] .colab-df-generate:hover {\n",
              "        background-color: #434B5C;\n",
              "        box-shadow: 0px 1px 3px 1px rgba(0, 0, 0, 0.15);\n",
              "        filter: drop-shadow(0px 1px 2px rgba(0, 0, 0, 0.3));\n",
              "        fill: #FFFFFF;\n",
              "      }\n",
              "    </style>\n",
              "    <button class=\"colab-df-generate\" onclick=\"generateWithVariable('df')\"\n",
              "            title=\"Generate code using this dataframe.\"\n",
              "            style=\"display:none;\">\n",
              "\n",
              "  <svg xmlns=\"http://www.w3.org/2000/svg\" height=\"24px\"viewBox=\"0 0 24 24\"\n",
              "       width=\"24px\">\n",
              "    <path d=\"M7,19H8.4L18.45,9,17,7.55,7,17.6ZM5,21V16.75L18.45,3.32a2,2,0,0,1,2.83,0l1.4,1.43a1.91,1.91,0,0,1,.58,1.4,1.91,1.91,0,0,1-.58,1.4L9.25,21ZM18.45,9,17,7.55Zm-12,3A5.31,5.31,0,0,0,4.9,8.1,5.31,5.31,0,0,0,1,6.5,5.31,5.31,0,0,0,4.9,4.9,5.31,5.31,0,0,0,6.5,1,5.31,5.31,0,0,0,8.1,4.9,5.31,5.31,0,0,0,12,6.5,5.46,5.46,0,0,0,6.5,12Z\"/>\n",
              "  </svg>\n",
              "    </button>\n",
              "    <script>\n",
              "      (() => {\n",
              "      const buttonEl =\n",
              "        document.querySelector('#id_2f0a656c-f70a-46f3-9129-253fec27dcb0 button.colab-df-generate');\n",
              "      buttonEl.style.display =\n",
              "        google.colab.kernel.accessAllowed ? 'block' : 'none';\n",
              "\n",
              "      buttonEl.onclick = () => {\n",
              "        google.colab.notebook.generateWithVariable('df');\n",
              "      }\n",
              "      })();\n",
              "    </script>\n",
              "  </div>\n",
              "\n",
              "    </div>\n",
              "  </div>\n"
            ],
            "application/vnd.google.colaboratory.intrinsic+json": {
              "type": "dataframe",
              "variable_name": "df",
              "summary": "{\n  \"name\": \"df\",\n  \"rows\": 21,\n  \"fields\": [\n    {\n      \"column\": \"fold\",\n      \"properties\": {\n        \"dtype\": \"number\",\n        \"std\": 1,\n        \"min\": 1,\n        \"max\": 5,\n        \"num_unique_values\": 5,\n        \"samples\": [\n          2,\n          5,\n          3\n        ],\n        \"semantic_type\": \"\",\n        \"description\": \"\"\n      }\n    },\n    {\n      \"column\": \"epoch\",\n      \"properties\": {\n        \"dtype\": \"number\",\n        \"std\": 1,\n        \"min\": 1,\n        \"max\": 5,\n        \"num_unique_values\": 5,\n        \"samples\": [\n          2,\n          5,\n          3\n        ],\n        \"semantic_type\": \"\",\n        \"description\": \"\"\n      }\n    },\n    {\n      \"column\": \"total_train_loss\",\n      \"properties\": {\n        \"dtype\": \"number\",\n        \"std\": 8.970284102071542,\n        \"min\": 1.030783292488195,\n        \"max\": 25.045756302773952,\n        \"num_unique_values\": 21,\n        \"samples\": [\n          24.141655856743455,\n          8.47270832490176,\n          2.2367173795355484\n        ],\n        \"semantic_type\": \"\",\n        \"description\": \"\"\n      }\n    },\n    {\n      \"column\": \"avg_train_loss\",\n      \"properties\": {\n        \"dtype\": \"number\",\n        \"std\": 0.13191594267752269,\n        \"min\": 0.01515857783070875,\n        \"max\": 0.3683199456290287,\n        \"num_unique_values\": 21,\n        \"samples\": [\n          0.3550243508344626,\n          0.12459865183679059,\n          0.03289290264022865\n        ],\n        \"semantic_type\": \"\",\n        \"description\": \"\"\n      }\n    },\n    {\n      \"column\": \"total_val_loss\",\n      \"properties\": {\n        \"dtype\": \"number\",\n        \"std\": 0.4844808422553298,\n        \"min\": 2.1763366162776947,\n        \"max\": 3.9955934524768963,\n        \"num_unique_values\": 21,\n        \"samples\": [\n          3.636639053002,\n          2.4107499988749623,\n          3.738375067943707\n        ],\n        \"semantic_type\": \"\",\n        \"description\": \"\"\n      }\n    },\n    {\n      \"column\": \"avg_val_loss\",\n      \"properties\": {\n        \"dtype\": \"number\",\n        \"std\": 0.028498873073842926,\n        \"min\": 0.12801980095751145,\n        \"max\": 0.23503490896922918,\n        \"num_unique_values\": 21,\n        \"samples\": [\n          0.21391994429423528,\n          0.1418088234632331,\n          0.21990441576139452\n        ],\n        \"semantic_type\": \"\",\n        \"description\": \"\"\n      }\n    },\n    {\n      \"column\": \"val_accuracy\",\n      \"properties\": {\n        \"dtype\": \"number\",\n        \"std\": 0.011972189997378632,\n        \"min\": 0.92,\n        \"max\": 0.97,\n        \"num_unique_values\": 6,\n        \"samples\": [\n          0.93,\n          0.95,\n          0.97\n        ],\n        \"semantic_type\": \"\",\n        \"description\": \"\"\n      }\n    },\n    {\n      \"column\": \"f1_macro\",\n      \"properties\": {\n        \"dtype\": \"number\",\n        \"std\": 0.011444946522630147,\n        \"min\": 0.9211601021127864,\n        \"max\": 0.9670265225854721,\n        \"num_unique_values\": 21,\n        \"samples\": [\n          0.9306154655323285,\n          0.9589341816277648,\n          0.952789427256405\n        ],\n        \"semantic_type\": \"\",\n        \"description\": \"\"\n      }\n    },\n    {\n      \"column\": \"report\",\n      \"properties\": {\n        \"dtype\": \"object\",\n        \"semantic_type\": \"\",\n        \"description\": \"\"\n      }\n    }\n  ]\n}"
            }
          },
          "metadata": {},
          "execution_count": 37
        }
      ]
    },
    {
      "cell_type": "markdown",
      "source": [
        "### Compare Folds"
      ],
      "metadata": {
        "id": "RdGVcmf9ls3p"
      },
      "id": "RdGVcmf9ls3p"
    },
    {
      "cell_type": "markdown",
      "source": [
        "Group the training stats dataframe by folds and filter out losses columns:\n",
        "\n",
        "\n"
      ],
      "metadata": {
        "id": "1PPTAuc5fSmD"
      },
      "id": "1PPTAuc5fSmD"
    },
    {
      "cell_type": "code",
      "source": [
        "folds_loss = df.groupby('fold')[['total_train_loss','avg_train_loss','total_val_loss', 'avg_val_loss']].mean()\n",
        "folds_loss = folds_loss.reset_index()"
      ],
      "metadata": {
        "id": "FAHih3RkePd0"
      },
      "id": "FAHih3RkePd0",
      "execution_count": null,
      "outputs": []
    },
    {
      "cell_type": "code",
      "source": [
        "folds_loss"
      ],
      "metadata": {
        "id": "3sZFidvYkX4l",
        "colab": {
          "base_uri": "https://localhost:8080/",
          "height": 206
        },
        "outputId": "d3959581-5583-4449-fb5f-88ad1a7af26f"
      },
      "id": "3sZFidvYkX4l",
      "execution_count": null,
      "outputs": [
        {
          "output_type": "execute_result",
          "data": {
            "text/plain": [
              "   fold  total_train_loss  avg_train_loss  total_val_loss  avg_val_loss\n",
              "0     1              9.97            0.15            3.67          0.22\n",
              "1     2             10.02            0.15            2.76          0.16\n",
              "2     3              9.90            0.15            3.26          0.19\n",
              "3     4              9.63            0.14            3.28          0.19\n",
              "4     5              8.50            0.13            2.61          0.15"
            ],
            "text/html": [
              "\n",
              "  <div id=\"df-7cf2d1ff-7e5c-434b-9dee-822c8304db9f\" class=\"colab-df-container\">\n",
              "    <div>\n",
              "<style scoped>\n",
              "    .dataframe tbody tr th:only-of-type {\n",
              "        vertical-align: middle;\n",
              "    }\n",
              "\n",
              "    .dataframe tbody tr th {\n",
              "        vertical-align: top;\n",
              "    }\n",
              "\n",
              "    .dataframe thead th {\n",
              "        text-align: right;\n",
              "    }\n",
              "</style>\n",
              "<table border=\"1\" class=\"dataframe\">\n",
              "  <thead>\n",
              "    <tr style=\"text-align: right;\">\n",
              "      <th></th>\n",
              "      <th>fold</th>\n",
              "      <th>total_train_loss</th>\n",
              "      <th>avg_train_loss</th>\n",
              "      <th>total_val_loss</th>\n",
              "      <th>avg_val_loss</th>\n",
              "    </tr>\n",
              "  </thead>\n",
              "  <tbody>\n",
              "    <tr>\n",
              "      <th>0</th>\n",
              "      <td>1</td>\n",
              "      <td>9.97</td>\n",
              "      <td>0.15</td>\n",
              "      <td>3.67</td>\n",
              "      <td>0.22</td>\n",
              "    </tr>\n",
              "    <tr>\n",
              "      <th>1</th>\n",
              "      <td>2</td>\n",
              "      <td>10.02</td>\n",
              "      <td>0.15</td>\n",
              "      <td>2.76</td>\n",
              "      <td>0.16</td>\n",
              "    </tr>\n",
              "    <tr>\n",
              "      <th>2</th>\n",
              "      <td>3</td>\n",
              "      <td>9.90</td>\n",
              "      <td>0.15</td>\n",
              "      <td>3.26</td>\n",
              "      <td>0.19</td>\n",
              "    </tr>\n",
              "    <tr>\n",
              "      <th>3</th>\n",
              "      <td>4</td>\n",
              "      <td>9.63</td>\n",
              "      <td>0.14</td>\n",
              "      <td>3.28</td>\n",
              "      <td>0.19</td>\n",
              "    </tr>\n",
              "    <tr>\n",
              "      <th>4</th>\n",
              "      <td>5</td>\n",
              "      <td>8.50</td>\n",
              "      <td>0.13</td>\n",
              "      <td>2.61</td>\n",
              "      <td>0.15</td>\n",
              "    </tr>\n",
              "  </tbody>\n",
              "</table>\n",
              "</div>\n",
              "    <div class=\"colab-df-buttons\">\n",
              "\n",
              "  <div class=\"colab-df-container\">\n",
              "    <button class=\"colab-df-convert\" onclick=\"convertToInteractive('df-7cf2d1ff-7e5c-434b-9dee-822c8304db9f')\"\n",
              "            title=\"Convert this dataframe to an interactive table.\"\n",
              "            style=\"display:none;\">\n",
              "\n",
              "  <svg xmlns=\"http://www.w3.org/2000/svg\" height=\"24px\" viewBox=\"0 -960 960 960\">\n",
              "    <path d=\"M120-120v-720h720v720H120Zm60-500h600v-160H180v160Zm220 220h160v-160H400v160Zm0 220h160v-160H400v160ZM180-400h160v-160H180v160Zm440 0h160v-160H620v160ZM180-180h160v-160H180v160Zm440 0h160v-160H620v160Z\"/>\n",
              "  </svg>\n",
              "    </button>\n",
              "\n",
              "  <style>\n",
              "    .colab-df-container {\n",
              "      display:flex;\n",
              "      gap: 12px;\n",
              "    }\n",
              "\n",
              "    .colab-df-convert {\n",
              "      background-color: #E8F0FE;\n",
              "      border: none;\n",
              "      border-radius: 50%;\n",
              "      cursor: pointer;\n",
              "      display: none;\n",
              "      fill: #1967D2;\n",
              "      height: 32px;\n",
              "      padding: 0 0 0 0;\n",
              "      width: 32px;\n",
              "    }\n",
              "\n",
              "    .colab-df-convert:hover {\n",
              "      background-color: #E2EBFA;\n",
              "      box-shadow: 0px 1px 2px rgba(60, 64, 67, 0.3), 0px 1px 3px 1px rgba(60, 64, 67, 0.15);\n",
              "      fill: #174EA6;\n",
              "    }\n",
              "\n",
              "    .colab-df-buttons div {\n",
              "      margin-bottom: 4px;\n",
              "    }\n",
              "\n",
              "    [theme=dark] .colab-df-convert {\n",
              "      background-color: #3B4455;\n",
              "      fill: #D2E3FC;\n",
              "    }\n",
              "\n",
              "    [theme=dark] .colab-df-convert:hover {\n",
              "      background-color: #434B5C;\n",
              "      box-shadow: 0px 1px 3px 1px rgba(0, 0, 0, 0.15);\n",
              "      filter: drop-shadow(0px 1px 2px rgba(0, 0, 0, 0.3));\n",
              "      fill: #FFFFFF;\n",
              "    }\n",
              "  </style>\n",
              "\n",
              "    <script>\n",
              "      const buttonEl =\n",
              "        document.querySelector('#df-7cf2d1ff-7e5c-434b-9dee-822c8304db9f button.colab-df-convert');\n",
              "      buttonEl.style.display =\n",
              "        google.colab.kernel.accessAllowed ? 'block' : 'none';\n",
              "\n",
              "      async function convertToInteractive(key) {\n",
              "        const element = document.querySelector('#df-7cf2d1ff-7e5c-434b-9dee-822c8304db9f');\n",
              "        const dataTable =\n",
              "          await google.colab.kernel.invokeFunction('convertToInteractive',\n",
              "                                                    [key], {});\n",
              "        if (!dataTable) return;\n",
              "\n",
              "        const docLinkHtml = 'Like what you see? Visit the ' +\n",
              "          '<a target=\"_blank\" href=https://colab.research.google.com/notebooks/data_table.ipynb>data table notebook</a>'\n",
              "          + ' to learn more about interactive tables.';\n",
              "        element.innerHTML = '';\n",
              "        dataTable['output_type'] = 'display_data';\n",
              "        await google.colab.output.renderOutput(dataTable, element);\n",
              "        const docLink = document.createElement('div');\n",
              "        docLink.innerHTML = docLinkHtml;\n",
              "        element.appendChild(docLink);\n",
              "      }\n",
              "    </script>\n",
              "  </div>\n",
              "\n",
              "\n",
              "<div id=\"df-81f52ebc-c6c7-4d4f-9bad-9ff9159ca9f4\">\n",
              "  <button class=\"colab-df-quickchart\" onclick=\"quickchart('df-81f52ebc-c6c7-4d4f-9bad-9ff9159ca9f4')\"\n",
              "            title=\"Suggest charts\"\n",
              "            style=\"display:none;\">\n",
              "\n",
              "<svg xmlns=\"http://www.w3.org/2000/svg\" height=\"24px\"viewBox=\"0 0 24 24\"\n",
              "     width=\"24px\">\n",
              "    <g>\n",
              "        <path d=\"M19 3H5c-1.1 0-2 .9-2 2v14c0 1.1.9 2 2 2h14c1.1 0 2-.9 2-2V5c0-1.1-.9-2-2-2zM9 17H7v-7h2v7zm4 0h-2V7h2v10zm4 0h-2v-4h2v4z\"/>\n",
              "    </g>\n",
              "</svg>\n",
              "  </button>\n",
              "\n",
              "<style>\n",
              "  .colab-df-quickchart {\n",
              "      --bg-color: #E8F0FE;\n",
              "      --fill-color: #1967D2;\n",
              "      --hover-bg-color: #E2EBFA;\n",
              "      --hover-fill-color: #174EA6;\n",
              "      --disabled-fill-color: #AAA;\n",
              "      --disabled-bg-color: #DDD;\n",
              "  }\n",
              "\n",
              "  [theme=dark] .colab-df-quickchart {\n",
              "      --bg-color: #3B4455;\n",
              "      --fill-color: #D2E3FC;\n",
              "      --hover-bg-color: #434B5C;\n",
              "      --hover-fill-color: #FFFFFF;\n",
              "      --disabled-bg-color: #3B4455;\n",
              "      --disabled-fill-color: #666;\n",
              "  }\n",
              "\n",
              "  .colab-df-quickchart {\n",
              "    background-color: var(--bg-color);\n",
              "    border: none;\n",
              "    border-radius: 50%;\n",
              "    cursor: pointer;\n",
              "    display: none;\n",
              "    fill: var(--fill-color);\n",
              "    height: 32px;\n",
              "    padding: 0;\n",
              "    width: 32px;\n",
              "  }\n",
              "\n",
              "  .colab-df-quickchart:hover {\n",
              "    background-color: var(--hover-bg-color);\n",
              "    box-shadow: 0 1px 2px rgba(60, 64, 67, 0.3), 0 1px 3px 1px rgba(60, 64, 67, 0.15);\n",
              "    fill: var(--button-hover-fill-color);\n",
              "  }\n",
              "\n",
              "  .colab-df-quickchart-complete:disabled,\n",
              "  .colab-df-quickchart-complete:disabled:hover {\n",
              "    background-color: var(--disabled-bg-color);\n",
              "    fill: var(--disabled-fill-color);\n",
              "    box-shadow: none;\n",
              "  }\n",
              "\n",
              "  .colab-df-spinner {\n",
              "    border: 2px solid var(--fill-color);\n",
              "    border-color: transparent;\n",
              "    border-bottom-color: var(--fill-color);\n",
              "    animation:\n",
              "      spin 1s steps(1) infinite;\n",
              "  }\n",
              "\n",
              "  @keyframes spin {\n",
              "    0% {\n",
              "      border-color: transparent;\n",
              "      border-bottom-color: var(--fill-color);\n",
              "      border-left-color: var(--fill-color);\n",
              "    }\n",
              "    20% {\n",
              "      border-color: transparent;\n",
              "      border-left-color: var(--fill-color);\n",
              "      border-top-color: var(--fill-color);\n",
              "    }\n",
              "    30% {\n",
              "      border-color: transparent;\n",
              "      border-left-color: var(--fill-color);\n",
              "      border-top-color: var(--fill-color);\n",
              "      border-right-color: var(--fill-color);\n",
              "    }\n",
              "    40% {\n",
              "      border-color: transparent;\n",
              "      border-right-color: var(--fill-color);\n",
              "      border-top-color: var(--fill-color);\n",
              "    }\n",
              "    60% {\n",
              "      border-color: transparent;\n",
              "      border-right-color: var(--fill-color);\n",
              "    }\n",
              "    80% {\n",
              "      border-color: transparent;\n",
              "      border-right-color: var(--fill-color);\n",
              "      border-bottom-color: var(--fill-color);\n",
              "    }\n",
              "    90% {\n",
              "      border-color: transparent;\n",
              "      border-bottom-color: var(--fill-color);\n",
              "    }\n",
              "  }\n",
              "</style>\n",
              "\n",
              "  <script>\n",
              "    async function quickchart(key) {\n",
              "      const quickchartButtonEl =\n",
              "        document.querySelector('#' + key + ' button');\n",
              "      quickchartButtonEl.disabled = true;  // To prevent multiple clicks.\n",
              "      quickchartButtonEl.classList.add('colab-df-spinner');\n",
              "      try {\n",
              "        const charts = await google.colab.kernel.invokeFunction(\n",
              "            'suggestCharts', [key], {});\n",
              "      } catch (error) {\n",
              "        console.error('Error during call to suggestCharts:', error);\n",
              "      }\n",
              "      quickchartButtonEl.classList.remove('colab-df-spinner');\n",
              "      quickchartButtonEl.classList.add('colab-df-quickchart-complete');\n",
              "    }\n",
              "    (() => {\n",
              "      let quickchartButtonEl =\n",
              "        document.querySelector('#df-81f52ebc-c6c7-4d4f-9bad-9ff9159ca9f4 button');\n",
              "      quickchartButtonEl.style.display =\n",
              "        google.colab.kernel.accessAllowed ? 'block' : 'none';\n",
              "    })();\n",
              "  </script>\n",
              "</div>\n",
              "\n",
              "  <div id=\"id_7554be64-437c-42de-a1f7-636efd593e0d\">\n",
              "    <style>\n",
              "      .colab-df-generate {\n",
              "        background-color: #E8F0FE;\n",
              "        border: none;\n",
              "        border-radius: 50%;\n",
              "        cursor: pointer;\n",
              "        display: none;\n",
              "        fill: #1967D2;\n",
              "        height: 32px;\n",
              "        padding: 0 0 0 0;\n",
              "        width: 32px;\n",
              "      }\n",
              "\n",
              "      .colab-df-generate:hover {\n",
              "        background-color: #E2EBFA;\n",
              "        box-shadow: 0px 1px 2px rgba(60, 64, 67, 0.3), 0px 1px 3px 1px rgba(60, 64, 67, 0.15);\n",
              "        fill: #174EA6;\n",
              "      }\n",
              "\n",
              "      [theme=dark] .colab-df-generate {\n",
              "        background-color: #3B4455;\n",
              "        fill: #D2E3FC;\n",
              "      }\n",
              "\n",
              "      [theme=dark] .colab-df-generate:hover {\n",
              "        background-color: #434B5C;\n",
              "        box-shadow: 0px 1px 3px 1px rgba(0, 0, 0, 0.15);\n",
              "        filter: drop-shadow(0px 1px 2px rgba(0, 0, 0, 0.3));\n",
              "        fill: #FFFFFF;\n",
              "      }\n",
              "    </style>\n",
              "    <button class=\"colab-df-generate\" onclick=\"generateWithVariable('folds_loss')\"\n",
              "            title=\"Generate code using this dataframe.\"\n",
              "            style=\"display:none;\">\n",
              "\n",
              "  <svg xmlns=\"http://www.w3.org/2000/svg\" height=\"24px\"viewBox=\"0 0 24 24\"\n",
              "       width=\"24px\">\n",
              "    <path d=\"M7,19H8.4L18.45,9,17,7.55,7,17.6ZM5,21V16.75L18.45,3.32a2,2,0,0,1,2.83,0l1.4,1.43a1.91,1.91,0,0,1,.58,1.4,1.91,1.91,0,0,1-.58,1.4L9.25,21ZM18.45,9,17,7.55Zm-12,3A5.31,5.31,0,0,0,4.9,8.1,5.31,5.31,0,0,0,1,6.5,5.31,5.31,0,0,0,4.9,4.9,5.31,5.31,0,0,0,6.5,1,5.31,5.31,0,0,0,8.1,4.9,5.31,5.31,0,0,0,12,6.5,5.46,5.46,0,0,0,6.5,12Z\"/>\n",
              "  </svg>\n",
              "    </button>\n",
              "    <script>\n",
              "      (() => {\n",
              "      const buttonEl =\n",
              "        document.querySelector('#id_7554be64-437c-42de-a1f7-636efd593e0d button.colab-df-generate');\n",
              "      buttonEl.style.display =\n",
              "        google.colab.kernel.accessAllowed ? 'block' : 'none';\n",
              "\n",
              "      buttonEl.onclick = () => {\n",
              "        google.colab.notebook.generateWithVariable('folds_loss');\n",
              "      }\n",
              "      })();\n",
              "    </script>\n",
              "  </div>\n",
              "\n",
              "    </div>\n",
              "  </div>\n"
            ],
            "application/vnd.google.colaboratory.intrinsic+json": {
              "type": "dataframe",
              "variable_name": "folds_loss",
              "summary": "{\n  \"name\": \"folds_loss\",\n  \"rows\": 5,\n  \"fields\": [\n    {\n      \"column\": \"fold\",\n      \"properties\": {\n        \"dtype\": \"number\",\n        \"std\": 1,\n        \"min\": 1,\n        \"max\": 5,\n        \"num_unique_values\": 5,\n        \"samples\": [\n          2,\n          5,\n          3\n        ],\n        \"semantic_type\": \"\",\n        \"description\": \"\"\n      }\n    },\n    {\n      \"column\": \"total_train_loss\",\n      \"properties\": {\n        \"dtype\": \"number\",\n        \"std\": 0.6324474353100054,\n        \"min\": 8.504876101692208,\n        \"max\": 10.018379664135864,\n        \"num_unique_values\": 5,\n        \"samples\": [\n          10.018379664135864,\n          8.504876101692208,\n          9.898642078682315\n        ],\n        \"semantic_type\": \"\",\n        \"description\": \"\"\n      }\n    },\n    {\n      \"column\": \"avg_train_loss\",\n      \"properties\": {\n        \"dtype\": \"number\",\n        \"std\": 0.009300697578088317,\n        \"min\": 0.12507170737782658,\n        \"max\": 0.14732911270788035,\n        \"num_unique_values\": 5,\n        \"samples\": [\n          0.14732911270788035,\n          0.12507170737782658,\n          0.14556826586297522\n        ],\n        \"semantic_type\": \"\",\n        \"description\": \"\"\n      }\n    },\n    {\n      \"column\": \"total_val_loss\",\n      \"properties\": {\n        \"dtype\": \"number\",\n        \"std\": 0.4298527193089836,\n        \"min\": 2.609626927715726,\n        \"max\": 3.67161654328811,\n        \"num_unique_values\": 5,\n        \"samples\": [\n          2.761444678355474,\n          2.609626927715726,\n          3.2616803461278323\n        ],\n        \"semantic_type\": \"\",\n        \"description\": \"\"\n      }\n    },\n    {\n      \"column\": \"avg_val_loss\",\n      \"properties\": {\n        \"dtype\": \"number\",\n        \"std\": 0.025285454076999028,\n        \"min\": 0.1535074663362192,\n        \"max\": 0.21597744372282998,\n        \"num_unique_values\": 5,\n        \"samples\": [\n          0.16243792225620435,\n          0.1535074663362192,\n          0.19186354977222542\n        ],\n        \"semantic_type\": \"\",\n        \"description\": \"\"\n      }\n    }\n  ]\n}"
            }
          },
          "metadata": {},
          "execution_count": 39
        }
      ]
    },
    {
      "cell_type": "markdown",
      "source": [
        "Plot the losses of each fold:"
      ],
      "metadata": {
        "id": "dZU5S1Aqmckg"
      },
      "id": "dZU5S1Aqmckg"
    },
    {
      "cell_type": "code",
      "source": [
        "plt.figure(figsize=(10, 6))\n",
        "sns.lineplot(x='fold', y='total_train_loss', data=folds_loss, marker='o', label='Total Train Loss')\n",
        "sns.lineplot(x='fold', y='avg_train_loss', data=folds_loss, marker='o', label='Average Train Loss')\n",
        "sns.lineplot(x='fold', y='total_val_loss', data=folds_loss, marker='o', label='Total Val Loss')\n",
        "sns.lineplot(x='fold', y='avg_val_loss', data=folds_loss, marker='o', label='Average Val Loss')\n",
        "\n",
        "\n",
        "plt.title('Training and Validation Losses Across Folds', fontsize=20)\n",
        "\n",
        "plt.xlabel('Fold',fontsize=16)\n",
        "plt.xticks(folds_loss['fold'], fontsize=12)\n",
        "plt.ylabel('Loss',fontsize=16)\n",
        "plt.yticks(fontsize=12)\n",
        "plt.legend(bbox_to_anchor=(1.05, 1), loc='upper left',fontsize = 12)\n",
        "plt.grid(axis='y')\n",
        "\n",
        "plt.savefig(FOLDER_PATH+'Training_Validation_Losses_Across_Folds.png', format='png', transparent = True, bbox_inches='tight',pad_inches=0.1)"
      ],
      "metadata": {
        "id": "rJqQ8L1Atuz4",
        "colab": {
          "base_uri": "https://localhost:8080/",
          "height": 582
        },
        "outputId": "260a355e-3d3c-4fb0-84ff-a9f2caf21a18"
      },
      "id": "rJqQ8L1Atuz4",
      "execution_count": null,
      "outputs": [
        {
          "output_type": "display_data",
          "data": {
            "text/plain": [
              "<Figure size 1000x600 with 1 Axes>"
            ],
            "image/png": "[encoded data removed]"
          },
          "metadata": {}
        }
      ]
    },
    {
      "cell_type": "markdown",
      "source": [
        "Group the training stats data frame by folds and filter out the validation accuracy column:"
      ],
      "metadata": {
        "id": "5yPHgHoDnTec"
      },
      "id": "5yPHgHoDnTec"
    },
    {
      "cell_type": "code",
      "source": [
        "folds_acc = df.groupby('fold')['val_accuracy'].mean()\n",
        "folds_acc = folds_acc.reset_index()"
      ],
      "metadata": {
        "id": "O3I3T0lmXl6v"
      },
      "id": "O3I3T0lmXl6v",
      "execution_count": null,
      "outputs": []
    },
    {
      "cell_type": "code",
      "source": [
        "folds_acc"
      ],
      "metadata": {
        "id": "ad_Lx4kqnG_7",
        "colab": {
          "base_uri": "https://localhost:8080/",
          "height": 206
        },
        "outputId": "c9e8a9f8-3fe8-432f-a549-5548378bc007"
      },
      "id": "ad_Lx4kqnG_7",
      "execution_count": null,
      "outputs": [
        {
          "output_type": "execute_result",
          "data": {
            "text/plain": [
              "   fold  val_accuracy\n",
              "0     1          0.95\n",
              "1     2          0.96\n",
              "2     3          0.95\n",
              "3     4          0.95\n",
              "4     5          0.96"
            ],
            "text/html": [
              "\n",
              "  <div id=\"df-903deb53-a8d4-4601-8f66-1e0d09356f86\" class=\"colab-df-container\">\n",
              "    <div>\n",
              "<style scoped>\n",
              "    .dataframe tbody tr th:only-of-type {\n",
              "        vertical-align: middle;\n",
              "    }\n",
              "\n",
              "    .dataframe tbody tr th {\n",
              "        vertical-align: top;\n",
              "    }\n",
              "\n",
              "    .dataframe thead th {\n",
              "        text-align: right;\n",
              "    }\n",
              "</style>\n",
              "<table border=\"1\" class=\"dataframe\">\n",
              "  <thead>\n",
              "    <tr style=\"text-align: right;\">\n",
              "      <th></th>\n",
              "      <th>fold</th>\n",
              "      <th>val_accuracy</th>\n",
              "    </tr>\n",
              "  </thead>\n",
              "  <tbody>\n",
              "    <tr>\n",
              "      <th>0</th>\n",
              "      <td>1</td>\n",
              "      <td>0.95</td>\n",
              "    </tr>\n",
              "    <tr>\n",
              "      <th>1</th>\n",
              "      <td>2</td>\n",
              "      <td>0.96</td>\n",
              "    </tr>\n",
              "    <tr>\n",
              "      <th>2</th>\n",
              "      <td>3</td>\n",
              "      <td>0.95</td>\n",
              "    </tr>\n",
              "    <tr>\n",
              "      <th>3</th>\n",
              "      <td>4</td>\n",
              "      <td>0.95</td>\n",
              "    </tr>\n",
              "    <tr>\n",
              "      <th>4</th>\n",
              "      <td>5</td>\n",
              "      <td>0.96</td>\n",
              "    </tr>\n",
              "  </tbody>\n",
              "</table>\n",
              "</div>\n",
              "    <div class=\"colab-df-buttons\">\n",
              "\n",
              "  <div class=\"colab-df-container\">\n",
              "    <button class=\"colab-df-convert\" onclick=\"convertToInteractive('df-903deb53-a8d4-4601-8f66-1e0d09356f86')\"\n",
              "            title=\"Convert this dataframe to an interactive table.\"\n",
              "            style=\"display:none;\">\n",
              "\n",
              "  <svg xmlns=\"http://www.w3.org/2000/svg\" height=\"24px\" viewBox=\"0 -960 960 960\">\n",
              "    <path d=\"M120-120v-720h720v720H120Zm60-500h600v-160H180v160Zm220 220h160v-160H400v160Zm0 220h160v-160H400v160ZM180-400h160v-160H180v160Zm440 0h160v-160H620v160ZM180-180h160v-160H180v160Zm440 0h160v-160H620v160Z\"/>\n",
              "  </svg>\n",
              "    </button>\n",
              "\n",
              "  <style>\n",
              "    .colab-df-container {\n",
              "      display:flex;\n",
              "      gap: 12px;\n",
              "    }\n",
              "\n",
              "    .colab-df-convert {\n",
              "      background-color: #E8F0FE;\n",
              "      border: none;\n",
              "      border-radius: 50%;\n",
              "      cursor: pointer;\n",
              "      display: none;\n",
              "      fill: #1967D2;\n",
              "      height: 32px;\n",
              "      padding: 0 0 0 0;\n",
              "      width: 32px;\n",
              "    }\n",
              "\n",
              "    .colab-df-convert:hover {\n",
              "      background-color: #E2EBFA;\n",
              "      box-shadow: 0px 1px 2px rgba(60, 64, 67, 0.3), 0px 1px 3px 1px rgba(60, 64, 67, 0.15);\n",
              "      fill: #174EA6;\n",
              "    }\n",
              "\n",
              "    .colab-df-buttons div {\n",
              "      margin-bottom: 4px;\n",
              "    }\n",
              "\n",
              "    [theme=dark] .colab-df-convert {\n",
              "      background-color: #3B4455;\n",
              "      fill: #D2E3FC;\n",
              "    }\n",
              "\n",
              "    [theme=dark] .colab-df-convert:hover {\n",
              "      background-color: #434B5C;\n",
              "      box-shadow: 0px 1px 3px 1px rgba(0, 0, 0, 0.15);\n",
              "      filter: drop-shadow(0px 1px 2px rgba(0, 0, 0, 0.3));\n",
              "      fill: #FFFFFF;\n",
              "    }\n",
              "  </style>\n",
              "\n",
              "    <script>\n",
              "      const buttonEl =\n",
              "        document.querySelector('#df-903deb53-a8d4-4601-8f66-1e0d09356f86 button.colab-df-convert');\n",
              "      buttonEl.style.display =\n",
              "        google.colab.kernel.accessAllowed ? 'block' : 'none';\n",
              "\n",
              "      async function convertToInteractive(key) {\n",
              "        const element = document.querySelector('#df-903deb53-a8d4-4601-8f66-1e0d09356f86');\n",
              "        const dataTable =\n",
              "          await google.colab.kernel.invokeFunction('convertToInteractive',\n",
              "                                                    [key], {});\n",
              "        if (!dataTable) return;\n",
              "\n",
              "        const docLinkHtml = 'Like what you see? Visit the ' +\n",
              "          '<a target=\"_blank\" href=https://colab.research.google.com/notebooks/data_table.ipynb>data table notebook</a>'\n",
              "          + ' to learn more about interactive tables.';\n",
              "        element.innerHTML = '';\n",
              "        dataTable['output_type'] = 'display_data';\n",
              "        await google.colab.output.renderOutput(dataTable, element);\n",
              "        const docLink = document.createElement('div');\n",
              "        docLink.innerHTML = docLinkHtml;\n",
              "        element.appendChild(docLink);\n",
              "      }\n",
              "    </script>\n",
              "  </div>\n",
              "\n",
              "\n",
              "<div id=\"df-10146e96-52e6-425a-93f9-ec5930290369\">\n",
              "  <button class=\"colab-df-quickchart\" onclick=\"quickchart('df-10146e96-52e6-425a-93f9-ec5930290369')\"\n",
              "            title=\"Suggest charts\"\n",
              "            style=\"display:none;\">\n",
              "\n",
              "<svg xmlns=\"http://www.w3.org/2000/svg\" height=\"24px\"viewBox=\"0 0 24 24\"\n",
              "     width=\"24px\">\n",
              "    <g>\n",
              "        <path d=\"M19 3H5c-1.1 0-2 .9-2 2v14c0 1.1.9 2 2 2h14c1.1 0 2-.9 2-2V5c0-1.1-.9-2-2-2zM9 17H7v-7h2v7zm4 0h-2V7h2v10zm4 0h-2v-4h2v4z\"/>\n",
              "    </g>\n",
              "</svg>\n",
              "  </button>\n",
              "\n",
              "<style>\n",
              "  .colab-df-quickchart {\n",
              "      --bg-color: #E8F0FE;\n",
              "      --fill-color: #1967D2;\n",
              "      --hover-bg-color: #E2EBFA;\n",
              "      --hover-fill-color: #174EA6;\n",
              "      --disabled-fill-color: #AAA;\n",
              "      --disabled-bg-color: #DDD;\n",
              "  }\n",
              "\n",
              "  [theme=dark] .colab-df-quickchart {\n",
              "      --bg-color: #3B4455;\n",
              "      --fill-color: #D2E3FC;\n",
              "      --hover-bg-color: #434B5C;\n",
              "      --hover-fill-color: #FFFFFF;\n",
              "      --disabled-bg-color: #3B4455;\n",
              "      --disabled-fill-color: #666;\n",
              "  }\n",
              "\n",
              "  .colab-df-quickchart {\n",
              "    background-color: var(--bg-color);\n",
              "    border: none;\n",
              "    border-radius: 50%;\n",
              "    cursor: pointer;\n",
              "    display: none;\n",
              "    fill: var(--fill-color);\n",
              "    height: 32px;\n",
              "    padding: 0;\n",
              "    width: 32px;\n",
              "  }\n",
              "\n",
              "  .colab-df-quickchart:hover {\n",
              "    background-color: var(--hover-bg-color);\n",
              "    box-shadow: 0 1px 2px rgba(60, 64, 67, 0.3), 0 1px 3px 1px rgba(60, 64, 67, 0.15);\n",
              "    fill: var(--button-hover-fill-color);\n",
              "  }\n",
              "\n",
              "  .colab-df-quickchart-complete:disabled,\n",
              "  .colab-df-quickchart-complete:disabled:hover {\n",
              "    background-color: var(--disabled-bg-color);\n",
              "    fill: var(--disabled-fill-color);\n",
              "    box-shadow: none;\n",
              "  }\n",
              "\n",
              "  .colab-df-spinner {\n",
              "    border: 2px solid var(--fill-color);\n",
              "    border-color: transparent;\n",
              "    border-bottom-color: var(--fill-color);\n",
              "    animation:\n",
              "      spin 1s steps(1) infinite;\n",
              "  }\n",
              "\n",
              "  @keyframes spin {\n",
              "    0% {\n",
              "      border-color: transparent;\n",
              "      border-bottom-color: var(--fill-color);\n",
              "      border-left-color: var(--fill-color);\n",
              "    }\n",
              "    20% {\n",
              "      border-color: transparent;\n",
              "      border-left-color: var(--fill-color);\n",
              "      border-top-color: var(--fill-color);\n",
              "    }\n",
              "    30% {\n",
              "      border-color: transparent;\n",
              "      border-left-color: var(--fill-color);\n",
              "      border-top-color: var(--fill-color);\n",
              "      border-right-color: var(--fill-color);\n",
              "    }\n",
              "    40% {\n",
              "      border-color: transparent;\n",
              "      border-right-color: var(--fill-color);\n",
              "      border-top-color: var(--fill-color);\n",
              "    }\n",
              "    60% {\n",
              "      border-color: transparent;\n",
              "      border-right-color: var(--fill-color);\n",
              "    }\n",
              "    80% {\n",
              "      border-color: transparent;\n",
              "      border-right-color: var(--fill-color);\n",
              "      border-bottom-color: var(--fill-color);\n",
              "    }\n",
              "    90% {\n",
              "      border-color: transparent;\n",
              "      border-bottom-color: var(--fill-color);\n",
              "    }\n",
              "  }\n",
              "</style>\n",
              "\n",
              "  <script>\n",
              "    async function quickchart(key) {\n",
              "      const quickchartButtonEl =\n",
              "        document.querySelector('#' + key + ' button');\n",
              "      quickchartButtonEl.disabled = true;  // To prevent multiple clicks.\n",
              "      quickchartButtonEl.classList.add('colab-df-spinner');\n",
              "      try {\n",
              "        const charts = await google.colab.kernel.invokeFunction(\n",
              "            'suggestCharts', [key], {});\n",
              "      } catch (error) {\n",
              "        console.error('Error during call to suggestCharts:', error);\n",
              "      }\n",
              "      quickchartButtonEl.classList.remove('colab-df-spinner');\n",
              "      quickchartButtonEl.classList.add('colab-df-quickchart-complete');\n",
              "    }\n",
              "    (() => {\n",
              "      let quickchartButtonEl =\n",
              "        document.querySelector('#df-10146e96-52e6-425a-93f9-ec5930290369 button');\n",
              "      quickchartButtonEl.style.display =\n",
              "        google.colab.kernel.accessAllowed ? 'block' : 'none';\n",
              "    })();\n",
              "  </script>\n",
              "</div>\n",
              "\n",
              "  <div id=\"id_2748b718-05a3-47d8-8130-91ecc66bd0d7\">\n",
              "    <style>\n",
              "      .colab-df-generate {\n",
              "        background-color: #E8F0FE;\n",
              "        border: none;\n",
              "        border-radius: 50%;\n",
              "        cursor: pointer;\n",
              "        display: none;\n",
              "        fill: #1967D2;\n",
              "        height: 32px;\n",
              "        padding: 0 0 0 0;\n",
              "        width: 32px;\n",
              "      }\n",
              "\n",
              "      .colab-df-generate:hover {\n",
              "        background-color: #E2EBFA;\n",
              "        box-shadow: 0px 1px 2px rgba(60, 64, 67, 0.3), 0px 1px 3px 1px rgba(60, 64, 67, 0.15);\n",
              "        fill: #174EA6;\n",
              "      }\n",
              "\n",
              "      [theme=dark] .colab-df-generate {\n",
              "        background-color: #3B4455;\n",
              "        fill: #D2E3FC;\n",
              "      }\n",
              "\n",
              "      [theme=dark] .colab-df-generate:hover {\n",
              "        background-color: #434B5C;\n",
              "        box-shadow: 0px 1px 3px 1px rgba(0, 0, 0, 0.15);\n",
              "        filter: drop-shadow(0px 1px 2px rgba(0, 0, 0, 0.3));\n",
              "        fill: #FFFFFF;\n",
              "      }\n",
              "    </style>\n",
              "    <button class=\"colab-df-generate\" onclick=\"generateWithVariable('folds_acc')\"\n",
              "            title=\"Generate code using this dataframe.\"\n",
              "            style=\"display:none;\">\n",
              "\n",
              "  <svg xmlns=\"http://www.w3.org/2000/svg\" height=\"24px\"viewBox=\"0 0 24 24\"\n",
              "       width=\"24px\">\n",
              "    <path d=\"M7,19H8.4L18.45,9,17,7.55,7,17.6ZM5,21V16.75L18.45,3.32a2,2,0,0,1,2.83,0l1.4,1.43a1.91,1.91,0,0,1,.58,1.4,1.91,1.91,0,0,1-.58,1.4L9.25,21ZM18.45,9,17,7.55Zm-12,3A5.31,5.31,0,0,0,4.9,8.1,5.31,5.31,0,0,0,1,6.5,5.31,5.31,0,0,0,4.9,4.9,5.31,5.31,0,0,0,6.5,1,5.31,5.31,0,0,0,8.1,4.9,5.31,5.31,0,0,0,12,6.5,5.46,5.46,0,0,0,6.5,12Z\"/>\n",
              "  </svg>\n",
              "    </button>\n",
              "    <script>\n",
              "      (() => {\n",
              "      const buttonEl =\n",
              "        document.querySelector('#id_2748b718-05a3-47d8-8130-91ecc66bd0d7 button.colab-df-generate');\n",
              "      buttonEl.style.display =\n",
              "        google.colab.kernel.accessAllowed ? 'block' : 'none';\n",
              "\n",
              "      buttonEl.onclick = () => {\n",
              "        google.colab.notebook.generateWithVariable('folds_acc');\n",
              "      }\n",
              "      })();\n",
              "    </script>\n",
              "  </div>\n",
              "\n",
              "    </div>\n",
              "  </div>\n"
            ],
            "application/vnd.google.colaboratory.intrinsic+json": {
              "type": "dataframe",
              "variable_name": "folds_acc",
              "summary": "{\n  \"name\": \"folds_acc\",\n  \"rows\": 5,\n  \"fields\": [\n    {\n      \"column\": \"fold\",\n      \"properties\": {\n        \"dtype\": \"number\",\n        \"std\": 1,\n        \"min\": 1,\n        \"max\": 5,\n        \"num_unique_values\": 5,\n        \"samples\": [\n          2,\n          5,\n          3\n        ],\n        \"semantic_type\": \"\",\n        \"description\": \"\"\n      }\n    },\n    {\n      \"column\": \"val_accuracy\",\n      \"properties\": {\n        \"dtype\": \"number\",\n        \"std\": 0.006532610504231819,\n        \"min\": 0.9475,\n        \"max\": 0.962,\n        \"num_unique_values\": 4,\n        \"samples\": [\n          0.9575,\n          0.962,\n          0.9475\n        ],\n        \"semantic_type\": \"\",\n        \"description\": \"\"\n      }\n    }\n  ]\n}"
            }
          },
          "metadata": {},
          "execution_count": 42
        }
      ]
    },
    {
      "cell_type": "markdown",
      "source": [
        "Plot validation accuracy across folds:"
      ],
      "metadata": {
        "id": "ivd349F4nd9u"
      },
      "id": "ivd349F4nd9u"
    },
    {
      "cell_type": "code",
      "source": [
        "plt.figure(figsize=(10, 6))\n",
        "\n",
        "sns.lineplot(x='fold', y='val_accuracy', data=folds_acc, marker='o')\n",
        "\n",
        "\n",
        "plt.title('Validation Accuracy Across Folds',fontsize=20)\n",
        "\n",
        "plt.xlabel('Fold', fontsize = 16)\n",
        "plt.xticks(folds_acc['fold'],fontsize=12)\n",
        "plt.ylabel('Percentage', fontsize=16)\n",
        "plt.yticks([0,.10,.20,.30,.40,.50,.60,.70,.80,.90,1],fontsize=12)\n",
        "plt.grid(axis='y')\n",
        "\n",
        "plt.savefig(FOLDER_PATH+'Validation_Accuracy_Across_Folds.png', format='png', transparent = True, bbox_inches='tight',pad_inches=0.1)"
      ],
      "metadata": {
        "id": "d2BrVYaong5R",
        "colab": {
          "base_uri": "https://localhost:8080/",
          "height": 582
        },
        "outputId": "67122bee-2d79-4e65-f226-af00cd552657"
      },
      "id": "d2BrVYaong5R",
      "execution_count": null,
      "outputs": [
        {
          "output_type": "display_data",
          "data": {
            "text/plain": [
              "<Figure size 1000x600 with 1 Axes>"
            ],
            "image/png": "[encoded data removed]"
          },
          "metadata": {}
        }
      ]
    },
    {
      "cell_type": "markdown",
      "source": [
        "Plot f1-macro scores across folds:"
      ],
      "metadata": {
        "id": "KExsZeYvgY35"
      },
      "id": "KExsZeYvgY35"
    },
    {
      "cell_type": "code",
      "source": [
        "folds_f1 = df.groupby('fold')['f1_macro'].mean()\n",
        "folds_f1 = folds_f1.reset_index()"
      ],
      "metadata": {
        "id": "BKUeV0ocgu2E"
      },
      "id": "BKUeV0ocgu2E",
      "execution_count": null,
      "outputs": []
    },
    {
      "cell_type": "code",
      "source": [
        "folds_f1"
      ],
      "metadata": {
        "id": "nWc0Wg1cgxF8",
        "colab": {
          "base_uri": "https://localhost:8080/",
          "height": 206
        },
        "outputId": "f07a6060-770f-494f-d73c-c73f23d18ca4"
      },
      "id": "nWc0Wg1cgxF8",
      "execution_count": null,
      "outputs": [
        {
          "output_type": "execute_result",
          "data": {
            "text/plain": [
              "   fold  f1_macro\n",
              "0     1      0.95\n",
              "1     2      0.96\n",
              "2     3      0.95\n",
              "3     4      0.95\n",
              "4     5      0.96"
            ],
            "text/html": [
              "\n",
              "  <div id=\"df-f27b7ae7-72fd-41ba-a049-5a6d1f97da11\" class=\"colab-df-container\">\n",
              "    <div>\n",
              "<style scoped>\n",
              "    .dataframe tbody tr th:only-of-type {\n",
              "        vertical-align: middle;\n",
              "    }\n",
              "\n",
              "    .dataframe tbody tr th {\n",
              "        vertical-align: top;\n",
              "    }\n",
              "\n",
              "    .dataframe thead th {\n",
              "        text-align: right;\n",
              "    }\n",
              "</style>\n",
              "<table border=\"1\" class=\"dataframe\">\n",
              "  <thead>\n",
              "    <tr style=\"text-align: right;\">\n",
              "      <th></th>\n",
              "      <th>fold</th>\n",
              "      <th>f1_macro</th>\n",
              "    </tr>\n",
              "  </thead>\n",
              "  <tbody>\n",
              "    <tr>\n",
              "      <th>0</th>\n",
              "      <td>1</td>\n",
              "      <td>0.95</td>\n",
              "    </tr>\n",
              "    <tr>\n",
              "      <th>1</th>\n",
              "      <td>2</td>\n",
              "      <td>0.96</td>\n",
              "    </tr>\n",
              "    <tr>\n",
              "      <th>2</th>\n",
              "      <td>3</td>\n",
              "      <td>0.95</td>\n",
              "    </tr>\n",
              "    <tr>\n",
              "      <th>3</th>\n",
              "      <td>4</td>\n",
              "      <td>0.95</td>\n",
              "    </tr>\n",
              "    <tr>\n",
              "      <th>4</th>\n",
              "      <td>5</td>\n",
              "      <td>0.96</td>\n",
              "    </tr>\n",
              "  </tbody>\n",
              "</table>\n",
              "</div>\n",
              "    <div class=\"colab-df-buttons\">\n",
              "\n",
              "  <div class=\"colab-df-container\">\n",
              "    <button class=\"colab-df-convert\" onclick=\"convertToInteractive('df-f27b7ae7-72fd-41ba-a049-5a6d1f97da11')\"\n",
              "            title=\"Convert this dataframe to an interactive table.\"\n",
              "            style=\"display:none;\">\n",
              "\n",
              "  <svg xmlns=\"http://www.w3.org/2000/svg\" height=\"24px\" viewBox=\"0 -960 960 960\">\n",
              "    <path d=\"M120-120v-720h720v720H120Zm60-500h600v-160H180v160Zm220 220h160v-160H400v160Zm0 220h160v-160H400v160ZM180-400h160v-160H180v160Zm440 0h160v-160H620v160ZM180-180h160v-160H180v160Zm440 0h160v-160H620v160Z\"/>\n",
              "  </svg>\n",
              "    </button>\n",
              "\n",
              "  <style>\n",
              "    .colab-df-container {\n",
              "      display:flex;\n",
              "      gap: 12px;\n",
              "    }\n",
              "\n",
              "    .colab-df-convert {\n",
              "      background-color: #E8F0FE;\n",
              "      border: none;\n",
              "      border-radius: 50%;\n",
              "      cursor: pointer;\n",
              "      display: none;\n",
              "      fill: #1967D2;\n",
              "      height: 32px;\n",
              "      padding: 0 0 0 0;\n",
              "      width: 32px;\n",
              "    }\n",
              "\n",
              "    .colab-df-convert:hover {\n",
              "      background-color: #E2EBFA;\n",
              "      box-shadow: 0px 1px 2px rgba(60, 64, 67, 0.3), 0px 1px 3px 1px rgba(60, 64, 67, 0.15);\n",
              "      fill: #174EA6;\n",
              "    }\n",
              "\n",
              "    .colab-df-buttons div {\n",
              "      margin-bottom: 4px;\n",
              "    }\n",
              "\n",
              "    [theme=dark] .colab-df-convert {\n",
              "      background-color: #3B4455;\n",
              "      fill: #D2E3FC;\n",
              "    }\n",
              "\n",
              "    [theme=dark] .colab-df-convert:hover {\n",
              "      background-color: #434B5C;\n",
              "      box-shadow: 0px 1px 3px 1px rgba(0, 0, 0, 0.15);\n",
              "      filter: drop-shadow(0px 1px 2px rgba(0, 0, 0, 0.3));\n",
              "      fill: #FFFFFF;\n",
              "    }\n",
              "  </style>\n",
              "\n",
              "    <script>\n",
              "      const buttonEl =\n",
              "        document.querySelector('#df-f27b7ae7-72fd-41ba-a049-5a6d1f97da11 button.colab-df-convert');\n",
              "      buttonEl.style.display =\n",
              "        google.colab.kernel.accessAllowed ? 'block' : 'none';\n",
              "\n",
              "      async function convertToInteractive(key) {\n",
              "        const element = document.querySelector('#df-f27b7ae7-72fd-41ba-a049-5a6d1f97da11');\n",
              "        const dataTable =\n",
              "          await google.colab.kernel.invokeFunction('convertToInteractive',\n",
              "                                                    [key], {});\n",
              "        if (!dataTable) return;\n",
              "\n",
              "        const docLinkHtml = 'Like what you see? Visit the ' +\n",
              "          '<a target=\"_blank\" href=https://colab.research.google.com/notebooks/data_table.ipynb>data table notebook</a>'\n",
              "          + ' to learn more about interactive tables.';\n",
              "        element.innerHTML = '';\n",
              "        dataTable['output_type'] = 'display_data';\n",
              "        await google.colab.output.renderOutput(dataTable, element);\n",
              "        const docLink = document.createElement('div');\n",
              "        docLink.innerHTML = docLinkHtml;\n",
              "        element.appendChild(docLink);\n",
              "      }\n",
              "    </script>\n",
              "  </div>\n",
              "\n",
              "\n",
              "<div id=\"df-502dc253-248e-4cb3-b0e2-9030c2523c79\">\n",
              "  <button class=\"colab-df-quickchart\" onclick=\"quickchart('df-502dc253-248e-4cb3-b0e2-9030c2523c79')\"\n",
              "            title=\"Suggest charts\"\n",
              "            style=\"display:none;\">\n",
              "\n",
              "<svg xmlns=\"http://www.w3.org/2000/svg\" height=\"24px\"viewBox=\"0 0 24 24\"\n",
              "     width=\"24px\">\n",
              "    <g>\n",
              "        <path d=\"M19 3H5c-1.1 0-2 .9-2 2v14c0 1.1.9 2 2 2h14c1.1 0 2-.9 2-2V5c0-1.1-.9-2-2-2zM9 17H7v-7h2v7zm4 0h-2V7h2v10zm4 0h-2v-4h2v4z\"/>\n",
              "    </g>\n",
              "</svg>\n",
              "  </button>\n",
              "\n",
              "<style>\n",
              "  .colab-df-quickchart {\n",
              "      --bg-color: #E8F0FE;\n",
              "      --fill-color: #1967D2;\n",
              "      --hover-bg-color: #E2EBFA;\n",
              "      --hover-fill-color: #174EA6;\n",
              "      --disabled-fill-color: #AAA;\n",
              "      --disabled-bg-color: #DDD;\n",
              "  }\n",
              "\n",
              "  [theme=dark] .colab-df-quickchart {\n",
              "      --bg-color: #3B4455;\n",
              "      --fill-color: #D2E3FC;\n",
              "      --hover-bg-color: #434B5C;\n",
              "      --hover-fill-color: #FFFFFF;\n",
              "      --disabled-bg-color: #3B4455;\n",
              "      --disabled-fill-color: #666;\n",
              "  }\n",
              "\n",
              "  .colab-df-quickchart {\n",
              "    background-color: var(--bg-color);\n",
              "    border: none;\n",
              "    border-radius: 50%;\n",
              "    cursor: pointer;\n",
              "    display: none;\n",
              "    fill: var(--fill-color);\n",
              "    height: 32px;\n",
              "    padding: 0;\n",
              "    width: 32px;\n",
              "  }\n",
              "\n",
              "  .colab-df-quickchart:hover {\n",
              "    background-color: var(--hover-bg-color);\n",
              "    box-shadow: 0 1px 2px rgba(60, 64, 67, 0.3), 0 1px 3px 1px rgba(60, 64, 67, 0.15);\n",
              "    fill: var(--button-hover-fill-color);\n",
              "  }\n",
              "\n",
              "  .colab-df-quickchart-complete:disabled,\n",
              "  .colab-df-quickchart-complete:disabled:hover {\n",
              "    background-color: var(--disabled-bg-color);\n",
              "    fill: var(--disabled-fill-color);\n",
              "    box-shadow: none;\n",
              "  }\n",
              "\n",
              "  .colab-df-spinner {\n",
              "    border: 2px solid var(--fill-color);\n",
              "    border-color: transparent;\n",
              "    border-bottom-color: var(--fill-color);\n",
              "    animation:\n",
              "      spin 1s steps(1) infinite;\n",
              "  }\n",
              "\n",
              "  @keyframes spin {\n",
              "    0% {\n",
              "      border-color: transparent;\n",
              "      border-bottom-color: var(--fill-color);\n",
              "      border-left-color: var(--fill-color);\n",
              "    }\n",
              "    20% {\n",
              "      border-color: transparent;\n",
              "      border-left-color: var(--fill-color);\n",
              "      border-top-color: var(--fill-color);\n",
              "    }\n",
              "    30% {\n",
              "      border-color: transparent;\n",
              "      border-left-color: var(--fill-color);\n",
              "      border-top-color: var(--fill-color);\n",
              "      border-right-color: var(--fill-color);\n",
              "    }\n",
              "    40% {\n",
              "      border-color: transparent;\n",
              "      border-right-color: var(--fill-color);\n",
              "      border-top-color: var(--fill-color);\n",
              "    }\n",
              "    60% {\n",
              "      border-color: transparent;\n",
              "      border-right-color: var(--fill-color);\n",
              "    }\n",
              "    80% {\n",
              "      border-color: transparent;\n",
              "      border-right-color: var(--fill-color);\n",
              "      border-bottom-color: var(--fill-color);\n",
              "    }\n",
              "    90% {\n",
              "      border-color: transparent;\n",
              "      border-bottom-color: var(--fill-color);\n",
              "    }\n",
              "  }\n",
              "</style>\n",
              "\n",
              "  <script>\n",
              "    async function quickchart(key) {\n",
              "      const quickchartButtonEl =\n",
              "        document.querySelector('#' + key + ' button');\n",
              "      quickchartButtonEl.disabled = true;  // To prevent multiple clicks.\n",
              "      quickchartButtonEl.classList.add('colab-df-spinner');\n",
              "      try {\n",
              "        const charts = await google.colab.kernel.invokeFunction(\n",
              "            'suggestCharts', [key], {});\n",
              "      } catch (error) {\n",
              "        console.error('Error during call to suggestCharts:', error);\n",
              "      }\n",
              "      quickchartButtonEl.classList.remove('colab-df-spinner');\n",
              "      quickchartButtonEl.classList.add('colab-df-quickchart-complete');\n",
              "    }\n",
              "    (() => {\n",
              "      let quickchartButtonEl =\n",
              "        document.querySelector('#df-502dc253-248e-4cb3-b0e2-9030c2523c79 button');\n",
              "      quickchartButtonEl.style.display =\n",
              "        google.colab.kernel.accessAllowed ? 'block' : 'none';\n",
              "    })();\n",
              "  </script>\n",
              "</div>\n",
              "\n",
              "  <div id=\"id_3b1a17ed-189e-4445-ab56-52bd4f9b5dda\">\n",
              "    <style>\n",
              "      .colab-df-generate {\n",
              "        background-color: #E8F0FE;\n",
              "        border: none;\n",
              "        border-radius: 50%;\n",
              "        cursor: pointer;\n",
              "        display: none;\n",
              "        fill: #1967D2;\n",
              "        height: 32px;\n",
              "        padding: 0 0 0 0;\n",
              "        width: 32px;\n",
              "      }\n",
              "\n",
              "      .colab-df-generate:hover {\n",
              "        background-color: #E2EBFA;\n",
              "        box-shadow: 0px 1px 2px rgba(60, 64, 67, 0.3), 0px 1px 3px 1px rgba(60, 64, 67, 0.15);\n",
              "        fill: #174EA6;\n",
              "      }\n",
              "\n",
              "      [theme=dark] .colab-df-generate {\n",
              "        background-color: #3B4455;\n",
              "        fill: #D2E3FC;\n",
              "      }\n",
              "\n",
              "      [theme=dark] .colab-df-generate:hover {\n",
              "        background-color: #434B5C;\n",
              "        box-shadow: 0px 1px 3px 1px rgba(0, 0, 0, 0.15);\n",
              "        filter: drop-shadow(0px 1px 2px rgba(0, 0, 0, 0.3));\n",
              "        fill: #FFFFFF;\n",
              "      }\n",
              "    </style>\n",
              "    <button class=\"colab-df-generate\" onclick=\"generateWithVariable('folds_f1')\"\n",
              "            title=\"Generate code using this dataframe.\"\n",
              "            style=\"display:none;\">\n",
              "\n",
              "  <svg xmlns=\"http://www.w3.org/2000/svg\" height=\"24px\"viewBox=\"0 0 24 24\"\n",
              "       width=\"24px\">\n",
              "    <path d=\"M7,19H8.4L18.45,9,17,7.55,7,17.6ZM5,21V16.75L18.45,3.32a2,2,0,0,1,2.83,0l1.4,1.43a1.91,1.91,0,0,1,.58,1.4,1.91,1.91,0,0,1-.58,1.4L9.25,21ZM18.45,9,17,7.55Zm-12,3A5.31,5.31,0,0,0,4.9,8.1,5.31,5.31,0,0,0,1,6.5,5.31,5.31,0,0,0,4.9,4.9,5.31,5.31,0,0,0,6.5,1,5.31,5.31,0,0,0,8.1,4.9,5.31,5.31,0,0,0,12,6.5,5.46,5.46,0,0,0,6.5,12Z\"/>\n",
              "  </svg>\n",
              "    </button>\n",
              "    <script>\n",
              "      (() => {\n",
              "      const buttonEl =\n",
              "        document.querySelector('#id_3b1a17ed-189e-4445-ab56-52bd4f9b5dda button.colab-df-generate');\n",
              "      buttonEl.style.display =\n",
              "        google.colab.kernel.accessAllowed ? 'block' : 'none';\n",
              "\n",
              "      buttonEl.onclick = () => {\n",
              "        google.colab.notebook.generateWithVariable('folds_f1');\n",
              "      }\n",
              "      })();\n",
              "    </script>\n",
              "  </div>\n",
              "\n",
              "    </div>\n",
              "  </div>\n"
            ],
            "application/vnd.google.colaboratory.intrinsic+json": {
              "type": "dataframe",
              "variable_name": "folds_f1",
              "summary": "{\n  \"name\": \"folds_f1\",\n  \"rows\": 5,\n  \"fields\": [\n    {\n      \"column\": \"fold\",\n      \"properties\": {\n        \"dtype\": \"number\",\n        \"std\": 1,\n        \"min\": 1,\n        \"max\": 5,\n        \"num_unique_values\": 5,\n        \"samples\": [\n          2,\n          5,\n          3\n        ],\n        \"semantic_type\": \"\",\n        \"description\": \"\"\n      }\n    },\n    {\n      \"column\": \"f1_macro\",\n      \"properties\": {\n        \"dtype\": \"number\",\n        \"std\": 0.007370843111775519,\n        \"min\": 0.9453110932703057,\n        \"max\": 0.961310577275522,\n        \"num_unique_values\": 5,\n        \"samples\": [\n          0.958543234881132,\n          0.961310577275522,\n          0.9453110932703057\n        ],\n        \"semantic_type\": \"\",\n        \"description\": \"\"\n      }\n    }\n  ]\n}"
            }
          },
          "metadata": {},
          "execution_count": 45
        }
      ]
    },
    {
      "cell_type": "code",
      "source": [
        "plt.figure(figsize=(10, 6))\n",
        "\n",
        "sns.lineplot(x='fold', y='f1_macro', data=folds_f1, marker='o')\n",
        "\n",
        "\n",
        "plt.title('Macro F1-Score Across Folds',fontsize=20)\n",
        "\n",
        "plt.xlabel('Fold', fontsize = 16)\n",
        "plt.xticks(folds_f1['fold'],fontsize=12)\n",
        "plt.ylabel('')\n",
        "plt.yticks([0,.10,.20,.30,.40,.50,.60,.70,.80,.90,1],fontsize=12)\n",
        "plt.grid(axis='y')\n",
        "\n",
        "plt.savefig(FOLDER_PATH+'Validation_Accuracy_Across_Folds.png', format='png', transparent = True, bbox_inches='tight',pad_inches=0.1)"
      ],
      "metadata": {
        "id": "7PXSApj8gYNp",
        "colab": {
          "base_uri": "https://localhost:8080/",
          "height": 582
        },
        "outputId": "0677f719-5b21-4a5f-8613-c9340e3a8ccd"
      },
      "id": "7PXSApj8gYNp",
      "execution_count": null,
      "outputs": [
        {
          "output_type": "display_data",
          "data": {
            "text/plain": [
              "<Figure size 1000x600 with 1 Axes>"
            ],
            "image/png": "[encoded data removed]"
          },
          "metadata": {}
        }
      ]
    },
    {
      "cell_type": "markdown",
      "source": [
        "### Compare Epochs of The Best Fold"
      ],
      "metadata": {
        "id": "-ki-PkrPlxYo"
      },
      "id": "-ki-PkrPlxYo"
    },
    {
      "cell_type": "code",
      "source": [
        "folds_f1 = df.groupby('fold')['f1_macro'].max()\n",
        "best = folds_f1.idxmax()\n",
        "best"
      ],
      "metadata": {
        "id": "GbAeph4QuDdG",
        "colab": {
          "base_uri": "https://localhost:8080/"
        },
        "outputId": "d044706a-c998-4129-a827-4907905dd341"
      },
      "id": "GbAeph4QuDdG",
      "execution_count": null,
      "outputs": [
        {
          "data": {
            "text/plain": [
              "5"
            ]
          },
          "execution_count": 47,
          "metadata": {},
          "output_type": "execute_result"
        }
      ]
    },
    {
      "cell_type": "code",
      "source": [
        "folds_f1"
      ],
      "metadata": {
        "id": "yGAZdLgnu0mR",
        "colab": {
          "base_uri": "https://localhost:8080/",
          "height": 272
        },
        "outputId": "cdd8f1a7-4da8-4b51-b09f-875fc297758d"
      },
      "id": "yGAZdLgnu0mR",
      "execution_count": null,
      "outputs": [
        {
          "data": {
            "text/html": [
              "<table border=\"1\" class=\"dataframe\">\n",
              "  <thead>\n",
              "    <tr style=\"text-align: right;\">\n",
              "      <th></th>\n",
              "      <th>f1_macro</th>\n",
              "    </tr>\n",
              "    <tr>\n",
              "      <th>fold</th>\n",
              "      <th></th>\n",
              "    </tr>\n",
              "  </thead>\n",
              "  <tbody>\n",
              "    <tr>\n",
              "      <th>1</th>\n",
              "      <td>0.95</td>\n",
              "    </tr>\n",
              "    <tr>\n",
              "      <th>2</th>\n",
              "      <td>0.96</td>\n",
              "    </tr>\n",
              "    <tr>\n",
              "      <th>3</th>\n",
              "      <td>0.96</td>\n",
              "    </tr>\n",
              "    <tr>\n",
              "      <th>4</th>\n",
              "      <td>0.96</td>\n",
              "    </tr>\n",
              "    <tr>\n",
              "      <th>5</th>\n",
              "      <td>0.97</td>\n",
              "    </tr>\n",
              "  </tbody>\n",
              "</table><br><label><b>dtype:</b> float64</label>"
            ],
            "text/plain": [
              "fold\n",
              "1    0.95\n",
              "2    0.96\n",
              "3    0.96\n",
              "4    0.96\n",
              "5    0.97\n",
              "Name: f1_macro, dtype: float64"
            ]
          },
          "execution_count": 48,
          "metadata": {},
          "output_type": "execute_result"
        }
      ]
    },
    {
      "cell_type": "code",
      "source": [
        "epochs = df[df['fold'] == best].groupby('epoch')[['total_train_loss','avg_train_loss','total_val_loss', 'avg_val_loss']].mean()\n",
        "epochs = epochs.reset_index()\n",
        "epochs"
      ],
      "metadata": {
        "id": "b4Wwe3aMqLIc",
        "colab": {
          "base_uri": "https://localhost:8080/",
          "height": 206
        },
        "outputId": "abebb8ed-f0e8-4dbd-f1f2-427397e541e2"
      },
      "id": "b4Wwe3aMqLIc",
      "execution_count": null,
      "outputs": [
        {
          "output_type": "execute_result",
          "data": {
            "text/plain": [
              "   epoch  total_train_loss  avg_train_loss  total_val_loss  avg_val_loss\n",
              "0      1             25.05            0.37            2.58          0.15\n",
              "1      2              8.47            0.12            2.41          0.14\n",
              "2      3              4.89            0.07            2.56          0.15\n",
              "3      4              3.09            0.05            2.73          0.16\n",
              "4      5              1.03            0.02            2.76          0.16"
            ],
            "text/html": [
              "\n",
              "  <div id=\"df-78b0b6f1-f7b6-4082-a057-c87e84623a3d\" class=\"colab-df-container\">\n",
              "    <div>\n",
              "<style scoped>\n",
              "    .dataframe tbody tr th:only-of-type {\n",
              "        vertical-align: middle;\n",
              "    }\n",
              "\n",
              "    .dataframe tbody tr th {\n",
              "        vertical-align: top;\n",
              "    }\n",
              "\n",
              "    .dataframe thead th {\n",
              "        text-align: right;\n",
              "    }\n",
              "</style>\n",
              "<table border=\"1\" class=\"dataframe\">\n",
              "  <thead>\n",
              "    <tr style=\"text-align: right;\">\n",
              "      <th></th>\n",
              "      <th>epoch</th>\n",
              "      <th>total_train_loss</th>\n",
              "      <th>avg_train_loss</th>\n",
              "      <th>total_val_loss</th>\n",
              "      <th>avg_val_loss</th>\n",
              "    </tr>\n",
              "  </thead>\n",
              "  <tbody>\n",
              "    <tr>\n",
              "      <th>0</th>\n",
              "      <td>1</td>\n",
              "      <td>25.05</td>\n",
              "      <td>0.37</td>\n",
              "      <td>2.58</td>\n",
              "      <td>0.15</td>\n",
              "    </tr>\n",
              "    <tr>\n",
              "      <th>1</th>\n",
              "      <td>2</td>\n",
              "      <td>8.47</td>\n",
              "      <td>0.12</td>\n",
              "      <td>2.41</td>\n",
              "      <td>0.14</td>\n",
              "    </tr>\n",
              "    <tr>\n",
              "      <th>2</th>\n",
              "      <td>3</td>\n",
              "      <td>4.89</td>\n",
              "      <td>0.07</td>\n",
              "      <td>2.56</td>\n",
              "      <td>0.15</td>\n",
              "    </tr>\n",
              "    <tr>\n",
              "      <th>3</th>\n",
              "      <td>4</td>\n",
              "      <td>3.09</td>\n",
              "      <td>0.05</td>\n",
              "      <td>2.73</td>\n",
              "      <td>0.16</td>\n",
              "    </tr>\n",
              "    <tr>\n",
              "      <th>4</th>\n",
              "      <td>5</td>\n",
              "      <td>1.03</td>\n",
              "      <td>0.02</td>\n",
              "      <td>2.76</td>\n",
              "      <td>0.16</td>\n",
              "    </tr>\n",
              "  </tbody>\n",
              "</table>\n",
              "</div>\n",
              "    <div class=\"colab-df-buttons\">\n",
              "\n",
              "  <div class=\"colab-df-container\">\n",
              "    <button class=\"colab-df-convert\" onclick=\"convertToInteractive('df-78b0b6f1-f7b6-4082-a057-c87e84623a3d')\"\n",
              "            title=\"Convert this dataframe to an interactive table.\"\n",
              "            style=\"display:none;\">\n",
              "\n",
              "  <svg xmlns=\"http://www.w3.org/2000/svg\" height=\"24px\" viewBox=\"0 -960 960 960\">\n",
              "    <path d=\"M120-120v-720h720v720H120Zm60-500h600v-160H180v160Zm220 220h160v-160H400v160Zm0 220h160v-160H400v160ZM180-400h160v-160H180v160Zm440 0h160v-160H620v160ZM180-180h160v-160H180v160Zm440 0h160v-160H620v160Z\"/>\n",
              "  </svg>\n",
              "    </button>\n",
              "\n",
              "  <style>\n",
              "    .colab-df-container {\n",
              "      display:flex;\n",
              "      gap: 12px;\n",
              "    }\n",
              "\n",
              "    .colab-df-convert {\n",
              "      background-color: #E8F0FE;\n",
              "      border: none;\n",
              "      border-radius: 50%;\n",
              "      cursor: pointer;\n",
              "      display: none;\n",
              "      fill: #1967D2;\n",
              "      height: 32px;\n",
              "      padding: 0 0 0 0;\n",
              "      width: 32px;\n",
              "    }\n",
              "\n",
              "    .colab-df-convert:hover {\n",
              "      background-color: #E2EBFA;\n",
              "      box-shadow: 0px 1px 2px rgba(60, 64, 67, 0.3), 0px 1px 3px 1px rgba(60, 64, 67, 0.15);\n",
              "      fill: #174EA6;\n",
              "    }\n",
              "\n",
              "    .colab-df-buttons div {\n",
              "      margin-bottom: 4px;\n",
              "    }\n",
              "\n",
              "    [theme=dark] .colab-df-convert {\n",
              "      background-color: #3B4455;\n",
              "      fill: #D2E3FC;\n",
              "    }\n",
              "\n",
              "    [theme=dark] .colab-df-convert:hover {\n",
              "      background-color: #434B5C;\n",
              "      box-shadow: 0px 1px 3px 1px rgba(0, 0, 0, 0.15);\n",
              "      filter: drop-shadow(0px 1px 2px rgba(0, 0, 0, 0.3));\n",
              "      fill: #FFFFFF;\n",
              "    }\n",
              "  </style>\n",
              "\n",
              "    <script>\n",
              "      const buttonEl =\n",
              "        document.querySelector('#df-78b0b6f1-f7b6-4082-a057-c87e84623a3d button.colab-df-convert');\n",
              "      buttonEl.style.display =\n",
              "        google.colab.kernel.accessAllowed ? 'block' : 'none';\n",
              "\n",
              "      async function convertToInteractive(key) {\n",
              "        const element = document.querySelector('#df-78b0b6f1-f7b6-4082-a057-c87e84623a3d');\n",
              "        const dataTable =\n",
              "          await google.colab.kernel.invokeFunction('convertToInteractive',\n",
              "                                                    [key], {});\n",
              "        if (!dataTable) return;\n",
              "\n",
              "        const docLinkHtml = 'Like what you see? Visit the ' +\n",
              "          '<a target=\"_blank\" href=https://colab.research.google.com/notebooks/data_table.ipynb>data table notebook</a>'\n",
              "          + ' to learn more about interactive tables.';\n",
              "        element.innerHTML = '';\n",
              "        dataTable['output_type'] = 'display_data';\n",
              "        await google.colab.output.renderOutput(dataTable, element);\n",
              "        const docLink = document.createElement('div');\n",
              "        docLink.innerHTML = docLinkHtml;\n",
              "        element.appendChild(docLink);\n",
              "      }\n",
              "    </script>\n",
              "  </div>\n",
              "\n",
              "\n",
              "<div id=\"df-3c1791ad-3a81-41bb-a019-3feb4806f6e4\">\n",
              "  <button class=\"colab-df-quickchart\" onclick=\"quickchart('df-3c1791ad-3a81-41bb-a019-3feb4806f6e4')\"\n",
              "            title=\"Suggest charts\"\n",
              "            style=\"display:none;\">\n",
              "\n",
              "<svg xmlns=\"http://www.w3.org/2000/svg\" height=\"24px\"viewBox=\"0 0 24 24\"\n",
              "     width=\"24px\">\n",
              "    <g>\n",
              "        <path d=\"M19 3H5c-1.1 0-2 .9-2 2v14c0 1.1.9 2 2 2h14c1.1 0 2-.9 2-2V5c0-1.1-.9-2-2-2zM9 17H7v-7h2v7zm4 0h-2V7h2v10zm4 0h-2v-4h2v4z\"/>\n",
              "    </g>\n",
              "</svg>\n",
              "  </button>\n",
              "\n",
              "<style>\n",
              "  .colab-df-quickchart {\n",
              "      --bg-color: #E8F0FE;\n",
              "      --fill-color: #1967D2;\n",
              "      --hover-bg-color: #E2EBFA;\n",
              "      --hover-fill-color: #174EA6;\n",
              "      --disabled-fill-color: #AAA;\n",
              "      --disabled-bg-color: #DDD;\n",
              "  }\n",
              "\n",
              "  [theme=dark] .colab-df-quickchart {\n",
              "      --bg-color: #3B4455;\n",
              "      --fill-color: #D2E3FC;\n",
              "      --hover-bg-color: #434B5C;\n",
              "      --hover-fill-color: #FFFFFF;\n",
              "      --disabled-bg-color: #3B4455;\n",
              "      --disabled-fill-color: #666;\n",
              "  }\n",
              "\n",
              "  .colab-df-quickchart {\n",
              "    background-color: var(--bg-color);\n",
              "    border: none;\n",
              "    border-radius: 50%;\n",
              "    cursor: pointer;\n",
              "    display: none;\n",
              "    fill: var(--fill-color);\n",
              "    height: 32px;\n",
              "    padding: 0;\n",
              "    width: 32px;\n",
              "  }\n",
              "\n",
              "  .colab-df-quickchart:hover {\n",
              "    background-color: var(--hover-bg-color);\n",
              "    box-shadow: 0 1px 2px rgba(60, 64, 67, 0.3), 0 1px 3px 1px rgba(60, 64, 67, 0.15);\n",
              "    fill: var(--button-hover-fill-color);\n",
              "  }\n",
              "\n",
              "  .colab-df-quickchart-complete:disabled,\n",
              "  .colab-df-quickchart-complete:disabled:hover {\n",
              "    background-color: var(--disabled-bg-color);\n",
              "    fill: var(--disabled-fill-color);\n",
              "    box-shadow: none;\n",
              "  }\n",
              "\n",
              "  .colab-df-spinner {\n",
              "    border: 2px solid var(--fill-color);\n",
              "    border-color: transparent;\n",
              "    border-bottom-color: var(--fill-color);\n",
              "    animation:\n",
              "      spin 1s steps(1) infinite;\n",
              "  }\n",
              "\n",
              "  @keyframes spin {\n",
              "    0% {\n",
              "      border-color: transparent;\n",
              "      border-bottom-color: var(--fill-color);\n",
              "      border-left-color: var(--fill-color);\n",
              "    }\n",
              "    20% {\n",
              "      border-color: transparent;\n",
              "      border-left-color: var(--fill-color);\n",
              "      border-top-color: var(--fill-color);\n",
              "    }\n",
              "    30% {\n",
              "      border-color: transparent;\n",
              "      border-left-color: var(--fill-color);\n",
              "      border-top-color: var(--fill-color);\n",
              "      border-right-color: var(--fill-color);\n",
              "    }\n",
              "    40% {\n",
              "      border-color: transparent;\n",
              "      border-right-color: var(--fill-color);\n",
              "      border-top-color: var(--fill-color);\n",
              "    }\n",
              "    60% {\n",
              "      border-color: transparent;\n",
              "      border-right-color: var(--fill-color);\n",
              "    }\n",
              "    80% {\n",
              "      border-color: transparent;\n",
              "      border-right-color: var(--fill-color);\n",
              "      border-bottom-color: var(--fill-color);\n",
              "    }\n",
              "    90% {\n",
              "      border-color: transparent;\n",
              "      border-bottom-color: var(--fill-color);\n",
              "    }\n",
              "  }\n",
              "</style>\n",
              "\n",
              "  <script>\n",
              "    async function quickchart(key) {\n",
              "      const quickchartButtonEl =\n",
              "        document.querySelector('#' + key + ' button');\n",
              "      quickchartButtonEl.disabled = true;  // To prevent multiple clicks.\n",
              "      quickchartButtonEl.classList.add('colab-df-spinner');\n",
              "      try {\n",
              "        const charts = await google.colab.kernel.invokeFunction(\n",
              "            'suggestCharts', [key], {});\n",
              "      } catch (error) {\n",
              "        console.error('Error during call to suggestCharts:', error);\n",
              "      }\n",
              "      quickchartButtonEl.classList.remove('colab-df-spinner');\n",
              "      quickchartButtonEl.classList.add('colab-df-quickchart-complete');\n",
              "    }\n",
              "    (() => {\n",
              "      let quickchartButtonEl =\n",
              "        document.querySelector('#df-3c1791ad-3a81-41bb-a019-3feb4806f6e4 button');\n",
              "      quickchartButtonEl.style.display =\n",
              "        google.colab.kernel.accessAllowed ? 'block' : 'none';\n",
              "    })();\n",
              "  </script>\n",
              "</div>\n",
              "\n",
              "  <div id=\"id_6f082d0b-e62b-45e6-a5ab-1a569e4ca65d\">\n",
              "    <style>\n",
              "      .colab-df-generate {\n",
              "        background-color: #E8F0FE;\n",
              "        border: none;\n",
              "        border-radius: 50%;\n",
              "        cursor: pointer;\n",
              "        display: none;\n",
              "        fill: #1967D2;\n",
              "        height: 32px;\n",
              "        padding: 0 0 0 0;\n",
              "        width: 32px;\n",
              "      }\n",
              "\n",
              "      .colab-df-generate:hover {\n",
              "        background-color: #E2EBFA;\n",
              "        box-shadow: 0px 1px 2px rgba(60, 64, 67, 0.3), 0px 1px 3px 1px rgba(60, 64, 67, 0.15);\n",
              "        fill: #174EA6;\n",
              "      }\n",
              "\n",
              "      [theme=dark] .colab-df-generate {\n",
              "        background-color: #3B4455;\n",
              "        fill: #D2E3FC;\n",
              "      }\n",
              "\n",
              "      [theme=dark] .colab-df-generate:hover {\n",
              "        background-color: #434B5C;\n",
              "        box-shadow: 0px 1px 3px 1px rgba(0, 0, 0, 0.15);\n",
              "        filter: drop-shadow(0px 1px 2px rgba(0, 0, 0, 0.3));\n",
              "        fill: #FFFFFF;\n",
              "      }\n",
              "    </style>\n",
              "    <button class=\"colab-df-generate\" onclick=\"generateWithVariable('epochs')\"\n",
              "            title=\"Generate code using this dataframe.\"\n",
              "            style=\"display:none;\">\n",
              "\n",
              "  <svg xmlns=\"http://www.w3.org/2000/svg\" height=\"24px\"viewBox=\"0 0 24 24\"\n",
              "       width=\"24px\">\n",
              "    <path d=\"M7,19H8.4L18.45,9,17,7.55,7,17.6ZM5,21V16.75L18.45,3.32a2,2,0,0,1,2.83,0l1.4,1.43a1.91,1.91,0,0,1,.58,1.4,1.91,1.91,0,0,1-.58,1.4L9.25,21ZM18.45,9,17,7.55Zm-12,3A5.31,5.31,0,0,0,4.9,8.1,5.31,5.31,0,0,0,1,6.5,5.31,5.31,0,0,0,4.9,4.9,5.31,5.31,0,0,0,6.5,1,5.31,5.31,0,0,0,8.1,4.9,5.31,5.31,0,0,0,12,6.5,5.46,5.46,0,0,0,6.5,12Z\"/>\n",
              "  </svg>\n",
              "    </button>\n",
              "    <script>\n",
              "      (() => {\n",
              "      const buttonEl =\n",
              "        document.querySelector('#id_6f082d0b-e62b-45e6-a5ab-1a569e4ca65d button.colab-df-generate');\n",
              "      buttonEl.style.display =\n",
              "        google.colab.kernel.accessAllowed ? 'block' : 'none';\n",
              "\n",
              "      buttonEl.onclick = () => {\n",
              "        google.colab.notebook.generateWithVariable('epochs');\n",
              "      }\n",
              "      })();\n",
              "    </script>\n",
              "  </div>\n",
              "\n",
              "    </div>\n",
              "  </div>\n"
            ],
            "application/vnd.google.colaboratory.intrinsic+json": {
              "type": "dataframe",
              "variable_name": "epochs",
              "summary": "{\n  \"name\": \"epochs\",\n  \"rows\": 5,\n  \"fields\": [\n    {\n      \"column\": \"epoch\",\n      \"properties\": {\n        \"dtype\": \"number\",\n        \"std\": 1,\n        \"min\": 1,\n        \"max\": 5,\n        \"num_unique_values\": 5,\n        \"samples\": [\n          2,\n          5,\n          3\n        ],\n        \"semantic_type\": \"\",\n        \"description\": \"\"\n      }\n    },\n    {\n      \"column\": \"total_train_loss\",\n      \"properties\": {\n        \"dtype\": \"number\",\n        \"std\": 9.642283675530331,\n        \"min\": 1.030783292488195,\n        \"max\": 25.045756302773952,\n        \"num_unique_values\": 5,\n        \"samples\": [\n          8.47270832490176,\n          1.030783292488195,\n          4.887162372935563\n        ],\n        \"semantic_type\": \"\",\n        \"description\": \"\"\n      }\n    },\n    {\n      \"column\": \"avg_train_loss\",\n      \"properties\": {\n        \"dtype\": \"number\",\n        \"std\": 0.14179828934603425,\n        \"min\": 0.01515857783070875,\n        \"max\": 0.3683199456290287,\n        \"num_unique_values\": 5,\n        \"samples\": [\n          0.12459865183679059,\n          0.01515857783070875,\n          0.07187003489611123\n        ],\n        \"semantic_type\": \"\",\n        \"description\": \"\"\n      }\n    },\n    {\n      \"column\": \"total_val_loss\",\n      \"properties\": {\n        \"dtype\": \"number\",\n        \"std\": 0.1412294530184518,\n        \"min\": 2.4107499988749623,\n        \"max\": 2.763321573496796,\n        \"num_unique_values\": 5,\n        \"samples\": [\n          2.4107499988749623,\n          2.763321573496796,\n          2.5645561506971717\n        ],\n        \"semantic_type\": \"\",\n        \"description\": \"\"\n      }\n    },\n    {\n      \"column\": \"avg_val_loss\",\n      \"properties\": {\n        \"dtype\": \"number\",\n        \"std\": 0.008307614883438336,\n        \"min\": 0.1418088234632331,\n        \"max\": 0.16254832785275272,\n        \"num_unique_values\": 5,\n        \"samples\": [\n          0.1418088234632331,\n          0.16254832785275272,\n          0.15085624415865717\n        ],\n        \"semantic_type\": \"\",\n        \"description\": \"\"\n      }\n    }\n  ]\n}"
            }
          },
          "metadata": {},
          "execution_count": 49
        }
      ]
    },
    {
      "cell_type": "markdown",
      "source": [
        "Compare epoch losses of the best fold:"
      ],
      "metadata": {
        "id": "vG1W_KDci5pR"
      },
      "id": "vG1W_KDci5pR"
    },
    {
      "cell_type": "code",
      "source": [
        "plt.figure(figsize=(10, 6))\n",
        "sns.lineplot(x='epoch', y='total_train_loss', data=epochs, marker='o', label='Total Train Loss')\n",
        "sns.lineplot(x='epoch', y='total_val_loss', data=epochs, marker='o', label='Total Val Loss')\n",
        "\n",
        "plt.title('Total Losses Across Epochs', fontsize=20)\n",
        "\n",
        "plt.xlabel('Epoch',fontsize=16)\n",
        "plt.xticks(epochs['epoch'],fontsize=12)\n",
        "plt.ylabel('Loss',fontsize=16)\n",
        "plt.yticks(fontsize=12)\n",
        "\n",
        "plt.legend(loc='upper right',fontsize = 12)\n",
        "plt.grid(axis='y')\n",
        "\n",
        "plt.savefig(FOLDER_PATH+'Total_Losses_Across_Epochs.png', format='png', transparent = True, bbox_inches='tight',pad_inches=0.1)"
      ],
      "metadata": {
        "id": "Lyxii6AFr9Mk",
        "colab": {
          "base_uri": "https://localhost:8080/",
          "height": 582
        },
        "outputId": "0f9372aa-9506-4e1d-c229-971843e98906"
      },
      "id": "Lyxii6AFr9Mk",
      "execution_count": null,
      "outputs": [
        {
          "output_type": "display_data",
          "data": {
            "text/plain": [
              "<Figure size 1000x600 with 1 Axes>"
            ],
            "image/png": "[encoded data removed]"
          },
          "metadata": {}
        }
      ]
    },
    {
      "cell_type": "code",
      "source": [
        "plt.figure(figsize=(10, 6))\n",
        "sns.lineplot(x='epoch', y='avg_train_loss', data=epochs, marker='o', label='Average Train Loss')\n",
        "sns.lineplot(x='epoch', y='avg_val_loss', data=epochs, marker='o', label='Average Val Loss')\n",
        "\n",
        "\n",
        "plt.title('Average Losses Across Epochs', fontsize=20)\n",
        "\n",
        "plt.xlabel('Epoch',fontsize=16)\n",
        "plt.xticks(epochs['epoch'],fontsize=12)\n",
        "plt.ylabel('Loss',fontsize=16)\n",
        "plt.yticks(fontsize=12)\n",
        "\n",
        "plt.legend(loc='upper right',fontsize = 12)\n",
        "plt.grid(axis='y')\n",
        "\n",
        "plt.savefig(FOLDER_PATH+'Average_Losses_Across_Epochs.png', format='png', transparent = True, bbox_inches='tight',pad_inches=0.1)"
      ],
      "metadata": {
        "id": "wDWbo0oNriWw",
        "colab": {
          "base_uri": "https://localhost:8080/",
          "height": 582
        },
        "outputId": "77102d61-fa55-4869-d019-3b114dfc7a36"
      },
      "id": "wDWbo0oNriWw",
      "execution_count": null,
      "outputs": [
        {
          "output_type": "display_data",
          "data": {
            "text/plain": [
              "<Figure size 1000x600 with 1 Axes>"
            ],
            "image/png": "[encoded data removed]"
          },
          "metadata": {}
        }
      ]
    },
    {
      "cell_type": "markdown",
      "source": [
        "### Evaluate the Best Fold on Test Set"
      ],
      "metadata": {
        "id": "3whBNBlYmAyU"
      },
      "id": "3whBNBlYmAyU"
    },
    {
      "cell_type": "markdown",
      "source": [
        "Here, we evaluate the trained model of the best fold, using the same method used to evaluate the pre-trained model. \\\n",
        "We do this to see if there was significant improvement after being trained with the curated dataset."
      ],
      "metadata": {
        "id": "EeTf4ipDAQ_W"
      },
      "id": "EeTf4ipDAQ_W"
    },
    {
      "cell_type": "code",
      "source": [
        "best_fold_path = 'fold_' + str(best) + '.bin'\n",
        "best_fold_path"
      ],
      "metadata": {
        "id": "tK1hHfn5hbwK",
        "colab": {
          "base_uri": "https://localhost:8080/",
          "height": 35
        },
        "outputId": "cac7160d-c397-4632-bb35-f41215a806f8"
      },
      "id": "tK1hHfn5hbwK",
      "execution_count": null,
      "outputs": [
        {
          "data": {
            "application/vnd.google.colaboratory.intrinsic+json": {
              "type": "string"
            },
            "text/plain": [
              "'fold_5.bin'"
            ]
          },
          "execution_count": 52,
          "metadata": {},
          "output_type": "execute_result"
        }
      ]
    },
    {
      "cell_type": "code",
      "source": [
        "# Load best model:\n",
        "if os.path.exists(best_fold_path):\n",
        "    model.load_state_dict(torch.load(best_fold_path))\n",
        "\n",
        "else:\n",
        "  print(f\"Error: {best_fold_path} does not exist\")"
      ],
      "metadata": {
        "id": "c5u642My0b4D"
      },
      "id": "c5u642My0b4D",
      "execution_count": null,
      "outputs": []
    },
    {
      "cell_type": "markdown",
      "source": [
        "####Test Batches"
      ],
      "metadata": {
        "id": "4zOF8xqiEbIL"
      },
      "id": "4zOF8xqiEbIL"
    },
    {
      "cell_type": "code",
      "source": [
        "model.eval()\n",
        "torch.set_grad_enabled(False)\n",
        "\n",
        "for i, test_batch in enumerate(test_dataloader):\n",
        "  test_status = 'Batch ' + str(i+1) + ' / ' + str(len(test_dataloader))\n",
        "  print(test_status, end='\\r')\n",
        "\n",
        "  b_input_ids = test_batch[0].to(device)\n",
        "  b_input_mask = test_batch[1].to(device)\n",
        "  b_token_type_ids = test_batch[2].to(device)\n",
        "\n",
        "\n",
        "  outputs = model(b_input_ids,\n",
        "                  token_type_ids=None,\n",
        "                  attention_mask=b_input_mask,\n",
        "                  return_dict = False)\n",
        "\n",
        "  preds = outputs[0]\n",
        "  test_preds = preds.detach().cpu().numpy()\n",
        "\n",
        "\n",
        "  if i == 0:  # first batch\n",
        "    stacked_test_preds = test_preds\n",
        "\n",
        "  else:\n",
        "    stacked_test_preds = np.vstack((stacked_test_preds, test_preds))\n",
        "\n",
        "\n",
        "# Round predictions to either 0 or 1\n",
        "final_preds = np.argmax(stacked_test_preds, axis=1)"
      ],
      "metadata": {
        "id": "P0brIi0ZAoHX",
        "colab": {
          "base_uri": "https://localhost:8080/"
        },
        "outputId": "36c87954-608a-416b-8b28-7dfebb66967f"
      },
      "id": "P0brIi0ZAoHX",
      "execution_count": null,
      "outputs": [
        {
          "output_type": "stream",
          "name": "stderr",
          "text": [
            "/usr/lib/python3.10/multiprocessing/popen_fork.py:66: RuntimeWarning: os.fork() was called. os.fork() is incompatible with multithreaded code, and JAX is multithreaded, so this will likely lead to a deadlock.\n",
            "  self.pid = os.fork()\n"
          ]
        },
        {
          "output_type": "stream",
          "name": "stdout",
          "text": []
        },
        {
          "output_type": "stream",
          "name": "stderr",
          "text": [
            "/usr/lib/python3.10/multiprocessing/popen_fork.py:66: RuntimeWarning: os.fork() was called. os.fork() is incompatible with multithreaded code, and JAX is multithreaded, so this will likely lead to a deadlock.\n",
            "  self.pid = os.fork()\n"
          ]
        },
        {
          "output_type": "stream",
          "name": "stdout",
          "text": [
            "Batch 10 / 10\r"
          ]
        }
      ]
    },
    {
      "cell_type": "markdown",
      "source": [
        "####Performance Scores"
      ],
      "metadata": {
        "id": "KFq5FYy-D0k2"
      },
      "id": "KFq5FYy-D0k2"
    },
    {
      "cell_type": "markdown",
      "source": [
        "Like before, we can calculate the model's performance scores using the function that was previously defined. \\"
      ],
      "metadata": {
        "id": "UohH-1T5n9GV"
      },
      "id": "UohH-1T5n9GV"
    },
    {
      "cell_type": "code",
      "source": [
        "labels = df_test[RELEVANCE]\n",
        "\n",
        "report, accuracy = classification_report_with_accuracy_score(final_preds, labels)\n",
        "# report is a DataFrame\n",
        "print(report)"
      ],
      "metadata": {
        "id": "RjztZbIqDSYC",
        "colab": {
          "base_uri": "https://localhost:8080/"
        },
        "outputId": "05c747b3-ca63-425f-d507-20487f443608"
      },
      "id": "RjztZbIqDSYC",
      "execution_count": null,
      "outputs": [
        {
          "output_type": "stream",
          "name": "stdout",
          "text": [
            "              precision  recall  f1-score  support\n",
            "0                  0.97    0.95      0.96   160.00\n",
            "1                  0.94    0.96      0.95   141.00\n",
            "accuracy           0.96    0.96      0.96     0.96\n",
            "macro avg          0.96    0.96      0.96   301.00\n",
            "weighted avg       0.96    0.96      0.96   301.00\n"
          ]
        }
      ]
    },
    {
      "cell_type": "markdown",
      "source": [
        "Get the missclassified tweets:"
      ],
      "metadata": {
        "id": "h1a8h_yHoBUm"
      },
      "id": "h1a8h_yHoBUm"
    },
    {
      "cell_type": "code",
      "source": [
        "posts = df_test[POST]\n",
        "ids = df_test[POST_ID]"
      ],
      "metadata": {
        "id": "3Mv3XE72pjFl"
      },
      "id": "3Mv3XE72pjFl",
      "execution_count": null,
      "outputs": []
    },
    {
      "cell_type": "code",
      "source": [
        "posts[:5]"
      ],
      "metadata": {
        "id": "X3xWam32p_9D",
        "colab": {
          "base_uri": "https://localhost:8080/",
          "height": 327
        },
        "outputId": "bc167dc4-5a69-49f6-c05d-0fff47f71b66"
      },
      "id": "X3xWam32p_9D",
      "execution_count": null,
      "outputs": [
        {
          "output_type": "execute_result",
          "data": {
            "text/plain": [
              "0    Bolsonaro insiste em brincar com coisa séria. ...\n",
              "1    para que não sejam retomadas as aulas presenci...\n",
              "2    Nós da oposição na Câmara vamos acionar o STF ...\n",
              "3    Ontem no #EncontroDaEducação eu bem tratei de ...\n",
              "4    @xomano_eu Diante disso, o Hospital do Câncer ...\n",
              "Name: content, dtype: object"
            ],
            "text/html": [
              "<table border=\"1\" class=\"dataframe\">\n",
              "  <thead>\n",
              "    <tr style=\"text-align: right;\">\n",
              "      <th></th>\n",
              "      <th>content</th>\n",
              "    </tr>\n",
              "  </thead>\n",
              "  <tbody>\n",
              "    <tr>\n",
              "      <th>0</th>\n",
              "      <td>Bolsonaro insiste em brincar com coisa séria. Como se não bastasse indicar o uso da Cloroquina para o tratamento contra a COVID-19, se torna agora, a prova de sua não eficácia!</td>\n",
              "    </tr>\n",
              "    <tr>\n",
              "      <th>1</th>\n",
              "      <td>para que não sejam retomadas as aulas presenciais em maio, como forma de proteger as nossas crianças, os adultos com comorbidades e nossos idosos, de uma segunda onda da COVID-19, caso déssemos continuidade ao calendário letivo precipitadamente no próximo mês.</td>\n",
              "    </tr>\n",
              "    <tr>\n",
              "      <th>2</th>\n",
              "      <td>Nós da oposição na Câmara vamos acionar o STF caso @jairbolsonaro insista na pirraça genocida de recusar a vacina da Sinovac/Butantã! Saúde é direito e negar isso à pop é crime, presidente! Nós é q não seremos cobaias de seus caprichos ideológicos emburrecidos! #bolsonarogenocida</td>\n",
              "    </tr>\n",
              "    <tr>\n",
              "      <th>3</th>\n",
              "      <td>Ontem no #EncontroDaEducação eu bem tratei de perguntar ao @Haddad_Fernando que baratino foi aquele que de dizer que eu não poderia ser pré-candidata a Prefeitura de Salvador. E ele respondeu, viu? Ficou curioso? Assiste só o vídeo desse momento.\\n\\n#SalvadorMãeDeTodos #Educação</td>\n",
              "    </tr>\n",
              "    <tr>\n",
              "      <th>4</th>\n",
              "      <td>@xomano_eu Diante disso, o Hospital do Câncer manifestou interesse em alterar a forma de recebimento, passando a levar em conta a média de atendimentos e não mais a produção.+</td>\n",
              "    </tr>\n",
              "  </tbody>\n",
              "</table><br><label><b>dtype:</b> object</label>"
            ]
          },
          "metadata": {},
          "execution_count": 57
        }
      ]
    },
    {
      "cell_type": "code",
      "source": [
        "print(df_test.head())"
      ],
      "metadata": {
        "colab": {
          "base_uri": "https://localhost:8080/"
        },
        "id": "PxTcpzQ5f4bj",
        "outputId": "7db8b2c1-fe04-4bd9-bf90-f329514836fb"
      },
      "id": "PxTcpzQ5f4bj",
      "execution_count": null,
      "outputs": [
        {
          "output_type": "stream",
          "name": "stdout",
          "text": [
            "  tweet_id                                            content   post_date  \\\n",
            "0    B3816  Bolsonaro insiste em brincar com coisa séria. ...  2020-07-22   \n",
            "1    B6222  para que não sejam retomadas as aulas presenci...  2020-04-28   \n",
            "2      A37  Nós da oposição na Câmara vamos acionar o STF ...  2020-10-21   \n",
            "3    B3907  Ontem no #EncontroDaEducação eu bem tratei de ...  2020-07-09   \n",
            "4    B1880  @xomano_eu Diante disso, o Hospital do Câncer ...  2020-12-16   \n",
            "\n",
            "   relevance DATASET  \n",
            "0          1    Test  \n",
            "1          0    Test  \n",
            "2          1    Test  \n",
            "3          0    Test  \n",
            "4          0    Test  \n"
          ]
        }
      ]
    },
    {
      "cell_type": "code",
      "source": [
        "ids[:5]"
      ],
      "metadata": {
        "id": "MOmFu0CjqAr-",
        "colab": {
          "base_uri": "https://localhost:8080/",
          "height": 240
        },
        "outputId": "bd34741d-130f-41b5-e8c5-acc152c8f4c9"
      },
      "id": "MOmFu0CjqAr-",
      "execution_count": null,
      "outputs": [
        {
          "data": {
            "text/html": [
              "<table border=\"1\" class=\"dataframe\">\n",
              "  <thead>\n",
              "    <tr style=\"text-align: right;\">\n",
              "      <th></th>\n",
              "      <th>tweet_id</th>\n",
              "    </tr>\n",
              "  </thead>\n",
              "  <tbody>\n",
              "    <tr>\n",
              "      <th>0</th>\n",
              "      <td>B3816</td>\n",
              "    </tr>\n",
              "    <tr>\n",
              "      <th>1</th>\n",
              "      <td>B6222</td>\n",
              "    </tr>\n",
              "    <tr>\n",
              "      <th>2</th>\n",
              "      <td>A37</td>\n",
              "    </tr>\n",
              "    <tr>\n",
              "      <th>3</th>\n",
              "      <td>B3907</td>\n",
              "    </tr>\n",
              "    <tr>\n",
              "      <th>4</th>\n",
              "      <td>B1880</td>\n",
              "    </tr>\n",
              "  </tbody>\n",
              "</table><br><label><b>dtype:</b> object</label>"
            ],
            "text/plain": [
              "0    B3816\n",
              "1    B6222\n",
              "2      A37\n",
              "3    B3907\n",
              "4    B1880\n",
              "Name: tweet_id, dtype: object"
            ]
          },
          "execution_count": 59,
          "metadata": {},
          "output_type": "execute_result"
        }
      ]
    },
    {
      "cell_type": "code",
      "source": [
        "wrong_preds = []\n",
        "\n",
        "for i in range(len(labels)):\n",
        "  predicted = final_preds[i]\n",
        "  correct = labels[i]\n",
        "\n",
        "  if predicted != correct:\n",
        "    info = {'post id': ids[i],\n",
        "            'post content': posts[i],\n",
        "            'prediction': predicted,\n",
        "            'correct label': correct}\n",
        "    wrong_preds.append(info)"
      ],
      "metadata": {
        "id": "G156Pnq5oEFI"
      },
      "id": "G156Pnq5oEFI",
      "execution_count": null,
      "outputs": []
    },
    {
      "cell_type": "code",
      "source": [
        "df = pd.DataFrame(wrong_preds)\n",
        "df"
      ],
      "metadata": {
        "id": "fYLbGWFrqI_S",
        "colab": {
          "base_uri": "https://localhost:8080/",
          "height": 456
        },
        "outputId": "9b613cd1-8a5c-4acd-9606-498295118193"
      },
      "id": "fYLbGWFrqI_S",
      "execution_count": null,
      "outputs": [
        {
          "output_type": "execute_result",
          "data": {
            "text/plain": [
              "   post id                                       post content  prediction  \\\n",
              "0    A2052            ⚠️Melhoria na vacinação em Goiânia já!            1   \n",
              "1    A1118  os governos atuem para tentar dar o maior supo...           1   \n",
              "2    B3360  Juntando temas do dia:\\n\\nBolsonaro interferiu...           1   \n",
              "3    B2427  O tratamento usou um anticorpo monoclonal util...           0   \n",
              "4    B4361  Mensagem urgente para Curitiba, da Dra.Haissa ...           1   \n",
              "5    B6071  Obrigar o Presidente Jair Bolsonaro a mostrar ...           1   \n",
              "6    B2152  Pazuello quer que Estados gastem dinheiro públ...           1   \n",
              "7    B2355  A Nitazoxanida tem custo de R$ 25 e é usada pr...           1   \n",
              "8     A775  Se há histórico no Brasil de campanhas naciona...           0   \n",
              "9     A251  Drive thru de vacinas...Mais um factóide do Gr...           1   \n",
              "10    A518  POA ESTÁ PREPARADA PARA A VOLTA ÀS AULAS?\\nO r...           0   \n",
              "11   B1907  Neste sábado, a China injetou sua primeira vac...           0   \n",
              "12    A978  Cientistas são ameaçados de morte; Fiocruz con...           0   \n",
              "\n",
              "    correct label  \n",
              "0               0  \n",
              "1               0  \n",
              "2               0  \n",
              "3               1  \n",
              "4               0  \n",
              "5               0  \n",
              "6               0  \n",
              "7               0  \n",
              "8               1  \n",
              "9               0  \n",
              "10              1  \n",
              "11              1  \n",
              "12              1  "
            ],
            "text/html": [
              "\n",
              "  <div id=\"df-1d0aa9b3-ad34-4ecd-b5f0-1e2731824e86\" class=\"colab-df-container\">\n",
              "    <div>\n",
              "<style scoped>\n",
              "    .dataframe tbody tr th:only-of-type {\n",
              "        vertical-align: middle;\n",
              "    }\n",
              "\n",
              "    .dataframe tbody tr th {\n",
              "        vertical-align: top;\n",
              "    }\n",
              "\n",
              "    .dataframe thead th {\n",
              "        text-align: right;\n",
              "    }\n",
              "</style>\n",
              "<table border=\"1\" class=\"dataframe\">\n",
              "  <thead>\n",
              "    <tr style=\"text-align: right;\">\n",
              "      <th></th>\n",
              "      <th>post id</th>\n",
              "      <th>post content</th>\n",
              "      <th>prediction</th>\n",
              "      <th>correct label</th>\n",
              "    </tr>\n",
              "  </thead>\n",
              "  <tbody>\n",
              "    <tr>\n",
              "      <th>0</th>\n",
              "      <td>A2052</td>\n",
              "      <td>⚠️Melhoria na vacinação em Goiânia já!</td>\n",
              "      <td>1</td>\n",
              "      <td>0</td>\n",
              "    </tr>\n",
              "    <tr>\n",
              "      <th>1</th>\n",
              "      <td>A1118</td>\n",
              "      <td>os governos atuem para tentar dar o maior supo...</td>\n",
              "      <td>1</td>\n",
              "      <td>0</td>\n",
              "    </tr>\n",
              "    <tr>\n",
              "      <th>2</th>\n",
              "      <td>B3360</td>\n",
              "      <td>Juntando temas do dia:\\n\\nBolsonaro interferiu...</td>\n",
              "      <td>1</td>\n",
              "      <td>0</td>\n",
              "    </tr>\n",
              "    <tr>\n",
              "      <th>3</th>\n",
              "      <td>B2427</td>\n",
              "      <td>O tratamento usou um anticorpo monoclonal util...</td>\n",
              "      <td>0</td>\n",
              "      <td>1</td>\n",
              "    </tr>\n",
              "    <tr>\n",
              "      <th>4</th>\n",
              "      <td>B4361</td>\n",
              "      <td>Mensagem urgente para Curitiba, da Dra.Haissa ...</td>\n",
              "      <td>1</td>\n",
              "      <td>0</td>\n",
              "    </tr>\n",
              "    <tr>\n",
              "      <th>5</th>\n",
              "      <td>B6071</td>\n",
              "      <td>Obrigar o Presidente Jair Bolsonaro a mostrar ...</td>\n",
              "      <td>1</td>\n",
              "      <td>0</td>\n",
              "    </tr>\n",
              "    <tr>\n",
              "      <th>6</th>\n",
              "      <td>B2152</td>\n",
              "      <td>Pazuello quer que Estados gastem dinheiro públ...</td>\n",
              "      <td>1</td>\n",
              "      <td>0</td>\n",
              "    </tr>\n",
              "    <tr>\n",
              "      <th>7</th>\n",
              "      <td>B2355</td>\n",
              "      <td>A Nitazoxanida tem custo de R$ 25 e é usada pr...</td>\n",
              "      <td>1</td>\n",
              "      <td>0</td>\n",
              "    </tr>\n",
              "    <tr>\n",
              "      <th>8</th>\n",
              "      <td>A775</td>\n",
              "      <td>Se há histórico no Brasil de campanhas naciona...</td>\n",
              "      <td>0</td>\n",
              "      <td>1</td>\n",
              "    </tr>\n",
              "    <tr>\n",
              "      <th>9</th>\n",
              "      <td>A251</td>\n",
              "      <td>Drive thru de vacinas...Mais um factóide do Gr...</td>\n",
              "      <td>1</td>\n",
              "      <td>0</td>\n",
              "    </tr>\n",
              "    <tr>\n",
              "      <th>10</th>\n",
              "      <td>A518</td>\n",
              "      <td>POA ESTÁ PREPARADA PARA A VOLTA ÀS AULAS?\\nO r...</td>\n",
              "      <td>0</td>\n",
              "      <td>1</td>\n",
              "    </tr>\n",
              "    <tr>\n",
              "      <th>11</th>\n",
              "      <td>B1907</td>\n",
              "      <td>Neste sábado, a China injetou sua primeira vac...</td>\n",
              "      <td>0</td>\n",
              "      <td>1</td>\n",
              "    </tr>\n",
              "    <tr>\n",
              "      <th>12</th>\n",
              "      <td>A978</td>\n",
              "      <td>Cientistas são ameaçados de morte; Fiocruz con...</td>\n",
              "      <td>0</td>\n",
              "      <td>1</td>\n",
              "    </tr>\n",
              "  </tbody>\n",
              "</table>\n",
              "</div>\n",
              "    <div class=\"colab-df-buttons\">\n",
              "\n",
              "  <div class=\"colab-df-container\">\n",
              "    <button class=\"colab-df-convert\" onclick=\"convertToInteractive('df-1d0aa9b3-ad34-4ecd-b5f0-1e2731824e86')\"\n",
              "            title=\"Convert this dataframe to an interactive table.\"\n",
              "            style=\"display:none;\">\n",
              "\n",
              "  <svg xmlns=\"http://www.w3.org/2000/svg\" height=\"24px\" viewBox=\"0 -960 960 960\">\n",
              "    <path d=\"M120-120v-720h720v720H120Zm60-500h600v-160H180v160Zm220 220h160v-160H400v160Zm0 220h160v-160H400v160ZM180-400h160v-160H180v160Zm440 0h160v-160H620v160ZM180-180h160v-160H180v160Zm440 0h160v-160H620v160Z\"/>\n",
              "  </svg>\n",
              "    </button>\n",
              "\n",
              "  <style>\n",
              "    .colab-df-container {\n",
              "      display:flex;\n",
              "      gap: 12px;\n",
              "    }\n",
              "\n",
              "    .colab-df-convert {\n",
              "      background-color: #E8F0FE;\n",
              "      border: none;\n",
              "      border-radius: 50%;\n",
              "      cursor: pointer;\n",
              "      display: none;\n",
              "      fill: #1967D2;\n",
              "      height: 32px;\n",
              "      padding: 0 0 0 0;\n",
              "      width: 32px;\n",
              "    }\n",
              "\n",
              "    .colab-df-convert:hover {\n",
              "      background-color: #E2EBFA;\n",
              "      box-shadow: 0px 1px 2px rgba(60, 64, 67, 0.3), 0px 1px 3px 1px rgba(60, 64, 67, 0.15);\n",
              "      fill: #174EA6;\n",
              "    }\n",
              "\n",
              "    .colab-df-buttons div {\n",
              "      margin-bottom: 4px;\n",
              "    }\n",
              "\n",
              "    [theme=dark] .colab-df-convert {\n",
              "      background-color: #3B4455;\n",
              "      fill: #D2E3FC;\n",
              "    }\n",
              "\n",
              "    [theme=dark] .colab-df-convert:hover {\n",
              "      background-color: #434B5C;\n",
              "      box-shadow: 0px 1px 3px 1px rgba(0, 0, 0, 0.15);\n",
              "      filter: drop-shadow(0px 1px 2px rgba(0, 0, 0, 0.3));\n",
              "      fill: #FFFFFF;\n",
              "    }\n",
              "  </style>\n",
              "\n",
              "    <script>\n",
              "      const buttonEl =\n",
              "        document.querySelector('#df-1d0aa9b3-ad34-4ecd-b5f0-1e2731824e86 button.colab-df-convert');\n",
              "      buttonEl.style.display =\n",
              "        google.colab.kernel.accessAllowed ? 'block' : 'none';\n",
              "\n",
              "      async function convertToInteractive(key) {\n",
              "        const element = document.querySelector('#df-1d0aa9b3-ad34-4ecd-b5f0-1e2731824e86');\n",
              "        const dataTable =\n",
              "          await google.colab.kernel.invokeFunction('convertToInteractive',\n",
              "                                                    [key], {});\n",
              "        if (!dataTable) return;\n",
              "\n",
              "        const docLinkHtml = 'Like what you see? Visit the ' +\n",
              "          '<a target=\"_blank\" href=https://colab.research.google.com/notebooks/data_table.ipynb>data table notebook</a>'\n",
              "          + ' to learn more about interactive tables.';\n",
              "        element.innerHTML = '';\n",
              "        dataTable['output_type'] = 'display_data';\n",
              "        await google.colab.output.renderOutput(dataTable, element);\n",
              "        const docLink = document.createElement('div');\n",
              "        docLink.innerHTML = docLinkHtml;\n",
              "        element.appendChild(docLink);\n",
              "      }\n",
              "    </script>\n",
              "  </div>\n",
              "\n",
              "\n",
              "<div id=\"df-f9c53999-92b9-49fd-bbe7-97652d1d9a3e\">\n",
              "  <button class=\"colab-df-quickchart\" onclick=\"quickchart('df-f9c53999-92b9-49fd-bbe7-97652d1d9a3e')\"\n",
              "            title=\"Suggest charts\"\n",
              "            style=\"display:none;\">\n",
              "\n",
              "<svg xmlns=\"http://www.w3.org/2000/svg\" height=\"24px\"viewBox=\"0 0 24 24\"\n",
              "     width=\"24px\">\n",
              "    <g>\n",
              "        <path d=\"M19 3H5c-1.1 0-2 .9-2 2v14c0 1.1.9 2 2 2h14c1.1 0 2-.9 2-2V5c0-1.1-.9-2-2-2zM9 17H7v-7h2v7zm4 0h-2V7h2v10zm4 0h-2v-4h2v4z\"/>\n",
              "    </g>\n",
              "</svg>\n",
              "  </button>\n",
              "\n",
              "<style>\n",
              "  .colab-df-quickchart {\n",
              "      --bg-color: #E8F0FE;\n",
              "      --fill-color: #1967D2;\n",
              "      --hover-bg-color: #E2EBFA;\n",
              "      --hover-fill-color: #174EA6;\n",
              "      --disabled-fill-color: #AAA;\n",
              "      --disabled-bg-color: #DDD;\n",
              "  }\n",
              "\n",
              "  [theme=dark] .colab-df-quickchart {\n",
              "      --bg-color: #3B4455;\n",
              "      --fill-color: #D2E3FC;\n",
              "      --hover-bg-color: #434B5C;\n",
              "      --hover-fill-color: #FFFFFF;\n",
              "      --disabled-bg-color: #3B4455;\n",
              "      --disabled-fill-color: #666;\n",
              "  }\n",
              "\n",
              "  .colab-df-quickchart {\n",
              "    background-color: var(--bg-color);\n",
              "    border: none;\n",
              "    border-radius: 50%;\n",
              "    cursor: pointer;\n",
              "    display: none;\n",
              "    fill: var(--fill-color);\n",
              "    height: 32px;\n",
              "    padding: 0;\n",
              "    width: 32px;\n",
              "  }\n",
              "\n",
              "  .colab-df-quickchart:hover {\n",
              "    background-color: var(--hover-bg-color);\n",
              "    box-shadow: 0 1px 2px rgba(60, 64, 67, 0.3), 0 1px 3px 1px rgba(60, 64, 67, 0.15);\n",
              "    fill: var(--button-hover-fill-color);\n",
              "  }\n",
              "\n",
              "  .colab-df-quickchart-complete:disabled,\n",
              "  .colab-df-quickchart-complete:disabled:hover {\n",
              "    background-color: var(--disabled-bg-color);\n",
              "    fill: var(--disabled-fill-color);\n",
              "    box-shadow: none;\n",
              "  }\n",
              "\n",
              "  .colab-df-spinner {\n",
              "    border: 2px solid var(--fill-color);\n",
              "    border-color: transparent;\n",
              "    border-bottom-color: var(--fill-color);\n",
              "    animation:\n",
              "      spin 1s steps(1) infinite;\n",
              "  }\n",
              "\n",
              "  @keyframes spin {\n",
              "    0% {\n",
              "      border-color: transparent;\n",
              "      border-bottom-color: var(--fill-color);\n",
              "      border-left-color: var(--fill-color);\n",
              "    }\n",
              "    20% {\n",
              "      border-color: transparent;\n",
              "      border-left-color: var(--fill-color);\n",
              "      border-top-color: var(--fill-color);\n",
              "    }\n",
              "    30% {\n",
              "      border-color: transparent;\n",
              "      border-left-color: var(--fill-color);\n",
              "      border-top-color: var(--fill-color);\n",
              "      border-right-color: var(--fill-color);\n",
              "    }\n",
              "    40% {\n",
              "      border-color: transparent;\n",
              "      border-right-color: var(--fill-color);\n",
              "      border-top-color: var(--fill-color);\n",
              "    }\n",
              "    60% {\n",
              "      border-color: transparent;\n",
              "      border-right-color: var(--fill-color);\n",
              "    }\n",
              "    80% {\n",
              "      border-color: transparent;\n",
              "      border-right-color: var(--fill-color);\n",
              "      border-bottom-color: var(--fill-color);\n",
              "    }\n",
              "    90% {\n",
              "      border-color: transparent;\n",
              "      border-bottom-color: var(--fill-color);\n",
              "    }\n",
              "  }\n",
              "</style>\n",
              "\n",
              "  <script>\n",
              "    async function quickchart(key) {\n",
              "      const quickchartButtonEl =\n",
              "        document.querySelector('#' + key + ' button');\n",
              "      quickchartButtonEl.disabled = true;  // To prevent multiple clicks.\n",
              "      quickchartButtonEl.classList.add('colab-df-spinner');\n",
              "      try {\n",
              "        const charts = await google.colab.kernel.invokeFunction(\n",
              "            'suggestCharts', [key], {});\n",
              "      } catch (error) {\n",
              "        console.error('Error during call to suggestCharts:', error);\n",
              "      }\n",
              "      quickchartButtonEl.classList.remove('colab-df-spinner');\n",
              "      quickchartButtonEl.classList.add('colab-df-quickchart-complete');\n",
              "    }\n",
              "    (() => {\n",
              "      let quickchartButtonEl =\n",
              "        document.querySelector('#df-f9c53999-92b9-49fd-bbe7-97652d1d9a3e button');\n",
              "      quickchartButtonEl.style.display =\n",
              "        google.colab.kernel.accessAllowed ? 'block' : 'none';\n",
              "    })();\n",
              "  </script>\n",
              "</div>\n",
              "\n",
              "  <div id=\"id_eaee816f-019c-4eb1-a54f-604de9f43508\">\n",
              "    <style>\n",
              "      .colab-df-generate {\n",
              "        background-color: #E8F0FE;\n",
              "        border: none;\n",
              "        border-radius: 50%;\n",
              "        cursor: pointer;\n",
              "        display: none;\n",
              "        fill: #1967D2;\n",
              "        height: 32px;\n",
              "        padding: 0 0 0 0;\n",
              "        width: 32px;\n",
              "      }\n",
              "\n",
              "      .colab-df-generate:hover {\n",
              "        background-color: #E2EBFA;\n",
              "        box-shadow: 0px 1px 2px rgba(60, 64, 67, 0.3), 0px 1px 3px 1px rgba(60, 64, 67, 0.15);\n",
              "        fill: #174EA6;\n",
              "      }\n",
              "\n",
              "      [theme=dark] .colab-df-generate {\n",
              "        background-color: #3B4455;\n",
              "        fill: #D2E3FC;\n",
              "      }\n",
              "\n",
              "      [theme=dark] .colab-df-generate:hover {\n",
              "        background-color: #434B5C;\n",
              "        box-shadow: 0px 1px 3px 1px rgba(0, 0, 0, 0.15);\n",
              "        filter: drop-shadow(0px 1px 2px rgba(0, 0, 0, 0.3));\n",
              "        fill: #FFFFFF;\n",
              "      }\n",
              "    </style>\n",
              "    <button class=\"colab-df-generate\" onclick=\"generateWithVariable('df')\"\n",
              "            title=\"Generate code using this dataframe.\"\n",
              "            style=\"display:none;\">\n",
              "\n",
              "  <svg xmlns=\"http://www.w3.org/2000/svg\" height=\"24px\"viewBox=\"0 0 24 24\"\n",
              "       width=\"24px\">\n",
              "    <path d=\"M7,19H8.4L18.45,9,17,7.55,7,17.6ZM5,21V16.75L18.45,3.32a2,2,0,0,1,2.83,0l1.4,1.43a1.91,1.91,0,0,1,.58,1.4,1.91,1.91,0,0,1-.58,1.4L9.25,21ZM18.45,9,17,7.55Zm-12,3A5.31,5.31,0,0,0,4.9,8.1,5.31,5.31,0,0,0,1,6.5,5.31,5.31,0,0,0,4.9,4.9,5.31,5.31,0,0,0,6.5,1,5.31,5.31,0,0,0,8.1,4.9,5.31,5.31,0,0,0,12,6.5,5.46,5.46,0,0,0,6.5,12Z\"/>\n",
              "  </svg>\n",
              "    </button>\n",
              "    <script>\n",
              "      (() => {\n",
              "      const buttonEl =\n",
              "        document.querySelector('#id_eaee816f-019c-4eb1-a54f-604de9f43508 button.colab-df-generate');\n",
              "      buttonEl.style.display =\n",
              "        google.colab.kernel.accessAllowed ? 'block' : 'none';\n",
              "\n",
              "      buttonEl.onclick = () => {\n",
              "        google.colab.notebook.generateWithVariable('df');\n",
              "      }\n",
              "      })();\n",
              "    </script>\n",
              "  </div>\n",
              "\n",
              "    </div>\n",
              "  </div>\n"
            ],
            "application/vnd.google.colaboratory.intrinsic+json": {
              "type": "dataframe",
              "variable_name": "df",
              "summary": "{\n  \"name\": \"df\",\n  \"rows\": 13,\n  \"fields\": [\n    {\n      \"column\": \"post id\",\n      \"properties\": {\n        \"dtype\": \"string\",\n        \"num_unique_values\": 13,\n        \"samples\": [\n          \"B1907\",\n          \"A251\",\n          \"A2052\"\n        ],\n        \"semantic_type\": \"\",\n        \"description\": \"\"\n      }\n    },\n    {\n      \"column\": \"post content\",\n      \"properties\": {\n        \"dtype\": \"string\",\n        \"num_unique_values\": 13,\n        \"samples\": [\n          \"Neste s\\u00e1bado, a China injetou sua primeira vacina de combate ao coronav\\u00edrus em volunt\\u00e1rios. \\\\n\\\\nO primeiro grupo de volunt\\u00e1rios do experimento est\\u00e1 limitado a residentes de #Wuhan, entre 18 e 60 anos de idade.\\\\n\\\\nJuntos vamos superar esta epidemia! \",\n          \"Drive thru de vacinas...Mais um fact\\u00f3ide do Greca, assim como a grande mentira do rem\\u00e9dio em casa para idosos. Lamento que os Curitibanos tenham que descobrir a verdade em um momento tao dif\\u00edcil... #bagun\\u00e7ageral \",\n          \"\\u26a0\\ufe0fMelhoria na vacina\\u00e7\\u00e3o em Goi\\u00e2nia j\\u00e1! \"\n        ],\n        \"semantic_type\": \"\",\n        \"description\": \"\"\n      }\n    },\n    {\n      \"column\": \"prediction\",\n      \"properties\": {\n        \"dtype\": \"number\",\n        \"std\": 0,\n        \"min\": 0,\n        \"max\": 1,\n        \"num_unique_values\": 2,\n        \"samples\": [\n          0,\n          1\n        ],\n        \"semantic_type\": \"\",\n        \"description\": \"\"\n      }\n    },\n    {\n      \"column\": \"correct label\",\n      \"properties\": {\n        \"dtype\": \"number\",\n        \"std\": 0,\n        \"min\": 0,\n        \"max\": 1,\n        \"num_unique_values\": 2,\n        \"samples\": [\n          1,\n          0\n        ],\n        \"semantic_type\": \"\",\n        \"description\": \"\"\n      }\n    }\n  ]\n}"
            }
          },
          "metadata": {},
          "execution_count": 61
        }
      ]
    },
    {
      "cell_type": "code",
      "source": [
        "path = FOLDER_PATH + 'wrong_predictions.cvs'\n",
        "df.to_csv(path)\n",
        "\n",
        "path = FOLDER_PATH + 'wrong_predictions.xlsx'\n",
        "df.to_excel(path)"
      ],
      "metadata": {
        "id": "tCXZ9o5RqYJR"
      },
      "id": "tCXZ9o5RqYJR",
      "execution_count": null,
      "outputs": []
    },
    {
      "cell_type": "markdown",
      "source": [
        "Plot report as a table and save figure as a png:"
      ],
      "metadata": {
        "id": "IsQrZd_4oSLV"
      },
      "id": "IsQrZd_4oSLV"
    },
    {
      "cell_type": "code",
      "source": [
        "without_acc = report.loc[['0', '1', 'macro avg', 'weighted avg']]\n",
        "without_acc = without_acc.rename(index={'0': 'not relevant', '1': 'relevant'})\n",
        "\n",
        "fig, ax = plt.subplots(figsize=(2,4))\n",
        "ax.axis('off')\n",
        "table = pd.plotting.table(ax, without_acc, loc='right',cellLoc='center',rowLoc='center')\n",
        "table.auto_set_font_size(False)\n",
        "table.set_fontsize(14)\n",
        "table.scale(2.9, 3)\n",
        "plt.title('BERTimbau Performance After Fine-Tuning',\n",
        "           loc='left',fontsize=20)\n",
        "acc_str = 'Overall Accuracy: '+ str(accuracy.round(decimals=2))\n",
        "fig.text(0.67, 0.08, acc_str, ha='center', fontsize=14)\n",
        "\n",
        "plt.savefig(FOLDER_PATH+'PerformanceTable_TrainedModel.png', format='png', transparent = True, bbox_inches='tight',pad_inches=0.1)"
      ],
      "metadata": {
        "id": "bNXcNheXDwTR",
        "colab": {
          "base_uri": "https://localhost:8080/",
          "height": 391
        },
        "outputId": "95fdeef7-9629-4d57-ee78-59cf148ef258"
      },
      "id": "bNXcNheXDwTR",
      "execution_count": null,
      "outputs": [
        {
          "output_type": "display_data",
          "data": {
            "text/plain": [
              "<Figure size 200x400 with 1 Axes>"
            ],
            "image/png": "[encoded data removed]"
          },
          "metadata": {}
        }
      ]
    },
    {
      "cell_type": "markdown",
      "source": [
        "Plot the confusion matrix to visualize the model's predictions against their true value, and save the figure as a png:"
      ],
      "metadata": {
        "id": "drqDckTND3Xf"
      },
      "id": "drqDckTND3Xf"
    },
    {
      "cell_type": "code",
      "source": [
        "from sklearn.metrics import confusion_matrix, ConfusionMatrixDisplay\n",
        "import seaborn as sns\n",
        "\n",
        "\n",
        "confusion_matrix = confusion_matrix(df_test[RELEVANCE], final_preds)\n",
        "fig = plt.figure(figsize=(10, 8))\n",
        "ax = sns.heatmap(confusion_matrix, annot=True,cmap=\"rocket_r\", fmt = '.0f',\n",
        "            yticklabels=['not relevant', 'relevant'],\n",
        "            xticklabels=['not relevant', 'relevant'],square=True,\n",
        "                 annot_kws={\"size\": 14},cbar=True,\n",
        "                 cbar_kws={'shrink': 0.9})\n",
        "# ax.set_font\n",
        "# plt.yticks(rotation=0)\n",
        "plt.xticks(fontsize=12)  # X-axis tick labels font size\n",
        "plt.yticks(fontsize=12)\n",
        "# Add title and labels\n",
        "plt.title('BERTimbau Performance After Fine-Tuning', fontsize=22, loc='center',\n",
        "          pad=20)\n",
        "plt.xlabel('Predicted Labels', fontsize=16)\n",
        "plt.ylabel('True Labels', fontsize=16)\n",
        "\n",
        "plt.savefig(FOLDER_PATH+'ConfusionMatrix_TrainedModel.png', format='png', transparent = True, bbox_inches='tight',pad_inches=0.1)\n"
      ],
      "metadata": {
        "id": "r64_E_E8D4J0",
        "colab": {
          "base_uri": "https://localhost:8080/",
          "height": 757
        },
        "outputId": "f2cbd004-b45c-4d98-d701-b964ad08e89f"
      },
      "id": "r64_E_E8D4J0",
      "execution_count": null,
      "outputs": [
        {
          "output_type": "display_data",
          "data": {
            "text/plain": [
              "<Figure size 1000x800 with 2 Axes>"
            ],
            "image/png": "[encoded data removed]"
          },
          "metadata": {}
        }
      ]
    },
    {
      "cell_type": "code",
      "source": [],
      "metadata": {
        "id": "wanyBn25PXLo"
      },
      "id": "wanyBn25PXLo",
      "execution_count": null,
      "outputs": []
    }
  ],
  "metadata": {
    "kernelspec": {
      "display_name": "Python 3",
      "name": "python3"
    },
    "language_info": {
      "codemirror_mode": {
        "name": "ipython",
        "version": 3
      },
      "file_extension": ".py",
      "mimetype": "text/x-python",
      "name": "python",
      "nbconvert_exporter": "python",
      "pygments_lexer": "ipython3",
      "version": "3.9.12"
    },
    "colab": {
      "provenance": [],
      "gpuType": "T4",
      "collapsed_sections": [
        "8-3218n_elhK"
      ],
      "include_colab_link": true
    },
    "accelerator": "GPU"
  },
  "nbformat": 4,
  "nbformat_minor": 5
}