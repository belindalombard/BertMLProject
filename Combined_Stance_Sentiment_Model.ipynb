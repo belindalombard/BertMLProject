{
  "cells": [
    {
      "cell_type": "markdown",
      "metadata": {
        "id": "view-in-github",
        "colab_type": "text"
      },
      "source": [
        "<a href=\"https://colab.research.google.com/github/belindalombard/BertMLProject/blob/master/Combined_Stance_Sentiment_Model.ipynb\" target=\"_parent\"><img src=\"https://colab.research.google.com/assets/colab-badge.svg\" alt=\"Open In Colab\"/></a>"
      ]
    },
    {
      "cell_type": "markdown",
      "id": "f60af366",
      "metadata": {
        "id": "f60af366"
      },
      "source": [
        "# Machine Annotation - BERTimbau - Combined Stance/Sentiment\n",
        "\n",
        "\n",
        "---"
      ]
    },
    {
      "cell_type": "markdown",
      "source": [
        "For this research project, we will be utilizing the BERTimbau pretrained model. See citation below: \\\n",
        "\n",
        "@inproceedings { \\\n",
        "  souza2020bertimbau, \\\n",
        "  author    = {F{\\'a}bio Souza and Rodrigo Nogueira and Roberto Lotufo}, \\\n",
        "  title     = {{BERT}imbau: pretrained {BERT} models for {B}razilian {P}ortuguese}, \\\n",
        "  booktitle = {9th Brazilian Conference on Intelligent Systems, {BRACIS}, Rio Grande do Sul, Brazil, October 20-23 (to appear)}, \\\n",
        "  year      = {2020} \\\n",
        "}\n"
      ],
      "metadata": {
        "id": "jZdzHVsXWiTY"
      },
      "id": "jZdzHVsXWiTY"
    },
    {
      "cell_type": "markdown",
      "source": [
        "## Set Up\n",
        "Mount to drive to access files for training the model:"
      ],
      "metadata": {
        "id": "mHmTeQNnUszz"
      },
      "id": "mHmTeQNnUszz"
    },
    {
      "cell_type": "code",
      "source": [
        "from google.colab import drive\n",
        "drive.mount('/content/drive')"
      ],
      "metadata": {
        "id": "UaYA4PulqHWG",
        "colab": {
          "base_uri": "https://localhost:8080/"
        },
        "outputId": "239ddef7-2811-4d71-e73c-47f7ddd6e35d"
      },
      "id": "UaYA4PulqHWG",
      "execution_count": null,
      "outputs": [
        {
          "output_type": "stream",
          "name": "stdout",
          "text": [
            "Mounted at /content/drive\n"
          ]
        }
      ]
    },
    {
      "cell_type": "markdown",
      "source": [
        "### Libraries"
      ],
      "metadata": {
        "id": "TMVsslLUVBsn"
      },
      "id": "TMVsslLUVBsn"
    },
    {
      "cell_type": "markdown",
      "id": "b608a1eb",
      "metadata": {
        "id": "b608a1eb"
      },
      "source": [
        "Install transformers:\n"
      ]
    },
    {
      "cell_type": "code",
      "execution_count": null,
      "id": "15d75e46",
      "metadata": {
        "colab": {
          "base_uri": "https://localhost:8080/"
        },
        "id": "15d75e46",
        "outputId": "a725416f-719f-4faa-96b8-1a3451cc78de",
        "collapsed": true
      },
      "outputs": [
        {
          "output_type": "stream",
          "name": "stdout",
          "text": [
            "Requirement already satisfied: transformers in /usr/local/lib/python3.10/dist-packages (4.42.4)\n",
            "Requirement already satisfied: filelock in /usr/local/lib/python3.10/dist-packages (from transformers) (3.15.4)\n",
            "Requirement already satisfied: huggingface-hub<1.0,>=0.23.2 in /usr/local/lib/python3.10/dist-packages (from transformers) (0.23.5)\n",
            "Requirement already satisfied: numpy<2.0,>=1.17 in /usr/local/lib/python3.10/dist-packages (from transformers) (1.25.2)\n",
            "Requirement already satisfied: packaging>=20.0 in /usr/local/lib/python3.10/dist-packages (from transformers) (24.1)\n",
            "Requirement already satisfied: pyyaml>=5.1 in /usr/local/lib/python3.10/dist-packages (from transformers) (6.0.1)\n",
            "Requirement already satisfied: regex!=2019.12.17 in /usr/local/lib/python3.10/dist-packages (from transformers) (2024.5.15)\n",
            "Requirement already satisfied: requests in /usr/local/lib/python3.10/dist-packages (from transformers) (2.31.0)\n",
            "Requirement already satisfied: safetensors>=0.4.1 in /usr/local/lib/python3.10/dist-packages (from transformers) (0.4.3)\n",
            "Requirement already satisfied: tokenizers<0.20,>=0.19 in /usr/local/lib/python3.10/dist-packages (from transformers) (0.19.1)\n",
            "Requirement already satisfied: tqdm>=4.27 in /usr/local/lib/python3.10/dist-packages (from transformers) (4.66.4)\n",
            "Requirement already satisfied: fsspec>=2023.5.0 in /usr/local/lib/python3.10/dist-packages (from huggingface-hub<1.0,>=0.23.2->transformers) (2023.6.0)\n",
            "Requirement already satisfied: typing-extensions>=3.7.4.3 in /usr/local/lib/python3.10/dist-packages (from huggingface-hub<1.0,>=0.23.2->transformers) (4.12.2)\n",
            "Requirement already satisfied: charset-normalizer<4,>=2 in /usr/local/lib/python3.10/dist-packages (from requests->transformers) (3.3.2)\n",
            "Requirement already satisfied: idna<4,>=2.5 in /usr/local/lib/python3.10/dist-packages (from requests->transformers) (3.7)\n",
            "Requirement already satisfied: urllib3<3,>=1.21.1 in /usr/local/lib/python3.10/dist-packages (from requests->transformers) (2.0.7)\n",
            "Requirement already satisfied: certifi>=2017.4.17 in /usr/local/lib/python3.10/dist-packages (from requests->transformers) (2024.7.4)\n"
          ]
        }
      ],
      "source": [
        "!pip install transformers"
      ]
    },
    {
      "cell_type": "markdown",
      "source": [
        "Import libraries:"
      ],
      "metadata": {
        "id": "zr3ZeX_IOnyz"
      },
      "id": "zr3ZeX_IOnyz"
    },
    {
      "cell_type": "code",
      "execution_count": null,
      "id": "cea81cc2",
      "metadata": {
        "id": "cea81cc2"
      },
      "outputs": [],
      "source": [
        "import transformers\n",
        "from transformers import BertForSequenceClassification, BertTokenizer, pipeline\n",
        "import pandas as pd\n",
        "import numpy as np\n",
        "from torch.utils.data import TensorDataset, random_split, Subset, RandomSampler, SequentialSampler, Dataset\n",
        "import sklearn\n",
        "from sklearn.model_selection import train_test_split\n",
        "from sklearn.metrics import f1_score, confusion_matrix, classification_report\n",
        "import os\n",
        "import torch\n",
        "from torch.optim import AdamW\n",
        "import seaborn as sns\n",
        "import random\n",
        "import gc"
      ]
    },
    {
      "cell_type": "markdown",
      "source": [
        "Package versions:"
      ],
      "metadata": {
        "id": "pA3iw9B7PHbW"
      },
      "id": "pA3iw9B7PHbW"
    },
    {
      "cell_type": "code",
      "source": [
        "print(f\"Transformers version: {transformers.__version__}\")\n",
        "print(f\"Pandas version: {pd.__version__}\")\n",
        "print(f\"Numpy version: {np.__version__}\")\n",
        "print(f\"PyTorch version: {torch.__version__}\")\n",
        "print(f\"Scikit-learn version: {sklearn.__version__}\")\n",
        "print(f\"Seaborn version: {sns.__version__}\")"
      ],
      "metadata": {
        "colab": {
          "base_uri": "https://localhost:8080/"
        },
        "id": "nWPQL1gdPLUu",
        "outputId": "b16db221-3a8c-4945-c01b-236fe729e994"
      },
      "id": "nWPQL1gdPLUu",
      "execution_count": null,
      "outputs": [
        {
          "output_type": "stream",
          "name": "stdout",
          "text": [
            "Transformers version: 4.42.4\n",
            "Pandas version: 2.0.3\n",
            "Numpy version: 1.25.2\n",
            "PyTorch version: 2.3.1+cu121\n",
            "Scikit-learn version: 1.2.2\n",
            "Seaborn version: 0.13.1\n"
          ]
        }
      ]
    },
    {
      "cell_type": "markdown",
      "source": [
        "### Connect to GPU\n",
        "Connect to GPU if available:"
      ],
      "metadata": {
        "id": "8x_gB7fgzw5s"
      },
      "id": "8x_gB7fgzw5s"
    },
    {
      "cell_type": "code",
      "source": [
        "import torch\n",
        "\n",
        "# If there's a GPU available:\n",
        "if torch.cuda.is_available():\n",
        "\n",
        "    # Use GPU\n",
        "    device = torch.device(\"cuda\")\n",
        "\n",
        "    print(\"There are available GPU(s).\") # torch.cuda.device_cour\n",
        "\n",
        "    print(\"We will use the GPU:\", torch.cuda.get_device_name(0))\n",
        "\n",
        "# If not\n",
        "\n",
        "else:\n",
        "    print(\"No GPU available, using CPU\")\n",
        "    device = torch.device(\"cpu\")"
      ],
      "metadata": {
        "colab": {
          "base_uri": "https://localhost:8080/"
        },
        "id": "mRGhgm9drGq9",
        "outputId": "36f6bb1a-1f31-419d-a125-bcc790ee2942"
      },
      "id": "mRGhgm9drGq9",
      "execution_count": null,
      "outputs": [
        {
          "output_type": "stream",
          "name": "stdout",
          "text": [
            "There are available GPU(s).\n",
            "We will use the GPU: Tesla T4\n"
          ]
        }
      ]
    },
    {
      "cell_type": "markdown",
      "source": [
        "## GLOBAL VARIABLES - MODEL"
      ],
      "metadata": {
        "id": "LuMMG3FLpYYy"
      },
      "id": "LuMMG3FLpYYy"
    },
    {
      "cell_type": "markdown",
      "source": [
        "Below are global variables related to training the model. \\\n",
        "This will make the code more maintainable and easier to experiment with new values."
      ],
      "metadata": {
        "id": "ej8R6M1HZNz2"
      },
      "id": "ej8R6M1HZNz2"
    },
    {
      "cell_type": "markdown",
      "source": [
        "Seed values used: [66, 109, 85, 42, 120, 172, 239, 19, 124, 48, 83, 184, 47, 160, 238, 49, 209, 110, 174, 118]"
      ],
      "metadata": {
        "id": "8XMZbIglmuuE"
      },
      "id": "8XMZbIglmuuE"
    },
    {
      "cell_type": "code",
      "source": [
        "import os\n",
        "\n",
        "MODEL_TYPE = 'neuralmind/bert-base-portuguese-cased'\n",
        "NUM_CLASSES = 9\n",
        "\n",
        "SEED_VAL = 42\n",
        "\n",
        "NUM_FOLDS = 5\n",
        "NUM_EPOCHS = 5\n",
        "\n",
        "L_RATE = 2e-5 # Testar novos valores\n",
        "MAX_LEN = 256 # Testar novos valores\n",
        "BATCH_SIZE = 32 # Testar novos valores\n",
        "EPS = 1e-8 # Testar novos valores\n",
        "\n",
        "\n",
        "NUM_CORES = os.cpu_count()"
      ],
      "metadata": {
        "id": "3FG0mAtWtfut"
      },
      "id": "3FG0mAtWtfut",
      "execution_count": null,
      "outputs": []
    },
    {
      "cell_type": "markdown",
      "source": [
        "## GLOBAL VARIABLES - DATA\n",
        "FILE_PATH = path to data file that will be used \\\n",
        "\n",
        "RELEVANCE = name of column representing relevance \\\n",
        "RELEVANCE_ID = column value that represents (relevance == True) \\\n",
        "\n",
        "POST = name of column representing the content of the tweet \\\n",
        "POST_DATE = name of column representing the post date \\\n",
        "POST_ID = name of column representing the tweet id\n",
        "\n",
        "YEAR = year of when the dataset is from (to be used for file/folder naming)"
      ],
      "metadata": {
        "id": "8-3218n_elhK"
      },
      "id": "8-3218n_elhK"
    },
    {
      "cell_type": "code",
      "source": [
        "FILE_PATH = '/content/drive/MyDrive/pesquisa-usp/combined_results_round27_V2-2020.csv'\n",
        "FOLDER_PATH = ('/content/drive/MyDrive/pesquisa-usp/stance-sentiment/seed_' + str(SEED_VAL) + '/')\n",
        "\n",
        "RELEVANCE = 'Corrected_relevante'\n",
        "RELEVANCE_ID = 'relevant'\n",
        "\n",
        "SENTIMENT = 'Corrected_sentimento'\n",
        "POSITIVE_SENTIMENT = 'positive'\n",
        "NEGATIVE_SENTIMENT = 'negative'\n",
        "\n",
        "STANCE = 'Corrected_stance'\n",
        "POSITIVE_STANCE = 'favorable'\n",
        "NEGATIVE_STANCE = 'unfavorable'\n",
        "\n",
        "POST = 'content'\n",
        "POST_DATE = 'post_date'\n",
        "POST_ID = 'tweet_id'\n",
        "\n",
        "YEAR = '2020'\n"
      ],
      "metadata": {
        "id": "RQRRyNytek3K"
      },
      "id": "RQRRyNytek3K",
      "execution_count": null,
      "outputs": []
    },
    {
      "cell_type": "markdown",
      "source": [
        "## Load BERT"
      ],
      "metadata": {
        "id": "yppgDLFm0p8d"
      },
      "id": "yppgDLFm0p8d"
    },
    {
      "cell_type": "markdown",
      "source": [
        "Here, we will load BertForSequenceClassification. \\\n",
        "This is a pre-trained BERT model with a single linear classification layer on top."
      ],
      "metadata": {
        "id": "Vh0rp4uqdDbh"
      },
      "id": "Vh0rp4uqdDbh"
    },
    {
      "cell_type": "code",
      "source": [
        "from transformers import BertForSequenceClassification\n",
        "\n",
        "\n",
        "model = BertForSequenceClassification.from_pretrained(\n",
        "          MODEL_TYPE,\n",
        "          num_labels = NUM_CLASSES,\n",
        "          output_attentions = False,\n",
        "          output_hidden_states = False\n",
        "        )\n",
        "\n",
        "\n",
        "# Send the model to the device:\n",
        "model.to(device)"
      ],
      "metadata": {
        "colab": {
          "base_uri": "https://localhost:8080/",
          "height": 1000,
          "referenced_widgets": [
            "3e27d26bce94410290a45e29ebab6be4",
            "a836b53496784aef94426225f4ff36aa",
            "d23dbd48992e4332a2cc63508f8d2edb",
            "330623322b4a4c858f602c43d58a3f3f",
            "b3cdcdf6b8cb494ca160c4a9d0a75a08",
            "1646af1527634e23861f3b21972fc8e0",
            "92ae30fded364b49996bf1eb71c27721",
            "f6925cfc8eec483c9ed2ab287a663a41",
            "af78d1e21d324bd88c33d82e06d750c2",
            "d14766f4915942909ba3a05000a957fd",
            "690730c0f9a84b1092c3ef80054b8972",
            "6803618b2d7d4d3b8f97bd4ef727be60",
            "fb8e562c19ec41f99a1a44286676947c",
            "eed432208c014628bcccae18d749a872",
            "2049aadfa21647c6bda6df91e747eefd",
            "1c94ee1baed64f3f8464ae2992b2b3a1",
            "05645547d69c48dfb78b9a08f5d6dab4",
            "b7d4a2ced0ac4814a5deb146e8a4882e",
            "ccc282fc323949f7acf91b404fd9ec19",
            "c92cd9aa7da14320a9fdbd0ebb6182a3",
            "db3b092c0a994b1ca91cde34396e218f",
            "5460e2c5de984b3e96c356d5d32a731e"
          ]
        },
        "id": "9qpDYkk_0z9A",
        "outputId": "7acfaa60-fba4-455c-b3a8-d051903f8f02"
      },
      "id": "9qpDYkk_0z9A",
      "execution_count": null,
      "outputs": [
        {
          "output_type": "stream",
          "name": "stderr",
          "text": [
            "/usr/local/lib/python3.10/dist-packages/huggingface_hub/utils/_token.py:89: UserWarning: \n",
            "The secret `HF_TOKEN` does not exist in your Colab secrets.\n",
            "To authenticate with the Hugging Face Hub, create a token in your settings tab (https://huggingface.co/settings/tokens), set it as secret in your Google Colab and restart your session.\n",
            "You will be able to reuse this secret in all of your notebooks.\n",
            "Please note that authentication is recommended but still optional to access public models or datasets.\n",
            "  warnings.warn(\n"
          ]
        },
        {
          "output_type": "display_data",
          "data": {
            "text/plain": [
              "config.json:   0%|          | 0.00/647 [00:00<?, ?B/s]"
            ],
            "application/vnd.jupyter.widget-view+json": {
              "version_major": 2,
              "version_minor": 0,
              "model_id": "3e27d26bce94410290a45e29ebab6be4"
            }
          },
          "metadata": {}
        },
        {
          "output_type": "display_data",
          "data": {
            "text/plain": [
              "pytorch_model.bin:   0%|          | 0.00/438M [00:00<?, ?B/s]"
            ],
            "application/vnd.jupyter.widget-view+json": {
              "version_major": 2,
              "version_minor": 0,
              "model_id": "6803618b2d7d4d3b8f97bd4ef727be60"
            }
          },
          "metadata": {}
        },
        {
          "output_type": "stream",
          "name": "stderr",
          "text": [
            "Some weights of BertForSequenceClassification were not initialized from the model checkpoint at neuralmind/bert-base-portuguese-cased and are newly initialized: ['classifier.bias', 'classifier.weight']\n",
            "You should probably TRAIN this model on a down-stream task to be able to use it for predictions and inference.\n"
          ]
        },
        {
          "output_type": "execute_result",
          "data": {
            "text/plain": [
              "BertForSequenceClassification(\n",
              "  (bert): BertModel(\n",
              "    (embeddings): BertEmbeddings(\n",
              "      (word_embeddings): Embedding(29794, 768, padding_idx=0)\n",
              "      (position_embeddings): Embedding(512, 768)\n",
              "      (token_type_embeddings): Embedding(2, 768)\n",
              "      (LayerNorm): LayerNorm((768,), eps=1e-12, elementwise_affine=True)\n",
              "      (dropout): Dropout(p=0.1, inplace=False)\n",
              "    )\n",
              "    (encoder): BertEncoder(\n",
              "      (layer): ModuleList(\n",
              "        (0-11): 12 x BertLayer(\n",
              "          (attention): BertAttention(\n",
              "            (self): BertSdpaSelfAttention(\n",
              "              (query): Linear(in_features=768, out_features=768, bias=True)\n",
              "              (key): Linear(in_features=768, out_features=768, bias=True)\n",
              "              (value): Linear(in_features=768, out_features=768, bias=True)\n",
              "              (dropout): Dropout(p=0.1, inplace=False)\n",
              "            )\n",
              "            (output): BertSelfOutput(\n",
              "              (dense): Linear(in_features=768, out_features=768, bias=True)\n",
              "              (LayerNorm): LayerNorm((768,), eps=1e-12, elementwise_affine=True)\n",
              "              (dropout): Dropout(p=0.1, inplace=False)\n",
              "            )\n",
              "          )\n",
              "          (intermediate): BertIntermediate(\n",
              "            (dense): Linear(in_features=768, out_features=3072, bias=True)\n",
              "            (intermediate_act_fn): GELUActivation()\n",
              "          )\n",
              "          (output): BertOutput(\n",
              "            (dense): Linear(in_features=3072, out_features=768, bias=True)\n",
              "            (LayerNorm): LayerNorm((768,), eps=1e-12, elementwise_affine=True)\n",
              "            (dropout): Dropout(p=0.1, inplace=False)\n",
              "          )\n",
              "        )\n",
              "      )\n",
              "    )\n",
              "    (pooler): BertPooler(\n",
              "      (dense): Linear(in_features=768, out_features=768, bias=True)\n",
              "      (activation): Tanh()\n",
              "    )\n",
              "  )\n",
              "  (dropout): Dropout(p=0.1, inplace=False)\n",
              "  (classifier): Linear(in_features=768, out_features=3, bias=True)\n",
              ")"
            ]
          },
          "metadata": {},
          "execution_count": 8
        }
      ]
    },
    {
      "cell_type": "markdown",
      "source": [
        "\n",
        "\n",
        "---\n",
        "\n",
        "\n",
        "We will also save the path to this model so that it can be accessed at the start of the training loop.\\\n",
        "Variation of performance was observed when a new BertForSequenceClassification model is loaded.\n",
        "\n",
        "We plan to compare pre-training performance with post-training performance. \\\n",
        "Thus, we want to ensure that the model being trained is the same model that was previously evaluated."
      ],
      "metadata": {
        "id": "fWIq84iEgbhG"
      },
      "id": "fWIq84iEgbhG"
    },
    {
      "cell_type": "code",
      "source": [
        "model_name = 'original_model.bin'\n",
        "\n",
        "torch.save(model.state_dict(), model_name)\n",
        "print('Saved model as', model_name)"
      ],
      "metadata": {
        "colab": {
          "base_uri": "https://localhost:8080/"
        },
        "id": "VtsKLwFqhww4",
        "outputId": "55a5d123-f035-4202-ab1d-065d4c190b10"
      },
      "id": "VtsKLwFqhww4",
      "execution_count": null,
      "outputs": [
        {
          "output_type": "stream",
          "name": "stdout",
          "text": [
            "Saved model as original_model.bin\n"
          ]
        }
      ]
    },
    {
      "cell_type": "markdown",
      "source": [
        "## Load Tokenizer"
      ],
      "metadata": {
        "id": "c0wkGa3GveW5"
      },
      "id": "c0wkGa3GveW5"
    },
    {
      "cell_type": "markdown",
      "source": [
        "Load BERT tokenizer:"
      ],
      "metadata": {
        "id": "IYS38S-Xc_bR"
      },
      "id": "IYS38S-Xc_bR"
    },
    {
      "cell_type": "code",
      "source": [
        "from transformers import BertTokenizer\n",
        "\n",
        "print('Loading BERT tokenizer...')\n",
        "tokenizer = BertTokenizer.from_pretrained(MODEL_TYPE, do_lower_case=False)"
      ],
      "metadata": {
        "colab": {
          "base_uri": "https://localhost:8080/",
          "height": 162,
          "referenced_widgets": [
            "824e3d8171dd4e218b3741b070a3058e",
            "823f1fd8305c4c51915d643b53f800ff",
            "7e1a9592a8694a1db7b3d5c12971e092",
            "e5837f699a7843f3b5190a789cb54b10",
            "59eee67f04f144808a7bfb37ef5f694e",
            "eb0b261e28784174b6d3a0e41643e7b1",
            "9a26fc48094e46018ea002878d1ac87f",
            "58594ee71fcd41258685d1a38e21fa44",
            "36bd4d1c8fad4751a6e3c61f3a052b9c",
            "fb95cd482a764c02850b4532b80c62fb",
            "ceb0ee62bac040f89d77a37584bb0e82",
            "b63d1bac2afc4696addd54944cbbff87",
            "7d664d2e572e4f8d8bbbae926d8c1b5c",
            "984bb2fa0a02487587e68cb21fe8c46e",
            "cc796df27a584d31ad6b86f01ac8a3f3",
            "7647c3ec2208429c92a8a83acbe69f46",
            "227235c3223942ff9062c9ddbaf3fe60",
            "aab571af549441a68f6f1f4ef1f96901",
            "f97132593d1648069e262f0139f3ecb9",
            "e89b0fabfab544ac8477c90a1bca8611",
            "d2e8b143e9664376a1977dc0d9ea6ac4",
            "7521a51d5259488e8e140e41564cc419",
            "af5b81a040ab48a387ab1a5f8622279c",
            "e1751329a54b4168a0b9ee528c6e248d",
            "b263c4f824b7405fa7f4e734350e9f4f",
            "f6250881d0b04dfebee2ca5f2fde6eda",
            "22d82b9358b44093bf250ff4c3c63258",
            "afaa7e75b1c04bd1be2820cc5849bede",
            "3b176dc2058c4690b52aa95e87dd1d62",
            "09f0079e7d74475a985d979c92097e97",
            "7c7940de43bc4b59ac9905bbe2f2da0d",
            "e0d5ad2b34bf454a9715902741f6c1a1",
            "cc792430c8b546d1ac3784ebbe8c4a24",
            "0c2255ba5e0d487bbee4722fc48dc786",
            "5c07ee9c3904487e821ccf73fe9d326e",
            "0e969f13f3fd48e2a43bb15bd712dcd5",
            "6ecae52ff2f549be9309579b17dda561",
            "afd318c22bf7480787545cfa957050ef",
            "dec12e075e23453b9443d798ea870c8f",
            "52d95bb34fce407daa96616b1760ed4e",
            "90ad3098ef964a56bead7b667edda385",
            "775cf482f759485a86af70882e629cea",
            "5054f65ba9164b9b8a189936e00636bb",
            "d1f56ff2ad51472aa2014f9172d59c29"
          ]
        },
        "id": "vuSepgBmvjTX",
        "outputId": "4d40ac42-214f-4ec9-fa9e-2ceefb7b8058"
      },
      "id": "vuSepgBmvjTX",
      "execution_count": null,
      "outputs": [
        {
          "output_type": "stream",
          "name": "stdout",
          "text": [
            "Loading BERT tokenizer...\n"
          ]
        },
        {
          "output_type": "display_data",
          "data": {
            "text/plain": [
              "tokenizer_config.json:   0%|          | 0.00/43.0 [00:00<?, ?B/s]"
            ],
            "application/vnd.jupyter.widget-view+json": {
              "version_major": 2,
              "version_minor": 0,
              "model_id": "824e3d8171dd4e218b3741b070a3058e"
            }
          },
          "metadata": {}
        },
        {
          "output_type": "display_data",
          "data": {
            "text/plain": [
              "vocab.txt:   0%|          | 0.00/210k [00:00<?, ?B/s]"
            ],
            "application/vnd.jupyter.widget-view+json": {
              "version_major": 2,
              "version_minor": 0,
              "model_id": "b63d1bac2afc4696addd54944cbbff87"
            }
          },
          "metadata": {}
        },
        {
          "output_type": "display_data",
          "data": {
            "text/plain": [
              "added_tokens.json:   0%|          | 0.00/2.00 [00:00<?, ?B/s]"
            ],
            "application/vnd.jupyter.widget-view+json": {
              "version_major": 2,
              "version_minor": 0,
              "model_id": "af5b81a040ab48a387ab1a5f8622279c"
            }
          },
          "metadata": {}
        },
        {
          "output_type": "display_data",
          "data": {
            "text/plain": [
              "special_tokens_map.json:   0%|          | 0.00/112 [00:00<?, ?B/s]"
            ],
            "application/vnd.jupyter.widget-view+json": {
              "version_major": 2,
              "version_minor": 0,
              "model_id": "0c2255ba5e0d487bbee4722fc48dc786"
            }
          },
          "metadata": {}
        }
      ]
    },
    {
      "cell_type": "markdown",
      "id": "83314bbe",
      "metadata": {
        "id": "83314bbe"
      },
      "source": [
        "## Prepare Dataset\n",
        "\n",
        "---"
      ]
    },
    {
      "cell_type": "markdown",
      "source": [
        "Load the cvs file of the dataset chosen to train the model:"
      ],
      "metadata": {
        "id": "gQ5oPenxfKon"
      },
      "id": "gQ5oPenxfKon"
    },
    {
      "cell_type": "code",
      "execution_count": null,
      "id": "8ab7464e",
      "metadata": {
        "id": "8ab7464e",
        "collapsed": true
      },
      "outputs": [],
      "source": [
        "import pandas as pd\n",
        "import numpy as np\n",
        "\n",
        "pd.set_option('display.max_columns', None)\n",
        "\n",
        "df = pd.read_csv(FILE_PATH)"
      ]
    },
    {
      "cell_type": "markdown",
      "source": [
        "Filter relevant items:"
      ],
      "metadata": {
        "id": "o-W00MPkg3aU"
      },
      "id": "o-W00MPkg3aU"
    },
    {
      "cell_type": "code",
      "source": [
        "df = df[df[RELEVANCE] == RELEVANCE_ID]\n",
        "print(df[RELEVANCE].value_counts())"
      ],
      "metadata": {
        "id": "GoxHSZP1g8Fj"
      },
      "id": "GoxHSZP1g8Fj",
      "execution_count": null,
      "outputs": []
    },
    {
      "cell_type": "markdown",
      "source": [
        "Run this cell to display the dataset:"
      ],
      "metadata": {
        "id": "SYOZdtrQfhJB"
      },
      "id": "SYOZdtrQfhJB"
    },
    {
      "cell_type": "code",
      "source": [
        "df"
      ],
      "metadata": {
        "colab": {
          "base_uri": "https://localhost:8080/",
          "height": 999
        },
        "collapsed": true,
        "id": "FQIgSbOBS5eF",
        "outputId": "ee2e67b6-768f-4e91-9ce7-f4026ae02f9d"
      },
      "id": "FQIgSbOBS5eF",
      "execution_count": null,
      "outputs": [
        {
          "output_type": "execute_result",
          "data": {
            "text/plain": [
              "     tweet_id                                            content  \\\n",
              "0        A522  A cabeça pensa onde o pé pisa. Quem governa de...   \n",
              "1        A457  Sarto vai fazer um grande Programa de Enfrenta...   \n",
              "2        A445  A Câmara dos Deputados votou hoje a MP que tra...   \n",
              "3        A546  Tirar Bolsonaro do poder é uma questão de vida...   \n",
              "4        A847  E a LIESA decidiu adiar os desfiles do #Carnav...   \n",
              "...       ...                                                ...   \n",
              "2981    B1751  A dermatologista Ligia Kogos receitou hidroxic...   \n",
              "2984    B1907  Neste sábado, a China injetou sua primeira vac...   \n",
              "2989    B2077  A fabricação de cloroquina pelas Forças Armada...   \n",
              "2992    B2122  Enquanto o Brasil recebe cloroquina do EUA e a...   \n",
              "2995    B2348  Em defesa da #cloroquina, 31 #cientistas brasi...   \n",
              "\n",
              "     Corrected_sentimento Corrected_stance Corrected_relevante  \\\n",
              "0                negative        favorable            relevant   \n",
              "1                positive        favorable            relevant   \n",
              "2                negative        favorable            relevant   \n",
              "3                negative        favorable            relevant   \n",
              "4                negative        favorable            relevant   \n",
              "...                   ...              ...                 ...   \n",
              "2981             negative          unclear            relevant   \n",
              "2984             positive        favorable            relevant   \n",
              "2989             negative          unclear            relevant   \n",
              "2992             negative          unclear            relevant   \n",
              "2995             positive          unclear            relevant   \n",
              "\n",
              "     Corrected_children  round   date_post  year  \n",
              "0                  true      1  2020-09-15  2020  \n",
              "1                 false      1  2020-11-20  2020  \n",
              "2                 false      1  2020-12-18  2020  \n",
              "3                 false      1  2020-11-10  2020  \n",
              "4                 false      1  2020-09-24  2020  \n",
              "...                 ...    ...         ...   ...  \n",
              "2981              false     27  2020-04-18  2020  \n",
              "2984              false     27  2020-03-21  2020  \n",
              "2989              false     27  2020-05-20  2020  \n",
              "2992              false     27  2020-06-17  2020  \n",
              "2995              false     27  2020-04-11  2020  \n",
              "\n",
              "[1407 rows x 9 columns]"
            ],
            "text/html": [
              "\n",
              "  <div id=\"df-47d6aec2-6708-4455-aacb-03c569b1710e\" class=\"colab-df-container\">\n",
              "    <div>\n",
              "<style scoped>\n",
              "    .dataframe tbody tr th:only-of-type {\n",
              "        vertical-align: middle;\n",
              "    }\n",
              "\n",
              "    .dataframe tbody tr th {\n",
              "        vertical-align: top;\n",
              "    }\n",
              "\n",
              "    .dataframe thead th {\n",
              "        text-align: right;\n",
              "    }\n",
              "</style>\n",
              "<table border=\"1\" class=\"dataframe\">\n",
              "  <thead>\n",
              "    <tr style=\"text-align: right;\">\n",
              "      <th></th>\n",
              "      <th>tweet_id</th>\n",
              "      <th>content</th>\n",
              "      <th>Corrected_sentimento</th>\n",
              "      <th>Corrected_stance</th>\n",
              "      <th>Corrected_relevante</th>\n",
              "      <th>Corrected_children</th>\n",
              "      <th>round</th>\n",
              "      <th>date_post</th>\n",
              "      <th>year</th>\n",
              "    </tr>\n",
              "  </thead>\n",
              "  <tbody>\n",
              "    <tr>\n",
              "      <th>0</th>\n",
              "      <td>A522</td>\n",
              "      <td>A cabeça pensa onde o pé pisa. Quem governa de...</td>\n",
              "      <td>negative</td>\n",
              "      <td>favorable</td>\n",
              "      <td>relevant</td>\n",
              "      <td>true</td>\n",
              "      <td>1</td>\n",
              "      <td>2020-09-15</td>\n",
              "      <td>2020</td>\n",
              "    </tr>\n",
              "    <tr>\n",
              "      <th>1</th>\n",
              "      <td>A457</td>\n",
              "      <td>Sarto vai fazer um grande Programa de Enfrenta...</td>\n",
              "      <td>positive</td>\n",
              "      <td>favorable</td>\n",
              "      <td>relevant</td>\n",
              "      <td>false</td>\n",
              "      <td>1</td>\n",
              "      <td>2020-11-20</td>\n",
              "      <td>2020</td>\n",
              "    </tr>\n",
              "    <tr>\n",
              "      <th>2</th>\n",
              "      <td>A445</td>\n",
              "      <td>A Câmara dos Deputados votou hoje a MP que tra...</td>\n",
              "      <td>negative</td>\n",
              "      <td>favorable</td>\n",
              "      <td>relevant</td>\n",
              "      <td>false</td>\n",
              "      <td>1</td>\n",
              "      <td>2020-12-18</td>\n",
              "      <td>2020</td>\n",
              "    </tr>\n",
              "    <tr>\n",
              "      <th>3</th>\n",
              "      <td>A546</td>\n",
              "      <td>Tirar Bolsonaro do poder é uma questão de vida...</td>\n",
              "      <td>negative</td>\n",
              "      <td>favorable</td>\n",
              "      <td>relevant</td>\n",
              "      <td>false</td>\n",
              "      <td>1</td>\n",
              "      <td>2020-11-10</td>\n",
              "      <td>2020</td>\n",
              "    </tr>\n",
              "    <tr>\n",
              "      <th>4</th>\n",
              "      <td>A847</td>\n",
              "      <td>E a LIESA decidiu adiar os desfiles do #Carnav...</td>\n",
              "      <td>negative</td>\n",
              "      <td>favorable</td>\n",
              "      <td>relevant</td>\n",
              "      <td>false</td>\n",
              "      <td>1</td>\n",
              "      <td>2020-09-24</td>\n",
              "      <td>2020</td>\n",
              "    </tr>\n",
              "    <tr>\n",
              "      <th>...</th>\n",
              "      <td>...</td>\n",
              "      <td>...</td>\n",
              "      <td>...</td>\n",
              "      <td>...</td>\n",
              "      <td>...</td>\n",
              "      <td>...</td>\n",
              "      <td>...</td>\n",
              "      <td>...</td>\n",
              "      <td>...</td>\n",
              "    </tr>\n",
              "    <tr>\n",
              "      <th>2981</th>\n",
              "      <td>B1751</td>\n",
              "      <td>A dermatologista Ligia Kogos receitou hidroxic...</td>\n",
              "      <td>negative</td>\n",
              "      <td>unclear</td>\n",
              "      <td>relevant</td>\n",
              "      <td>false</td>\n",
              "      <td>27</td>\n",
              "      <td>2020-04-18</td>\n",
              "      <td>2020</td>\n",
              "    </tr>\n",
              "    <tr>\n",
              "      <th>2984</th>\n",
              "      <td>B1907</td>\n",
              "      <td>Neste sábado, a China injetou sua primeira vac...</td>\n",
              "      <td>positive</td>\n",
              "      <td>favorable</td>\n",
              "      <td>relevant</td>\n",
              "      <td>false</td>\n",
              "      <td>27</td>\n",
              "      <td>2020-03-21</td>\n",
              "      <td>2020</td>\n",
              "    </tr>\n",
              "    <tr>\n",
              "      <th>2989</th>\n",
              "      <td>B2077</td>\n",
              "      <td>A fabricação de cloroquina pelas Forças Armada...</td>\n",
              "      <td>negative</td>\n",
              "      <td>unclear</td>\n",
              "      <td>relevant</td>\n",
              "      <td>false</td>\n",
              "      <td>27</td>\n",
              "      <td>2020-05-20</td>\n",
              "      <td>2020</td>\n",
              "    </tr>\n",
              "    <tr>\n",
              "      <th>2992</th>\n",
              "      <td>B2122</td>\n",
              "      <td>Enquanto o Brasil recebe cloroquina do EUA e a...</td>\n",
              "      <td>negative</td>\n",
              "      <td>unclear</td>\n",
              "      <td>relevant</td>\n",
              "      <td>false</td>\n",
              "      <td>27</td>\n",
              "      <td>2020-06-17</td>\n",
              "      <td>2020</td>\n",
              "    </tr>\n",
              "    <tr>\n",
              "      <th>2995</th>\n",
              "      <td>B2348</td>\n",
              "      <td>Em defesa da #cloroquina, 31 #cientistas brasi...</td>\n",
              "      <td>positive</td>\n",
              "      <td>unclear</td>\n",
              "      <td>relevant</td>\n",
              "      <td>false</td>\n",
              "      <td>27</td>\n",
              "      <td>2020-04-11</td>\n",
              "      <td>2020</td>\n",
              "    </tr>\n",
              "  </tbody>\n",
              "</table>\n",
              "<p>1407 rows × 9 columns</p>\n",
              "</div>\n",
              "    <div class=\"colab-df-buttons\">\n",
              "\n",
              "  <div class=\"colab-df-container\">\n",
              "    <button class=\"colab-df-convert\" onclick=\"convertToInteractive('df-47d6aec2-6708-4455-aacb-03c569b1710e')\"\n",
              "            title=\"Convert this dataframe to an interactive table.\"\n",
              "            style=\"display:none;\">\n",
              "\n",
              "  <svg xmlns=\"http://www.w3.org/2000/svg\" height=\"24px\" viewBox=\"0 -960 960 960\">\n",
              "    <path d=\"M120-120v-720h720v720H120Zm60-500h600v-160H180v160Zm220 220h160v-160H400v160Zm0 220h160v-160H400v160ZM180-400h160v-160H180v160Zm440 0h160v-160H620v160ZM180-180h160v-160H180v160Zm440 0h160v-160H620v160Z\"/>\n",
              "  </svg>\n",
              "    </button>\n",
              "\n",
              "  <style>\n",
              "    .colab-df-container {\n",
              "      display:flex;\n",
              "      gap: 12px;\n",
              "    }\n",
              "\n",
              "    .colab-df-convert {\n",
              "      background-color: #E8F0FE;\n",
              "      border: none;\n",
              "      border-radius: 50%;\n",
              "      cursor: pointer;\n",
              "      display: none;\n",
              "      fill: #1967D2;\n",
              "      height: 32px;\n",
              "      padding: 0 0 0 0;\n",
              "      width: 32px;\n",
              "    }\n",
              "\n",
              "    .colab-df-convert:hover {\n",
              "      background-color: #E2EBFA;\n",
              "      box-shadow: 0px 1px 2px rgba(60, 64, 67, 0.3), 0px 1px 3px 1px rgba(60, 64, 67, 0.15);\n",
              "      fill: #174EA6;\n",
              "    }\n",
              "\n",
              "    .colab-df-buttons div {\n",
              "      margin-bottom: 4px;\n",
              "    }\n",
              "\n",
              "    [theme=dark] .colab-df-convert {\n",
              "      background-color: #3B4455;\n",
              "      fill: #D2E3FC;\n",
              "    }\n",
              "\n",
              "    [theme=dark] .colab-df-convert:hover {\n",
              "      background-color: #434B5C;\n",
              "      box-shadow: 0px 1px 3px 1px rgba(0, 0, 0, 0.15);\n",
              "      filter: drop-shadow(0px 1px 2px rgba(0, 0, 0, 0.3));\n",
              "      fill: #FFFFFF;\n",
              "    }\n",
              "  </style>\n",
              "\n",
              "    <script>\n",
              "      const buttonEl =\n",
              "        document.querySelector('#df-47d6aec2-6708-4455-aacb-03c569b1710e button.colab-df-convert');\n",
              "      buttonEl.style.display =\n",
              "        google.colab.kernel.accessAllowed ? 'block' : 'none';\n",
              "\n",
              "      async function convertToInteractive(key) {\n",
              "        const element = document.querySelector('#df-47d6aec2-6708-4455-aacb-03c569b1710e');\n",
              "        const dataTable =\n",
              "          await google.colab.kernel.invokeFunction('convertToInteractive',\n",
              "                                                    [key], {});\n",
              "        if (!dataTable) return;\n",
              "\n",
              "        const docLinkHtml = 'Like what you see? Visit the ' +\n",
              "          '<a target=\"_blank\" href=https://colab.research.google.com/notebooks/data_table.ipynb>data table notebook</a>'\n",
              "          + ' to learn more about interactive tables.';\n",
              "        element.innerHTML = '';\n",
              "        dataTable['output_type'] = 'display_data';\n",
              "        await google.colab.output.renderOutput(dataTable, element);\n",
              "        const docLink = document.createElement('div');\n",
              "        docLink.innerHTML = docLinkHtml;\n",
              "        element.appendChild(docLink);\n",
              "      }\n",
              "    </script>\n",
              "  </div>\n",
              "\n",
              "\n",
              "<div id=\"df-ce5f0d48-6fe6-4be2-98f4-1605c14a6a3c\">\n",
              "  <button class=\"colab-df-quickchart\" onclick=\"quickchart('df-ce5f0d48-6fe6-4be2-98f4-1605c14a6a3c')\"\n",
              "            title=\"Suggest charts\"\n",
              "            style=\"display:none;\">\n",
              "\n",
              "<svg xmlns=\"http://www.w3.org/2000/svg\" height=\"24px\"viewBox=\"0 0 24 24\"\n",
              "     width=\"24px\">\n",
              "    <g>\n",
              "        <path d=\"M19 3H5c-1.1 0-2 .9-2 2v14c0 1.1.9 2 2 2h14c1.1 0 2-.9 2-2V5c0-1.1-.9-2-2-2zM9 17H7v-7h2v7zm4 0h-2V7h2v10zm4 0h-2v-4h2v4z\"/>\n",
              "    </g>\n",
              "</svg>\n",
              "  </button>\n",
              "\n",
              "<style>\n",
              "  .colab-df-quickchart {\n",
              "      --bg-color: #E8F0FE;\n",
              "      --fill-color: #1967D2;\n",
              "      --hover-bg-color: #E2EBFA;\n",
              "      --hover-fill-color: #174EA6;\n",
              "      --disabled-fill-color: #AAA;\n",
              "      --disabled-bg-color: #DDD;\n",
              "  }\n",
              "\n",
              "  [theme=dark] .colab-df-quickchart {\n",
              "      --bg-color: #3B4455;\n",
              "      --fill-color: #D2E3FC;\n",
              "      --hover-bg-color: #434B5C;\n",
              "      --hover-fill-color: #FFFFFF;\n",
              "      --disabled-bg-color: #3B4455;\n",
              "      --disabled-fill-color: #666;\n",
              "  }\n",
              "\n",
              "  .colab-df-quickchart {\n",
              "    background-color: var(--bg-color);\n",
              "    border: none;\n",
              "    border-radius: 50%;\n",
              "    cursor: pointer;\n",
              "    display: none;\n",
              "    fill: var(--fill-color);\n",
              "    height: 32px;\n",
              "    padding: 0;\n",
              "    width: 32px;\n",
              "  }\n",
              "\n",
              "  .colab-df-quickchart:hover {\n",
              "    background-color: var(--hover-bg-color);\n",
              "    box-shadow: 0 1px 2px rgba(60, 64, 67, 0.3), 0 1px 3px 1px rgba(60, 64, 67, 0.15);\n",
              "    fill: var(--button-hover-fill-color);\n",
              "  }\n",
              "\n",
              "  .colab-df-quickchart-complete:disabled,\n",
              "  .colab-df-quickchart-complete:disabled:hover {\n",
              "    background-color: var(--disabled-bg-color);\n",
              "    fill: var(--disabled-fill-color);\n",
              "    box-shadow: none;\n",
              "  }\n",
              "\n",
              "  .colab-df-spinner {\n",
              "    border: 2px solid var(--fill-color);\n",
              "    border-color: transparent;\n",
              "    border-bottom-color: var(--fill-color);\n",
              "    animation:\n",
              "      spin 1s steps(1) infinite;\n",
              "  }\n",
              "\n",
              "  @keyframes spin {\n",
              "    0% {\n",
              "      border-color: transparent;\n",
              "      border-bottom-color: var(--fill-color);\n",
              "      border-left-color: var(--fill-color);\n",
              "    }\n",
              "    20% {\n",
              "      border-color: transparent;\n",
              "      border-left-color: var(--fill-color);\n",
              "      border-top-color: var(--fill-color);\n",
              "    }\n",
              "    30% {\n",
              "      border-color: transparent;\n",
              "      border-left-color: var(--fill-color);\n",
              "      border-top-color: var(--fill-color);\n",
              "      border-right-color: var(--fill-color);\n",
              "    }\n",
              "    40% {\n",
              "      border-color: transparent;\n",
              "      border-right-color: var(--fill-color);\n",
              "      border-top-color: var(--fill-color);\n",
              "    }\n",
              "    60% {\n",
              "      border-color: transparent;\n",
              "      border-right-color: var(--fill-color);\n",
              "    }\n",
              "    80% {\n",
              "      border-color: transparent;\n",
              "      border-right-color: var(--fill-color);\n",
              "      border-bottom-color: var(--fill-color);\n",
              "    }\n",
              "    90% {\n",
              "      border-color: transparent;\n",
              "      border-bottom-color: var(--fill-color);\n",
              "    }\n",
              "  }\n",
              "</style>\n",
              "\n",
              "  <script>\n",
              "    async function quickchart(key) {\n",
              "      const quickchartButtonEl =\n",
              "        document.querySelector('#' + key + ' button');\n",
              "      quickchartButtonEl.disabled = true;  // To prevent multiple clicks.\n",
              "      quickchartButtonEl.classList.add('colab-df-spinner');\n",
              "      try {\n",
              "        const charts = await google.colab.kernel.invokeFunction(\n",
              "            'suggestCharts', [key], {});\n",
              "      } catch (error) {\n",
              "        console.error('Error during call to suggestCharts:', error);\n",
              "      }\n",
              "      quickchartButtonEl.classList.remove('colab-df-spinner');\n",
              "      quickchartButtonEl.classList.add('colab-df-quickchart-complete');\n",
              "    }\n",
              "    (() => {\n",
              "      let quickchartButtonEl =\n",
              "        document.querySelector('#df-ce5f0d48-6fe6-4be2-98f4-1605c14a6a3c button');\n",
              "      quickchartButtonEl.style.display =\n",
              "        google.colab.kernel.accessAllowed ? 'block' : 'none';\n",
              "    })();\n",
              "  </script>\n",
              "</div>\n",
              "\n",
              "  <div id=\"id_375dadc8-3c29-4af1-8d84-d58739491e94\">\n",
              "    <style>\n",
              "      .colab-df-generate {\n",
              "        background-color: #E8F0FE;\n",
              "        border: none;\n",
              "        border-radius: 50%;\n",
              "        cursor: pointer;\n",
              "        display: none;\n",
              "        fill: #1967D2;\n",
              "        height: 32px;\n",
              "        padding: 0 0 0 0;\n",
              "        width: 32px;\n",
              "      }\n",
              "\n",
              "      .colab-df-generate:hover {\n",
              "        background-color: #E2EBFA;\n",
              "        box-shadow: 0px 1px 2px rgba(60, 64, 67, 0.3), 0px 1px 3px 1px rgba(60, 64, 67, 0.15);\n",
              "        fill: #174EA6;\n",
              "      }\n",
              "\n",
              "      [theme=dark] .colab-df-generate {\n",
              "        background-color: #3B4455;\n",
              "        fill: #D2E3FC;\n",
              "      }\n",
              "\n",
              "      [theme=dark] .colab-df-generate:hover {\n",
              "        background-color: #434B5C;\n",
              "        box-shadow: 0px 1px 3px 1px rgba(0, 0, 0, 0.15);\n",
              "        filter: drop-shadow(0px 1px 2px rgba(0, 0, 0, 0.3));\n",
              "        fill: #FFFFFF;\n",
              "      }\n",
              "    </style>\n",
              "    <button class=\"colab-df-generate\" onclick=\"generateWithVariable('df')\"\n",
              "            title=\"Generate code using this dataframe.\"\n",
              "            style=\"display:none;\">\n",
              "\n",
              "  <svg xmlns=\"http://www.w3.org/2000/svg\" height=\"24px\"viewBox=\"0 0 24 24\"\n",
              "       width=\"24px\">\n",
              "    <path d=\"M7,19H8.4L18.45,9,17,7.55,7,17.6ZM5,21V16.75L18.45,3.32a2,2,0,0,1,2.83,0l1.4,1.43a1.91,1.91,0,0,1,.58,1.4,1.91,1.91,0,0,1-.58,1.4L9.25,21ZM18.45,9,17,7.55Zm-12,3A5.31,5.31,0,0,0,4.9,8.1,5.31,5.31,0,0,0,1,6.5,5.31,5.31,0,0,0,4.9,4.9,5.31,5.31,0,0,0,6.5,1,5.31,5.31,0,0,0,8.1,4.9,5.31,5.31,0,0,0,12,6.5,5.46,5.46,0,0,0,6.5,12Z\"/>\n",
              "  </svg>\n",
              "    </button>\n",
              "    <script>\n",
              "      (() => {\n",
              "      const buttonEl =\n",
              "        document.querySelector('#id_375dadc8-3c29-4af1-8d84-d58739491e94 button.colab-df-generate');\n",
              "      buttonEl.style.display =\n",
              "        google.colab.kernel.accessAllowed ? 'block' : 'none';\n",
              "\n",
              "      buttonEl.onclick = () => {\n",
              "        google.colab.notebook.generateWithVariable('df');\n",
              "      }\n",
              "      })();\n",
              "    </script>\n",
              "  </div>\n",
              "\n",
              "    </div>\n",
              "  </div>\n"
            ],
            "application/vnd.google.colaboratory.intrinsic+json": {
              "type": "dataframe",
              "variable_name": "df",
              "summary": "{\n  \"name\": \"df\",\n  \"rows\": 1407,\n  \"fields\": [\n    {\n      \"column\": \"tweet_id\",\n      \"properties\": {\n        \"dtype\": \"string\",\n        \"num_unique_values\": 1407,\n        \"samples\": [\n          \"A1991\",\n          \"B73\",\n          \"B4791\"\n        ],\n        \"semantic_type\": \"\",\n        \"description\": \"\"\n      }\n    },\n    {\n      \"column\": \"content\",\n      \"properties\": {\n        \"dtype\": \"string\",\n        \"num_unique_values\": 1401,\n        \"samples\": [\n          \"Na quest\\u00e3o da Cloroquina, o presidente confunde pesquisa com novos medicamentos e corrida de cavalos. N\\u00e3o \\u00e9 apenas uma aposta ou uma torcida; precisa-se de evid\\u00eancias cient\\u00edficas, pois envolve riscos e vidas humanas. Se ele estiver errado, n\\u00e3o ser\\u00e1 s\\u00f3 ele quem vai perder.\",\n          \"Cara, como algu\\u00e9m normal pode participar ou at\\u00e9 ajudar a organizar uma passeata contra uma vacina??? Por favor, se algu\\u00e9m puder, me explique. Passeata pra n\\u00e3o virar jacar\\u00e9?! \\ud83d\\ude02\\ud83d\\ude02\\ud83d\\ude02\",\n          \"Vacina \\u00e9 um Direito! https://t.co/TGDESegBYU\"\n        ],\n        \"semantic_type\": \"\",\n        \"description\": \"\"\n      }\n    },\n    {\n      \"column\": \"Corrected_sentimento\",\n      \"properties\": {\n        \"dtype\": \"category\",\n        \"num_unique_values\": 3,\n        \"samples\": [\n          \"negative\",\n          \"positive\",\n          \"unclear\"\n        ],\n        \"semantic_type\": \"\",\n        \"description\": \"\"\n      }\n    },\n    {\n      \"column\": \"Corrected_stance\",\n      \"properties\": {\n        \"dtype\": \"category\",\n        \"num_unique_values\": 3,\n        \"samples\": [\n          \"favorable\",\n          \"unclear\",\n          \"unfavorable\"\n        ],\n        \"semantic_type\": \"\",\n        \"description\": \"\"\n      }\n    },\n    {\n      \"column\": \"Corrected_relevante\",\n      \"properties\": {\n        \"dtype\": \"category\",\n        \"num_unique_values\": 1,\n        \"samples\": [\n          \"relevant\"\n        ],\n        \"semantic_type\": \"\",\n        \"description\": \"\"\n      }\n    },\n    {\n      \"column\": \"Corrected_children\",\n      \"properties\": {\n        \"dtype\": \"category\",\n        \"num_unique_values\": 3,\n        \"samples\": [\n          \"true\"\n        ],\n        \"semantic_type\": \"\",\n        \"description\": \"\"\n      }\n    },\n    {\n      \"column\": \"round\",\n      \"properties\": {\n        \"dtype\": \"number\",\n        \"std\": 7,\n        \"min\": 1,\n        \"max\": 27,\n        \"num_unique_values\": 27,\n        \"samples\": [\n          9\n        ],\n        \"semantic_type\": \"\",\n        \"description\": \"\"\n      }\n    },\n    {\n      \"column\": \"date_post\",\n      \"properties\": {\n        \"dtype\": \"object\",\n        \"num_unique_values\": 254,\n        \"samples\": [\n          \"2020-08-05\"\n        ],\n        \"semantic_type\": \"\",\n        \"description\": \"\"\n      }\n    },\n    {\n      \"column\": \"year\",\n      \"properties\": {\n        \"dtype\": \"number\",\n        \"std\": 0,\n        \"min\": 2020,\n        \"max\": 2020,\n        \"num_unique_values\": 1,\n        \"samples\": [\n          2020\n        ],\n        \"semantic_type\": \"\",\n        \"description\": \"\"\n      }\n    }\n  ]\n}"
            }
          },
          "metadata": {},
          "execution_count": 15
        }
      ]
    },
    {
      "cell_type": "markdown",
      "id": "ebf081a9",
      "metadata": {
        "id": "ebf081a9"
      },
      "source": [
        "###  Parsing"
      ]
    },
    {
      "cell_type": "markdown",
      "source": [
        "Display the class distribution of the dataset:"
      ],
      "metadata": {
        "id": "97hZQOF-UOXi"
      },
      "id": "97hZQOF-UOXi"
    },
    {
      "cell_type": "code",
      "source": [
        "print(\"Tweet_Sentiments\", YEAR + \":\\n\")\n",
        "\n",
        "print(df[SENTIMENT].value_counts())"
      ],
      "metadata": {
        "colab": {
          "base_uri": "https://localhost:8080/"
        },
        "id": "8X1xE1R8HFP7",
        "outputId": "60754246-eac7-4467-9ab5-39d3ab624a5a"
      },
      "id": "8X1xE1R8HFP7",
      "execution_count": null,
      "outputs": [
        {
          "output_type": "stream",
          "name": "stdout",
          "text": [
            "Tweet_Sentiments 2020:\n",
            "\n",
            "Corrected_sentimento\n",
            "negative    888\n",
            "positive    443\n",
            "unclear      76\n",
            "Name: count, dtype: int64\n"
          ]
        }
      ]
    },
    {
      "cell_type": "markdown",
      "source": [
        "Here, we will recode the class names to use integers instead of strings:"
      ],
      "metadata": {
        "id": "PH0_CMBSWEdq"
      },
      "id": "PH0_CMBSWEdq"
    },
    {
      "cell_type": "code",
      "source": [
        "classes = {1:'unfav/neg',\n",
        "           2:'unfav/pos',\n",
        "           3:'unfav/unclear',\n",
        "           4:'fav/neg',\n",
        "           5:'fav/pos',\n",
        "           6:'fav/unclear',\n",
        "           7:'unclear/neg',\n",
        "           8:'unclear/pos',\n",
        "           9:'unclear/unclear'}"
      ],
      "metadata": {
        "id": "_r6z2G2KILYD"
      },
      "id": "_r6z2G2KILYD",
      "execution_count": null,
      "outputs": []
    },
    {
      "cell_type": "code",
      "execution_count": null,
      "id": "af9d3e11",
      "metadata": {
        "id": "af9d3e11"
      },
      "outputs": [],
      "source": [
        "def condition(stance, sentiment):\n",
        "    if stance == NEGATIVE_STANCE:\n",
        "        if sentiment == NEGATIVE_SENTIMENT:\n",
        "          return 1\n",
        "        elif sentiment == POSITIVE_SENTIMENT:\n",
        "          return 2\n",
        "        else: # unclear sentiment\n",
        "          return 3\n",
        "\n",
        "    elif stance == POSITIVE_STANCE:\n",
        "        if sentiment == NEGATIVE_SENTIMENT:\n",
        "          return 4\n",
        "        elif sentiment == POSITIVE_SENTIMENT:\n",
        "          return 5\n",
        "        else: # unclear sentiment\n",
        "          return 6\n",
        "\n",
        "    else: # unclear stance\n",
        "        if sentiment == NEGATIVE_SENTIMENT:\n",
        "          return 7\n",
        "        elif sentiment == POSITIVE_SENTIMENT:\n",
        "          return 8\n",
        "        else: # unclear sentiment\n",
        "          return 9"
      ]
    },
    {
      "cell_type": "code",
      "source": [
        "df['CLASS'] = df.apply(lambda row: condition(row['STANCE'], row['SENTIMENT']), axis=1)\n",
        "df[[STANCE, SENTIMENT, 'CLASS']]"
      ],
      "metadata": {
        "id": "1iSMvNxwI3kh"
      },
      "id": "1iSMvNxwI3kh",
      "execution_count": null,
      "outputs": []
    },
    {
      "cell_type": "markdown",
      "source": [
        "We will illustrate this recoding of class names by displaying the class distributions again:"
      ],
      "metadata": {
        "id": "64Z9jrRRgNyZ"
      },
      "id": "64Z9jrRRgNyZ"
    },
    {
      "cell_type": "code",
      "source": [
        "print(df['CLASS'].value_counts())"
      ],
      "metadata": {
        "id": "UepfLsx7gfuj",
        "colab": {
          "base_uri": "https://localhost:8080/"
        },
        "outputId": "11660c78-f423-424f-80e6-a00f10c30330"
      },
      "id": "UepfLsx7gfuj",
      "execution_count": null,
      "outputs": [
        {
          "output_type": "stream",
          "name": "stdout",
          "text": [
            "Corrected_sentimento\n",
            "0    888\n",
            "1    443\n",
            "2     76\n",
            "Name: count, dtype: int64\n"
          ]
        }
      ]
    },
    {
      "cell_type": "markdown",
      "source": [
        "Plot overall class distribution and save the graph as a png:"
      ],
      "metadata": {
        "id": "zEwndYjNiFxi"
      },
      "id": "zEwndYjNiFxi"
    },
    {
      "cell_type": "code",
      "source": [
        "import seaborn as sns\n",
        "import matplotlib.pyplot as plt\n",
        "\n",
        "plt.figure(figsize=(5, 5))\n",
        "ax = sns.countplot(df,\n",
        "                   x=SENTIMENT,\n",
        "                   hue=SENTIMENT,\n",
        "                   palette=\"Paired\",\n",
        "                   width=0.3,\n",
        "                   legend=False\n",
        "                  )\n",
        "\n",
        "plt.title(\"Class Distribution - Whole Dataset\",fontsize=22)\n",
        "plt.xlabel('Stance/Sentiment',fontsize=12)\n",
        "plt.ylabel('Count',fontsize=12)\n",
        "\n",
        "plt.xticks([0,1,2,3,4,5,6,7,8],[classes[1], classes[2], classes[3], classes[4], classes[5], classes[6], classes[7], classes[8], classes[9]])\n",
        "\n",
        "plt.grid(True,axis='y',\n",
        "         linestyle=':',\n",
        "         linewidth=0.5\n",
        "        )\n",
        "\n",
        "for i in ax.containers:\n",
        "    ax.bar_label(i,)\n",
        "\n",
        "\n",
        "plt.savefig(FOLDER_PATH+'CombinedClassDistribution_WholeDataset_Seed'+ str(SEED_VAL) + '.png',\n",
        "            format='png',\n",
        "            transparent = True,\n",
        "            bbox_inches='tight',\n",
        "            pad_inches=0.1\n",
        "           )"
      ],
      "metadata": {
        "colab": {
          "base_uri": "https://localhost:8080/",
          "height": 500
        },
        "id": "Wym1M45NiJyP",
        "outputId": "c61be473-bb2e-4032-ccfe-ad426facb285"
      },
      "id": "Wym1M45NiJyP",
      "execution_count": null,
      "outputs": [
        {
          "output_type": "display_data",
          "data": {
            "text/plain": [
              "<Figure size 500x500 with 1 Axes>"
            ],
            "image/png": "[encoded data removed]"
          },
          "metadata": {}
        }
      ]
    },
    {
      "cell_type": "markdown",
      "source": [
        "### Split Train/Test Sets"
      ],
      "metadata": {
        "id": "C-dYohVKoByW"
      },
      "id": "C-dYohVKoByW"
    },
    {
      "cell_type": "markdown",
      "source": [
        "Here, we separate **20%** of the total observations for the **test set**. \\\\\n",
        "We use train_test_split so that the **data is shuffled** before splitting, using a seed (SEED_VAL) for the random state. \\\\\n",
        "We use a stratifier to ensure that **class distribution proportions are maintained** in both sets. \\\\\n",
        "\n",
        "**NOTE:** Train and Test sets should be tokenized and processed separately to avoid data leakage. \\\\"
      ],
      "metadata": {
        "id": "Dvx2_VjBSKfA"
      },
      "id": "Dvx2_VjBSKfA"
    },
    {
      "cell_type": "code",
      "source": [
        "from sklearn.model_selection import train_test_split\n",
        "\n",
        "df_train, df_test = train_test_split(df,\n",
        "                                     test_size = 0.2, # 20% for the test set\n",
        "                                     stratify = df['CLASS'], # maintain class proportions\n",
        "                                     random_state = SEED_VAL # ensures reproducibility of results\n",
        "                                    )"
      ],
      "metadata": {
        "id": "2HiVYUuDoE6F"
      },
      "id": "2HiVYUuDoE6F",
      "execution_count": null,
      "outputs": []
    },
    {
      "cell_type": "markdown",
      "source": [
        "Display class distributions of each set:"
      ],
      "metadata": {
        "id": "-zHrDbVdYVSm"
      },
      "id": "-zHrDbVdYVSm"
    },
    {
      "cell_type": "code",
      "source": [
        "print(\"Training Set Class Distribution:\")\n",
        "print(df_train['CLASS'].value_counts())\n",
        "print(\"\\nTest Set Class Distribution:\")\n",
        "print(df_test['CLASS'].value_counts())"
      ],
      "metadata": {
        "colab": {
          "base_uri": "https://localhost:8080/"
        },
        "id": "MqhHvh5MYX6T",
        "outputId": "37dc24ba-12be-4615-cbb9-e58cb91303f0"
      },
      "id": "MqhHvh5MYX6T",
      "execution_count": null,
      "outputs": [
        {
          "output_type": "stream",
          "name": "stdout",
          "text": [
            "Training Set Class Distribution:\n",
            "Corrected_sentimento\n",
            "0    799\n",
            "1    399\n",
            "2     68\n",
            "Name: count, dtype: int64\n",
            "\n",
            "Test Set Class Distribution:\n",
            "Corrected_sentimento\n",
            "0    89\n",
            "1    44\n",
            "2     8\n",
            "Name: count, dtype: int64\n"
          ]
        }
      ]
    },
    {
      "cell_type": "markdown",
      "source": [
        "Here, we plot class distributions across training/test sets and save graph as a png. \\\n",
        "We add the DATASET column for plotting purposes, it will not be relevant later."
      ],
      "metadata": {
        "id": "Y9Hv4XHUjRK8"
      },
      "id": "Y9Hv4XHUjRK8"
    },
    {
      "cell_type": "code",
      "source": [
        "df_train['DATASET'] = 'Train'\n",
        "df_test['DATASET'] = 'Test'\n",
        "\n",
        "# Combine the two DataFrames\n",
        "df_combined = pd.concat([df_train, df_test])\n",
        "\n",
        "# Plot class distributions in a single plot\n",
        "plt.figure(figsize=(5, 5))\n",
        "ax = sns.countplot(x='DATASET',\n",
        "                   hue='CLASS',\n",
        "                   data=df_combined,\n",
        "                   palette=\"Paired\",\n",
        "                   width=0.5\n",
        "                  )\n",
        "\n",
        "plt.title('Class Distribution - Train/Test Sets', fontsize=22)\n",
        "plt.xlabel('Dataset',fontsize=12)\n",
        "plt.ylabel('Count',fontsize=12)\n",
        "plt.legend(title='Classes', labels=[classes[1], classes[2], classes[3], classes[4], classes[5], classes[6], classes[7], classes[8], classes[9]])\n",
        "\n",
        "plt.grid(True,axis='y',\n",
        "         linestyle=':',\n",
        "         linewidth=0.5\n",
        "        )\n",
        "\n",
        "for i in ax.containers:\n",
        "    ax.bar_label(i,)\n",
        "\n",
        "plt.savefig(FOLDER_PATH+'CombinedClassDistribution_TrainTestSplit_Seed'+ str(SEED_VAL) + '.png',\n",
        "            format='png',\n",
        "            transparent = True,\n",
        "            bbox_inches='tight',\n",
        "            pad_inches=0.1\n",
        "           )"
      ],
      "metadata": {
        "colab": {
          "base_uri": "https://localhost:8080/",
          "height": 500
        },
        "id": "4__zHtJMjXVS",
        "outputId": "fdbca786-b713-4ddd-f549-d96f821716b4"
      },
      "id": "4__zHtJMjXVS",
      "execution_count": null,
      "outputs": [
        {
          "output_type": "display_data",
          "data": {
            "text/plain": [
              "<Figure size 500x500 with 1 Axes>"
            ],
            "image/png": "[encoded data removed]"
          },
          "metadata": {}
        }
      ]
    },
    {
      "cell_type": "markdown",
      "source": [
        "### Custom Dataset Class"
      ],
      "metadata": {
        "id": "Ctc1ZTW3olhK"
      },
      "id": "Ctc1ZTW3olhK"
    },
    {
      "cell_type": "markdown",
      "source": [
        "This class will be used to tokenize sentences:"
      ],
      "metadata": {
        "id": "hJfsakvNj96D"
      },
      "id": "hJfsakvNj96D"
    },
    {
      "cell_type": "code",
      "source": [
        "from torch.utils.data import Dataset\n",
        "\n",
        "class TweetDataset(Dataset):\n",
        "  def __init__(self, df):\n",
        "    self.df_data = df\n",
        "\n",
        "  def __getitem__(self, index):\n",
        "    # Get the sentences from the dataframe\n",
        "    sentence = self.df_data.iloc[index][POST]\n",
        "\n",
        "    # Transform the sentence\n",
        "\n",
        "    encoded_dict = tokenizer.encode_plus(sentence,  # Sentences to be tokenized\n",
        "                                         add_special_tokens = True, # [CLS] and [SEP]\n",
        "                                         padding = 'max_length',\n",
        "                                         max_length = MAX_LEN,\n",
        "                                         return_attention_mask = True, # Build attn. masks.\n",
        "                                         return_tensors = 'pt', # Return pytorch tensors\n",
        "                                        )\n",
        "\n",
        "\n",
        "    # Torch Tensors\n",
        "\n",
        "    padded_token_list = encoded_dict['input_ids'][0]\n",
        "    att_mask = encoded_dict['attention_mask'][0]\n",
        "    token_type_ids = encoded_dict['token_type_ids'][0]\n",
        "\n",
        "\n",
        "    # Transforming the Target into a tensor\n",
        "\n",
        "    target = torch.tensor(self.df_data.iloc[index]['CLASS'])\n",
        "\n",
        "    sample = (padded_token_list, att_mask, token_type_ids, target)\n",
        "\n",
        "    return sample\n",
        "\n",
        "\n",
        "  def __len__(self):\n",
        "\n",
        "    return len(self.df_data)"
      ],
      "metadata": {
        "id": "RT4jFm7Hoxm1"
      },
      "id": "RT4jFm7Hoxm1",
      "execution_count": null,
      "outputs": []
    },
    {
      "cell_type": "markdown",
      "source": [
        "### Create Test Dataloader"
      ],
      "metadata": {
        "id": "NzSknRaEuKrK"
      },
      "id": "NzSknRaEuKrK"
    },
    {
      "cell_type": "markdown",
      "source": [
        "Here, we create an object of the TweetDataset to tokenize all sentences in our curated dataset. \\\n",
        "We then create a DataLoader object to split the test data into batches, which will be used for the testing loop later one."
      ],
      "metadata": {
        "id": "Bc0SIfk0kJSE"
      },
      "id": "Bc0SIfk0kJSE"
    },
    {
      "cell_type": "code",
      "source": [
        "from torch.utils.data import DataLoader\n",
        "\n",
        "df_test.reset_index(drop=True, inplace=True)\n",
        "test_data = TweetDataset(df_test)\n",
        "\n",
        "test_dataloader = DataLoader(test_data,\n",
        "                             batch_size=BATCH_SIZE,\n",
        "                             shuffle=False,\n",
        "                             num_workers=NUM_CORES\n",
        "                            )\n",
        "\n",
        "print('Test Dataloader Length:',len(test_dataloader))\n",
        "print('\\nIndex Range of Test Dataloader:', df_test.index)\n",
        "print('\\nFirst 5 Rows of Test Dataloader:')\n",
        "print(df_test.head())\n"
      ],
      "metadata": {
        "colab": {
          "base_uri": "https://localhost:8080/"
        },
        "id": "1aPhljZ4ph6R",
        "outputId": "ee94c7db-fe50-463c-daad-58ec4f73bbbc"
      },
      "id": "1aPhljZ4ph6R",
      "execution_count": null,
      "outputs": [
        {
          "output_type": "stream",
          "name": "stdout",
          "text": [
            "Test Dataloader Length: 5\n",
            "\n",
            "Index Range of Test Dataloader: RangeIndex(start=0, stop=141, step=1)\n",
            "\n",
            "First 5 Rows of Test Dataloader:\n",
            "  tweet_id                                            content  \\\n",
            "0    B1361                @gui_pinheiro A Cloroquina do Adeus   \n",
            "1     A613  @dheberhardt1977 Vale a pena ler bem. Talvez n...   \n",
            "2    A1404  O governador @jdoriajr tem se diferenciado do ...   \n",
            "3     A439  Reino Unido iniciou a vacinação. EUA começou a...   \n",
            "4    A1149  Análise prévia da eficácia da vacina de Oxford...   \n",
            "\n",
            "   Corrected_sentimento Corrected_stance Corrected_relevante  \\\n",
            "0                     0          unclear            relevant   \n",
            "1                     1        favorable            relevant   \n",
            "2                     0        favorable            relevant   \n",
            "3                     0        favorable            relevant   \n",
            "4                     1        favorable            relevant   \n",
            "\n",
            "  Corrected_children  round   date_post  year DATASET  \n",
            "0              false     25  2020-04-10  2020    Test  \n",
            "1              false      8  2020-10-18  2020    Test  \n",
            "2              false     23  2020-12-14  2020    Test  \n",
            "3              false      8  2020-12-14  2020    Test  \n",
            "4              false      7  2020-08-16  2020    Test  \n"
          ]
        }
      ]
    },
    {
      "cell_type": "markdown",
      "source": [
        "## Metrics Function"
      ],
      "metadata": {
        "id": "K5d0UAxx7OLT"
      },
      "id": "K5d0UAxx7OLT"
    },
    {
      "cell_type": "markdown",
      "source": [
        "To return evaluation scores, we will use the **classification_report_with_accuracy_score** as defined below."
      ],
      "metadata": {
        "id": "iUZqCDy7mzUA"
      },
      "id": "iUZqCDy7mzUA"
    },
    {
      "cell_type": "markdown",
      "source": [
        "Arguments: \\\n",
        "- **preds** = a flat list of the predictions of the model as integers\n",
        "- **labels** = a flat list of the true classification of the corresponding predictions\n",
        "\n",
        "Returns: \\\n",
        "- **df_class_report** = a DataFrame of the classification report made using **preds** and **labels**, which includes:\n",
        "\n",
        " - *precision*, *recall*, and *F1-score* for each class.\n",
        "\n",
        " - *macro average* and *weighted average* between both classes for precision, recall and F1-score.\n",
        "\n",
        "\n",
        " - **overall_accuracy** = overall *accuracy* of the model.\n",
        "\n",
        " All metrics are rounded to the closest 2 decimals."
      ],
      "metadata": {
        "id": "ZnewCz6frxMG"
      },
      "id": "ZnewCz6frxMG"
    },
    {
      "cell_type": "code",
      "source": [
        "from sklearn.metrics import classification_report\n",
        "\n",
        "def classification_report_with_accuracy_score(preds, labels):\n",
        "    report = classification_report(labels, preds, output_dict = True, zero_division = 0)\n",
        "\n",
        "    df_class_report = pd.DataFrame(report).transpose()\n",
        "    df_class_report = df_class_report.round(decimals=2) # for better readibility\n",
        "\n",
        "    overall_accuracy = np.sum(preds == labels) / len(labels)\n",
        "    rounded_accuracy = overall_accuracy.round(decimals=2)\n",
        "\n",
        "    return df_class_report, rounded_accuracy"
      ],
      "metadata": {
        "id": "s9IkFODb7V_K"
      },
      "id": "s9IkFODb7V_K",
      "execution_count": null,
      "outputs": []
    },
    {
      "cell_type": "markdown",
      "source": [
        "## Evaluate the BERTimbau Pre-Trained Model\n",
        "\n"
      ],
      "metadata": {
        "id": "nljQ_ztLt-8J"
      },
      "id": "nljQ_ztLt-8J"
    },
    {
      "cell_type": "markdown",
      "source": [
        "Here, we will evaluate how BERTimbau (a pre-trained model) performs before being trained on our curated dataset. \\\n",
        "We refer to the process of specifically training BERTimbau on our dataset as fine-tuning, which will be done later on.  \n",
        "\n",
        "\\\\\n",
        "We will evaluate performance using the following metrics: \\\\\n",
        "- **Accuracy**: correct predictions/total number of instances\n",
        "- **Precision**: percentage of instances that the model classified correctly for a given class\n",
        "- **Recall**: percentage of instances of a given class that were classified correctly\n",
        "- **F1-Score**: harmonic mean of precision and recall\n",
        "- **Confusion Matrix**: represents number of actual outputs versus predicted outputs\n"
      ],
      "metadata": {
        "id": "lVVwwBD0DRGq"
      },
      "id": "lVVwwBD0DRGq"
    },
    {
      "cell_type": "markdown",
      "source": [
        "###Test batches"
      ],
      "metadata": {
        "id": "ZQ_DR5iV9EYM"
      },
      "id": "ZQ_DR5iV9EYM"
    },
    {
      "cell_type": "markdown",
      "source": [
        "Use the test_dataloader to evaluate BERTimbau's performance, testing in batches:"
      ],
      "metadata": {
        "id": "NL4wCVGPrgKk"
      },
      "id": "NL4wCVGPrgKk"
    },
    {
      "cell_type": "code",
      "source": [
        "model.eval()\n",
        "torch.set_grad_enabled(False)\n",
        "\n",
        "for i, test_batch in enumerate(test_dataloader):\n",
        "  test_status = 'Batch ' + str(i+1) + ' / ' + str(len(test_dataloader))\n",
        "  print(test_status, end='\\r')\n",
        "\n",
        "  b_input_ids = test_batch[0].to(device)\n",
        "  b_input_mask = test_batch[1].to(device)\n",
        "  b_token_type_ids = test_batch[2].to(device)\n",
        "\n",
        "\n",
        "  outputs = model(b_input_ids,\n",
        "                  token_type_ids=None,\n",
        "                  attention_mask=b_input_mask,\n",
        "                  return_dict = False)\n",
        "\n",
        "  preds = outputs[0]\n",
        "  test_preds = preds.detach().cpu().numpy()\n",
        "\n",
        "\n",
        "  if i == 0:  # first batch\n",
        "    stacked_test_preds = test_preds\n",
        "\n",
        "  else:\n",
        "    stacked_test_preds = np.vstack((stacked_test_preds, test_preds))\n"
      ],
      "metadata": {
        "colab": {
          "base_uri": "https://localhost:8080/"
        },
        "id": "vFT0kkkH326f",
        "outputId": "a55a5b42-9f40-493e-f746-67eb79483834"
      },
      "id": "vFT0kkkH326f",
      "execution_count": null,
      "outputs": [
        {
          "output_type": "stream",
          "name": "stderr",
          "text": [
            "/usr/lib/python3.10/multiprocessing/popen_fork.py:66: RuntimeWarning: os.fork() was called. os.fork() is incompatible with multithreaded code, and JAX is multithreaded, so this will likely lead to a deadlock.\n",
            "  self.pid = os.fork()\n"
          ]
        },
        {
          "output_type": "stream",
          "name": "stdout",
          "text": []
        },
        {
          "output_type": "stream",
          "name": "stderr",
          "text": [
            "/usr/lib/python3.10/multiprocessing/popen_fork.py:66: RuntimeWarning: os.fork() was called. os.fork() is incompatible with multithreaded code, and JAX is multithreaded, so this will likely lead to a deadlock.\n",
            "  self.pid = os.fork()\n"
          ]
        },
        {
          "output_type": "stream",
          "name": "stdout",
          "text": [
            "Batch 5 / 5\r"
          ]
        }
      ]
    },
    {
      "cell_type": "markdown",
      "source": [
        "Each prediction returned by the model is a tuple - the logits are still raw.\n",
        "\n",
        "The first value of the tuple represents the score given for Class 0, and the second value represents the score given for Class 1. \\\\\n",
        "To get the real prediction, we take the max of both values to know whether the model's final prediction was Class 0 or Class 1. \\\\\n",
        "\n",
        "For clarity, we will illustrate this below:"
      ],
      "metadata": {
        "id": "2hkM89YPkFZv"
      },
      "id": "2hkM89YPkFZv"
    },
    {
      "cell_type": "code",
      "source": [
        "print(\"First 5 predictions as a raw logit tuple:\\n\", stacked_test_preds[0:6])\n",
        "final_preds = np.argmax(stacked_test_preds, axis=1)\n",
        "print(\"\\nFirst 5 predictions final decisions after taking the max:\\n\", final_preds[0:6])\n"
      ],
      "metadata": {
        "colab": {
          "base_uri": "https://localhost:8080/"
        },
        "id": "6uBBZ_Kqa9wX",
        "outputId": "06eafdac-a5a9-47f4-9c03-f43073056701"
      },
      "id": "6uBBZ_Kqa9wX",
      "execution_count": null,
      "outputs": [
        {
          "output_type": "stream",
          "name": "stdout",
          "text": [
            "First 5 predictions as a raw logit tuple:\n",
            " [[ 0.01789652 -0.3801826  -0.08379861]\n",
            " [ 0.140003   -0.15519579 -0.08216808]\n",
            " [ 0.04649857 -0.3477057  -0.12684846]\n",
            " [ 0.05377425 -0.31846422 -0.12180662]\n",
            " [ 0.04173848 -0.28532347 -0.12833892]\n",
            " [-0.02453399 -0.44687158 -0.0942636 ]]\n",
            "\n",
            "First 5 predictions final decisions after taking the max:\n",
            " [0 0 0 0 0 0]\n"
          ]
        }
      ]
    },
    {
      "cell_type": "markdown",
      "source": [
        "###Performance Scores"
      ],
      "metadata": {
        "id": "4OVUNPioyMbX"
      },
      "id": "4OVUNPioyMbX"
    },
    {
      "cell_type": "markdown",
      "source": [
        "Now, we can calculate the model's performance scores using the function that was previously defined. \\"
      ],
      "metadata": {
        "id": "Ik6aUaSGtODD"
      },
      "id": "Ik6aUaSGtODD"
    },
    {
      "cell_type": "markdown",
      "source": [
        "It must be noted that when reloading the model and rerunning the tests, a small fluctuation of values was observed in the performance scores. \\\n",
        "It was ensured that the Train/Test split of the dataset and the tokenization of the test set were the same in all trials.\n"
      ],
      "metadata": {
        "id": "UKMq_hWNpIrm"
      },
      "id": "UKMq_hWNpIrm"
    },
    {
      "cell_type": "code",
      "source": [
        "labels = df_test['CLASS']\n",
        "\n",
        "report, accuracy = classification_report_with_accuracy_score(final_preds, labels)\n",
        "\n",
        "print(report)"
      ],
      "metadata": {
        "colab": {
          "base_uri": "https://localhost:8080/"
        },
        "id": "p2OhVqajsaZU",
        "outputId": "330f2e3f-01c1-49c1-b038-32c08f731cb6"
      },
      "id": "p2OhVqajsaZU",
      "execution_count": null,
      "outputs": [
        {
          "output_type": "stream",
          "name": "stdout",
          "text": [
            "              precision  recall  f1-score  support\n",
            "0                  0.62    0.90      0.74    89.00\n",
            "1                  0.38    0.07      0.12    44.00\n",
            "2                  0.00    0.00      0.00     8.00\n",
            "accuracy           0.59    0.59      0.59     0.59\n",
            "macro avg          0.33    0.32      0.28   141.00\n",
            "weighted avg       0.51    0.59      0.50   141.00\n"
          ]
        }
      ]
    },
    {
      "cell_type": "markdown",
      "source": [
        "Plot report as a table and save figure as a png:"
      ],
      "metadata": {
        "id": "1mFDCp40fwkb"
      },
      "id": "1mFDCp40fwkb"
    },
    {
      "cell_type": "code",
      "source": [
        "without_acc = report.loc[['0', '1', '2', '3', '4', '5', '6', '7', '8', 'macro avg', 'weighted avg']]\n",
        "without_acc = without_acc.rename(index={'0': classes[1],\n",
        "                                        '1': classes[2],\n",
        "                                        '2': classes[3],\n",
        "                                        '3': classes[4],\n",
        "                                        '4': classes[5],\n",
        "                                        '5': classes[6],\n",
        "                                        '6': classes[7],\n",
        "                                        '7': classes[8],\n",
        "                                        '8': classes[9]})\n",
        "\n",
        "fig, ax = plt.subplots(figsize=(2,4))\n",
        "ax.axis('off')\n",
        "table = pd.plotting.table(ax,\n",
        "                          without_acc,\n",
        "                          loc='right',\n",
        "                          cellLoc='center',\n",
        "                          rowLoc='center'\n",
        "                         )\n",
        "\n",
        "table.auto_set_font_size(False)\n",
        "table.set_fontsize(14)\n",
        "table.scale(2.9, 3)\n",
        "plt.title('Combination Performance Before Fine-Tuning',\n",
        "          loc='left',\n",
        "          fontsize=20\n",
        "         )\n",
        "\n",
        "acc_str = 'Overall Accuracy: '+ str(accuracy)\n",
        "fig.text(0.67, 0.05,\n",
        "         acc_str,\n",
        "         ha='center',\n",
        "         fontsize=14\n",
        "        )\n",
        "\n",
        "\n",
        "plt.savefig(FOLDER_PATH+'CombinationPerformanceTable_PreTrainedModel_Seed'+ str(SEED_VAL) + '.png',\n",
        "            format='png',\n",
        "            transparent = True,\n",
        "            bbox_inches='tight',\n",
        "            pad_inches=0.1\n",
        "           )"
      ],
      "metadata": {
        "colab": {
          "base_uri": "https://localhost:8080/",
          "height": 403
        },
        "id": "LSIjveam0ymh",
        "outputId": "b8ba1895-5ec3-4aff-a5c8-d3ac312762d4"
      },
      "id": "LSIjveam0ymh",
      "execution_count": null,
      "outputs": [
        {
          "output_type": "display_data",
          "data": {
            "text/plain": [
              "<Figure size 200x400 with 1 Axes>"
            ],
            "image/png": "[encoded data removed]"
          },
          "metadata": {}
        }
      ]
    },
    {
      "cell_type": "markdown",
      "source": [
        "Plot the confusion matrix to visualize the model's predictions against their true value, and save the figure as a png:"
      ],
      "metadata": {
        "id": "1v77GE8svzV9"
      },
      "id": "1v77GE8svzV9"
    },
    {
      "cell_type": "code",
      "source": [
        "from sklearn.metrics import confusion_matrix\n",
        "import seaborn as sns\n",
        "\n",
        "\n",
        "matrix = confusion_matrix(df_test['CLASS'], final_preds)\n",
        "\n",
        "fig = plt.figure(figsize=(10, 8))\n",
        "\n",
        "ax = sns.heatmap(matrix,\n",
        "                 annot=True,\n",
        "                 cmap=\"rocket_r\",\n",
        "                 fmt = '.0f',\n",
        "                 yticklabels=[classes[1], classes[2], classes[3], classes[4], classes[5], classes[6], classes[7], classes[8], classes[9]],\n",
        "                 xticklabels=[classes[1], classes[2], classes[3], classes[4], classes[5], classes[6], classes[7], classes[8], classes[9]],\n",
        "                 square=True,\n",
        "                 annot_kws={\"size\": 14},\n",
        "                 cbar=True,\n",
        "                 cbar_kws={'shrink': 0.9}\n",
        "                )\n",
        "\n",
        "plt.xticks(fontsize=12)\n",
        "plt.yticks(fontsize=12)\n",
        "\n",
        "# Add title and labels\n",
        "plt.title('Combination Performance Before Fine-Tuning',\n",
        "          fontsize = 22,\n",
        "          loc = 'center',\n",
        "          pad = 20\n",
        "         )\n",
        "\n",
        "plt.xlabel('Predicted Labels', fontsize=16)\n",
        "plt.ylabel('True Labels', fontsize=16)\n",
        "\n",
        "plt.savefig(FOLDER_PATH+'CombinationConfusionMatrix_PreTrainedModel_Seed'+ str(SEED_VAL) + '.png',\n",
        "            format='png',\n",
        "            transparent = True,\n",
        "            bbox_inches='tight',\n",
        "            pad_inches=0.1\n",
        "           )\n"
      ],
      "metadata": {
        "colab": {
          "base_uri": "https://localhost:8080/",
          "height": 757
        },
        "id": "qRJ6Wc90H51c",
        "outputId": "cff163e1-1c98-4a1d-da73-2d4b712bab4f"
      },
      "id": "qRJ6Wc90H51c",
      "execution_count": null,
      "outputs": [
        {
          "output_type": "display_data",
          "data": {
            "text/plain": [
              "<Figure size 1000x800 with 2 Axes>"
            ],
            "image/png": "[encoded data removed]"
          },
          "metadata": {}
        }
      ]
    },
    {
      "cell_type": "markdown",
      "source": [
        "##Train Model"
      ],
      "metadata": {
        "id": "c_iafbTvuuvn"
      },
      "id": "c_iafbTvuuvn"
    },
    {
      "cell_type": "markdown",
      "source": [
        "We will now train BERTimbau on our curated dataset.\\\n",
        "The goal is to achieve significantly better evaluation scores compared to the pre-trained model's performance."
      ],
      "metadata": {
        "id": "AeAhjhZuwIF-"
      },
      "id": "AeAhjhZuwIF-"
    },
    {
      "cell_type": "markdown",
      "source": [
        "###Set the Seed"
      ],
      "metadata": {
        "id": "crarghCovW58"
      },
      "id": "crarghCovW58"
    },
    {
      "cell_type": "markdown",
      "source": [
        "The seed will ensure reproducibility of these experiments:"
      ],
      "metadata": {
        "id": "-UThqikvx2X0"
      },
      "id": "-UThqikvx2X0"
    },
    {
      "cell_type": "code",
      "source": [
        "random.seed(SEED_VAL)\n",
        "np.random.seed(SEED_VAL)\n",
        "torch.manual_seed(SEED_VAL)\n",
        "torch.cuda.manual_seed_all(SEED_VAL)"
      ],
      "metadata": {
        "id": "I1pKuz5VvcTA"
      },
      "id": "I1pKuz5VvcTA",
      "execution_count": null,
      "outputs": []
    },
    {
      "cell_type": "markdown",
      "source": [
        "###Remove Warnings"
      ],
      "metadata": {
        "id": "vBqYaQxtDxTi"
      },
      "id": "vBqYaQxtDxTi"
    },
    {
      "cell_type": "code",
      "source": [
        "from transformers import AdamW\n",
        "import random\n",
        "import gc\n",
        "from sklearn.model_selection import StratifiedKFold\n",
        "from sklearn.utils import shuffle\n",
        "\n",
        "# Remove Warnings\n",
        "\n",
        "from transformers import logging\n",
        "\n",
        "logging.set_verbosity_warning()"
      ],
      "metadata": {
        "id": "csWHPk4l9G1o"
      },
      "id": "csWHPk4l9G1o",
      "execution_count": null,
      "outputs": []
    },
    {
      "cell_type": "markdown",
      "source": [
        "###Create Folds"
      ],
      "metadata": {
        "id": "4Ua3_mcAu57a"
      },
      "id": "4Ua3_mcAu57a"
    },
    {
      "cell_type": "markdown",
      "source": [
        "In order to train the model, we must split the training dataset into train/validation sets.\\\n",
        "To do this, we will create folds such that each fold will have a different randomized (but seed controlled) dataset split."
      ],
      "metadata": {
        "id": "4CMluaX9u9Rf"
      },
      "id": "4CMluaX9u9Rf"
    },
    {
      "cell_type": "code",
      "source": [
        "skf = StratifiedKFold(n_splits = NUM_FOLDS,\n",
        "                     shuffle = True,\n",
        "                     random_state = SEED_VAL)\n",
        "\n",
        "targets = df_train['CLASS']\n",
        "\n",
        "folds_list = skf.split(df_train,targets)"
      ],
      "metadata": {
        "id": "ySIZ9marCuwc"
      },
      "id": "ySIZ9marCuwc",
      "execution_count": null,
      "outputs": []
    },
    {
      "cell_type": "markdown",
      "source": [
        "###Class Distribution Across Folds"
      ],
      "metadata": {
        "id": "Cg1JDeNqKLxp"
      },
      "id": "Cg1JDeNqKLxp"
    },
    {
      "cell_type": "code",
      "source": [
        "# create a figure with subplots\n",
        "fig, axes = plt.subplots(1,NUM_FOLDS, figsize=(18, 8))\n",
        "fig.suptitle('Class Distributions Across Folds', fontsize=18)\n",
        "\n",
        "\n",
        "for n, (train_index, val_index) in enumerate(skf.split(df_train,targets)):\n",
        "  train = df_train.iloc[train_index,:]\n",
        "  validation = df_train.iloc[val_index,:]\n",
        "\n",
        "  # Group the datasets to be plotted:\n",
        "  train.loc[:, 'DATASET'] = 'Train'\n",
        "  validation.loc[:, 'DATASET'] = 'Validation'\n",
        "  df_combined = pd.concat([train, validation])\n",
        "\n",
        "  sub_fig = axes[n]\n",
        "  ax = sns.countplot(ax=sub_fig, x='DATASET', hue='CLASS', data=df_combined, palette=\"Paired\", width=0.5)\n",
        "\n",
        "  title = 'Fold ' + str(n+1)\n",
        "  sub_fig.set_title(title, fontsize=14)\n",
        "\n",
        "  # Set labels and legend\n",
        "  sub_fig.set_xlabel('Dataset', fontsize=12)\n",
        "  sub_fig.set_ylabel('')\n",
        "  sub_fig.legend(title='Classes', loc='upper right', labels=[classes[1], classes[2], classes[3], classes[4], classes[5], classes[6], classes[7], classes[8], classes[9]])\n",
        "  sub_fig.grid(True, axis='y', linestyle=':', linewidth=0.5)\n",
        "\n",
        "  for i in ax.containers:\n",
        "      ax.bar_label(i,)\n",
        "\n",
        "\n",
        "plt.tight_layout(rect=[0, 0.03, 1, 0.95])\n",
        "plt.savefig(FOLDER_PATH+'CombinedClassDistribution_AcrossFolds_Seed'+ str(SEED_VAL) + '.png', format='png', transparent = True, bbox_inches='tight',pad_inches=0.1)"
      ],
      "metadata": {
        "colab": {
          "base_uri": "https://localhost:8080/",
          "height": 374
        },
        "id": "wnkJcGFTJO5h",
        "outputId": "b79949c0-a7d2-458d-898c-c1bdeebe43d7"
      },
      "id": "wnkJcGFTJO5h",
      "execution_count": null,
      "outputs": [
        {
          "output_type": "display_data",
          "data": {
            "text/plain": [
              "<Figure size 1800x800 with 5 Axes>"
            ],
            "image/png": "[encoded data removed]"
          },
          "metadata": {}
        }
      ]
    },
    {
      "cell_type": "markdown",
      "source": [
        "###Lists for Performance Scores/Data"
      ],
      "metadata": {
        "id": "MZgpmbmLF0Cw"
      },
      "id": "MZgpmbmLF0Cw"
    },
    {
      "cell_type": "markdown",
      "source": [
        "We will use the list below to store performance scores of all epochs across all folds.\n",
        "\n",
        "Each epoch is a dictionary containing:\n",
        "- fold number\n",
        "- epoch number\n",
        "\n",
        "- total train loss\n",
        "- average train loss\n",
        "- total validation loss\n",
        "- average validation loss\n",
        "\n",
        "- classification report\n",
        "- validation accuracy"
      ],
      "metadata": {
        "id": "ErBSYvttQnyw"
      },
      "id": "ErBSYvttQnyw"
    },
    {
      "cell_type": "code",
      "source": [
        "training_stats = []"
      ],
      "metadata": {
        "id": "YzkFfbnuO1h0"
      },
      "id": "YzkFfbnuO1h0",
      "execution_count": null,
      "outputs": []
    },
    {
      "cell_type": "markdown",
      "source": [
        "###Training Loop"
      ],
      "metadata": {
        "id": "roi36bWDFob9"
      },
      "id": "roi36bWDFob9"
    },
    {
      "cell_type": "markdown",
      "source": [
        "We train the model in NUM_FOLDS folds, each of which will have NUM_EPOCHS epochs."
      ],
      "metadata": {
        "id": "Sn3bafuZAXav"
      },
      "id": "Sn3bafuZAXav"
    },
    {
      "cell_type": "markdown",
      "source": [
        "\n",
        "Each fold loads a new pre-trained BERTimbau model to fine-tune. \\\n",
        "\n",
        "Each epoch in this fold will train the model on the fold's train set, followed by an evaluation of the model using the fold's validation set. \\\n",
        "\\\n",
        "If its Macro F1-score is better than the other epochs, that model will be saved using: \\\n",
        "  - model_name = 'fold_' + str(fold_index) + '.bin'\n",
        "  - torch.save(model.state_dict(), model_name)\n",
        "\n",
        "\n",
        "\n"
      ],
      "metadata": {
        "id": "KP9mSbhH7cKB"
      },
      "id": "KP9mSbhH7cKB"
    },
    {
      "cell_type": "code",
      "source": [
        "%%time\n",
        "\n",
        "for fold_index, (train_index, val_index) in enumerate(skf.split(df_train,targets)):\n",
        "  print('\\n################## Fold Model Number', str((fold_index+1)) + ' / ' + str(NUM_FOLDS), '##################')\n",
        "\n",
        "  # ..................................................\n",
        "  # Defining Dataloaders of Training and Validation\n",
        "  # ..................................................\n",
        "\n",
        "  # Train and Validation Sets\n",
        "  train = df_train.iloc[train_index,:]\n",
        "  val = df_train.iloc[val_index,:]\n",
        "\n",
        "\n",
        "  # Reseting Indices so it will work\n",
        "  train = train.reset_index(drop = True)\n",
        "  val = val.reset_index(drop = True)\n",
        "\n",
        "\n",
        "  # Tokenizing and Transforming Inputs (att masks, labels, etc.)\n",
        "  train_data = TweetDataset(train)\n",
        "  val_data = TweetDataset(val)\n",
        "\n",
        "  # Train/Validation Split for this Fold:\n",
        "  train_dataloader = torch.utils.data.DataLoader(train_data,\n",
        "                                                 batch_size=BATCH_SIZE,\n",
        "                                                 shuffle=False,\n",
        "                                                 num_workers=NUM_CORES)\n",
        "\n",
        "  val_dataloader = torch.utils.data.DataLoader(val_data,\n",
        "                                               batch_size=BATCH_SIZE,\n",
        "                                               shuffle=False,\n",
        "                                               num_workers=NUM_CORES)\n",
        "\n",
        "  # ..................................................\n",
        "  # List for Epoch Evaluation Metric:\n",
        "  # ..................................................\n",
        "  fold_f1_macro_list = []\n",
        "\n",
        "#------------------------------------------------------------------------------\n",
        "  for epoch in range(NUM_EPOCHS):\n",
        "#------------------------------------------------------------------------------\n",
        "\n",
        "    #......................\n",
        "    # Loading Fold Model\n",
        "    #......................\n",
        "\n",
        "    if epoch == 0:\n",
        "\n",
        "      # Load model from pre-training evaluation:\n",
        "      model.load_state_dict(torch.load('original_model.bin'))\n",
        "\n",
        "      optimizer = AdamW(model.parameters(),\n",
        "                        lr = L_RATE,\n",
        "                        eps = EPS\n",
        "                       )\n",
        "\n",
        "    else:\n",
        "      # Load the fold's model:\n",
        "      path_model = 'fold_' + str(fold_index+1) + '.bin'\n",
        "\n",
        "      if os.path.exists(path_model):\n",
        "        model.load_state_dict(torch.load(path_model))\n",
        "\n",
        "      else:\n",
        "        print(f\"Error: {path_model} does not exist\")\n",
        "\n",
        "        model.to(device)\n",
        "\n",
        "\n",
        "    # ==========================================================================\n",
        "    #               Training\n",
        "    # ==========================================================================\n",
        "    print('============== Epoch {:} / {:} =============='.format(epoch + 1, NUM_EPOCHS))\n",
        "    print(\" \")\n",
        "    print('\\nTraining...')\n",
        "    print('')\n",
        "\n",
        "    # Put the model into train mode:\n",
        "    model.train()\n",
        "\n",
        "    # Turn gradient calculations on:\n",
        "    torch.set_grad_enabled(True)\n",
        "\n",
        "\n",
        "    # .......................................................\n",
        "    # Defining Variables to Track This Epoch's Performance\n",
        "    # .......................................................\n",
        "\n",
        "    # overall stats:\n",
        "    epoch_stats = {'fold': fold_index + 1,\n",
        "                   'epoch': epoch + 1}\n",
        "\n",
        "    total_macro_f1 = 0\n",
        "    avg_macro_f1 = 0\n",
        "\n",
        "    # train stats:\n",
        "    total_train_loss = 0\n",
        "    avg_train_loss = 0\n",
        "\n",
        "    # validation stats:\n",
        "    total_val_loss = 0\n",
        "    avg_val_loss = 0\n",
        "\n",
        "    # ..................\n",
        "    # Train the Model\n",
        "    # ..................\n",
        "\n",
        "    for i, batch in enumerate(train_dataloader):\n",
        "\n",
        "      train_status = 'Batch ' + str(i+1) + ' of ' + str(len(train_dataloader))\n",
        "\n",
        "      print(train_status, end='\\r')\n",
        "\n",
        "\n",
        "      b_input_ids = batch[0].to(device)\n",
        "      b_input_mask = batch[1].to(device)\n",
        "      b_token_type_ids = batch[2].to(device)\n",
        "      b_labels = batch[3].to(device)\n",
        "\n",
        "      model.zero_grad()\n",
        "\n",
        "\n",
        "      loss, logits = model(b_input_ids,\n",
        "                           token_type_ids=None,\n",
        "                           attention_mask=b_input_mask,\n",
        "                           return_dict = False,\n",
        "                           labels=b_labels)\n",
        "\n",
        "      # Calculate loss:\n",
        "      batch_loss = loss.item()\n",
        "\n",
        "      total_train_loss += batch_loss\n",
        "\n",
        "\n",
        "      # Zero the gradients:\n",
        "      optimizer.zero_grad()\n",
        "\n",
        "      # Perform a backward pass to calculate the gradients:\n",
        "      loss.backward()\n",
        "\n",
        "\n",
        "      # Clip the norm of the gradients to 1.0.\n",
        "      # This is to help prevent the \"exploding gradients\" problem.\n",
        "      torch.nn.utils.clip_grad_norm_(model.parameters(), 1.0)\n",
        "\n",
        "\n",
        "      # Update Weights:\n",
        "      optimizer.step()   # for GPU\n",
        "\n",
        "      # https://pytorch.org/xla/\n",
        "      #xm.optimizer_step(optimizer, barrier=True)   #for TPU\n",
        "\n",
        "\n",
        "    # ........................................\n",
        "    # Update Training Performance Variables\n",
        "    # ........................................\n",
        "\n",
        "    avg_train_loss = total_train_loss / len(train_dataloader)\n",
        "\n",
        "    print('Total Train loss:' ,total_train_loss)\n",
        "    print('Average Train Loss: ', avg_train_loss)\n",
        "\n",
        "\n",
        "    # .......................................\n",
        "    # Add Scores to Epoch Stats Dictionary\n",
        "    # .......................................\n",
        "\n",
        "    epoch_stats['total_train_loss'] = total_train_loss\n",
        "    epoch_stats['avg_train_loss'] = avg_train_loss\n",
        "\n",
        "\n",
        "\n",
        "    # ==========================================================================\n",
        "    #               Validation\n",
        "    # ==========================================================================\n",
        "    print(\" \")\n",
        "    print('=============================================')\n",
        "    print('\\nValidation...')\n",
        "    print(' ')\n",
        "\n",
        "    # Put the model in evaluation mode:\n",
        "    model.eval()\n",
        "\n",
        "    # Turn off the gradient calculations.\n",
        "    # This tells the model not to compute or store gradients.\n",
        "    # This step saves memory and speeds up validation.\n",
        "    torch.set_grad_enabled(False)\n",
        "\n",
        "\n",
        "    # Lists to accumulate all predictions and their corresponding labels:\n",
        "    stacked_val_preds = []\n",
        "    val_targets = []\n",
        "\n",
        "\n",
        "    # .....................\n",
        "    # Validate the Model\n",
        "    # .....................\n",
        "\n",
        "    for j, val_batch in enumerate(val_dataloader):\n",
        "\n",
        "      val_status = 'Batch ' + str(j+1) + ' of ' + str(len(val_dataloader))\n",
        "\n",
        "      print(val_status, end='\\r')\n",
        "\n",
        "\n",
        "      b_input_ids = val_batch[0].to(device)\n",
        "      b_input_mask = val_batch[1].to(device)\n",
        "      b_token_type_ids = val_batch[2].to(device)\n",
        "      b_labels = val_batch[3].to(device)\n",
        "\n",
        "\n",
        "      loss, logits = model(b_input_ids,\n",
        "                           token_type_ids=None,\n",
        "                           attention_mask=b_input_mask,\n",
        "                           return_dict = False,\n",
        "                           labels=b_labels)\n",
        "\n",
        "\n",
        "      # Calculate loss:\n",
        "      batch_loss = loss.item()\n",
        "      total_val_loss += batch_loss\n",
        "\n",
        "\n",
        "      # Move labels and predictions to the CPU:\n",
        "      batch_targets = b_labels.to('cpu').numpy()\n",
        "      batch_preds = logits.detach().cpu().numpy()\n",
        "\n",
        "\n",
        "      # Append the labels and predictions to their lists:\n",
        "      val_targets.extend(batch_targets)\n",
        "\n",
        "      if j == 0:\n",
        "        stacked_val_preds = batch_preds\n",
        "      else:\n",
        "        stacked_val_preds = np.vstack((stacked_val_preds, batch_preds))\n",
        "\n",
        "\n",
        "      batch_preds = np.argmax(batch_preds, axis = 1)\n",
        "\n",
        "      total_macro_f1 += f1_score(batch_targets,\n",
        "                                 batch_preds,\n",
        "                                 average = 'macro'\n",
        "                                )\n",
        "      # usage: sklearn.metrics.f1_score(y_true, y_pred)\n",
        "\n",
        "\n",
        "    # ..........................................\n",
        "    # Update Validation Performance Variables\n",
        "    # ..........................................\n",
        "\n",
        "    avg_val_loss = total_val_loss / len(val_dataloader)\n",
        "\n",
        "    avg_macro_f1 = total_macro_f1 / len(val_dataloader)\n",
        "\n",
        "\n",
        "    print('Total Validation loss:' ,total_val_loss)\n",
        "    print('Average Validation Loss: ', avg_val_loss)\n",
        "\n",
        "    print(\"Macro F1-score: {0:.2f}\".format(avg_macro_f1))\n",
        "\n",
        "\n",
        "\n",
        "    stacked_val_preds = np.argmax(stacked_val_preds, axis=1)\n",
        "\n",
        "    class_report, val_acc = classification_report_with_accuracy_score(stacked_val_preds, val_targets)\n",
        "\n",
        "\n",
        "    print('Validation accuracy: ', val_acc)\n",
        "    print('Classification Report: \\n', class_report)\n",
        "\n",
        "\n",
        "\n",
        "    # .......................................\n",
        "    # Add Scores to Epoch Stats Dictionary\n",
        "    # .......................................\n",
        "    epoch_stats['total_val_loss'] = total_val_loss\n",
        "    epoch_stats['avg_val_loss'] = avg_val_loss\n",
        "    epoch_stats['val_accuracy'] = val_acc\n",
        "    epoch_stats['f1_macro'] = avg_macro_f1\n",
        "    epoch_stats['report'] = class_report\n",
        "\n",
        "    # .........................................\n",
        "    # Add Epoch Stats to Training Stats List\n",
        "    # .........................................\n",
        "    training_stats.append(epoch_stats)\n",
        "\n",
        "\n",
        "    # ......................\n",
        "    # Save the best model\n",
        "    # ......................\n",
        "\n",
        "    if epoch == 0:\n",
        "\n",
        "      # Save the Model:\n",
        "      model_name = 'fold_' + str(fold_index+1) + '.bin'\n",
        "      torch.save(model.state_dict(), model_name)\n",
        "      print('Saved model as', model_name)\n",
        "\n",
        "    else:\n",
        "\n",
        "      stop = total_val_loss > total_train_loss\n",
        "\n",
        "\n",
        "      if not stop:\n",
        "\n",
        "        model_name = 'fold_' + str(fold_index+1) + '.bin'\n",
        "        torch.save(model.state_dict(), model_name)\n",
        "\n",
        "        print('F1-Macro improved. Saved model as', model_name)\n",
        "\n",
        "      else:\n",
        "        # remove overfitted epoch stats:\n",
        "        training_stats.pop()\n",
        "\n",
        "        print('Model overfitted at epoch', str(epoch+1) + '. Model was not saved.')\n",
        "        break\n",
        "\n",
        "\n",
        "    # Use the garbage collector to save memory:\n",
        "    gc.collect()\n"
      ],
      "metadata": {
        "colab": {
          "base_uri": "https://localhost:8080/"
        },
        "id": "tlWoSAxkFrqC",
        "outputId": "ce198d85-bad3-4677-d790-9c00db59217e"
      },
      "id": "tlWoSAxkFrqC",
      "execution_count": null,
      "outputs": [
        {
          "output_type": "stream",
          "name": "stdout",
          "text": [
            "\n",
            "################## Fold Model Number 1 / 5 ##################\n",
            "============== Epoch 1 / 5 ==============\n",
            " \n",
            "\n",
            "Training...\n",
            "\n"
          ]
        },
        {
          "output_type": "stream",
          "name": "stderr",
          "text": [
            "/usr/local/lib/python3.10/dist-packages/transformers/optimization.py:591: FutureWarning: This implementation of AdamW is deprecated and will be removed in a future version. Use the PyTorch implementation torch.optim.AdamW instead, or set `no_deprecation_warning=True` to disable this warning\n",
            "  warnings.warn(\n",
            "/usr/lib/python3.10/multiprocessing/popen_fork.py:66: RuntimeWarning: os.fork() was called. os.fork() is incompatible with multithreaded code, and JAX is multithreaded, so this will likely lead to a deadlock.\n",
            "  self.pid = os.fork()\n"
          ]
        },
        {
          "output_type": "stream",
          "name": "stdout",
          "text": [
            "Total Train loss: 23.240880489349365\n",
            "Average Train Loss:  0.7262775152921677\n",
            " \n",
            "=============================================\n",
            "\n",
            "Validation...\n",
            " \n",
            "Total Validation loss: 4.276996076107025\n",
            "Average Validation Loss:  0.5346245095133781\n",
            "Macro F1-score: 0.57\n",
            "Validation accuracy:  0.83\n",
            "Classification Report: \n",
            "               precision  recall  f1-score  support\n",
            "0                  0.87    0.89      0.88   160.00\n",
            "1                  0.77    0.88      0.82    80.00\n",
            "2                  0.00    0.00      0.00    14.00\n",
            "accuracy           0.83    0.83      0.83     0.83\n",
            "macro avg          0.55    0.59      0.57   254.00\n",
            "weighted avg       0.79    0.83      0.81   254.00\n",
            "Saved model as fold_0.bin\n",
            "============== Epoch 2 / 5 ==============\n",
            " \n",
            "\n",
            "Training...\n",
            "\n"
          ]
        },
        {
          "output_type": "stream",
          "name": "stderr",
          "text": [
            "/usr/lib/python3.10/multiprocessing/popen_fork.py:66: RuntimeWarning: os.fork() was called. os.fork() is incompatible with multithreaded code, and JAX is multithreaded, so this will likely lead to a deadlock.\n",
            "  self.pid = os.fork()\n"
          ]
        },
        {
          "output_type": "stream",
          "name": "stdout",
          "text": []
        },
        {
          "output_type": "stream",
          "name": "stderr",
          "text": [
            "/usr/lib/python3.10/multiprocessing/popen_fork.py:66: RuntimeWarning: os.fork() was called. os.fork() is incompatible with multithreaded code, and JAX is multithreaded, so this will likely lead to a deadlock.\n",
            "  self.pid = os.fork()\n"
          ]
        },
        {
          "output_type": "stream",
          "name": "stdout",
          "text": [
            "Total Train loss: 13.270461097359657\n",
            "Average Train Loss:  0.4147019092924893\n",
            " \n",
            "=============================================\n",
            "\n",
            "Validation...\n",
            " \n",
            "Total Validation loss: 3.5760075449943542\n",
            "Average Validation Loss:  0.4470009431242943\n",
            "Macro F1-score: 0.58\n",
            "Validation accuracy:  0.86\n",
            "Classification Report: \n",
            "               precision  recall  f1-score  support\n",
            "0                  0.91    0.91      0.91   160.00\n",
            "1                  0.78    0.91      0.84    80.00\n",
            "2                  0.00    0.00      0.00    14.00\n",
            "accuracy           0.86    0.86      0.86     0.86\n",
            "macro avg          0.56    0.61      0.58   254.00\n",
            "weighted avg       0.82    0.86      0.84   254.00\n",
            "F1-Macro improved. Saved model as fold_0.bin\n",
            "============== Epoch 3 / 5 ==============\n",
            " \n",
            "\n",
            "Training...\n",
            "\n"
          ]
        },
        {
          "output_type": "stream",
          "name": "stderr",
          "text": [
            "/usr/lib/python3.10/multiprocessing/popen_fork.py:66: RuntimeWarning: os.fork() was called. os.fork() is incompatible with multithreaded code, and JAX is multithreaded, so this will likely lead to a deadlock.\n",
            "  self.pid = os.fork()\n"
          ]
        },
        {
          "output_type": "stream",
          "name": "stdout",
          "text": [
            "Total Train loss: 8.922386080026627\n",
            "Average Train Loss:  0.2788245650008321\n",
            " \n",
            "=============================================\n",
            "\n",
            "Validation...\n",
            " \n",
            "Total Validation loss: 3.861908882856369\n",
            "Average Validation Loss:  0.4827386103570461\n",
            "Macro F1-score: 0.58\n",
            "Validation accuracy:  0.85\n",
            "Classification Report: \n",
            "               precision  recall  f1-score  support\n",
            "0                  0.87    0.92      0.89   160.00\n",
            "1                  0.82    0.85      0.83    80.00\n",
            "2                  0.00    0.00      0.00    14.00\n",
            "accuracy           0.85    0.85      0.85     0.85\n",
            "macro avg          0.56    0.59      0.58   254.00\n",
            "weighted avg       0.80    0.85      0.83   254.00\n",
            "============== Epoch 4 / 5 ==============\n",
            " \n",
            "\n",
            "Training...\n",
            "\n"
          ]
        },
        {
          "output_type": "stream",
          "name": "stderr",
          "text": [
            "/usr/lib/python3.10/multiprocessing/popen_fork.py:66: RuntimeWarning: os.fork() was called. os.fork() is incompatible with multithreaded code, and JAX is multithreaded, so this will likely lead to a deadlock.\n",
            "  self.pid = os.fork()\n"
          ]
        },
        {
          "output_type": "stream",
          "name": "stdout",
          "text": []
        },
        {
          "output_type": "stream",
          "name": "stderr",
          "text": [
            "/usr/lib/python3.10/multiprocessing/popen_fork.py:66: RuntimeWarning: os.fork() was called. os.fork() is incompatible with multithreaded code, and JAX is multithreaded, so this will likely lead to a deadlock.\n",
            "  self.pid = os.fork()\n"
          ]
        },
        {
          "output_type": "stream",
          "name": "stdout",
          "text": [
            "Total Train loss: 8.385816872119904\n",
            "Average Train Loss:  0.262056777253747\n",
            " \n",
            "=============================================\n",
            "\n",
            "Validation...\n",
            " \n",
            "Total Validation loss: 4.075490519404411\n",
            "Average Validation Loss:  0.5094363149255514\n",
            "Macro F1-score: 0.58\n",
            "Validation accuracy:  0.86\n",
            "Classification Report: \n",
            "               precision  recall  f1-score  support\n",
            "0                  0.86    0.95      0.90   160.00\n",
            "1                  0.86    0.82      0.84    80.00\n",
            "2                  0.00    0.00      0.00    14.00\n",
            "accuracy           0.86    0.86      0.86     0.86\n",
            "macro avg          0.57    0.59      0.58   254.00\n",
            "weighted avg       0.81    0.86      0.83   254.00\n",
            "============== Epoch 5 / 5 ==============\n",
            " \n",
            "\n",
            "Training...\n",
            "\n"
          ]
        },
        {
          "output_type": "stream",
          "name": "stderr",
          "text": [
            "/usr/lib/python3.10/multiprocessing/popen_fork.py:66: RuntimeWarning: os.fork() was called. os.fork() is incompatible with multithreaded code, and JAX is multithreaded, so this will likely lead to a deadlock.\n",
            "  self.pid = os.fork()\n"
          ]
        },
        {
          "output_type": "stream",
          "name": "stdout",
          "text": []
        },
        {
          "output_type": "stream",
          "name": "stderr",
          "text": [
            "/usr/lib/python3.10/multiprocessing/popen_fork.py:66: RuntimeWarning: os.fork() was called. os.fork() is incompatible with multithreaded code, and JAX is multithreaded, so this will likely lead to a deadlock.\n",
            "  self.pid = os.fork()\n"
          ]
        },
        {
          "output_type": "stream",
          "name": "stdout",
          "text": [
            "Total Train loss: 8.686579011380672\n",
            "Average Train Loss:  0.271455594105646\n",
            " \n",
            "=============================================\n",
            "\n",
            "Validation...\n",
            " \n",
            "Total Validation loss: 4.025199055671692\n",
            "Average Validation Loss:  0.5031498819589615\n",
            "Macro F1-score: 0.58\n",
            "Validation accuracy:  0.85\n",
            "Classification Report: \n",
            "               precision  recall  f1-score  support\n",
            "0                  0.87    0.92      0.89   160.00\n",
            "1                  0.81    0.86      0.84    80.00\n",
            "2                  0.00    0.00      0.00    14.00\n",
            "accuracy           0.85    0.85      0.85     0.85\n",
            "macro avg          0.56    0.59      0.58   254.00\n",
            "weighted avg       0.80    0.85      0.83   254.00\n",
            "\n",
            "################## Fold Model Number 2 / 5 ##################\n",
            "============== Epoch 1 / 5 ==============\n",
            " \n",
            "\n",
            "Training...\n",
            "\n"
          ]
        },
        {
          "output_type": "stream",
          "name": "stderr",
          "text": [
            "/usr/local/lib/python3.10/dist-packages/transformers/optimization.py:591: FutureWarning: This implementation of AdamW is deprecated and will be removed in a future version. Use the PyTorch implementation torch.optim.AdamW instead, or set `no_deprecation_warning=True` to disable this warning\n",
            "  warnings.warn(\n",
            "/usr/lib/python3.10/multiprocessing/popen_fork.py:66: RuntimeWarning: os.fork() was called. os.fork() is incompatible with multithreaded code, and JAX is multithreaded, so this will likely lead to a deadlock.\n",
            "  self.pid = os.fork()\n"
          ]
        },
        {
          "output_type": "stream",
          "name": "stdout",
          "text": []
        },
        {
          "output_type": "stream",
          "name": "stderr",
          "text": [
            "/usr/lib/python3.10/multiprocessing/popen_fork.py:66: RuntimeWarning: os.fork() was called. os.fork() is incompatible with multithreaded code, and JAX is multithreaded, so this will likely lead to a deadlock.\n",
            "  self.pid = os.fork()\n"
          ]
        },
        {
          "output_type": "stream",
          "name": "stdout",
          "text": [
            "Total Train loss: 23.250713348388672\n",
            "Average Train Loss:  0.726584792137146\n",
            " \n",
            "=============================================\n",
            "\n",
            "Validation...\n",
            " \n",
            "Total Validation loss: 4.012790024280548\n",
            "Average Validation Loss:  0.5015987530350685\n",
            "Macro F1-score: 0.64\n",
            "Validation accuracy:  0.84\n",
            "Classification Report: \n",
            "               precision  recall  f1-score  support\n",
            "0                  0.87    0.90      0.89   160.00\n",
            "1                  0.77    0.85      0.81    80.00\n",
            "2                  0.00    0.00      0.00    13.00\n",
            "accuracy           0.84    0.84      0.84     0.84\n",
            "macro avg          0.55    0.58      0.57   253.00\n",
            "weighted avg       0.80    0.84      0.82   253.00\n",
            "Saved model as fold_1.bin\n",
            "============== Epoch 2 / 5 ==============\n",
            " \n",
            "\n",
            "Training...\n",
            "\n"
          ]
        },
        {
          "output_type": "stream",
          "name": "stderr",
          "text": [
            "/usr/lib/python3.10/multiprocessing/popen_fork.py:66: RuntimeWarning: os.fork() was called. os.fork() is incompatible with multithreaded code, and JAX is multithreaded, so this will likely lead to a deadlock.\n",
            "  self.pid = os.fork()\n"
          ]
        },
        {
          "output_type": "stream",
          "name": "stdout",
          "text": []
        },
        {
          "output_type": "stream",
          "name": "stderr",
          "text": [
            "/usr/lib/python3.10/multiprocessing/popen_fork.py:66: RuntimeWarning: os.fork() was called. os.fork() is incompatible with multithreaded code, and JAX is multithreaded, so this will likely lead to a deadlock.\n",
            "  self.pid = os.fork()\n"
          ]
        },
        {
          "output_type": "stream",
          "name": "stdout",
          "text": [
            "Total Train loss: 13.551392123103142\n",
            "Average Train Loss:  0.4234810038469732\n",
            " \n",
            "=============================================\n",
            "\n",
            "Validation...\n",
            " \n",
            "Total Validation loss: 3.4560938328504562\n",
            "Average Validation Loss:  0.43201172910630703\n",
            "Macro F1-score: 0.65\n",
            "Validation accuracy:  0.85\n",
            "Classification Report: \n",
            "               precision  recall  f1-score  support\n",
            "0                  0.89    0.92      0.90   160.00\n",
            "1                  0.79    0.86      0.83    80.00\n",
            "2                  0.00    0.00      0.00    13.00\n",
            "accuracy           0.85    0.85      0.85     0.85\n",
            "macro avg          0.56    0.59      0.58   253.00\n",
            "weighted avg       0.81    0.85      0.83   253.00\n",
            "F1-Macro improved. Saved model as fold_1.bin\n",
            "============== Epoch 3 / 5 ==============\n",
            " \n",
            "\n",
            "Training...\n",
            "\n"
          ]
        },
        {
          "output_type": "stream",
          "name": "stderr",
          "text": [
            "/usr/lib/python3.10/multiprocessing/popen_fork.py:66: RuntimeWarning: os.fork() was called. os.fork() is incompatible with multithreaded code, and JAX is multithreaded, so this will likely lead to a deadlock.\n",
            "  self.pid = os.fork()\n"
          ]
        },
        {
          "output_type": "stream",
          "name": "stdout",
          "text": [
            "Total Train loss: 8.536483228206635\n",
            "Average Train Loss:  0.26676510088145733\n",
            " \n",
            "=============================================\n",
            "\n",
            "Validation...\n",
            " \n",
            "Total Validation loss: 3.8444873094558716\n",
            "Average Validation Loss:  0.48056091368198395\n",
            "Macro F1-score: 0.66\n",
            "Validation accuracy:  0.86\n",
            "Classification Report: \n",
            "               precision  recall  f1-score  support\n",
            "0                  0.87    0.95      0.91   160.00\n",
            "1                  0.84    0.82      0.83    80.00\n",
            "2                  0.00    0.00      0.00    13.00\n",
            "accuracy           0.86    0.86      0.86     0.86\n",
            "macro avg          0.57    0.59      0.58   253.00\n",
            "weighted avg       0.82    0.86      0.84   253.00\n",
            "F1-Macro improved. Saved model as fold_1.bin\n",
            "============== Epoch 4 / 5 ==============\n",
            " \n",
            "\n",
            "Training...\n",
            "\n"
          ]
        },
        {
          "output_type": "stream",
          "name": "stderr",
          "text": [
            "/usr/lib/python3.10/multiprocessing/popen_fork.py:66: RuntimeWarning: os.fork() was called. os.fork() is incompatible with multithreaded code, and JAX is multithreaded, so this will likely lead to a deadlock.\n",
            "  self.pid = os.fork()\n"
          ]
        },
        {
          "output_type": "stream",
          "name": "stdout",
          "text": [
            "Total Train loss: 6.057281881570816\n",
            "Average Train Loss:  0.189290058799088\n",
            " \n",
            "=============================================\n",
            "\n",
            "Validation...\n",
            " \n",
            "Total Validation loss: 4.195152133703232\n",
            "Average Validation Loss:  0.524394016712904\n",
            "Macro F1-score: 0.67\n",
            "Validation accuracy:  0.86\n",
            "Classification Report: \n",
            "               precision  recall  f1-score  support\n",
            "0                  0.90    0.90      0.90   160.00\n",
            "1                  0.78    0.90      0.84    80.00\n",
            "2                  1.00    0.08      0.14    13.00\n",
            "accuracy           0.86    0.86      0.86     0.86\n",
            "macro avg          0.89    0.63      0.63   253.00\n",
            "weighted avg       0.87    0.86      0.84   253.00\n",
            "F1-Macro improved. Saved model as fold_1.bin\n",
            "============== Epoch 5 / 5 ==============\n",
            " \n",
            "\n",
            "Training...\n",
            "\n"
          ]
        },
        {
          "output_type": "stream",
          "name": "stderr",
          "text": [
            "/usr/lib/python3.10/multiprocessing/popen_fork.py:66: RuntimeWarning: os.fork() was called. os.fork() is incompatible with multithreaded code, and JAX is multithreaded, so this will likely lead to a deadlock.\n",
            "  self.pid = os.fork()\n"
          ]
        },
        {
          "output_type": "stream",
          "name": "stdout",
          "text": [
            "Total Train loss: 3.882619058713317\n",
            "Average Train Loss:  0.12133184558479115\n",
            " \n",
            "=============================================\n",
            "\n",
            "Validation...\n",
            " \n",
            "Total Validation loss: 4.865707337856293\n",
            "Average Validation Loss:  0.6082134172320366\n",
            "Macro F1-score: 0.64\n",
            "Validation accuracy:  0.83\n",
            "Classification Report: \n",
            "               precision  recall  f1-score  support\n",
            "0                  0.93    0.85      0.89   160.00\n",
            "1                  0.74    0.91      0.82    80.00\n",
            "2                  0.29    0.15      0.20    13.00\n",
            "accuracy           0.83    0.83      0.83     0.83\n",
            "macro avg          0.65    0.64      0.63   253.00\n",
            "weighted avg       0.83    0.83      0.83   253.00\n",
            "\n",
            "################## Fold Model Number 3 / 5 ##################\n",
            "============== Epoch 1 / 5 ==============\n",
            " \n",
            "\n",
            "Training...\n",
            "\n"
          ]
        },
        {
          "output_type": "stream",
          "name": "stderr",
          "text": [
            "/usr/local/lib/python3.10/dist-packages/transformers/optimization.py:591: FutureWarning: This implementation of AdamW is deprecated and will be removed in a future version. Use the PyTorch implementation torch.optim.AdamW instead, or set `no_deprecation_warning=True` to disable this warning\n",
            "  warnings.warn(\n",
            "/usr/lib/python3.10/multiprocessing/popen_fork.py:66: RuntimeWarning: os.fork() was called. os.fork() is incompatible with multithreaded code, and JAX is multithreaded, so this will likely lead to a deadlock.\n",
            "  self.pid = os.fork()\n"
          ]
        },
        {
          "output_type": "stream",
          "name": "stdout",
          "text": []
        },
        {
          "output_type": "stream",
          "name": "stderr",
          "text": [
            "/usr/lib/python3.10/multiprocessing/popen_fork.py:66: RuntimeWarning: os.fork() was called. os.fork() is incompatible with multithreaded code, and JAX is multithreaded, so this will likely lead to a deadlock.\n",
            "  self.pid = os.fork()\n"
          ]
        },
        {
          "output_type": "stream",
          "name": "stdout",
          "text": [
            "Total Train loss: 23.033721685409546\n",
            "Average Train Loss:  0.7198038026690483\n",
            " \n",
            "=============================================\n",
            "\n",
            "Validation...\n",
            " \n",
            "Total Validation loss: 4.155945986509323\n",
            "Average Validation Loss:  0.5194932483136654\n",
            "Macro F1-score: 0.61\n",
            "Validation accuracy:  0.81\n",
            "Classification Report: \n",
            "               precision  recall  f1-score  support\n",
            "0                  0.85    0.92      0.88   160.00\n",
            "1                  0.74    0.74      0.74    80.00\n",
            "2                  0.00    0.00      0.00    13.00\n",
            "accuracy           0.81    0.81      0.81     0.81\n",
            "macro avg          0.53    0.55      0.54   253.00\n",
            "weighted avg       0.77    0.81      0.79   253.00\n",
            "Saved model as fold_2.bin\n",
            "============== Epoch 2 / 5 ==============\n",
            " \n",
            "\n",
            "Training...\n",
            "\n"
          ]
        },
        {
          "output_type": "stream",
          "name": "stderr",
          "text": [
            "/usr/lib/python3.10/multiprocessing/popen_fork.py:66: RuntimeWarning: os.fork() was called. os.fork() is incompatible with multithreaded code, and JAX is multithreaded, so this will likely lead to a deadlock.\n",
            "  self.pid = os.fork()\n"
          ]
        },
        {
          "output_type": "stream",
          "name": "stdout",
          "text": []
        },
        {
          "output_type": "stream",
          "name": "stderr",
          "text": [
            "/usr/lib/python3.10/multiprocessing/popen_fork.py:66: RuntimeWarning: os.fork() was called. os.fork() is incompatible with multithreaded code, and JAX is multithreaded, so this will likely lead to a deadlock.\n",
            "  self.pid = os.fork()\n"
          ]
        },
        {
          "output_type": "stream",
          "name": "stdout",
          "text": [
            "Total Train loss: 13.34213474392891\n",
            "Average Train Loss:  0.4169417107477784\n",
            " \n",
            "=============================================\n",
            "\n",
            "Validation...\n",
            " \n",
            "Total Validation loss: 3.550829201936722\n",
            "Average Validation Loss:  0.4438536502420902\n",
            "Macro F1-score: 0.64\n",
            "Validation accuracy:  0.85\n",
            "Classification Report: \n",
            "               precision  recall  f1-score  support\n",
            "0                  0.90    0.91      0.90   160.00\n",
            "1                  0.75    0.86      0.80    80.00\n",
            "2                  0.00    0.00      0.00    13.00\n",
            "accuracy           0.85    0.85      0.85     0.85\n",
            "macro avg          0.55    0.59      0.57   253.00\n",
            "weighted avg       0.81    0.85      0.83   253.00\n",
            "F1-Macro improved. Saved model as fold_2.bin\n",
            "============== Epoch 3 / 5 ==============\n",
            " \n",
            "\n",
            "Training...\n",
            "\n"
          ]
        },
        {
          "output_type": "stream",
          "name": "stderr",
          "text": [
            "/usr/lib/python3.10/multiprocessing/popen_fork.py:66: RuntimeWarning: os.fork() was called. os.fork() is incompatible with multithreaded code, and JAX is multithreaded, so this will likely lead to a deadlock.\n",
            "  self.pid = os.fork()\n"
          ]
        },
        {
          "output_type": "stream",
          "name": "stdout",
          "text": []
        },
        {
          "output_type": "stream",
          "name": "stderr",
          "text": [
            "/usr/lib/python3.10/multiprocessing/popen_fork.py:66: RuntimeWarning: os.fork() was called. os.fork() is incompatible with multithreaded code, and JAX is multithreaded, so this will likely lead to a deadlock.\n",
            "  self.pid = os.fork()\n"
          ]
        },
        {
          "output_type": "stream",
          "name": "stdout",
          "text": [
            "Total Train loss: 8.075063928961754\n",
            "Average Train Loss:  0.2523457477800548\n",
            " \n",
            "=============================================\n",
            "\n",
            "Validation...\n",
            " \n",
            "Total Validation loss: 3.795170158147812\n",
            "Average Validation Loss:  0.4743962697684765\n",
            "Macro F1-score: 0.67\n",
            "Validation accuracy:  0.85\n",
            "Classification Report: \n",
            "               precision  recall  f1-score  support\n",
            "0                  0.87    0.92      0.90   160.00\n",
            "1                  0.80    0.82      0.81    80.00\n",
            "2                  1.00    0.08      0.14    13.00\n",
            "accuracy           0.85    0.85      0.85     0.85\n",
            "macro avg          0.89    0.61      0.62   253.00\n",
            "weighted avg       0.86    0.85      0.83   253.00\n",
            "F1-Macro improved. Saved model as fold_2.bin\n",
            "============== Epoch 4 / 5 ==============\n",
            " \n",
            "\n",
            "Training...\n",
            "\n"
          ]
        },
        {
          "output_type": "stream",
          "name": "stderr",
          "text": [
            "/usr/lib/python3.10/multiprocessing/popen_fork.py:66: RuntimeWarning: os.fork() was called. os.fork() is incompatible with multithreaded code, and JAX is multithreaded, so this will likely lead to a deadlock.\n",
            "  self.pid = os.fork()\n"
          ]
        },
        {
          "output_type": "stream",
          "name": "stdout",
          "text": []
        },
        {
          "output_type": "stream",
          "name": "stderr",
          "text": [
            "/usr/lib/python3.10/multiprocessing/popen_fork.py:66: RuntimeWarning: os.fork() was called. os.fork() is incompatible with multithreaded code, and JAX is multithreaded, so this will likely lead to a deadlock.\n",
            "  self.pid = os.fork()\n"
          ]
        },
        {
          "output_type": "stream",
          "name": "stdout",
          "text": [
            "Total Train loss: 6.0572582967579365\n",
            "Average Train Loss:  0.18928932177368551\n",
            " \n",
            "=============================================\n",
            "\n",
            "Validation...\n",
            " \n",
            "Total Validation loss: 4.306015193462372\n",
            "Average Validation Loss:  0.5382518991827965\n",
            "Macro F1-score: 0.67\n",
            "Validation accuracy:  0.85\n",
            "Classification Report: \n",
            "               precision  recall  f1-score  support\n",
            "0                  0.86    0.95      0.90   160.00\n",
            "1                  0.84    0.79      0.81    80.00\n",
            "2                  1.00    0.08      0.14    13.00\n",
            "accuracy           0.85    0.85      0.85     0.85\n",
            "macro avg          0.90    0.60      0.62   253.00\n",
            "weighted avg       0.86    0.85      0.83   253.00\n",
            "F1-Macro improved. Saved model as fold_2.bin\n",
            "============== Epoch 5 / 5 ==============\n",
            " \n",
            "\n",
            "Training...\n",
            "\n"
          ]
        },
        {
          "output_type": "stream",
          "name": "stderr",
          "text": [
            "/usr/lib/python3.10/multiprocessing/popen_fork.py:66: RuntimeWarning: os.fork() was called. os.fork() is incompatible with multithreaded code, and JAX is multithreaded, so this will likely lead to a deadlock.\n",
            "  self.pid = os.fork()\n"
          ]
        },
        {
          "output_type": "stream",
          "name": "stdout",
          "text": []
        },
        {
          "output_type": "stream",
          "name": "stderr",
          "text": [
            "/usr/lib/python3.10/multiprocessing/popen_fork.py:66: RuntimeWarning: os.fork() was called. os.fork() is incompatible with multithreaded code, and JAX is multithreaded, so this will likely lead to a deadlock.\n",
            "  self.pid = os.fork()\n"
          ]
        },
        {
          "output_type": "stream",
          "name": "stdout",
          "text": [
            "Total Train loss: 4.034408176317811\n",
            "Average Train Loss:  0.1260752555099316\n",
            " \n",
            "=============================================\n",
            "\n",
            "Validation...\n",
            " \n",
            "Total Validation loss: 4.350944705307484\n",
            "Average Validation Loss:  0.5438680881634355\n",
            "Macro F1-score: 0.70\n",
            "Validation accuracy:  0.86\n",
            "Classification Report: \n",
            "               precision  recall  f1-score  support\n",
            "0                  0.92    0.91      0.91   160.00\n",
            "1                  0.78    0.89      0.83    80.00\n",
            "2                  0.50    0.15      0.24    13.00\n",
            "accuracy           0.86    0.86      0.86     0.86\n",
            "macro avg          0.73    0.65      0.66   253.00\n",
            "weighted avg       0.85    0.86      0.85   253.00\n",
            "F1-Macro improved. Saved model as fold_2.bin\n",
            "\n",
            "################## Fold Model Number 4 / 5 ##################\n",
            "============== Epoch 1 / 5 ==============\n",
            " \n",
            "\n",
            "Training...\n",
            "\n"
          ]
        },
        {
          "output_type": "stream",
          "name": "stderr",
          "text": [
            "/usr/local/lib/python3.10/dist-packages/transformers/optimization.py:591: FutureWarning: This implementation of AdamW is deprecated and will be removed in a future version. Use the PyTorch implementation torch.optim.AdamW instead, or set `no_deprecation_warning=True` to disable this warning\n",
            "  warnings.warn(\n",
            "/usr/lib/python3.10/multiprocessing/popen_fork.py:66: RuntimeWarning: os.fork() was called. os.fork() is incompatible with multithreaded code, and JAX is multithreaded, so this will likely lead to a deadlock.\n",
            "  self.pid = os.fork()\n"
          ]
        },
        {
          "output_type": "stream",
          "name": "stdout",
          "text": [
            "Total Train loss: 23.265494227409363\n",
            "Average Train Loss:  0.7270466946065426\n",
            " \n",
            "=============================================\n",
            "\n",
            "Validation...\n",
            " \n",
            "Total Validation loss: 4.19599711894989\n",
            "Average Validation Loss:  0.5244996398687363\n",
            "Macro F1-score: 0.62\n",
            "Validation accuracy:  0.82\n",
            "Classification Report: \n",
            "               precision  recall  f1-score  support\n",
            "0                  0.91    0.84      0.88   159.00\n",
            "1                  0.69    0.91      0.78    80.00\n",
            "2                  0.00    0.00      0.00    14.00\n",
            "accuracy           0.82    0.82      0.82     0.82\n",
            "macro avg          0.53    0.59      0.55   253.00\n",
            "weighted avg       0.79    0.82      0.80   253.00\n",
            "Saved model as fold_3.bin\n",
            "============== Epoch 2 / 5 ==============\n",
            " \n",
            "\n",
            "Training...\n",
            "\n"
          ]
        },
        {
          "output_type": "stream",
          "name": "stderr",
          "text": [
            "/usr/lib/python3.10/multiprocessing/popen_fork.py:66: RuntimeWarning: os.fork() was called. os.fork() is incompatible with multithreaded code, and JAX is multithreaded, so this will likely lead to a deadlock.\n",
            "  self.pid = os.fork()\n"
          ]
        },
        {
          "output_type": "stream",
          "name": "stdout",
          "text": []
        },
        {
          "output_type": "stream",
          "name": "stderr",
          "text": [
            "/usr/lib/python3.10/multiprocessing/popen_fork.py:66: RuntimeWarning: os.fork() was called. os.fork() is incompatible with multithreaded code, and JAX is multithreaded, so this will likely lead to a deadlock.\n",
            "  self.pid = os.fork()\n"
          ]
        },
        {
          "output_type": "stream",
          "name": "stdout",
          "text": [
            "Total Train loss: 13.774215966463089\n",
            "Average Train Loss:  0.43044424895197153\n",
            " \n",
            "=============================================\n",
            "\n",
            "Validation...\n",
            " \n",
            "Total Validation loss: 3.1960009336471558\n",
            "Average Validation Loss:  0.39950011670589447\n",
            "Macro F1-score: 0.64\n",
            "Validation accuracy:  0.85\n",
            "Classification Report: \n",
            "               precision  recall  f1-score  support\n",
            "0                  0.88    0.92      0.90   159.00\n",
            "1                  0.77    0.85      0.81    80.00\n",
            "2                  0.00    0.00      0.00    14.00\n",
            "accuracy           0.85    0.85      0.85     0.85\n",
            "macro avg          0.55    0.59      0.57   253.00\n",
            "weighted avg       0.80    0.85      0.82   253.00\n",
            "F1-Macro improved. Saved model as fold_3.bin\n",
            "============== Epoch 3 / 5 ==============\n",
            " \n",
            "\n",
            "Training...\n",
            "\n"
          ]
        },
        {
          "output_type": "stream",
          "name": "stderr",
          "text": [
            "/usr/lib/python3.10/multiprocessing/popen_fork.py:66: RuntimeWarning: os.fork() was called. os.fork() is incompatible with multithreaded code, and JAX is multithreaded, so this will likely lead to a deadlock.\n",
            "  self.pid = os.fork()\n"
          ]
        },
        {
          "output_type": "stream",
          "name": "stdout",
          "text": []
        },
        {
          "output_type": "stream",
          "name": "stderr",
          "text": [
            "/usr/lib/python3.10/multiprocessing/popen_fork.py:66: RuntimeWarning: os.fork() was called. os.fork() is incompatible with multithreaded code, and JAX is multithreaded, so this will likely lead to a deadlock.\n",
            "  self.pid = os.fork()\n"
          ]
        },
        {
          "output_type": "stream",
          "name": "stdout",
          "text": [
            "Total Train loss: 9.126420117914677\n",
            "Average Train Loss:  0.28520062868483365\n",
            " \n",
            "=============================================\n",
            "\n",
            "Validation...\n",
            " \n",
            "Total Validation loss: 3.222687840461731\n",
            "Average Validation Loss:  0.40283598005771637\n",
            "Macro F1-score: 0.64\n",
            "Validation accuracy:  0.85\n",
            "Classification Report: \n",
            "               precision  recall  f1-score  support\n",
            "0                  0.90    0.92      0.91   159.00\n",
            "1                  0.77    0.86      0.81    80.00\n",
            "2                  0.00    0.00      0.00    14.00\n",
            "accuracy           0.85    0.85      0.85     0.85\n",
            "macro avg          0.55    0.59      0.57   253.00\n",
            "weighted avg       0.81    0.85      0.83   253.00\n",
            "F1-Macro improved. Saved model as fold_3.bin\n",
            "============== Epoch 4 / 5 ==============\n",
            " \n",
            "\n",
            "Training...\n",
            "\n"
          ]
        },
        {
          "output_type": "stream",
          "name": "stderr",
          "text": [
            "/usr/lib/python3.10/multiprocessing/popen_fork.py:66: RuntimeWarning: os.fork() was called. os.fork() is incompatible with multithreaded code, and JAX is multithreaded, so this will likely lead to a deadlock.\n",
            "  self.pid = os.fork()\n"
          ]
        },
        {
          "output_type": "stream",
          "name": "stdout",
          "text": []
        },
        {
          "output_type": "stream",
          "name": "stderr",
          "text": [
            "/usr/lib/python3.10/multiprocessing/popen_fork.py:66: RuntimeWarning: os.fork() was called. os.fork() is incompatible with multithreaded code, and JAX is multithreaded, so this will likely lead to a deadlock.\n",
            "  self.pid = os.fork()\n"
          ]
        },
        {
          "output_type": "stream",
          "name": "stdout",
          "text": [
            "Total Train loss: 6.388897035270929\n",
            "Average Train Loss:  0.19965303235221654\n",
            " \n",
            "=============================================\n",
            "\n",
            "Validation...\n",
            " \n",
            "Total Validation loss: 3.3860586881637573\n",
            "Average Validation Loss:  0.42325733602046967\n",
            "Macro F1-score: 0.69\n",
            "Validation accuracy:  0.85\n",
            "Classification Report: \n",
            "               precision  recall  f1-score  support\n",
            "0                  0.93    0.87      0.90   159.00\n",
            "1                  0.74    0.95      0.83    80.00\n",
            "2                  1.00    0.07      0.13    14.00\n",
            "accuracy           0.85    0.85      0.85     0.85\n",
            "macro avg          0.89    0.63      0.62   253.00\n",
            "weighted avg       0.87    0.85      0.84   253.00\n",
            "F1-Macro improved. Saved model as fold_3.bin\n",
            "============== Epoch 5 / 5 ==============\n",
            " \n",
            "\n",
            "Training...\n",
            "\n"
          ]
        },
        {
          "output_type": "stream",
          "name": "stderr",
          "text": [
            "/usr/lib/python3.10/multiprocessing/popen_fork.py:66: RuntimeWarning: os.fork() was called. os.fork() is incompatible with multithreaded code, and JAX is multithreaded, so this will likely lead to a deadlock.\n",
            "  self.pid = os.fork()\n"
          ]
        },
        {
          "output_type": "stream",
          "name": "stdout",
          "text": []
        },
        {
          "output_type": "stream",
          "name": "stderr",
          "text": [
            "/usr/lib/python3.10/multiprocessing/popen_fork.py:66: RuntimeWarning: os.fork() was called. os.fork() is incompatible with multithreaded code, and JAX is multithreaded, so this will likely lead to a deadlock.\n",
            "  self.pid = os.fork()\n"
          ]
        },
        {
          "output_type": "stream",
          "name": "stdout",
          "text": [
            "Total Train loss: 4.474017772823572\n",
            "Average Train Loss:  0.13981305540073663\n",
            " \n",
            "=============================================\n",
            "\n",
            "Validation...\n",
            " \n",
            "Total Validation loss: 5.604672610759735\n",
            "Average Validation Loss:  0.7005840763449669\n",
            "Macro F1-score: 0.56\n",
            "Validation accuracy:  0.82\n",
            "Classification Report: \n",
            "               precision  recall  f1-score  support\n",
            "0                  0.81    0.98      0.89   159.00\n",
            "1                  0.91    0.62      0.74    80.00\n",
            "2                  0.20    0.07      0.11    14.00\n",
            "accuracy           0.82    0.82      0.82     0.82\n",
            "macro avg          0.64    0.56      0.58   253.00\n",
            "weighted avg       0.81    0.82      0.80   253.00\n",
            "\n",
            "################## Fold Model Number 5 / 5 ##################\n",
            "============== Epoch 1 / 5 ==============\n",
            " \n",
            "\n",
            "Training...\n",
            "\n"
          ]
        },
        {
          "output_type": "stream",
          "name": "stderr",
          "text": [
            "/usr/local/lib/python3.10/dist-packages/transformers/optimization.py:591: FutureWarning: This implementation of AdamW is deprecated and will be removed in a future version. Use the PyTorch implementation torch.optim.AdamW instead, or set `no_deprecation_warning=True` to disable this warning\n",
            "  warnings.warn(\n",
            "/usr/lib/python3.10/multiprocessing/popen_fork.py:66: RuntimeWarning: os.fork() was called. os.fork() is incompatible with multithreaded code, and JAX is multithreaded, so this will likely lead to a deadlock.\n",
            "  self.pid = os.fork()\n"
          ]
        },
        {
          "output_type": "stream",
          "name": "stdout",
          "text": []
        },
        {
          "output_type": "stream",
          "name": "stderr",
          "text": [
            "/usr/lib/python3.10/multiprocessing/popen_fork.py:66: RuntimeWarning: os.fork() was called. os.fork() is incompatible with multithreaded code, and JAX is multithreaded, so this will likely lead to a deadlock.\n",
            "  self.pid = os.fork()\n"
          ]
        },
        {
          "output_type": "stream",
          "name": "stdout",
          "text": [
            "Total Train loss: 23.788128823041916\n",
            "Average Train Loss:  0.7433790257200599\n",
            " \n",
            "=============================================\n",
            "\n",
            "Validation...\n",
            " \n",
            "Total Validation loss: 3.865059942007065\n",
            "Average Validation Loss:  0.4831324927508831\n",
            "Macro F1-score: 0.65\n",
            "Validation accuracy:  0.85\n",
            "Classification Report: \n",
            "               precision  recall  f1-score  support\n",
            "0                  0.88    0.93      0.90   160.00\n",
            "1                  0.81    0.85      0.83    79.00\n",
            "2                  0.00    0.00      0.00    14.00\n",
            "accuracy           0.85    0.85      0.85     0.85\n",
            "macro avg          0.56    0.59      0.58   253.00\n",
            "weighted avg       0.81    0.85      0.83   253.00\n",
            "Saved model as fold_4.bin\n",
            "============== Epoch 2 / 5 ==============\n",
            " \n",
            "\n",
            "Training...\n",
            "\n"
          ]
        },
        {
          "output_type": "stream",
          "name": "stderr",
          "text": [
            "/usr/lib/python3.10/multiprocessing/popen_fork.py:66: RuntimeWarning: os.fork() was called. os.fork() is incompatible with multithreaded code, and JAX is multithreaded, so this will likely lead to a deadlock.\n",
            "  self.pid = os.fork()\n"
          ]
        },
        {
          "output_type": "stream",
          "name": "stdout",
          "text": []
        },
        {
          "output_type": "stream",
          "name": "stderr",
          "text": [
            "/usr/lib/python3.10/multiprocessing/popen_fork.py:66: RuntimeWarning: os.fork() was called. os.fork() is incompatible with multithreaded code, and JAX is multithreaded, so this will likely lead to a deadlock.\n",
            "  self.pid = os.fork()\n"
          ]
        },
        {
          "output_type": "stream",
          "name": "stdout",
          "text": [
            "Total Train loss: 14.155679687857628\n",
            "Average Train Loss:  0.44236499024555087\n",
            " \n",
            "=============================================\n",
            "\n",
            "Validation...\n",
            " \n",
            "Total Validation loss: 3.11959570646286\n",
            "Average Validation Loss:  0.3899494633078575\n",
            "Macro F1-score: 0.67\n",
            "Validation accuracy:  0.87\n",
            "Classification Report: \n",
            "               precision  recall  f1-score  support\n",
            "0                  0.91    0.92      0.92   160.00\n",
            "1                  0.79    0.92      0.85    79.00\n",
            "2                  0.00    0.00      0.00    14.00\n",
            "accuracy           0.87    0.87      0.87     0.87\n",
            "macro avg          0.57    0.61      0.59   253.00\n",
            "weighted avg       0.83    0.87      0.85   253.00\n",
            "F1-Macro improved. Saved model as fold_4.bin\n",
            "============== Epoch 3 / 5 ==============\n",
            " \n",
            "\n",
            "Training...\n",
            "\n"
          ]
        },
        {
          "output_type": "stream",
          "name": "stderr",
          "text": [
            "/usr/lib/python3.10/multiprocessing/popen_fork.py:66: RuntimeWarning: os.fork() was called. os.fork() is incompatible with multithreaded code, and JAX is multithreaded, so this will likely lead to a deadlock.\n",
            "  self.pid = os.fork()\n"
          ]
        },
        {
          "output_type": "stream",
          "name": "stdout",
          "text": []
        },
        {
          "output_type": "stream",
          "name": "stderr",
          "text": [
            "/usr/lib/python3.10/multiprocessing/popen_fork.py:66: RuntimeWarning: os.fork() was called. os.fork() is incompatible with multithreaded code, and JAX is multithreaded, so this will likely lead to a deadlock.\n",
            "  self.pid = os.fork()\n"
          ]
        },
        {
          "output_type": "stream",
          "name": "stdout",
          "text": [
            "Total Train loss: 8.770721390843391\n",
            "Average Train Loss:  0.274085043463856\n",
            " \n",
            "=============================================\n",
            "\n",
            "Validation...\n",
            " \n",
            "Total Validation loss: 3.354849051684141\n",
            "Average Validation Loss:  0.41935613146051764\n",
            "Macro F1-score: 0.66\n",
            "Validation accuracy:  0.87\n",
            "Classification Report: \n",
            "               precision  recall  f1-score  support\n",
            "0                  0.89    0.93      0.91   160.00\n",
            "1                  0.82    0.89      0.85    79.00\n",
            "2                  0.00    0.00      0.00    14.00\n",
            "accuracy           0.87    0.87      0.87     0.87\n",
            "macro avg          0.57    0.61      0.59   253.00\n",
            "weighted avg       0.82    0.87      0.84   253.00\n",
            "============== Epoch 4 / 5 ==============\n",
            " \n",
            "\n",
            "Training...\n",
            "\n"
          ]
        },
        {
          "output_type": "stream",
          "name": "stderr",
          "text": [
            "/usr/lib/python3.10/multiprocessing/popen_fork.py:66: RuntimeWarning: os.fork() was called. os.fork() is incompatible with multithreaded code, and JAX is multithreaded, so this will likely lead to a deadlock.\n",
            "  self.pid = os.fork()\n"
          ]
        },
        {
          "output_type": "stream",
          "name": "stdout",
          "text": []
        },
        {
          "output_type": "stream",
          "name": "stderr",
          "text": [
            "/usr/lib/python3.10/multiprocessing/popen_fork.py:66: RuntimeWarning: os.fork() was called. os.fork() is incompatible with multithreaded code, and JAX is multithreaded, so this will likely lead to a deadlock.\n",
            "  self.pid = os.fork()\n"
          ]
        },
        {
          "output_type": "stream",
          "name": "stdout",
          "text": [
            "Total Train loss: 8.531603436917067\n",
            "Average Train Loss:  0.26661260740365833\n",
            " \n",
            "=============================================\n",
            "\n",
            "Validation...\n",
            " \n",
            "Total Validation loss: 3.703436955809593\n",
            "Average Validation Loss:  0.46292961947619915\n",
            "Macro F1-score: 0.67\n",
            "Validation accuracy:  0.87\n",
            "Classification Report: \n",
            "               precision  recall  f1-score  support\n",
            "0                  0.89    0.94      0.92   160.00\n",
            "1                  0.84    0.89      0.86    79.00\n",
            "2                  0.00    0.00      0.00    14.00\n",
            "accuracy           0.87    0.87      0.87     0.87\n",
            "macro avg          0.58    0.61      0.59   253.00\n",
            "weighted avg       0.83    0.87      0.85   253.00\n",
            "F1-Macro improved. Saved model as fold_4.bin\n",
            "============== Epoch 5 / 5 ==============\n",
            " \n",
            "\n",
            "Training...\n",
            "\n"
          ]
        },
        {
          "output_type": "stream",
          "name": "stderr",
          "text": [
            "/usr/lib/python3.10/multiprocessing/popen_fork.py:66: RuntimeWarning: os.fork() was called. os.fork() is incompatible with multithreaded code, and JAX is multithreaded, so this will likely lead to a deadlock.\n",
            "  self.pid = os.fork()\n"
          ]
        },
        {
          "output_type": "stream",
          "name": "stdout",
          "text": []
        },
        {
          "output_type": "stream",
          "name": "stderr",
          "text": [
            "/usr/lib/python3.10/multiprocessing/popen_fork.py:66: RuntimeWarning: os.fork() was called. os.fork() is incompatible with multithreaded code, and JAX is multithreaded, so this will likely lead to a deadlock.\n",
            "  self.pid = os.fork()\n"
          ]
        },
        {
          "output_type": "stream",
          "name": "stdout",
          "text": [
            "Total Train loss: 5.4211755245924\n",
            "Average Train Loss:  0.1694117351435125\n",
            " \n",
            "=============================================\n",
            "\n",
            "Validation...\n",
            " \n",
            "Total Validation loss: 4.1689466536045074\n",
            "Average Validation Loss:  0.5211183317005634\n",
            "Macro F1-score: 0.68\n",
            "Validation accuracy:  0.87\n",
            "Classification Report: \n",
            "               precision  recall  f1-score  support\n",
            "0                  0.87    0.96      0.91   160.00\n",
            "1                  0.89    0.80      0.84    79.00\n",
            "2                  0.75    0.21      0.33    14.00\n",
            "accuracy           0.87    0.87      0.87     0.87\n",
            "macro avg          0.83    0.66      0.69   253.00\n",
            "weighted avg       0.87    0.87      0.86   253.00\n",
            "F1-Macro improved. Saved model as fold_4.bin\n",
            "CPU times: user 11min 40s, sys: 6min 16s, total: 17min 56s\n",
            "Wall time: 19min 48s\n"
          ]
        }
      ]
    },
    {
      "cell_type": "markdown",
      "source": [
        "##Model Evaluation"
      ],
      "metadata": {
        "id": "biwKevXu_9jg"
      },
      "id": "biwKevXu_9jg"
    },
    {
      "cell_type": "markdown",
      "source": [
        "### Prepare Data"
      ],
      "metadata": {
        "id": "tCKMSkWrloM1"
      },
      "id": "tCKMSkWrloM1"
    },
    {
      "cell_type": "markdown",
      "source": [
        "Convert the training_stats dictionary into a dataframe that will be used for data visualization:"
      ],
      "metadata": {
        "id": "m1wdPte0t-RN"
      },
      "id": "m1wdPte0t-RN"
    },
    {
      "cell_type": "code",
      "source": [
        "pd.set_option('display.precision', 2)\n",
        "\n",
        "df = pd.DataFrame(training_stats)\n"
      ],
      "metadata": {
        "id": "XKpimY16Daxk"
      },
      "id": "XKpimY16Daxk",
      "execution_count": null,
      "outputs": []
    },
    {
      "cell_type": "markdown",
      "source": [
        "Save the data frame as cvs and excel files:"
      ],
      "metadata": {
        "id": "mfd6T1tvW7sG"
      },
      "id": "mfd6T1tvW7sG"
    },
    {
      "cell_type": "code",
      "source": [
        "path = FOLDER_PATH + 'training_stats_seed'+ str(SEED_VAL) + '.cvs'\n",
        "df.to_csv(path)\n",
        "\n",
        "path = FOLDER_PATH + 'training_stats_seed'+ str(SEED_VAL) + '.xlsx'\n",
        "df.to_excel(path)"
      ],
      "metadata": {
        "id": "pp1s488UFMbD"
      },
      "id": "pp1s488UFMbD",
      "execution_count": null,
      "outputs": []
    },
    {
      "cell_type": "markdown",
      "source": [
        "Display the dataframe to see what it looks like:"
      ],
      "metadata": {
        "id": "4qY4i4-VUdbr"
      },
      "id": "4qY4i4-VUdbr"
    },
    {
      "cell_type": "code",
      "source": [
        "df"
      ],
      "metadata": {
        "colab": {
          "base_uri": "https://localhost:8080/",
          "height": 1000
        },
        "id": "5-D5375yEI9f",
        "outputId": "6327454b-a9e6-460d-819d-8ca512d9a363"
      },
      "id": "5-D5375yEI9f",
      "execution_count": null,
      "outputs": [
        {
          "output_type": "execute_result",
          "data": {
            "text/plain": [
              "    fold  epoch  total_train_loss  avg_train_loss  total_val_loss  \\\n",
              "0      1      1             23.24            0.73            4.28   \n",
              "1      1      2             13.27            0.41            3.58   \n",
              "2      1      3              8.92            0.28            3.86   \n",
              "3      1      4              8.39            0.26            4.08   \n",
              "4      1      5              8.69            0.27            4.03   \n",
              "5      2      1             23.25            0.73            4.01   \n",
              "6      2      2             13.55            0.42            3.46   \n",
              "7      2      3              8.54            0.27            3.84   \n",
              "8      2      4              6.06            0.19            4.20   \n",
              "9      2      5              3.88            0.12            4.87   \n",
              "10     3      1             23.03            0.72            4.16   \n",
              "11     3      2             13.34            0.42            3.55   \n",
              "12     3      3              8.08            0.25            3.80   \n",
              "13     3      4              6.06            0.19            4.31   \n",
              "14     3      5              4.03            0.13            4.35   \n",
              "15     4      1             23.27            0.73            4.20   \n",
              "16     4      2             13.77            0.43            3.20   \n",
              "17     4      3              9.13            0.29            3.22   \n",
              "18     4      4              6.39            0.20            3.39   \n",
              "19     4      5              4.47            0.14            5.60   \n",
              "20     5      1             23.79            0.74            3.87   \n",
              "21     5      2             14.16            0.44            3.12   \n",
              "22     5      3              8.77            0.27            3.35   \n",
              "23     5      4              8.53            0.27            3.70   \n",
              "24     5      5              5.42            0.17            4.17   \n",
              "\n",
              "    avg_val_loss  val_accuracy  \\\n",
              "0           0.53          0.83   \n",
              "1           0.45          0.86   \n",
              "2           0.48          0.85   \n",
              "3           0.51          0.86   \n",
              "4           0.50          0.85   \n",
              "5           0.50          0.84   \n",
              "6           0.43          0.85   \n",
              "7           0.48          0.86   \n",
              "8           0.52          0.86   \n",
              "9           0.61          0.83   \n",
              "10          0.52          0.81   \n",
              "11          0.44          0.85   \n",
              "12          0.47          0.85   \n",
              "13          0.54          0.85   \n",
              "14          0.54          0.86   \n",
              "15          0.52          0.82   \n",
              "16          0.40          0.85   \n",
              "17          0.40          0.85   \n",
              "18          0.42          0.85   \n",
              "19          0.70          0.82   \n",
              "20          0.48          0.85   \n",
              "21          0.39          0.87   \n",
              "22          0.42          0.87   \n",
              "23          0.46          0.87   \n",
              "24          0.52          0.87   \n",
              "\n",
              "                                               report  \n",
              "0                 precision  recall  f1-score  sup...  \n",
              "1                 precision  recall  f1-score  sup...  \n",
              "2                 precision  recall  f1-score  sup...  \n",
              "3                 precision  recall  f1-score  sup...  \n",
              "4                 precision  recall  f1-score  sup...  \n",
              "5                 precision  recall  f1-score  sup...  \n",
              "6                 precision  recall  f1-score  sup...  \n",
              "7                 precision  recall  f1-score  sup...  \n",
              "8                 precision  recall  f1-score  sup...  \n",
              "9                 precision  recall  f1-score  sup...  \n",
              "10                precision  recall  f1-score  sup...  \n",
              "11                precision  recall  f1-score  sup...  \n",
              "12                precision  recall  f1-score  sup...  \n",
              "13                precision  recall  f1-score  sup...  \n",
              "14                precision  recall  f1-score  sup...  \n",
              "15                precision  recall  f1-score  sup...  \n",
              "16                precision  recall  f1-score  sup...  \n",
              "17                precision  recall  f1-score  sup...  \n",
              "18                precision  recall  f1-score  sup...  \n",
              "19                precision  recall  f1-score  sup...  \n",
              "20                precision  recall  f1-score  sup...  \n",
              "21                precision  recall  f1-score  sup...  \n",
              "22                precision  recall  f1-score  sup...  \n",
              "23                precision  recall  f1-score  sup...  \n",
              "24                precision  recall  f1-score  sup...  "
            ],
            "text/html": [
              "\n",
              "  <div id=\"df-74c273bd-bc52-47b9-8c69-812a14d77d05\" class=\"colab-df-container\">\n",
              "    <div>\n",
              "<style scoped>\n",
              "    .dataframe tbody tr th:only-of-type {\n",
              "        vertical-align: middle;\n",
              "    }\n",
              "\n",
              "    .dataframe tbody tr th {\n",
              "        vertical-align: top;\n",
              "    }\n",
              "\n",
              "    .dataframe thead th {\n",
              "        text-align: right;\n",
              "    }\n",
              "</style>\n",
              "<table border=\"1\" class=\"dataframe\">\n",
              "  <thead>\n",
              "    <tr style=\"text-align: right;\">\n",
              "      <th></th>\n",
              "      <th>fold</th>\n",
              "      <th>epoch</th>\n",
              "      <th>total_train_loss</th>\n",
              "      <th>avg_train_loss</th>\n",
              "      <th>total_val_loss</th>\n",
              "      <th>avg_val_loss</th>\n",
              "      <th>val_accuracy</th>\n",
              "      <th>report</th>\n",
              "    </tr>\n",
              "  </thead>\n",
              "  <tbody>\n",
              "    <tr>\n",
              "      <th>0</th>\n",
              "      <td>1</td>\n",
              "      <td>1</td>\n",
              "      <td>23.24</td>\n",
              "      <td>0.73</td>\n",
              "      <td>4.28</td>\n",
              "      <td>0.53</td>\n",
              "      <td>0.83</td>\n",
              "      <td>precision  recall  f1-score  sup...</td>\n",
              "    </tr>\n",
              "    <tr>\n",
              "      <th>1</th>\n",
              "      <td>1</td>\n",
              "      <td>2</td>\n",
              "      <td>13.27</td>\n",
              "      <td>0.41</td>\n",
              "      <td>3.58</td>\n",
              "      <td>0.45</td>\n",
              "      <td>0.86</td>\n",
              "      <td>precision  recall  f1-score  sup...</td>\n",
              "    </tr>\n",
              "    <tr>\n",
              "      <th>2</th>\n",
              "      <td>1</td>\n",
              "      <td>3</td>\n",
              "      <td>8.92</td>\n",
              "      <td>0.28</td>\n",
              "      <td>3.86</td>\n",
              "      <td>0.48</td>\n",
              "      <td>0.85</td>\n",
              "      <td>precision  recall  f1-score  sup...</td>\n",
              "    </tr>\n",
              "    <tr>\n",
              "      <th>3</th>\n",
              "      <td>1</td>\n",
              "      <td>4</td>\n",
              "      <td>8.39</td>\n",
              "      <td>0.26</td>\n",
              "      <td>4.08</td>\n",
              "      <td>0.51</td>\n",
              "      <td>0.86</td>\n",
              "      <td>precision  recall  f1-score  sup...</td>\n",
              "    </tr>\n",
              "    <tr>\n",
              "      <th>4</th>\n",
              "      <td>1</td>\n",
              "      <td>5</td>\n",
              "      <td>8.69</td>\n",
              "      <td>0.27</td>\n",
              "      <td>4.03</td>\n",
              "      <td>0.50</td>\n",
              "      <td>0.85</td>\n",
              "      <td>precision  recall  f1-score  sup...</td>\n",
              "    </tr>\n",
              "    <tr>\n",
              "      <th>5</th>\n",
              "      <td>2</td>\n",
              "      <td>1</td>\n",
              "      <td>23.25</td>\n",
              "      <td>0.73</td>\n",
              "      <td>4.01</td>\n",
              "      <td>0.50</td>\n",
              "      <td>0.84</td>\n",
              "      <td>precision  recall  f1-score  sup...</td>\n",
              "    </tr>\n",
              "    <tr>\n",
              "      <th>6</th>\n",
              "      <td>2</td>\n",
              "      <td>2</td>\n",
              "      <td>13.55</td>\n",
              "      <td>0.42</td>\n",
              "      <td>3.46</td>\n",
              "      <td>0.43</td>\n",
              "      <td>0.85</td>\n",
              "      <td>precision  recall  f1-score  sup...</td>\n",
              "    </tr>\n",
              "    <tr>\n",
              "      <th>7</th>\n",
              "      <td>2</td>\n",
              "      <td>3</td>\n",
              "      <td>8.54</td>\n",
              "      <td>0.27</td>\n",
              "      <td>3.84</td>\n",
              "      <td>0.48</td>\n",
              "      <td>0.86</td>\n",
              "      <td>precision  recall  f1-score  sup...</td>\n",
              "    </tr>\n",
              "    <tr>\n",
              "      <th>8</th>\n",
              "      <td>2</td>\n",
              "      <td>4</td>\n",
              "      <td>6.06</td>\n",
              "      <td>0.19</td>\n",
              "      <td>4.20</td>\n",
              "      <td>0.52</td>\n",
              "      <td>0.86</td>\n",
              "      <td>precision  recall  f1-score  sup...</td>\n",
              "    </tr>\n",
              "    <tr>\n",
              "      <th>9</th>\n",
              "      <td>2</td>\n",
              "      <td>5</td>\n",
              "      <td>3.88</td>\n",
              "      <td>0.12</td>\n",
              "      <td>4.87</td>\n",
              "      <td>0.61</td>\n",
              "      <td>0.83</td>\n",
              "      <td>precision  recall  f1-score  sup...</td>\n",
              "    </tr>\n",
              "    <tr>\n",
              "      <th>10</th>\n",
              "      <td>3</td>\n",
              "      <td>1</td>\n",
              "      <td>23.03</td>\n",
              "      <td>0.72</td>\n",
              "      <td>4.16</td>\n",
              "      <td>0.52</td>\n",
              "      <td>0.81</td>\n",
              "      <td>precision  recall  f1-score  sup...</td>\n",
              "    </tr>\n",
              "    <tr>\n",
              "      <th>11</th>\n",
              "      <td>3</td>\n",
              "      <td>2</td>\n",
              "      <td>13.34</td>\n",
              "      <td>0.42</td>\n",
              "      <td>3.55</td>\n",
              "      <td>0.44</td>\n",
              "      <td>0.85</td>\n",
              "      <td>precision  recall  f1-score  sup...</td>\n",
              "    </tr>\n",
              "    <tr>\n",
              "      <th>12</th>\n",
              "      <td>3</td>\n",
              "      <td>3</td>\n",
              "      <td>8.08</td>\n",
              "      <td>0.25</td>\n",
              "      <td>3.80</td>\n",
              "      <td>0.47</td>\n",
              "      <td>0.85</td>\n",
              "      <td>precision  recall  f1-score  sup...</td>\n",
              "    </tr>\n",
              "    <tr>\n",
              "      <th>13</th>\n",
              "      <td>3</td>\n",
              "      <td>4</td>\n",
              "      <td>6.06</td>\n",
              "      <td>0.19</td>\n",
              "      <td>4.31</td>\n",
              "      <td>0.54</td>\n",
              "      <td>0.85</td>\n",
              "      <td>precision  recall  f1-score  sup...</td>\n",
              "    </tr>\n",
              "    <tr>\n",
              "      <th>14</th>\n",
              "      <td>3</td>\n",
              "      <td>5</td>\n",
              "      <td>4.03</td>\n",
              "      <td>0.13</td>\n",
              "      <td>4.35</td>\n",
              "      <td>0.54</td>\n",
              "      <td>0.86</td>\n",
              "      <td>precision  recall  f1-score  sup...</td>\n",
              "    </tr>\n",
              "    <tr>\n",
              "      <th>15</th>\n",
              "      <td>4</td>\n",
              "      <td>1</td>\n",
              "      <td>23.27</td>\n",
              "      <td>0.73</td>\n",
              "      <td>4.20</td>\n",
              "      <td>0.52</td>\n",
              "      <td>0.82</td>\n",
              "      <td>precision  recall  f1-score  sup...</td>\n",
              "    </tr>\n",
              "    <tr>\n",
              "      <th>16</th>\n",
              "      <td>4</td>\n",
              "      <td>2</td>\n",
              "      <td>13.77</td>\n",
              "      <td>0.43</td>\n",
              "      <td>3.20</td>\n",
              "      <td>0.40</td>\n",
              "      <td>0.85</td>\n",
              "      <td>precision  recall  f1-score  sup...</td>\n",
              "    </tr>\n",
              "    <tr>\n",
              "      <th>17</th>\n",
              "      <td>4</td>\n",
              "      <td>3</td>\n",
              "      <td>9.13</td>\n",
              "      <td>0.29</td>\n",
              "      <td>3.22</td>\n",
              "      <td>0.40</td>\n",
              "      <td>0.85</td>\n",
              "      <td>precision  recall  f1-score  sup...</td>\n",
              "    </tr>\n",
              "    <tr>\n",
              "      <th>18</th>\n",
              "      <td>4</td>\n",
              "      <td>4</td>\n",
              "      <td>6.39</td>\n",
              "      <td>0.20</td>\n",
              "      <td>3.39</td>\n",
              "      <td>0.42</td>\n",
              "      <td>0.85</td>\n",
              "      <td>precision  recall  f1-score  sup...</td>\n",
              "    </tr>\n",
              "    <tr>\n",
              "      <th>19</th>\n",
              "      <td>4</td>\n",
              "      <td>5</td>\n",
              "      <td>4.47</td>\n",
              "      <td>0.14</td>\n",
              "      <td>5.60</td>\n",
              "      <td>0.70</td>\n",
              "      <td>0.82</td>\n",
              "      <td>precision  recall  f1-score  sup...</td>\n",
              "    </tr>\n",
              "    <tr>\n",
              "      <th>20</th>\n",
              "      <td>5</td>\n",
              "      <td>1</td>\n",
              "      <td>23.79</td>\n",
              "      <td>0.74</td>\n",
              "      <td>3.87</td>\n",
              "      <td>0.48</td>\n",
              "      <td>0.85</td>\n",
              "      <td>precision  recall  f1-score  sup...</td>\n",
              "    </tr>\n",
              "    <tr>\n",
              "      <th>21</th>\n",
              "      <td>5</td>\n",
              "      <td>2</td>\n",
              "      <td>14.16</td>\n",
              "      <td>0.44</td>\n",
              "      <td>3.12</td>\n",
              "      <td>0.39</td>\n",
              "      <td>0.87</td>\n",
              "      <td>precision  recall  f1-score  sup...</td>\n",
              "    </tr>\n",
              "    <tr>\n",
              "      <th>22</th>\n",
              "      <td>5</td>\n",
              "      <td>3</td>\n",
              "      <td>8.77</td>\n",
              "      <td>0.27</td>\n",
              "      <td>3.35</td>\n",
              "      <td>0.42</td>\n",
              "      <td>0.87</td>\n",
              "      <td>precision  recall  f1-score  sup...</td>\n",
              "    </tr>\n",
              "    <tr>\n",
              "      <th>23</th>\n",
              "      <td>5</td>\n",
              "      <td>4</td>\n",
              "      <td>8.53</td>\n",
              "      <td>0.27</td>\n",
              "      <td>3.70</td>\n",
              "      <td>0.46</td>\n",
              "      <td>0.87</td>\n",
              "      <td>precision  recall  f1-score  sup...</td>\n",
              "    </tr>\n",
              "    <tr>\n",
              "      <th>24</th>\n",
              "      <td>5</td>\n",
              "      <td>5</td>\n",
              "      <td>5.42</td>\n",
              "      <td>0.17</td>\n",
              "      <td>4.17</td>\n",
              "      <td>0.52</td>\n",
              "      <td>0.87</td>\n",
              "      <td>precision  recall  f1-score  sup...</td>\n",
              "    </tr>\n",
              "  </tbody>\n",
              "</table>\n",
              "</div>\n",
              "    <div class=\"colab-df-buttons\">\n",
              "\n",
              "  <div class=\"colab-df-container\">\n",
              "    <button class=\"colab-df-convert\" onclick=\"convertToInteractive('df-74c273bd-bc52-47b9-8c69-812a14d77d05')\"\n",
              "            title=\"Convert this dataframe to an interactive table.\"\n",
              "            style=\"display:none;\">\n",
              "\n",
              "  <svg xmlns=\"http://www.w3.org/2000/svg\" height=\"24px\" viewBox=\"0 -960 960 960\">\n",
              "    <path d=\"M120-120v-720h720v720H120Zm60-500h600v-160H180v160Zm220 220h160v-160H400v160Zm0 220h160v-160H400v160ZM180-400h160v-160H180v160Zm440 0h160v-160H620v160ZM180-180h160v-160H180v160Zm440 0h160v-160H620v160Z\"/>\n",
              "  </svg>\n",
              "    </button>\n",
              "\n",
              "  <style>\n",
              "    .colab-df-container {\n",
              "      display:flex;\n",
              "      gap: 12px;\n",
              "    }\n",
              "\n",
              "    .colab-df-convert {\n",
              "      background-color: #E8F0FE;\n",
              "      border: none;\n",
              "      border-radius: 50%;\n",
              "      cursor: pointer;\n",
              "      display: none;\n",
              "      fill: #1967D2;\n",
              "      height: 32px;\n",
              "      padding: 0 0 0 0;\n",
              "      width: 32px;\n",
              "    }\n",
              "\n",
              "    .colab-df-convert:hover {\n",
              "      background-color: #E2EBFA;\n",
              "      box-shadow: 0px 1px 2px rgba(60, 64, 67, 0.3), 0px 1px 3px 1px rgba(60, 64, 67, 0.15);\n",
              "      fill: #174EA6;\n",
              "    }\n",
              "\n",
              "    .colab-df-buttons div {\n",
              "      margin-bottom: 4px;\n",
              "    }\n",
              "\n",
              "    [theme=dark] .colab-df-convert {\n",
              "      background-color: #3B4455;\n",
              "      fill: #D2E3FC;\n",
              "    }\n",
              "\n",
              "    [theme=dark] .colab-df-convert:hover {\n",
              "      background-color: #434B5C;\n",
              "      box-shadow: 0px 1px 3px 1px rgba(0, 0, 0, 0.15);\n",
              "      filter: drop-shadow(0px 1px 2px rgba(0, 0, 0, 0.3));\n",
              "      fill: #FFFFFF;\n",
              "    }\n",
              "  </style>\n",
              "\n",
              "    <script>\n",
              "      const buttonEl =\n",
              "        document.querySelector('#df-74c273bd-bc52-47b9-8c69-812a14d77d05 button.colab-df-convert');\n",
              "      buttonEl.style.display =\n",
              "        google.colab.kernel.accessAllowed ? 'block' : 'none';\n",
              "\n",
              "      async function convertToInteractive(key) {\n",
              "        const element = document.querySelector('#df-74c273bd-bc52-47b9-8c69-812a14d77d05');\n",
              "        const dataTable =\n",
              "          await google.colab.kernel.invokeFunction('convertToInteractive',\n",
              "                                                    [key], {});\n",
              "        if (!dataTable) return;\n",
              "\n",
              "        const docLinkHtml = 'Like what you see? Visit the ' +\n",
              "          '<a target=\"_blank\" href=https://colab.research.google.com/notebooks/data_table.ipynb>data table notebook</a>'\n",
              "          + ' to learn more about interactive tables.';\n",
              "        element.innerHTML = '';\n",
              "        dataTable['output_type'] = 'display_data';\n",
              "        await google.colab.output.renderOutput(dataTable, element);\n",
              "        const docLink = document.createElement('div');\n",
              "        docLink.innerHTML = docLinkHtml;\n",
              "        element.appendChild(docLink);\n",
              "      }\n",
              "    </script>\n",
              "  </div>\n",
              "\n",
              "\n",
              "<div id=\"df-5afa6a99-3daa-4731-b9da-c49b5581441e\">\n",
              "  <button class=\"colab-df-quickchart\" onclick=\"quickchart('df-5afa6a99-3daa-4731-b9da-c49b5581441e')\"\n",
              "            title=\"Suggest charts\"\n",
              "            style=\"display:none;\">\n",
              "\n",
              "<svg xmlns=\"http://www.w3.org/2000/svg\" height=\"24px\"viewBox=\"0 0 24 24\"\n",
              "     width=\"24px\">\n",
              "    <g>\n",
              "        <path d=\"M19 3H5c-1.1 0-2 .9-2 2v14c0 1.1.9 2 2 2h14c1.1 0 2-.9 2-2V5c0-1.1-.9-2-2-2zM9 17H7v-7h2v7zm4 0h-2V7h2v10zm4 0h-2v-4h2v4z\"/>\n",
              "    </g>\n",
              "</svg>\n",
              "  </button>\n",
              "\n",
              "<style>\n",
              "  .colab-df-quickchart {\n",
              "      --bg-color: #E8F0FE;\n",
              "      --fill-color: #1967D2;\n",
              "      --hover-bg-color: #E2EBFA;\n",
              "      --hover-fill-color: #174EA6;\n",
              "      --disabled-fill-color: #AAA;\n",
              "      --disabled-bg-color: #DDD;\n",
              "  }\n",
              "\n",
              "  [theme=dark] .colab-df-quickchart {\n",
              "      --bg-color: #3B4455;\n",
              "      --fill-color: #D2E3FC;\n",
              "      --hover-bg-color: #434B5C;\n",
              "      --hover-fill-color: #FFFFFF;\n",
              "      --disabled-bg-color: #3B4455;\n",
              "      --disabled-fill-color: #666;\n",
              "  }\n",
              "\n",
              "  .colab-df-quickchart {\n",
              "    background-color: var(--bg-color);\n",
              "    border: none;\n",
              "    border-radius: 50%;\n",
              "    cursor: pointer;\n",
              "    display: none;\n",
              "    fill: var(--fill-color);\n",
              "    height: 32px;\n",
              "    padding: 0;\n",
              "    width: 32px;\n",
              "  }\n",
              "\n",
              "  .colab-df-quickchart:hover {\n",
              "    background-color: var(--hover-bg-color);\n",
              "    box-shadow: 0 1px 2px rgba(60, 64, 67, 0.3), 0 1px 3px 1px rgba(60, 64, 67, 0.15);\n",
              "    fill: var(--button-hover-fill-color);\n",
              "  }\n",
              "\n",
              "  .colab-df-quickchart-complete:disabled,\n",
              "  .colab-df-quickchart-complete:disabled:hover {\n",
              "    background-color: var(--disabled-bg-color);\n",
              "    fill: var(--disabled-fill-color);\n",
              "    box-shadow: none;\n",
              "  }\n",
              "\n",
              "  .colab-df-spinner {\n",
              "    border: 2px solid var(--fill-color);\n",
              "    border-color: transparent;\n",
              "    border-bottom-color: var(--fill-color);\n",
              "    animation:\n",
              "      spin 1s steps(1) infinite;\n",
              "  }\n",
              "\n",
              "  @keyframes spin {\n",
              "    0% {\n",
              "      border-color: transparent;\n",
              "      border-bottom-color: var(--fill-color);\n",
              "      border-left-color: var(--fill-color);\n",
              "    }\n",
              "    20% {\n",
              "      border-color: transparent;\n",
              "      border-left-color: var(--fill-color);\n",
              "      border-top-color: var(--fill-color);\n",
              "    }\n",
              "    30% {\n",
              "      border-color: transparent;\n",
              "      border-left-color: var(--fill-color);\n",
              "      border-top-color: var(--fill-color);\n",
              "      border-right-color: var(--fill-color);\n",
              "    }\n",
              "    40% {\n",
              "      border-color: transparent;\n",
              "      border-right-color: var(--fill-color);\n",
              "      border-top-color: var(--fill-color);\n",
              "    }\n",
              "    60% {\n",
              "      border-color: transparent;\n",
              "      border-right-color: var(--fill-color);\n",
              "    }\n",
              "    80% {\n",
              "      border-color: transparent;\n",
              "      border-right-color: var(--fill-color);\n",
              "      border-bottom-color: var(--fill-color);\n",
              "    }\n",
              "    90% {\n",
              "      border-color: transparent;\n",
              "      border-bottom-color: var(--fill-color);\n",
              "    }\n",
              "  }\n",
              "</style>\n",
              "\n",
              "  <script>\n",
              "    async function quickchart(key) {\n",
              "      const quickchartButtonEl =\n",
              "        document.querySelector('#' + key + ' button');\n",
              "      quickchartButtonEl.disabled = true;  // To prevent multiple clicks.\n",
              "      quickchartButtonEl.classList.add('colab-df-spinner');\n",
              "      try {\n",
              "        const charts = await google.colab.kernel.invokeFunction(\n",
              "            'suggestCharts', [key], {});\n",
              "      } catch (error) {\n",
              "        console.error('Error during call to suggestCharts:', error);\n",
              "      }\n",
              "      quickchartButtonEl.classList.remove('colab-df-spinner');\n",
              "      quickchartButtonEl.classList.add('colab-df-quickchart-complete');\n",
              "    }\n",
              "    (() => {\n",
              "      let quickchartButtonEl =\n",
              "        document.querySelector('#df-5afa6a99-3daa-4731-b9da-c49b5581441e button');\n",
              "      quickchartButtonEl.style.display =\n",
              "        google.colab.kernel.accessAllowed ? 'block' : 'none';\n",
              "    })();\n",
              "  </script>\n",
              "</div>\n",
              "\n",
              "  <div id=\"id_fdc6e472-947c-448b-a0b7-eab798ca920f\">\n",
              "    <style>\n",
              "      .colab-df-generate {\n",
              "        background-color: #E8F0FE;\n",
              "        border: none;\n",
              "        border-radius: 50%;\n",
              "        cursor: pointer;\n",
              "        display: none;\n",
              "        fill: #1967D2;\n",
              "        height: 32px;\n",
              "        padding: 0 0 0 0;\n",
              "        width: 32px;\n",
              "      }\n",
              "\n",
              "      .colab-df-generate:hover {\n",
              "        background-color: #E2EBFA;\n",
              "        box-shadow: 0px 1px 2px rgba(60, 64, 67, 0.3), 0px 1px 3px 1px rgba(60, 64, 67, 0.15);\n",
              "        fill: #174EA6;\n",
              "      }\n",
              "\n",
              "      [theme=dark] .colab-df-generate {\n",
              "        background-color: #3B4455;\n",
              "        fill: #D2E3FC;\n",
              "      }\n",
              "\n",
              "      [theme=dark] .colab-df-generate:hover {\n",
              "        background-color: #434B5C;\n",
              "        box-shadow: 0px 1px 3px 1px rgba(0, 0, 0, 0.15);\n",
              "        filter: drop-shadow(0px 1px 2px rgba(0, 0, 0, 0.3));\n",
              "        fill: #FFFFFF;\n",
              "      }\n",
              "    </style>\n",
              "    <button class=\"colab-df-generate\" onclick=\"generateWithVariable('df')\"\n",
              "            title=\"Generate code using this dataframe.\"\n",
              "            style=\"display:none;\">\n",
              "\n",
              "  <svg xmlns=\"http://www.w3.org/2000/svg\" height=\"24px\"viewBox=\"0 0 24 24\"\n",
              "       width=\"24px\">\n",
              "    <path d=\"M7,19H8.4L18.45,9,17,7.55,7,17.6ZM5,21V16.75L18.45,3.32a2,2,0,0,1,2.83,0l1.4,1.43a1.91,1.91,0,0,1,.58,1.4,1.91,1.91,0,0,1-.58,1.4L9.25,21ZM18.45,9,17,7.55Zm-12,3A5.31,5.31,0,0,0,4.9,8.1,5.31,5.31,0,0,0,1,6.5,5.31,5.31,0,0,0,4.9,4.9,5.31,5.31,0,0,0,6.5,1,5.31,5.31,0,0,0,8.1,4.9,5.31,5.31,0,0,0,12,6.5,5.46,5.46,0,0,0,6.5,12Z\"/>\n",
              "  </svg>\n",
              "    </button>\n",
              "    <script>\n",
              "      (() => {\n",
              "      const buttonEl =\n",
              "        document.querySelector('#id_fdc6e472-947c-448b-a0b7-eab798ca920f button.colab-df-generate');\n",
              "      buttonEl.style.display =\n",
              "        google.colab.kernel.accessAllowed ? 'block' : 'none';\n",
              "\n",
              "      buttonEl.onclick = () => {\n",
              "        google.colab.notebook.generateWithVariable('df');\n",
              "      }\n",
              "      })();\n",
              "    </script>\n",
              "  </div>\n",
              "\n",
              "    </div>\n",
              "  </div>\n"
            ],
            "application/vnd.google.colaboratory.intrinsic+json": {
              "type": "dataframe",
              "variable_name": "df",
              "summary": "{\n  \"name\": \"df\",\n  \"rows\": 25,\n  \"fields\": [\n    {\n      \"column\": \"fold\",\n      \"properties\": {\n        \"dtype\": \"number\",\n        \"std\": 1,\n        \"min\": 1,\n        \"max\": 5,\n        \"num_unique_values\": 5,\n        \"samples\": [\n          2,\n          5,\n          3\n        ],\n        \"semantic_type\": \"\",\n        \"description\": \"\"\n      }\n    },\n    {\n      \"column\": \"epoch\",\n      \"properties\": {\n        \"dtype\": \"number\",\n        \"std\": 1,\n        \"min\": 1,\n        \"max\": 5,\n        \"num_unique_values\": 5,\n        \"samples\": [\n          2,\n          5,\n          3\n        ],\n        \"semantic_type\": \"\",\n        \"description\": \"\"\n      }\n    },\n    {\n      \"column\": \"total_train_loss\",\n      \"properties\": {\n        \"dtype\": \"number\",\n        \"std\": 6.687039353717525,\n        \"min\": 3.882619058713317,\n        \"max\": 23.788128823041916,\n        \"num_unique_values\": 25,\n        \"samples\": [\n          6.057281881570816,\n          13.774215966463089,\n          23.240880489349365\n        ],\n        \"semantic_type\": \"\",\n        \"description\": \"\"\n      }\n    },\n    {\n      \"column\": \"avg_train_loss\",\n      \"properties\": {\n        \"dtype\": \"number\",\n        \"std\": 0.20896997980367266,\n        \"min\": 0.12133184558479115,\n        \"max\": 0.7433790257200599,\n        \"num_unique_values\": 25,\n        \"samples\": [\n          0.189290058799088,\n          0.43044424895197153,\n          0.7262775152921677\n        ],\n        \"semantic_type\": \"\",\n        \"description\": \"\"\n      }\n    },\n    {\n      \"column\": \"total_val_loss\",\n      \"properties\": {\n        \"dtype\": \"number\",\n        \"std\": 0.5517732652429076,\n        \"min\": 3.11959570646286,\n        \"max\": 5.604672610759735,\n        \"num_unique_values\": 25,\n        \"samples\": [\n          4.195152133703232,\n          3.1960009336471558,\n          4.276996076107025\n        ],\n        \"semantic_type\": \"\",\n        \"description\": \"\"\n      }\n    },\n    {\n      \"column\": \"avg_val_loss\",\n      \"properties\": {\n        \"dtype\": \"number\",\n        \"std\": 0.06897165815536345,\n        \"min\": 0.3899494633078575,\n        \"max\": 0.7005840763449669,\n        \"num_unique_values\": 25,\n        \"samples\": [\n          0.524394016712904,\n          0.39950011670589447,\n          0.5346245095133781\n        ],\n        \"semantic_type\": \"\",\n        \"description\": \"\"\n      }\n    },\n    {\n      \"column\": \"val_accuracy\",\n      \"properties\": {\n        \"dtype\": \"number\",\n        \"std\": 0.016309506430300096,\n        \"min\": 0.81,\n        \"max\": 0.87,\n        \"num_unique_values\": 7,\n        \"samples\": [\n          0.83,\n          0.86,\n          0.82\n        ],\n        \"semantic_type\": \"\",\n        \"description\": \"\"\n      }\n    },\n    {\n      \"column\": \"report\",\n      \"properties\": {\n        \"dtype\": \"object\",\n        \"semantic_type\": \"\",\n        \"description\": \"\"\n      }\n    }\n  ]\n}"
            }
          },
          "metadata": {},
          "execution_count": 58
        }
      ]
    },
    {
      "cell_type": "markdown",
      "source": [
        "### Compare Folds"
      ],
      "metadata": {
        "id": "RdGVcmf9ls3p"
      },
      "id": "RdGVcmf9ls3p"
    },
    {
      "cell_type": "markdown",
      "source": [
        "Group the training stats dataframe by folds and filter out losses columns:\n",
        "\n",
        "\n"
      ],
      "metadata": {
        "id": "1PPTAuc5fSmD"
      },
      "id": "1PPTAuc5fSmD"
    },
    {
      "cell_type": "code",
      "source": [
        "folds_loss = df.groupby('fold')[['total_train_loss','avg_train_loss','total_val_loss', 'avg_val_loss']].mean()\n",
        "folds_loss = folds_loss.reset_index()"
      ],
      "metadata": {
        "id": "FAHih3RkePd0"
      },
      "id": "FAHih3RkePd0",
      "execution_count": null,
      "outputs": []
    },
    {
      "cell_type": "code",
      "source": [
        "folds_loss"
      ],
      "metadata": {
        "colab": {
          "base_uri": "https://localhost:8080/",
          "height": 206
        },
        "id": "3sZFidvYkX4l",
        "outputId": "9bc6b8f7-d5cd-402d-8a6d-d2360a14a114"
      },
      "id": "3sZFidvYkX4l",
      "execution_count": null,
      "outputs": [
        {
          "output_type": "execute_result",
          "data": {
            "text/plain": [
              "   fold  total_train_loss  avg_train_loss  total_val_loss  avg_val_loss\n",
              "0     1             12.50            0.39            3.96          0.50\n",
              "1     2             11.06            0.35            4.07          0.51\n",
              "2     3             10.91            0.34            4.03          0.50\n",
              "3     4             11.41            0.36            3.92          0.49\n",
              "4     5             12.13            0.38            3.64          0.46"
            ],
            "text/html": [
              "\n",
              "  <div id=\"df-2db6b168-2b2d-4048-b2e5-28790052ca50\" class=\"colab-df-container\">\n",
              "    <div>\n",
              "<style scoped>\n",
              "    .dataframe tbody tr th:only-of-type {\n",
              "        vertical-align: middle;\n",
              "    }\n",
              "\n",
              "    .dataframe tbody tr th {\n",
              "        vertical-align: top;\n",
              "    }\n",
              "\n",
              "    .dataframe thead th {\n",
              "        text-align: right;\n",
              "    }\n",
              "</style>\n",
              "<table border=\"1\" class=\"dataframe\">\n",
              "  <thead>\n",
              "    <tr style=\"text-align: right;\">\n",
              "      <th></th>\n",
              "      <th>fold</th>\n",
              "      <th>total_train_loss</th>\n",
              "      <th>avg_train_loss</th>\n",
              "      <th>total_val_loss</th>\n",
              "      <th>avg_val_loss</th>\n",
              "    </tr>\n",
              "  </thead>\n",
              "  <tbody>\n",
              "    <tr>\n",
              "      <th>0</th>\n",
              "      <td>1</td>\n",
              "      <td>12.50</td>\n",
              "      <td>0.39</td>\n",
              "      <td>3.96</td>\n",
              "      <td>0.50</td>\n",
              "    </tr>\n",
              "    <tr>\n",
              "      <th>1</th>\n",
              "      <td>2</td>\n",
              "      <td>11.06</td>\n",
              "      <td>0.35</td>\n",
              "      <td>4.07</td>\n",
              "      <td>0.51</td>\n",
              "    </tr>\n",
              "    <tr>\n",
              "      <th>2</th>\n",
              "      <td>3</td>\n",
              "      <td>10.91</td>\n",
              "      <td>0.34</td>\n",
              "      <td>4.03</td>\n",
              "      <td>0.50</td>\n",
              "    </tr>\n",
              "    <tr>\n",
              "      <th>3</th>\n",
              "      <td>4</td>\n",
              "      <td>11.41</td>\n",
              "      <td>0.36</td>\n",
              "      <td>3.92</td>\n",
              "      <td>0.49</td>\n",
              "    </tr>\n",
              "    <tr>\n",
              "      <th>4</th>\n",
              "      <td>5</td>\n",
              "      <td>12.13</td>\n",
              "      <td>0.38</td>\n",
              "      <td>3.64</td>\n",
              "      <td>0.46</td>\n",
              "    </tr>\n",
              "  </tbody>\n",
              "</table>\n",
              "</div>\n",
              "    <div class=\"colab-df-buttons\">\n",
              "\n",
              "  <div class=\"colab-df-container\">\n",
              "    <button class=\"colab-df-convert\" onclick=\"convertToInteractive('df-2db6b168-2b2d-4048-b2e5-28790052ca50')\"\n",
              "            title=\"Convert this dataframe to an interactive table.\"\n",
              "            style=\"display:none;\">\n",
              "\n",
              "  <svg xmlns=\"http://www.w3.org/2000/svg\" height=\"24px\" viewBox=\"0 -960 960 960\">\n",
              "    <path d=\"M120-120v-720h720v720H120Zm60-500h600v-160H180v160Zm220 220h160v-160H400v160Zm0 220h160v-160H400v160ZM180-400h160v-160H180v160Zm440 0h160v-160H620v160ZM180-180h160v-160H180v160Zm440 0h160v-160H620v160Z\"/>\n",
              "  </svg>\n",
              "    </button>\n",
              "\n",
              "  <style>\n",
              "    .colab-df-container {\n",
              "      display:flex;\n",
              "      gap: 12px;\n",
              "    }\n",
              "\n",
              "    .colab-df-convert {\n",
              "      background-color: #E8F0FE;\n",
              "      border: none;\n",
              "      border-radius: 50%;\n",
              "      cursor: pointer;\n",
              "      display: none;\n",
              "      fill: #1967D2;\n",
              "      height: 32px;\n",
              "      padding: 0 0 0 0;\n",
              "      width: 32px;\n",
              "    }\n",
              "\n",
              "    .colab-df-convert:hover {\n",
              "      background-color: #E2EBFA;\n",
              "      box-shadow: 0px 1px 2px rgba(60, 64, 67, 0.3), 0px 1px 3px 1px rgba(60, 64, 67, 0.15);\n",
              "      fill: #174EA6;\n",
              "    }\n",
              "\n",
              "    .colab-df-buttons div {\n",
              "      margin-bottom: 4px;\n",
              "    }\n",
              "\n",
              "    [theme=dark] .colab-df-convert {\n",
              "      background-color: #3B4455;\n",
              "      fill: #D2E3FC;\n",
              "    }\n",
              "\n",
              "    [theme=dark] .colab-df-convert:hover {\n",
              "      background-color: #434B5C;\n",
              "      box-shadow: 0px 1px 3px 1px rgba(0, 0, 0, 0.15);\n",
              "      filter: drop-shadow(0px 1px 2px rgba(0, 0, 0, 0.3));\n",
              "      fill: #FFFFFF;\n",
              "    }\n",
              "  </style>\n",
              "\n",
              "    <script>\n",
              "      const buttonEl =\n",
              "        document.querySelector('#df-2db6b168-2b2d-4048-b2e5-28790052ca50 button.colab-df-convert');\n",
              "      buttonEl.style.display =\n",
              "        google.colab.kernel.accessAllowed ? 'block' : 'none';\n",
              "\n",
              "      async function convertToInteractive(key) {\n",
              "        const element = document.querySelector('#df-2db6b168-2b2d-4048-b2e5-28790052ca50');\n",
              "        const dataTable =\n",
              "          await google.colab.kernel.invokeFunction('convertToInteractive',\n",
              "                                                    [key], {});\n",
              "        if (!dataTable) return;\n",
              "\n",
              "        const docLinkHtml = 'Like what you see? Visit the ' +\n",
              "          '<a target=\"_blank\" href=https://colab.research.google.com/notebooks/data_table.ipynb>data table notebook</a>'\n",
              "          + ' to learn more about interactive tables.';\n",
              "        element.innerHTML = '';\n",
              "        dataTable['output_type'] = 'display_data';\n",
              "        await google.colab.output.renderOutput(dataTable, element);\n",
              "        const docLink = document.createElement('div');\n",
              "        docLink.innerHTML = docLinkHtml;\n",
              "        element.appendChild(docLink);\n",
              "      }\n",
              "    </script>\n",
              "  </div>\n",
              "\n",
              "\n",
              "<div id=\"df-aa7c2087-4d60-44d2-b3f4-caab05f8a0c7\">\n",
              "  <button class=\"colab-df-quickchart\" onclick=\"quickchart('df-aa7c2087-4d60-44d2-b3f4-caab05f8a0c7')\"\n",
              "            title=\"Suggest charts\"\n",
              "            style=\"display:none;\">\n",
              "\n",
              "<svg xmlns=\"http://www.w3.org/2000/svg\" height=\"24px\"viewBox=\"0 0 24 24\"\n",
              "     width=\"24px\">\n",
              "    <g>\n",
              "        <path d=\"M19 3H5c-1.1 0-2 .9-2 2v14c0 1.1.9 2 2 2h14c1.1 0 2-.9 2-2V5c0-1.1-.9-2-2-2zM9 17H7v-7h2v7zm4 0h-2V7h2v10zm4 0h-2v-4h2v4z\"/>\n",
              "    </g>\n",
              "</svg>\n",
              "  </button>\n",
              "\n",
              "<style>\n",
              "  .colab-df-quickchart {\n",
              "      --bg-color: #E8F0FE;\n",
              "      --fill-color: #1967D2;\n",
              "      --hover-bg-color: #E2EBFA;\n",
              "      --hover-fill-color: #174EA6;\n",
              "      --disabled-fill-color: #AAA;\n",
              "      --disabled-bg-color: #DDD;\n",
              "  }\n",
              "\n",
              "  [theme=dark] .colab-df-quickchart {\n",
              "      --bg-color: #3B4455;\n",
              "      --fill-color: #D2E3FC;\n",
              "      --hover-bg-color: #434B5C;\n",
              "      --hover-fill-color: #FFFFFF;\n",
              "      --disabled-bg-color: #3B4455;\n",
              "      --disabled-fill-color: #666;\n",
              "  }\n",
              "\n",
              "  .colab-df-quickchart {\n",
              "    background-color: var(--bg-color);\n",
              "    border: none;\n",
              "    border-radius: 50%;\n",
              "    cursor: pointer;\n",
              "    display: none;\n",
              "    fill: var(--fill-color);\n",
              "    height: 32px;\n",
              "    padding: 0;\n",
              "    width: 32px;\n",
              "  }\n",
              "\n",
              "  .colab-df-quickchart:hover {\n",
              "    background-color: var(--hover-bg-color);\n",
              "    box-shadow: 0 1px 2px rgba(60, 64, 67, 0.3), 0 1px 3px 1px rgba(60, 64, 67, 0.15);\n",
              "    fill: var(--button-hover-fill-color);\n",
              "  }\n",
              "\n",
              "  .colab-df-quickchart-complete:disabled,\n",
              "  .colab-df-quickchart-complete:disabled:hover {\n",
              "    background-color: var(--disabled-bg-color);\n",
              "    fill: var(--disabled-fill-color);\n",
              "    box-shadow: none;\n",
              "  }\n",
              "\n",
              "  .colab-df-spinner {\n",
              "    border: 2px solid var(--fill-color);\n",
              "    border-color: transparent;\n",
              "    border-bottom-color: var(--fill-color);\n",
              "    animation:\n",
              "      spin 1s steps(1) infinite;\n",
              "  }\n",
              "\n",
              "  @keyframes spin {\n",
              "    0% {\n",
              "      border-color: transparent;\n",
              "      border-bottom-color: var(--fill-color);\n",
              "      border-left-color: var(--fill-color);\n",
              "    }\n",
              "    20% {\n",
              "      border-color: transparent;\n",
              "      border-left-color: var(--fill-color);\n",
              "      border-top-color: var(--fill-color);\n",
              "    }\n",
              "    30% {\n",
              "      border-color: transparent;\n",
              "      border-left-color: var(--fill-color);\n",
              "      border-top-color: var(--fill-color);\n",
              "      border-right-color: var(--fill-color);\n",
              "    }\n",
              "    40% {\n",
              "      border-color: transparent;\n",
              "      border-right-color: var(--fill-color);\n",
              "      border-top-color: var(--fill-color);\n",
              "    }\n",
              "    60% {\n",
              "      border-color: transparent;\n",
              "      border-right-color: var(--fill-color);\n",
              "    }\n",
              "    80% {\n",
              "      border-color: transparent;\n",
              "      border-right-color: var(--fill-color);\n",
              "      border-bottom-color: var(--fill-color);\n",
              "    }\n",
              "    90% {\n",
              "      border-color: transparent;\n",
              "      border-bottom-color: var(--fill-color);\n",
              "    }\n",
              "  }\n",
              "</style>\n",
              "\n",
              "  <script>\n",
              "    async function quickchart(key) {\n",
              "      const quickchartButtonEl =\n",
              "        document.querySelector('#' + key + ' button');\n",
              "      quickchartButtonEl.disabled = true;  // To prevent multiple clicks.\n",
              "      quickchartButtonEl.classList.add('colab-df-spinner');\n",
              "      try {\n",
              "        const charts = await google.colab.kernel.invokeFunction(\n",
              "            'suggestCharts', [key], {});\n",
              "      } catch (error) {\n",
              "        console.error('Error during call to suggestCharts:', error);\n",
              "      }\n",
              "      quickchartButtonEl.classList.remove('colab-df-spinner');\n",
              "      quickchartButtonEl.classList.add('colab-df-quickchart-complete');\n",
              "    }\n",
              "    (() => {\n",
              "      let quickchartButtonEl =\n",
              "        document.querySelector('#df-aa7c2087-4d60-44d2-b3f4-caab05f8a0c7 button');\n",
              "      quickchartButtonEl.style.display =\n",
              "        google.colab.kernel.accessAllowed ? 'block' : 'none';\n",
              "    })();\n",
              "  </script>\n",
              "</div>\n",
              "\n",
              "  <div id=\"id_cb6bbd39-8a44-446e-9f3d-7383e218cc3d\">\n",
              "    <style>\n",
              "      .colab-df-generate {\n",
              "        background-color: #E8F0FE;\n",
              "        border: none;\n",
              "        border-radius: 50%;\n",
              "        cursor: pointer;\n",
              "        display: none;\n",
              "        fill: #1967D2;\n",
              "        height: 32px;\n",
              "        padding: 0 0 0 0;\n",
              "        width: 32px;\n",
              "      }\n",
              "\n",
              "      .colab-df-generate:hover {\n",
              "        background-color: #E2EBFA;\n",
              "        box-shadow: 0px 1px 2px rgba(60, 64, 67, 0.3), 0px 1px 3px 1px rgba(60, 64, 67, 0.15);\n",
              "        fill: #174EA6;\n",
              "      }\n",
              "\n",
              "      [theme=dark] .colab-df-generate {\n",
              "        background-color: #3B4455;\n",
              "        fill: #D2E3FC;\n",
              "      }\n",
              "\n",
              "      [theme=dark] .colab-df-generate:hover {\n",
              "        background-color: #434B5C;\n",
              "        box-shadow: 0px 1px 3px 1px rgba(0, 0, 0, 0.15);\n",
              "        filter: drop-shadow(0px 1px 2px rgba(0, 0, 0, 0.3));\n",
              "        fill: #FFFFFF;\n",
              "      }\n",
              "    </style>\n",
              "    <button class=\"colab-df-generate\" onclick=\"generateWithVariable('folds_loss')\"\n",
              "            title=\"Generate code using this dataframe.\"\n",
              "            style=\"display:none;\">\n",
              "\n",
              "  <svg xmlns=\"http://www.w3.org/2000/svg\" height=\"24px\"viewBox=\"0 0 24 24\"\n",
              "       width=\"24px\">\n",
              "    <path d=\"M7,19H8.4L18.45,9,17,7.55,7,17.6ZM5,21V16.75L18.45,3.32a2,2,0,0,1,2.83,0l1.4,1.43a1.91,1.91,0,0,1,.58,1.4,1.91,1.91,0,0,1-.58,1.4L9.25,21ZM18.45,9,17,7.55Zm-12,3A5.31,5.31,0,0,0,4.9,8.1,5.31,5.31,0,0,0,1,6.5,5.31,5.31,0,0,0,4.9,4.9,5.31,5.31,0,0,0,6.5,1,5.31,5.31,0,0,0,8.1,4.9,5.31,5.31,0,0,0,12,6.5,5.46,5.46,0,0,0,6.5,12Z\"/>\n",
              "  </svg>\n",
              "    </button>\n",
              "    <script>\n",
              "      (() => {\n",
              "      const buttonEl =\n",
              "        document.querySelector('#id_cb6bbd39-8a44-446e-9f3d-7383e218cc3d button.colab-df-generate');\n",
              "      buttonEl.style.display =\n",
              "        google.colab.kernel.accessAllowed ? 'block' : 'none';\n",
              "\n",
              "      buttonEl.onclick = () => {\n",
              "        google.colab.notebook.generateWithVariable('folds_loss');\n",
              "      }\n",
              "      })();\n",
              "    </script>\n",
              "  </div>\n",
              "\n",
              "    </div>\n",
              "  </div>\n"
            ],
            "application/vnd.google.colaboratory.intrinsic+json": {
              "type": "dataframe",
              "variable_name": "folds_loss",
              "summary": "{\n  \"name\": \"folds_loss\",\n  \"rows\": 5,\n  \"fields\": [\n    {\n      \"column\": \"fold\",\n      \"properties\": {\n        \"dtype\": \"number\",\n        \"std\": 1,\n        \"min\": 1,\n        \"max\": 5,\n        \"num_unique_values\": 5,\n        \"samples\": [\n          2,\n          5,\n          3\n        ],\n        \"semantic_type\": \"\",\n        \"description\": \"\"\n      }\n    },\n    {\n      \"column\": \"total_train_loss\",\n      \"properties\": {\n        \"dtype\": \"number\",\n        \"std\": 0.6908158430524981,\n        \"min\": 10.908517366275191,\n        \"max\": 12.501224710047245,\n        \"num_unique_values\": 5,\n        \"samples\": [\n          11.055697927996516,\n          12.133461772650481,\n          10.908517366275191\n        ],\n        \"semantic_type\": \"\",\n        \"description\": \"\"\n      }\n    },\n    {\n      \"column\": \"avg_train_loss\",\n      \"properties\": {\n        \"dtype\": \"number\",\n        \"std\": 0.021587995095390566,\n        \"min\": 0.34089116769609973,\n        \"max\": 0.3906632721889764,\n        \"num_unique_values\": 5,\n        \"samples\": [\n          0.3454905602498911,\n          0.37917068039532753,\n          0.34089116769609973\n        ],\n        \"semantic_type\": \"\",\n        \"description\": \"\"\n      }\n    },\n    {\n      \"column\": \"total_val_loss\",\n      \"properties\": {\n        \"dtype\": \"number\",\n        \"std\": 0.16969566097906502,\n        \"min\": 3.6423776619136334,\n        \"max\": 4.0748461276292804,\n        \"num_unique_values\": 5,\n        \"samples\": [\n          4.0748461276292804,\n          3.6423776619136334,\n          4.031781049072743\n        ],\n        \"semantic_type\": \"\",\n        \"description\": \"\"\n      }\n    },\n    {\n      \"column\": \"avg_val_loss\",\n      \"properties\": {\n        \"dtype\": \"number\",\n        \"std\": 0.021211957622383128,\n        \"min\": 0.4552972077392042,\n        \"max\": 0.5093557659536601,\n        \"num_unique_values\": 5,\n        \"samples\": [\n          0.5093557659536601,\n          0.4552972077392042,\n          0.5039726311340929\n        ],\n        \"semantic_type\": \"\",\n        \"description\": \"\"\n      }\n    }\n  ]\n}"
            }
          },
          "metadata": {},
          "execution_count": 60
        }
      ]
    },
    {
      "cell_type": "markdown",
      "source": [
        "Plot the losses of each fold:"
      ],
      "metadata": {
        "id": "dZU5S1Aqmckg"
      },
      "id": "dZU5S1Aqmckg"
    },
    {
      "cell_type": "code",
      "source": [
        "plt.figure(figsize=(10, 6))\n",
        "sns.lineplot(x='fold', y='total_train_loss', data=folds_loss, marker='o', label='Total Train Loss')\n",
        "sns.lineplot(x='fold', y='avg_train_loss', data=folds_loss, marker='o', label='Average Train Loss')\n",
        "sns.lineplot(x='fold', y='total_val_loss', data=folds_loss, marker='o', label='Total Val Loss')\n",
        "sns.lineplot(x='fold', y='avg_val_loss', data=folds_loss, marker='o', label='Average Val Loss')\n",
        "\n",
        "\n",
        "plt.title('Training and Validation Losses Across Folds - Combination', fontsize=20)\n",
        "\n",
        "plt.xlabel('Fold',fontsize=16)\n",
        "plt.xticks(folds_loss['fold'], fontsize=12)\n",
        "plt.ylabel('Loss',fontsize=16)\n",
        "plt.yticks(fontsize=12)\n",
        "plt.legend(bbox_to_anchor=(1.05, 1), loc='upper left',fontsize = 12)\n",
        "plt.grid(axis='y')\n",
        "\n",
        "plt.savefig(FOLDER_PATH+'Combination_Training_Validation_Losses_Across_Folds_Seed'+ str(SEED_VAL) + '.png', format='png', transparent = True, bbox_inches='tight',pad_inches=0.1)"
      ],
      "metadata": {
        "colab": {
          "base_uri": "https://localhost:8080/",
          "height": 441
        },
        "id": "rJqQ8L1Atuz4",
        "outputId": "d9d1b9ec-057f-4664-b8bd-0367f8a1d47c"
      },
      "id": "rJqQ8L1Atuz4",
      "execution_count": null,
      "outputs": [
        {
          "output_type": "display_data",
          "data": {
            "text/plain": [
              "<Figure size 1000x600 with 1 Axes>"
            ],
            "image/png": "[encoded data removed]"
          },
          "metadata": {}
        }
      ]
    },
    {
      "cell_type": "markdown",
      "source": [
        "Group the training stats data frame by folds and filter out the validation accuracy column:"
      ],
      "metadata": {
        "id": "5yPHgHoDnTec"
      },
      "id": "5yPHgHoDnTec"
    },
    {
      "cell_type": "code",
      "source": [
        "folds_acc = df.groupby('fold')['val_accuracy'].mean()\n",
        "folds_acc = folds_acc.reset_index()"
      ],
      "metadata": {
        "id": "O3I3T0lmXl6v"
      },
      "id": "O3I3T0lmXl6v",
      "execution_count": null,
      "outputs": []
    },
    {
      "cell_type": "code",
      "source": [
        "folds_acc"
      ],
      "metadata": {
        "colab": {
          "base_uri": "https://localhost:8080/",
          "height": 206
        },
        "id": "ad_Lx4kqnG_7",
        "outputId": "3fefbc48-e777-4a71-b8be-ad95eae36a41"
      },
      "id": "ad_Lx4kqnG_7",
      "execution_count": null,
      "outputs": [
        {
          "output_type": "execute_result",
          "data": {
            "text/plain": [
              "   fold  val_accuracy\n",
              "0     1          0.85\n",
              "1     2          0.85\n",
              "2     3          0.84\n",
              "3     4          0.84\n",
              "4     5          0.87"
            ],
            "text/html": [
              "\n",
              "  <div id=\"df-50e4eb4a-4805-4366-abca-40511ef8db8b\" class=\"colab-df-container\">\n",
              "    <div>\n",
              "<style scoped>\n",
              "    .dataframe tbody tr th:only-of-type {\n",
              "        vertical-align: middle;\n",
              "    }\n",
              "\n",
              "    .dataframe tbody tr th {\n",
              "        vertical-align: top;\n",
              "    }\n",
              "\n",
              "    .dataframe thead th {\n",
              "        text-align: right;\n",
              "    }\n",
              "</style>\n",
              "<table border=\"1\" class=\"dataframe\">\n",
              "  <thead>\n",
              "    <tr style=\"text-align: right;\">\n",
              "      <th></th>\n",
              "      <th>fold</th>\n",
              "      <th>val_accuracy</th>\n",
              "    </tr>\n",
              "  </thead>\n",
              "  <tbody>\n",
              "    <tr>\n",
              "      <th>0</th>\n",
              "      <td>1</td>\n",
              "      <td>0.85</td>\n",
              "    </tr>\n",
              "    <tr>\n",
              "      <th>1</th>\n",
              "      <td>2</td>\n",
              "      <td>0.85</td>\n",
              "    </tr>\n",
              "    <tr>\n",
              "      <th>2</th>\n",
              "      <td>3</td>\n",
              "      <td>0.84</td>\n",
              "    </tr>\n",
              "    <tr>\n",
              "      <th>3</th>\n",
              "      <td>4</td>\n",
              "      <td>0.84</td>\n",
              "    </tr>\n",
              "    <tr>\n",
              "      <th>4</th>\n",
              "      <td>5</td>\n",
              "      <td>0.87</td>\n",
              "    </tr>\n",
              "  </tbody>\n",
              "</table>\n",
              "</div>\n",
              "    <div class=\"colab-df-buttons\">\n",
              "\n",
              "  <div class=\"colab-df-container\">\n",
              "    <button class=\"colab-df-convert\" onclick=\"convertToInteractive('df-50e4eb4a-4805-4366-abca-40511ef8db8b')\"\n",
              "            title=\"Convert this dataframe to an interactive table.\"\n",
              "            style=\"display:none;\">\n",
              "\n",
              "  <svg xmlns=\"http://www.w3.org/2000/svg\" height=\"24px\" viewBox=\"0 -960 960 960\">\n",
              "    <path d=\"M120-120v-720h720v720H120Zm60-500h600v-160H180v160Zm220 220h160v-160H400v160Zm0 220h160v-160H400v160ZM180-400h160v-160H180v160Zm440 0h160v-160H620v160ZM180-180h160v-160H180v160Zm440 0h160v-160H620v160Z\"/>\n",
              "  </svg>\n",
              "    </button>\n",
              "\n",
              "  <style>\n",
              "    .colab-df-container {\n",
              "      display:flex;\n",
              "      gap: 12px;\n",
              "    }\n",
              "\n",
              "    .colab-df-convert {\n",
              "      background-color: #E8F0FE;\n",
              "      border: none;\n",
              "      border-radius: 50%;\n",
              "      cursor: pointer;\n",
              "      display: none;\n",
              "      fill: #1967D2;\n",
              "      height: 32px;\n",
              "      padding: 0 0 0 0;\n",
              "      width: 32px;\n",
              "    }\n",
              "\n",
              "    .colab-df-convert:hover {\n",
              "      background-color: #E2EBFA;\n",
              "      box-shadow: 0px 1px 2px rgba(60, 64, 67, 0.3), 0px 1px 3px 1px rgba(60, 64, 67, 0.15);\n",
              "      fill: #174EA6;\n",
              "    }\n",
              "\n",
              "    .colab-df-buttons div {\n",
              "      margin-bottom: 4px;\n",
              "    }\n",
              "\n",
              "    [theme=dark] .colab-df-convert {\n",
              "      background-color: #3B4455;\n",
              "      fill: #D2E3FC;\n",
              "    }\n",
              "\n",
              "    [theme=dark] .colab-df-convert:hover {\n",
              "      background-color: #434B5C;\n",
              "      box-shadow: 0px 1px 3px 1px rgba(0, 0, 0, 0.15);\n",
              "      filter: drop-shadow(0px 1px 2px rgba(0, 0, 0, 0.3));\n",
              "      fill: #FFFFFF;\n",
              "    }\n",
              "  </style>\n",
              "\n",
              "    <script>\n",
              "      const buttonEl =\n",
              "        document.querySelector('#df-50e4eb4a-4805-4366-abca-40511ef8db8b button.colab-df-convert');\n",
              "      buttonEl.style.display =\n",
              "        google.colab.kernel.accessAllowed ? 'block' : 'none';\n",
              "\n",
              "      async function convertToInteractive(key) {\n",
              "        const element = document.querySelector('#df-50e4eb4a-4805-4366-abca-40511ef8db8b');\n",
              "        const dataTable =\n",
              "          await google.colab.kernel.invokeFunction('convertToInteractive',\n",
              "                                                    [key], {});\n",
              "        if (!dataTable) return;\n",
              "\n",
              "        const docLinkHtml = 'Like what you see? Visit the ' +\n",
              "          '<a target=\"_blank\" href=https://colab.research.google.com/notebooks/data_table.ipynb>data table notebook</a>'\n",
              "          + ' to learn more about interactive tables.';\n",
              "        element.innerHTML = '';\n",
              "        dataTable['output_type'] = 'display_data';\n",
              "        await google.colab.output.renderOutput(dataTable, element);\n",
              "        const docLink = document.createElement('div');\n",
              "        docLink.innerHTML = docLinkHtml;\n",
              "        element.appendChild(docLink);\n",
              "      }\n",
              "    </script>\n",
              "  </div>\n",
              "\n",
              "\n",
              "<div id=\"df-52a2d62e-24de-4e73-8654-d5633cc75163\">\n",
              "  <button class=\"colab-df-quickchart\" onclick=\"quickchart('df-52a2d62e-24de-4e73-8654-d5633cc75163')\"\n",
              "            title=\"Suggest charts\"\n",
              "            style=\"display:none;\">\n",
              "\n",
              "<svg xmlns=\"http://www.w3.org/2000/svg\" height=\"24px\"viewBox=\"0 0 24 24\"\n",
              "     width=\"24px\">\n",
              "    <g>\n",
              "        <path d=\"M19 3H5c-1.1 0-2 .9-2 2v14c0 1.1.9 2 2 2h14c1.1 0 2-.9 2-2V5c0-1.1-.9-2-2-2zM9 17H7v-7h2v7zm4 0h-2V7h2v10zm4 0h-2v-4h2v4z\"/>\n",
              "    </g>\n",
              "</svg>\n",
              "  </button>\n",
              "\n",
              "<style>\n",
              "  .colab-df-quickchart {\n",
              "      --bg-color: #E8F0FE;\n",
              "      --fill-color: #1967D2;\n",
              "      --hover-bg-color: #E2EBFA;\n",
              "      --hover-fill-color: #174EA6;\n",
              "      --disabled-fill-color: #AAA;\n",
              "      --disabled-bg-color: #DDD;\n",
              "  }\n",
              "\n",
              "  [theme=dark] .colab-df-quickchart {\n",
              "      --bg-color: #3B4455;\n",
              "      --fill-color: #D2E3FC;\n",
              "      --hover-bg-color: #434B5C;\n",
              "      --hover-fill-color: #FFFFFF;\n",
              "      --disabled-bg-color: #3B4455;\n",
              "      --disabled-fill-color: #666;\n",
              "  }\n",
              "\n",
              "  .colab-df-quickchart {\n",
              "    background-color: var(--bg-color);\n",
              "    border: none;\n",
              "    border-radius: 50%;\n",
              "    cursor: pointer;\n",
              "    display: none;\n",
              "    fill: var(--fill-color);\n",
              "    height: 32px;\n",
              "    padding: 0;\n",
              "    width: 32px;\n",
              "  }\n",
              "\n",
              "  .colab-df-quickchart:hover {\n",
              "    background-color: var(--hover-bg-color);\n",
              "    box-shadow: 0 1px 2px rgba(60, 64, 67, 0.3), 0 1px 3px 1px rgba(60, 64, 67, 0.15);\n",
              "    fill: var(--button-hover-fill-color);\n",
              "  }\n",
              "\n",
              "  .colab-df-quickchart-complete:disabled,\n",
              "  .colab-df-quickchart-complete:disabled:hover {\n",
              "    background-color: var(--disabled-bg-color);\n",
              "    fill: var(--disabled-fill-color);\n",
              "    box-shadow: none;\n",
              "  }\n",
              "\n",
              "  .colab-df-spinner {\n",
              "    border: 2px solid var(--fill-color);\n",
              "    border-color: transparent;\n",
              "    border-bottom-color: var(--fill-color);\n",
              "    animation:\n",
              "      spin 1s steps(1) infinite;\n",
              "  }\n",
              "\n",
              "  @keyframes spin {\n",
              "    0% {\n",
              "      border-color: transparent;\n",
              "      border-bottom-color: var(--fill-color);\n",
              "      border-left-color: var(--fill-color);\n",
              "    }\n",
              "    20% {\n",
              "      border-color: transparent;\n",
              "      border-left-color: var(--fill-color);\n",
              "      border-top-color: var(--fill-color);\n",
              "    }\n",
              "    30% {\n",
              "      border-color: transparent;\n",
              "      border-left-color: var(--fill-color);\n",
              "      border-top-color: var(--fill-color);\n",
              "      border-right-color: var(--fill-color);\n",
              "    }\n",
              "    40% {\n",
              "      border-color: transparent;\n",
              "      border-right-color: var(--fill-color);\n",
              "      border-top-color: var(--fill-color);\n",
              "    }\n",
              "    60% {\n",
              "      border-color: transparent;\n",
              "      border-right-color: var(--fill-color);\n",
              "    }\n",
              "    80% {\n",
              "      border-color: transparent;\n",
              "      border-right-color: var(--fill-color);\n",
              "      border-bottom-color: var(--fill-color);\n",
              "    }\n",
              "    90% {\n",
              "      border-color: transparent;\n",
              "      border-bottom-color: var(--fill-color);\n",
              "    }\n",
              "  }\n",
              "</style>\n",
              "\n",
              "  <script>\n",
              "    async function quickchart(key) {\n",
              "      const quickchartButtonEl =\n",
              "        document.querySelector('#' + key + ' button');\n",
              "      quickchartButtonEl.disabled = true;  // To prevent multiple clicks.\n",
              "      quickchartButtonEl.classList.add('colab-df-spinner');\n",
              "      try {\n",
              "        const charts = await google.colab.kernel.invokeFunction(\n",
              "            'suggestCharts', [key], {});\n",
              "      } catch (error) {\n",
              "        console.error('Error during call to suggestCharts:', error);\n",
              "      }\n",
              "      quickchartButtonEl.classList.remove('colab-df-spinner');\n",
              "      quickchartButtonEl.classList.add('colab-df-quickchart-complete');\n",
              "    }\n",
              "    (() => {\n",
              "      let quickchartButtonEl =\n",
              "        document.querySelector('#df-52a2d62e-24de-4e73-8654-d5633cc75163 button');\n",
              "      quickchartButtonEl.style.display =\n",
              "        google.colab.kernel.accessAllowed ? 'block' : 'none';\n",
              "    })();\n",
              "  </script>\n",
              "</div>\n",
              "\n",
              "  <div id=\"id_f87e4d3e-5f7d-4cc5-9b14-c9a503466875\">\n",
              "    <style>\n",
              "      .colab-df-generate {\n",
              "        background-color: #E8F0FE;\n",
              "        border: none;\n",
              "        border-radius: 50%;\n",
              "        cursor: pointer;\n",
              "        display: none;\n",
              "        fill: #1967D2;\n",
              "        height: 32px;\n",
              "        padding: 0 0 0 0;\n",
              "        width: 32px;\n",
              "      }\n",
              "\n",
              "      .colab-df-generate:hover {\n",
              "        background-color: #E2EBFA;\n",
              "        box-shadow: 0px 1px 2px rgba(60, 64, 67, 0.3), 0px 1px 3px 1px rgba(60, 64, 67, 0.15);\n",
              "        fill: #174EA6;\n",
              "      }\n",
              "\n",
              "      [theme=dark] .colab-df-generate {\n",
              "        background-color: #3B4455;\n",
              "        fill: #D2E3FC;\n",
              "      }\n",
              "\n",
              "      [theme=dark] .colab-df-generate:hover {\n",
              "        background-color: #434B5C;\n",
              "        box-shadow: 0px 1px 3px 1px rgba(0, 0, 0, 0.15);\n",
              "        filter: drop-shadow(0px 1px 2px rgba(0, 0, 0, 0.3));\n",
              "        fill: #FFFFFF;\n",
              "      }\n",
              "    </style>\n",
              "    <button class=\"colab-df-generate\" onclick=\"generateWithVariable('folds_acc')\"\n",
              "            title=\"Generate code using this dataframe.\"\n",
              "            style=\"display:none;\">\n",
              "\n",
              "  <svg xmlns=\"http://www.w3.org/2000/svg\" height=\"24px\"viewBox=\"0 0 24 24\"\n",
              "       width=\"24px\">\n",
              "    <path d=\"M7,19H8.4L18.45,9,17,7.55,7,17.6ZM5,21V16.75L18.45,3.32a2,2,0,0,1,2.83,0l1.4,1.43a1.91,1.91,0,0,1,.58,1.4,1.91,1.91,0,0,1-.58,1.4L9.25,21ZM18.45,9,17,7.55Zm-12,3A5.31,5.31,0,0,0,4.9,8.1,5.31,5.31,0,0,0,1,6.5,5.31,5.31,0,0,0,4.9,4.9,5.31,5.31,0,0,0,6.5,1,5.31,5.31,0,0,0,8.1,4.9,5.31,5.31,0,0,0,12,6.5,5.46,5.46,0,0,0,6.5,12Z\"/>\n",
              "  </svg>\n",
              "    </button>\n",
              "    <script>\n",
              "      (() => {\n",
              "      const buttonEl =\n",
              "        document.querySelector('#id_f87e4d3e-5f7d-4cc5-9b14-c9a503466875 button.colab-df-generate');\n",
              "      buttonEl.style.display =\n",
              "        google.colab.kernel.accessAllowed ? 'block' : 'none';\n",
              "\n",
              "      buttonEl.onclick = () => {\n",
              "        google.colab.notebook.generateWithVariable('folds_acc');\n",
              "      }\n",
              "      })();\n",
              "    </script>\n",
              "  </div>\n",
              "\n",
              "    </div>\n",
              "  </div>\n"
            ],
            "application/vnd.google.colaboratory.intrinsic+json": {
              "type": "dataframe",
              "variable_name": "folds_acc",
              "summary": "{\n  \"name\": \"folds_acc\",\n  \"rows\": 5,\n  \"fields\": [\n    {\n      \"column\": \"fold\",\n      \"properties\": {\n        \"dtype\": \"number\",\n        \"std\": 1,\n        \"min\": 1,\n        \"max\": 5,\n        \"num_unique_values\": 5,\n        \"samples\": [\n          2,\n          5,\n          3\n        ],\n        \"semantic_type\": \"\",\n        \"description\": \"\"\n      }\n    },\n    {\n      \"column\": \"val_accuracy\",\n      \"properties\": {\n        \"dtype\": \"number\",\n        \"std\": 0.010449880382090541,\n        \"min\": 0.8379999999999999,\n        \"max\": 0.866,\n        \"num_unique_values\": 5,\n        \"samples\": [\n          0.8480000000000001,\n          0.866,\n          0.844\n        ],\n        \"semantic_type\": \"\",\n        \"description\": \"\"\n      }\n    }\n  ]\n}"
            }
          },
          "metadata": {},
          "execution_count": 63
        }
      ]
    },
    {
      "cell_type": "markdown",
      "source": [
        "Plot validation accuracy across folds:"
      ],
      "metadata": {
        "id": "ivd349F4nd9u"
      },
      "id": "ivd349F4nd9u"
    },
    {
      "cell_type": "code",
      "source": [
        "plt.figure(figsize=(10, 6))\n",
        "\n",
        "sns.lineplot(x='fold', y='val_accuracy', data=folds_acc, marker='o')\n",
        "\n",
        "\n",
        "plt.title('Validation Accuracy Across Folds - Combination',fontsize=20)\n",
        "\n",
        "plt.xlabel('Fold', fontsize = 16)\n",
        "plt.xticks(folds_acc['fold'],fontsize=12)\n",
        "plt.ylabel('')\n",
        "plt.yticks([0,.10,.20,.30,.40,.50,.60,.70,.80,.90,1],fontsize=12)\n",
        "plt.grid(axis='y')\n",
        "\n",
        "plt.savefig(FOLDER_PATH+'Combined_Validation_Accuracy_Across_Folds_Seed'+ str(SEED_VAL) + '.png', format='png', transparent = True, bbox_inches='tight',pad_inches=0.1)"
      ],
      "metadata": {
        "colab": {
          "base_uri": "https://localhost:8080/",
          "height": 571
        },
        "id": "d2BrVYaong5R",
        "outputId": "06189d5a-4a26-496e-e4d7-2ad6a95afc04"
      },
      "id": "d2BrVYaong5R",
      "execution_count": null,
      "outputs": [
        {
          "output_type": "display_data",
          "data": {
            "text/plain": [
              "<Figure size 1000x600 with 1 Axes>"
            ],
            "image/png": "[encoded data removed]"
          },
          "metadata": {}
        }
      ]
    },
    {
      "cell_type": "markdown",
      "source": [
        "Plot f1-macro scores across folds:"
      ],
      "metadata": {
        "id": "wqV34O4mqVS1"
      },
      "id": "wqV34O4mqVS1"
    },
    {
      "cell_type": "code",
      "source": [
        "folds_f1 = df.groupby('fold')['f1_macro'].mean()\n",
        "folds_f1 = folds_f1.reset_index()"
      ],
      "metadata": {
        "id": "-xri5_i2qTaV"
      },
      "id": "-xri5_i2qTaV",
      "execution_count": null,
      "outputs": []
    },
    {
      "cell_type": "code",
      "source": [
        "folds_f1"
      ],
      "metadata": {
        "id": "4kSFmE6FqbBz"
      },
      "id": "4kSFmE6FqbBz",
      "execution_count": null,
      "outputs": []
    },
    {
      "cell_type": "code",
      "source": [
        "plt.figure(figsize=(10, 6))\n",
        "\n",
        "sns.lineplot(x='fold', y='f1_macro', data=folds_f1, marker='o')\n",
        "\n",
        "\n",
        "plt.title('Mean Macro F1-Score Across Folds - Combination',fontsize=20)\n",
        "\n",
        "plt.xlabel('Fold', fontsize = 16)\n",
        "plt.xticks(folds_f1['fold'],fontsize=12)\n",
        "plt.ylabel('')\n",
        "plt.yticks([0,.10,.20,.30,.40,.50,.60,.70,.80,.90,1],fontsize=12)\n",
        "plt.grid(axis='y')\n",
        "\n",
        "plt.savefig(FOLDER_PATH+'Combination_Macro_F1_Across_Folds_Seed'+ str(SEED_VAL) + '.png', format='png', transparent = True, bbox_inches='tight',pad_inches=0.1)"
      ],
      "metadata": {
        "id": "GISQVCSQqd8e"
      },
      "id": "GISQVCSQqd8e",
      "execution_count": null,
      "outputs": []
    },
    {
      "cell_type": "markdown",
      "source": [
        "### Compare Epochs of The Best Fold"
      ],
      "metadata": {
        "id": "-ki-PkrPlxYo"
      },
      "id": "-ki-PkrPlxYo"
    },
    {
      "cell_type": "code",
      "source": [
        "folds_f1 = df.groupby('fold')['f1_macro'].max()\n",
        "best = folds_f1.idxmax()\n",
        "best"
      ],
      "metadata": {
        "colab": {
          "base_uri": "https://localhost:8080/"
        },
        "id": "GbAeph4QuDdG",
        "outputId": "96f0b044-fee5-4646-a030-f2b5ecec1fb6"
      },
      "id": "GbAeph4QuDdG",
      "execution_count": null,
      "outputs": [
        {
          "output_type": "execute_result",
          "data": {
            "text/plain": [
              "5"
            ]
          },
          "metadata": {},
          "execution_count": 65
        }
      ]
    },
    {
      "cell_type": "code",
      "source": [
        "folds_f1"
      ],
      "metadata": {
        "colab": {
          "base_uri": "https://localhost:8080/"
        },
        "id": "yGAZdLgnu0mR",
        "outputId": "9dbafcef-9594-40a0-9c8f-ee88888e6a1b"
      },
      "id": "yGAZdLgnu0mR",
      "execution_count": null,
      "outputs": [
        {
          "output_type": "execute_result",
          "data": {
            "text/plain": [
              "fold\n",
              "1    0.85\n",
              "2    0.85\n",
              "3    0.84\n",
              "4    0.84\n",
              "5    0.87\n",
              "Name: val_accuracy, dtype: float64"
            ]
          },
          "metadata": {},
          "execution_count": 66
        }
      ]
    },
    {
      "cell_type": "code",
      "source": [
        "epochs = df[df['fold'] == best].groupby('epoch')[['total_train_loss','avg_train_loss','total_val_loss', 'avg_val_loss']].mean()\n",
        "epochs = epochs.reset_index()\n",
        "epochs"
      ],
      "metadata": {
        "colab": {
          "base_uri": "https://localhost:8080/",
          "height": 206
        },
        "id": "b4Wwe3aMqLIc",
        "outputId": "9e605863-f1cd-4965-b19c-2e83ac25d157"
      },
      "id": "b4Wwe3aMqLIc",
      "execution_count": null,
      "outputs": [
        {
          "output_type": "execute_result",
          "data": {
            "text/plain": [
              "   epoch  total_train_loss  avg_train_loss  total_val_loss  avg_val_loss\n",
              "0      1             23.79            0.74            3.87          0.48\n",
              "1      2             14.16            0.44            3.12          0.39\n",
              "2      3              8.77            0.27            3.35          0.42\n",
              "3      4              8.53            0.27            3.70          0.46\n",
              "4      5              5.42            0.17            4.17          0.52"
            ],
            "text/html": [
              "\n",
              "  <div id=\"df-4821791d-333d-4f36-854f-b6b16563f2b4\" class=\"colab-df-container\">\n",
              "    <div>\n",
              "<style scoped>\n",
              "    .dataframe tbody tr th:only-of-type {\n",
              "        vertical-align: middle;\n",
              "    }\n",
              "\n",
              "    .dataframe tbody tr th {\n",
              "        vertical-align: top;\n",
              "    }\n",
              "\n",
              "    .dataframe thead th {\n",
              "        text-align: right;\n",
              "    }\n",
              "</style>\n",
              "<table border=\"1\" class=\"dataframe\">\n",
              "  <thead>\n",
              "    <tr style=\"text-align: right;\">\n",
              "      <th></th>\n",
              "      <th>epoch</th>\n",
              "      <th>total_train_loss</th>\n",
              "      <th>avg_train_loss</th>\n",
              "      <th>total_val_loss</th>\n",
              "      <th>avg_val_loss</th>\n",
              "    </tr>\n",
              "  </thead>\n",
              "  <tbody>\n",
              "    <tr>\n",
              "      <th>0</th>\n",
              "      <td>1</td>\n",
              "      <td>23.79</td>\n",
              "      <td>0.74</td>\n",
              "      <td>3.87</td>\n",
              "      <td>0.48</td>\n",
              "    </tr>\n",
              "    <tr>\n",
              "      <th>1</th>\n",
              "      <td>2</td>\n",
              "      <td>14.16</td>\n",
              "      <td>0.44</td>\n",
              "      <td>3.12</td>\n",
              "      <td>0.39</td>\n",
              "    </tr>\n",
              "    <tr>\n",
              "      <th>2</th>\n",
              "      <td>3</td>\n",
              "      <td>8.77</td>\n",
              "      <td>0.27</td>\n",
              "      <td>3.35</td>\n",
              "      <td>0.42</td>\n",
              "    </tr>\n",
              "    <tr>\n",
              "      <th>3</th>\n",
              "      <td>4</td>\n",
              "      <td>8.53</td>\n",
              "      <td>0.27</td>\n",
              "      <td>3.70</td>\n",
              "      <td>0.46</td>\n",
              "    </tr>\n",
              "    <tr>\n",
              "      <th>4</th>\n",
              "      <td>5</td>\n",
              "      <td>5.42</td>\n",
              "      <td>0.17</td>\n",
              "      <td>4.17</td>\n",
              "      <td>0.52</td>\n",
              "    </tr>\n",
              "  </tbody>\n",
              "</table>\n",
              "</div>\n",
              "    <div class=\"colab-df-buttons\">\n",
              "\n",
              "  <div class=\"colab-df-container\">\n",
              "    <button class=\"colab-df-convert\" onclick=\"convertToInteractive('df-4821791d-333d-4f36-854f-b6b16563f2b4')\"\n",
              "            title=\"Convert this dataframe to an interactive table.\"\n",
              "            style=\"display:none;\">\n",
              "\n",
              "  <svg xmlns=\"http://www.w3.org/2000/svg\" height=\"24px\" viewBox=\"0 -960 960 960\">\n",
              "    <path d=\"M120-120v-720h720v720H120Zm60-500h600v-160H180v160Zm220 220h160v-160H400v160Zm0 220h160v-160H400v160ZM180-400h160v-160H180v160Zm440 0h160v-160H620v160ZM180-180h160v-160H180v160Zm440 0h160v-160H620v160Z\"/>\n",
              "  </svg>\n",
              "    </button>\n",
              "\n",
              "  <style>\n",
              "    .colab-df-container {\n",
              "      display:flex;\n",
              "      gap: 12px;\n",
              "    }\n",
              "\n",
              "    .colab-df-convert {\n",
              "      background-color: #E8F0FE;\n",
              "      border: none;\n",
              "      border-radius: 50%;\n",
              "      cursor: pointer;\n",
              "      display: none;\n",
              "      fill: #1967D2;\n",
              "      height: 32px;\n",
              "      padding: 0 0 0 0;\n",
              "      width: 32px;\n",
              "    }\n",
              "\n",
              "    .colab-df-convert:hover {\n",
              "      background-color: #E2EBFA;\n",
              "      box-shadow: 0px 1px 2px rgba(60, 64, 67, 0.3), 0px 1px 3px 1px rgba(60, 64, 67, 0.15);\n",
              "      fill: #174EA6;\n",
              "    }\n",
              "\n",
              "    .colab-df-buttons div {\n",
              "      margin-bottom: 4px;\n",
              "    }\n",
              "\n",
              "    [theme=dark] .colab-df-convert {\n",
              "      background-color: #3B4455;\n",
              "      fill: #D2E3FC;\n",
              "    }\n",
              "\n",
              "    [theme=dark] .colab-df-convert:hover {\n",
              "      background-color: #434B5C;\n",
              "      box-shadow: 0px 1px 3px 1px rgba(0, 0, 0, 0.15);\n",
              "      filter: drop-shadow(0px 1px 2px rgba(0, 0, 0, 0.3));\n",
              "      fill: #FFFFFF;\n",
              "    }\n",
              "  </style>\n",
              "\n",
              "    <script>\n",
              "      const buttonEl =\n",
              "        document.querySelector('#df-4821791d-333d-4f36-854f-b6b16563f2b4 button.colab-df-convert');\n",
              "      buttonEl.style.display =\n",
              "        google.colab.kernel.accessAllowed ? 'block' : 'none';\n",
              "\n",
              "      async function convertToInteractive(key) {\n",
              "        const element = document.querySelector('#df-4821791d-333d-4f36-854f-b6b16563f2b4');\n",
              "        const dataTable =\n",
              "          await google.colab.kernel.invokeFunction('convertToInteractive',\n",
              "                                                    [key], {});\n",
              "        if (!dataTable) return;\n",
              "\n",
              "        const docLinkHtml = 'Like what you see? Visit the ' +\n",
              "          '<a target=\"_blank\" href=https://colab.research.google.com/notebooks/data_table.ipynb>data table notebook</a>'\n",
              "          + ' to learn more about interactive tables.';\n",
              "        element.innerHTML = '';\n",
              "        dataTable['output_type'] = 'display_data';\n",
              "        await google.colab.output.renderOutput(dataTable, element);\n",
              "        const docLink = document.createElement('div');\n",
              "        docLink.innerHTML = docLinkHtml;\n",
              "        element.appendChild(docLink);\n",
              "      }\n",
              "    </script>\n",
              "  </div>\n",
              "\n",
              "\n",
              "<div id=\"df-496642d9-1915-4b69-8240-576757f793b2\">\n",
              "  <button class=\"colab-df-quickchart\" onclick=\"quickchart('df-496642d9-1915-4b69-8240-576757f793b2')\"\n",
              "            title=\"Suggest charts\"\n",
              "            style=\"display:none;\">\n",
              "\n",
              "<svg xmlns=\"http://www.w3.org/2000/svg\" height=\"24px\"viewBox=\"0 0 24 24\"\n",
              "     width=\"24px\">\n",
              "    <g>\n",
              "        <path d=\"M19 3H5c-1.1 0-2 .9-2 2v14c0 1.1.9 2 2 2h14c1.1 0 2-.9 2-2V5c0-1.1-.9-2-2-2zM9 17H7v-7h2v7zm4 0h-2V7h2v10zm4 0h-2v-4h2v4z\"/>\n",
              "    </g>\n",
              "</svg>\n",
              "  </button>\n",
              "\n",
              "<style>\n",
              "  .colab-df-quickchart {\n",
              "      --bg-color: #E8F0FE;\n",
              "      --fill-color: #1967D2;\n",
              "      --hover-bg-color: #E2EBFA;\n",
              "      --hover-fill-color: #174EA6;\n",
              "      --disabled-fill-color: #AAA;\n",
              "      --disabled-bg-color: #DDD;\n",
              "  }\n",
              "\n",
              "  [theme=dark] .colab-df-quickchart {\n",
              "      --bg-color: #3B4455;\n",
              "      --fill-color: #D2E3FC;\n",
              "      --hover-bg-color: #434B5C;\n",
              "      --hover-fill-color: #FFFFFF;\n",
              "      --disabled-bg-color: #3B4455;\n",
              "      --disabled-fill-color: #666;\n",
              "  }\n",
              "\n",
              "  .colab-df-quickchart {\n",
              "    background-color: var(--bg-color);\n",
              "    border: none;\n",
              "    border-radius: 50%;\n",
              "    cursor: pointer;\n",
              "    display: none;\n",
              "    fill: var(--fill-color);\n",
              "    height: 32px;\n",
              "    padding: 0;\n",
              "    width: 32px;\n",
              "  }\n",
              "\n",
              "  .colab-df-quickchart:hover {\n",
              "    background-color: var(--hover-bg-color);\n",
              "    box-shadow: 0 1px 2px rgba(60, 64, 67, 0.3), 0 1px 3px 1px rgba(60, 64, 67, 0.15);\n",
              "    fill: var(--button-hover-fill-color);\n",
              "  }\n",
              "\n",
              "  .colab-df-quickchart-complete:disabled,\n",
              "  .colab-df-quickchart-complete:disabled:hover {\n",
              "    background-color: var(--disabled-bg-color);\n",
              "    fill: var(--disabled-fill-color);\n",
              "    box-shadow: none;\n",
              "  }\n",
              "\n",
              "  .colab-df-spinner {\n",
              "    border: 2px solid var(--fill-color);\n",
              "    border-color: transparent;\n",
              "    border-bottom-color: var(--fill-color);\n",
              "    animation:\n",
              "      spin 1s steps(1) infinite;\n",
              "  }\n",
              "\n",
              "  @keyframes spin {\n",
              "    0% {\n",
              "      border-color: transparent;\n",
              "      border-bottom-color: var(--fill-color);\n",
              "      border-left-color: var(--fill-color);\n",
              "    }\n",
              "    20% {\n",
              "      border-color: transparent;\n",
              "      border-left-color: var(--fill-color);\n",
              "      border-top-color: var(--fill-color);\n",
              "    }\n",
              "    30% {\n",
              "      border-color: transparent;\n",
              "      border-left-color: var(--fill-color);\n",
              "      border-top-color: var(--fill-color);\n",
              "      border-right-color: var(--fill-color);\n",
              "    }\n",
              "    40% {\n",
              "      border-color: transparent;\n",
              "      border-right-color: var(--fill-color);\n",
              "      border-top-color: var(--fill-color);\n",
              "    }\n",
              "    60% {\n",
              "      border-color: transparent;\n",
              "      border-right-color: var(--fill-color);\n",
              "    }\n",
              "    80% {\n",
              "      border-color: transparent;\n",
              "      border-right-color: var(--fill-color);\n",
              "      border-bottom-color: var(--fill-color);\n",
              "    }\n",
              "    90% {\n",
              "      border-color: transparent;\n",
              "      border-bottom-color: var(--fill-color);\n",
              "    }\n",
              "  }\n",
              "</style>\n",
              "\n",
              "  <script>\n",
              "    async function quickchart(key) {\n",
              "      const quickchartButtonEl =\n",
              "        document.querySelector('#' + key + ' button');\n",
              "      quickchartButtonEl.disabled = true;  // To prevent multiple clicks.\n",
              "      quickchartButtonEl.classList.add('colab-df-spinner');\n",
              "      try {\n",
              "        const charts = await google.colab.kernel.invokeFunction(\n",
              "            'suggestCharts', [key], {});\n",
              "      } catch (error) {\n",
              "        console.error('Error during call to suggestCharts:', error);\n",
              "      }\n",
              "      quickchartButtonEl.classList.remove('colab-df-spinner');\n",
              "      quickchartButtonEl.classList.add('colab-df-quickchart-complete');\n",
              "    }\n",
              "    (() => {\n",
              "      let quickchartButtonEl =\n",
              "        document.querySelector('#df-496642d9-1915-4b69-8240-576757f793b2 button');\n",
              "      quickchartButtonEl.style.display =\n",
              "        google.colab.kernel.accessAllowed ? 'block' : 'none';\n",
              "    })();\n",
              "  </script>\n",
              "</div>\n",
              "\n",
              "  <div id=\"id_121a6aeb-4b75-48f2-8c29-ff4666a3e8a2\">\n",
              "    <style>\n",
              "      .colab-df-generate {\n",
              "        background-color: #E8F0FE;\n",
              "        border: none;\n",
              "        border-radius: 50%;\n",
              "        cursor: pointer;\n",
              "        display: none;\n",
              "        fill: #1967D2;\n",
              "        height: 32px;\n",
              "        padding: 0 0 0 0;\n",
              "        width: 32px;\n",
              "      }\n",
              "\n",
              "      .colab-df-generate:hover {\n",
              "        background-color: #E2EBFA;\n",
              "        box-shadow: 0px 1px 2px rgba(60, 64, 67, 0.3), 0px 1px 3px 1px rgba(60, 64, 67, 0.15);\n",
              "        fill: #174EA6;\n",
              "      }\n",
              "\n",
              "      [theme=dark] .colab-df-generate {\n",
              "        background-color: #3B4455;\n",
              "        fill: #D2E3FC;\n",
              "      }\n",
              "\n",
              "      [theme=dark] .colab-df-generate:hover {\n",
              "        background-color: #434B5C;\n",
              "        box-shadow: 0px 1px 3px 1px rgba(0, 0, 0, 0.15);\n",
              "        filter: drop-shadow(0px 1px 2px rgba(0, 0, 0, 0.3));\n",
              "        fill: #FFFFFF;\n",
              "      }\n",
              "    </style>\n",
              "    <button class=\"colab-df-generate\" onclick=\"generateWithVariable('epochs')\"\n",
              "            title=\"Generate code using this dataframe.\"\n",
              "            style=\"display:none;\">\n",
              "\n",
              "  <svg xmlns=\"http://www.w3.org/2000/svg\" height=\"24px\"viewBox=\"0 0 24 24\"\n",
              "       width=\"24px\">\n",
              "    <path d=\"M7,19H8.4L18.45,9,17,7.55,7,17.6ZM5,21V16.75L18.45,3.32a2,2,0,0,1,2.83,0l1.4,1.43a1.91,1.91,0,0,1,.58,1.4,1.91,1.91,0,0,1-.58,1.4L9.25,21ZM18.45,9,17,7.55Zm-12,3A5.31,5.31,0,0,0,4.9,8.1,5.31,5.31,0,0,0,1,6.5,5.31,5.31,0,0,0,4.9,4.9,5.31,5.31,0,0,0,6.5,1,5.31,5.31,0,0,0,8.1,4.9,5.31,5.31,0,0,0,12,6.5,5.46,5.46,0,0,0,6.5,12Z\"/>\n",
              "  </svg>\n",
              "    </button>\n",
              "    <script>\n",
              "      (() => {\n",
              "      const buttonEl =\n",
              "        document.querySelector('#id_121a6aeb-4b75-48f2-8c29-ff4666a3e8a2 button.colab-df-generate');\n",
              "      buttonEl.style.display =\n",
              "        google.colab.kernel.accessAllowed ? 'block' : 'none';\n",
              "\n",
              "      buttonEl.onclick = () => {\n",
              "        google.colab.notebook.generateWithVariable('epochs');\n",
              "      }\n",
              "      })();\n",
              "    </script>\n",
              "  </div>\n",
              "\n",
              "    </div>\n",
              "  </div>\n"
            ],
            "application/vnd.google.colaboratory.intrinsic+json": {
              "type": "dataframe",
              "variable_name": "epochs",
              "summary": "{\n  \"name\": \"epochs\",\n  \"rows\": 5,\n  \"fields\": [\n    {\n      \"column\": \"epoch\",\n      \"properties\": {\n        \"dtype\": \"number\",\n        \"std\": 1,\n        \"min\": 1,\n        \"max\": 5,\n        \"num_unique_values\": 5,\n        \"samples\": [\n          2,\n          5,\n          3\n        ],\n        \"semantic_type\": \"\",\n        \"description\": \"\"\n      }\n    },\n    {\n      \"column\": \"total_train_loss\",\n      \"properties\": {\n        \"dtype\": \"number\",\n        \"std\": 7.232855977656103,\n        \"min\": 5.4211755245924,\n        \"max\": 23.788128823041916,\n        \"num_unique_values\": 5,\n        \"samples\": [\n          14.155679687857628,\n          5.4211755245924,\n          8.770721390843391\n        ],\n        \"semantic_type\": \"\",\n        \"description\": \"\"\n      }\n    },\n    {\n      \"column\": \"avg_train_loss\",\n      \"properties\": {\n        \"dtype\": \"number\",\n        \"std\": 0.22602674930175323,\n        \"min\": 0.1694117351435125,\n        \"max\": 0.7433790257200599,\n        \"num_unique_values\": 5,\n        \"samples\": [\n          0.44236499024555087,\n          0.1694117351435125,\n          0.274085043463856\n        ],\n        \"semantic_type\": \"\",\n        \"description\": \"\"\n      }\n    },\n    {\n      \"column\": \"total_val_loss\",\n      \"properties\": {\n        \"dtype\": \"number\",\n        \"std\": 0.41429585228869475,\n        \"min\": 3.11959570646286,\n        \"max\": 4.1689466536045074,\n        \"num_unique_values\": 5,\n        \"samples\": [\n          3.11959570646286,\n          4.1689466536045074,\n          3.354849051684141\n        ],\n        \"semantic_type\": \"\",\n        \"description\": \"\"\n      }\n    },\n    {\n      \"column\": \"avg_val_loss\",\n      \"properties\": {\n        \"dtype\": \"number\",\n        \"std\": 0.051786981536086844,\n        \"min\": 0.3899494633078575,\n        \"max\": 0.5211183317005634,\n        \"num_unique_values\": 5,\n        \"samples\": [\n          0.3899494633078575,\n          0.5211183317005634,\n          0.41935613146051764\n        ],\n        \"semantic_type\": \"\",\n        \"description\": \"\"\n      }\n    }\n  ]\n}"
            }
          },
          "metadata": {},
          "execution_count": 67
        }
      ]
    },
    {
      "cell_type": "markdown",
      "source": [
        "Compare epoch losses of the best fold:"
      ],
      "metadata": {
        "id": "vG1W_KDci5pR"
      },
      "id": "vG1W_KDci5pR"
    },
    {
      "cell_type": "code",
      "source": [
        "plt.figure(figsize=(10, 6))\n",
        "sns.lineplot(x='epoch', y='total_train_loss', data=epochs, marker='o', label='Total Train Loss')\n",
        "sns.lineplot(x='epoch', y='total_val_loss', data=epochs, marker='o', label='Total Val Loss')\n",
        "\n",
        "plt.title('Total Losses Across Epochs - Combination', fontsize=20)\n",
        "\n",
        "plt.xlabel('Epoch',fontsize=16)\n",
        "plt.xticks(epochs['epoch'],fontsize=12)\n",
        "plt.ylabel('Loss',fontsize=16)\n",
        "plt.yticks(fontsize=12)\n",
        "\n",
        "plt.legend(loc='upper right',fontsize = 12)\n",
        "plt.grid(axis='y')\n",
        "\n",
        "plt.savefig(FOLDER_PATH+'Combined_Total_Losses_Across_Epochs_Seed'+ str(SEED_VAL) + '.png', format='png', transparent = True, bbox_inches='tight',pad_inches=0.1)"
      ],
      "metadata": {
        "colab": {
          "base_uri": "https://localhost:8080/",
          "height": 571
        },
        "id": "Lyxii6AFr9Mk",
        "outputId": "8ac0a702-ef48-4014-e5fb-3fd4dcdeb343"
      },
      "id": "Lyxii6AFr9Mk",
      "execution_count": null,
      "outputs": [
        {
          "output_type": "display_data",
          "data": {
            "text/plain": [
              "<Figure size 1000x600 with 1 Axes>"
            ],
            "image/png": "[encoded data removed]"
          },
          "metadata": {}
        }
      ]
    },
    {
      "cell_type": "code",
      "source": [
        "plt.figure(figsize=(10, 6))\n",
        "sns.lineplot(x='epoch', y='avg_train_loss', data=epochs, marker='o', label='Average Train Loss')\n",
        "sns.lineplot(x='epoch', y='avg_val_loss', data=epochs, marker='o', label='Average Val Loss')\n",
        "\n",
        "\n",
        "plt.title('Average Losses Across Epochs - Combination', fontsize=20)\n",
        "\n",
        "plt.xlabel('Epoch',fontsize=16)\n",
        "plt.xticks(epochs['epoch'],fontsize=12)\n",
        "plt.ylabel('Loss',fontsize=16)\n",
        "plt.yticks(fontsize=12)\n",
        "\n",
        "plt.legend(loc='upper right',fontsize = 12)\n",
        "plt.grid(axis='y')\n",
        "\n",
        "plt.savefig(FOLDER_PATH+'Combined_Average_Losses_Across_Epochs_Seed'+ str(SEED_VAL) + '.png', format='png', transparent = True, bbox_inches='tight',pad_inches=0.1)"
      ],
      "metadata": {
        "colab": {
          "base_uri": "https://localhost:8080/",
          "height": 568
        },
        "id": "wDWbo0oNriWw",
        "outputId": "78d77b85-8ff0-4af4-cc4d-01ca0cc5d241"
      },
      "id": "wDWbo0oNriWw",
      "execution_count": null,
      "outputs": [
        {
          "output_type": "display_data",
          "data": {
            "text/plain": [
              "<Figure size 1000x600 with 1 Axes>"
            ],
            "image/png": "[encoded data removed]"
          },
          "metadata": {}
        }
      ]
    },
    {
      "cell_type": "markdown",
      "source": [
        "### Evaluate the Best Fold on Test Set"
      ],
      "metadata": {
        "id": "3whBNBlYmAyU"
      },
      "id": "3whBNBlYmAyU"
    },
    {
      "cell_type": "markdown",
      "source": [
        "Here, we evaluate the trained model of the best fold, using the same method used to evaluate the pre-trained model. \\\n",
        "We do this to see if there was significant improvement after being trained with the curated dataset."
      ],
      "metadata": {
        "id": "EeTf4ipDAQ_W"
      },
      "id": "EeTf4ipDAQ_W"
    },
    {
      "cell_type": "code",
      "source": [
        "best_fold_path = 'fold_' + str(best) + '.bin'\n",
        "best_fold_path"
      ],
      "metadata": {
        "id": "BYSaG4hgvsSa"
      },
      "id": "BYSaG4hgvsSa",
      "execution_count": null,
      "outputs": []
    },
    {
      "cell_type": "code",
      "source": [
        "# Load best model:\n",
        "if os.path.exists(best_fold_path):\n",
        "    model.load_state_dict(torch.load(best_fold_path))\n",
        "\n",
        "else:\n",
        "  print(f\"Error: {best_fold_path} does not exist\")"
      ],
      "metadata": {
        "id": "c5u642My0b4D"
      },
      "id": "c5u642My0b4D",
      "execution_count": null,
      "outputs": []
    },
    {
      "cell_type": "markdown",
      "source": [
        "####Test Batches"
      ],
      "metadata": {
        "id": "4zOF8xqiEbIL"
      },
      "id": "4zOF8xqiEbIL"
    },
    {
      "cell_type": "code",
      "source": [
        "model.eval()\n",
        "torch.set_grad_enabled(False)\n",
        "\n",
        "for i, test_batch in enumerate(test_dataloader):\n",
        "  test_status = 'Batch ' + str(i+1) + ' / ' + str(len(test_dataloader))\n",
        "  print(test_status, end='\\r')\n",
        "\n",
        "  b_input_ids = test_batch[0].to(device)\n",
        "  b_input_mask = test_batch[1].to(device)\n",
        "  b_token_type_ids = test_batch[2].to(device)\n",
        "\n",
        "\n",
        "  outputs = model(b_input_ids,\n",
        "                  token_type_ids=None,\n",
        "                  attention_mask=b_input_mask,\n",
        "                  return_dict = False)\n",
        "\n",
        "  preds = outputs[0]\n",
        "  test_preds = preds.detach().cpu().numpy()\n",
        "\n",
        "\n",
        "  if i == 0:  # first batch\n",
        "    stacked_test_preds = test_preds\n",
        "\n",
        "  else:\n",
        "    stacked_test_preds = np.vstack((stacked_test_preds, test_preds))\n",
        "\n",
        "\n",
        "# Round predictions to either 0 or 1\n",
        "final_preds = np.argmax(stacked_test_preds, axis=1)"
      ],
      "metadata": {
        "id": "P0brIi0ZAoHX",
        "colab": {
          "base_uri": "https://localhost:8080/"
        },
        "outputId": "4fb1c796-eb2b-4874-e73c-67716b0377d3"
      },
      "id": "P0brIi0ZAoHX",
      "execution_count": null,
      "outputs": [
        {
          "output_type": "stream",
          "name": "stderr",
          "text": [
            "/usr/lib/python3.10/multiprocessing/popen_fork.py:66: RuntimeWarning: os.fork() was called. os.fork() is incompatible with multithreaded code, and JAX is multithreaded, so this will likely lead to a deadlock.\n",
            "  self.pid = os.fork()\n"
          ]
        },
        {
          "output_type": "stream",
          "name": "stdout",
          "text": []
        },
        {
          "output_type": "stream",
          "name": "stderr",
          "text": [
            "/usr/lib/python3.10/multiprocessing/popen_fork.py:66: RuntimeWarning: os.fork() was called. os.fork() is incompatible with multithreaded code, and JAX is multithreaded, so this will likely lead to a deadlock.\n",
            "  self.pid = os.fork()\n"
          ]
        },
        {
          "output_type": "stream",
          "name": "stdout",
          "text": [
            "Batch 5 / 5\r"
          ]
        }
      ]
    },
    {
      "cell_type": "markdown",
      "source": [
        "####Performance Scores"
      ],
      "metadata": {
        "id": "KFq5FYy-D0k2"
      },
      "id": "KFq5FYy-D0k2"
    },
    {
      "cell_type": "markdown",
      "source": [
        "Like before, we can calculate the model's performance scores using the function that was previously defined. \\"
      ],
      "metadata": {
        "id": "UohH-1T5n9GV"
      },
      "id": "UohH-1T5n9GV"
    },
    {
      "cell_type": "code",
      "source": [
        "labels = df_test['CLASS']\n",
        "\n",
        "report, accuracy = classification_report_with_accuracy_score(final_preds, labels)\n",
        "# report is a DataFrame\n",
        "print(report)"
      ],
      "metadata": {
        "id": "RjztZbIqDSYC",
        "colab": {
          "base_uri": "https://localhost:8080/"
        },
        "outputId": "a6e6a635-0bc5-48b1-8e37-659503793e01"
      },
      "id": "RjztZbIqDSYC",
      "execution_count": null,
      "outputs": [
        {
          "output_type": "stream",
          "name": "stdout",
          "text": [
            "              precision  recall  f1-score  support\n",
            "0                  0.80    0.94      0.87    89.00\n",
            "1                  0.78    0.64      0.70    44.00\n",
            "2                  0.00    0.00      0.00     8.00\n",
            "accuracy           0.79    0.79      0.79     0.79\n",
            "macro avg          0.53    0.53      0.52   141.00\n",
            "weighted avg       0.75    0.79      0.77   141.00\n"
          ]
        }
      ]
    },
    {
      "cell_type": "markdown",
      "source": [
        "Get the missclassified tweets:"
      ],
      "metadata": {
        "id": "8GmxYMsnv-rn"
      },
      "id": "8GmxYMsnv-rn"
    },
    {
      "cell_type": "code",
      "source": [
        "posts = df_test[POST]\n",
        "ids = df_test[POST_ID]"
      ],
      "metadata": {
        "id": "G5Tb2b8wwB78"
      },
      "id": "G5Tb2b8wwB78",
      "execution_count": null,
      "outputs": []
    },
    {
      "cell_type": "code",
      "source": [
        "posts[:5]"
      ],
      "metadata": {
        "id": "Ss2GkkzFwDQF"
      },
      "id": "Ss2GkkzFwDQF",
      "execution_count": null,
      "outputs": []
    },
    {
      "cell_type": "code",
      "source": [
        "print(df_test.head())"
      ],
      "metadata": {
        "id": "VUI53aPqwGMX"
      },
      "id": "VUI53aPqwGMX",
      "execution_count": null,
      "outputs": []
    },
    {
      "cell_type": "code",
      "source": [
        "ids[:5]"
      ],
      "metadata": {
        "id": "BzoCoQDIwI-N"
      },
      "id": "BzoCoQDIwI-N",
      "execution_count": null,
      "outputs": []
    },
    {
      "cell_type": "code",
      "source": [
        "wrong_preds = []\n",
        "\n",
        "for i in range(len(labels)):\n",
        "  predicted = final_preds[i]\n",
        "  correct = labels[i]\n",
        "\n",
        "  if predicted != correct:\n",
        "    info = {'post id': ids[i],\n",
        "            'post content': posts[i],\n",
        "            'prediction': predicted,\n",
        "            'correct label': correct}\n",
        "    wrong_preds.append(info)"
      ],
      "metadata": {
        "id": "W_ozlqQ_wLYZ"
      },
      "id": "W_ozlqQ_wLYZ",
      "execution_count": null,
      "outputs": []
    },
    {
      "cell_type": "code",
      "source": [
        "df = pd.DataFrame(wrong_preds)\n",
        "df"
      ],
      "metadata": {
        "id": "vnB1KNZcwNAZ"
      },
      "id": "vnB1KNZcwNAZ",
      "execution_count": null,
      "outputs": []
    },
    {
      "cell_type": "code",
      "source": [
        "path = FOLDER_PATH + 'wrong_predictions_seed'+ str(SEED_VAL) + '.cvs'\n",
        "df.to_csv(path)\n",
        "\n",
        "path = FOLDER_PATH + 'wrong_predictions_seed'+ str(SEED_VAL) + '.xlsx'\n",
        "df.to_excel(path)"
      ],
      "metadata": {
        "id": "GP9NORRWwQSm"
      },
      "id": "GP9NORRWwQSm",
      "execution_count": null,
      "outputs": []
    },
    {
      "cell_type": "markdown",
      "source": [
        "Plot report as a table and save figure as a png:"
      ],
      "metadata": {
        "id": "IsQrZd_4oSLV"
      },
      "id": "IsQrZd_4oSLV"
    },
    {
      "cell_type": "code",
      "source": [
        "without_acc = report.loc[['0', '1', '2', 'macro avg', 'weighted avg']]\n",
        "without_acc = without_acc.rename(index={'0': 'negative', '1': 'positive', '2': 'unclear'})\n",
        "\n",
        "fig, ax = plt.subplots(figsize=(2,4))\n",
        "ax.axis('off')\n",
        "table = pd.plotting.table(ax, without_acc, loc='right',cellLoc='center',rowLoc='center')\n",
        "table.auto_set_font_size(False)\n",
        "table.set_fontsize(14)\n",
        "table.scale(2.9, 3)\n",
        "plt.title('Best Sentiment Performance After Fine-Tuning',\n",
        "           loc='left',fontsize=20)\n",
        "acc_str = 'Overall Accuracy: '+ str(accuracy.round(decimals=2))\n",
        "fig.text(0.67, 0.05, acc_str, ha='center', fontsize=14)\n",
        "\n",
        "plt.savefig(FOLDER_PATH+'BestSentimentPerformanceTable_TrainedModel_Seed'+ str(SEED_VAL) + '.png', format='png', transparent = True, bbox_inches='tight',pad_inches=0.1)"
      ],
      "metadata": {
        "id": "bNXcNheXDwTR",
        "colab": {
          "base_uri": "https://localhost:8080/",
          "height": 403
        },
        "outputId": "0dcc60b3-d1b6-4539-a2eb-a437367e5b5a"
      },
      "id": "bNXcNheXDwTR",
      "execution_count": null,
      "outputs": [
        {
          "output_type": "display_data",
          "data": {
            "text/plain": [
              "<Figure size 200x400 with 1 Axes>"
            ],
            "image/png": "[encoded data removed]"
          },
          "metadata": {}
        }
      ]
    },
    {
      "cell_type": "markdown",
      "source": [
        "Plot the confusion matrix to visualize the model's predictions against their true value, and save the figure as a png:"
      ],
      "metadata": {
        "id": "drqDckTND3Xf"
      },
      "id": "drqDckTND3Xf"
    },
    {
      "cell_type": "code",
      "source": [
        "from sklearn.metrics import confusion_matrix, ConfusionMatrixDisplay\n",
        "import seaborn as sns\n",
        "\n",
        "\n",
        "matrix = confusion_matrix(df_test[SENTIMENT], final_preds)\n",
        "fig = plt.figure(figsize=(10, 8))\n",
        "ax = sns.heatmap(matrix, annot=True,cmap=\"rocket_r\", fmt = '.0f',\n",
        "            yticklabels=['negative', 'positive', 'unclear'],\n",
        "            xticklabels=['negative', 'positive', 'unclear'],square=True,\n",
        "                 annot_kws={\"size\": 14},cbar=True,\n",
        "                 cbar_kws={'shrink': 0.9})\n",
        "\n",
        "plt.xticks(fontsize=12)  # X-axis tick labels font size\n",
        "plt.yticks(fontsize=12)\n",
        "\n",
        "# Add title and labels\n",
        "plt.title('Best Sentiment Performance After Fine-Tuning', fontsize=22, loc='center',\n",
        "          pad=20)\n",
        "plt.xlabel('Predicted Labels', fontsize=16)\n",
        "plt.ylabel('True Labels', fontsize=16)\n",
        "\n",
        "plt.savefig(FOLDER_PATH+'BestSentimentConfusionMatrix_TrainedModel_Seed'+ str(SEED_VAL) + '.png', format='png', transparent = True, bbox_inches='tight',pad_inches=0.1)\n"
      ],
      "metadata": {
        "id": "r64_E_E8D4J0",
        "colab": {
          "base_uri": "https://localhost:8080/",
          "height": 757
        },
        "outputId": "02313e76-b4f2-45b5-ed06-1ac38932ce3f"
      },
      "id": "r64_E_E8D4J0",
      "execution_count": null,
      "outputs": [
        {
          "output_type": "display_data",
          "data": {
            "text/plain": [
              "<Figure size 1000x800 with 2 Axes>"
            ],
            "image/png": "[encoded data removed]"
          },
          "metadata": {}
        }
      ]
    },
    {
      "cell_type": "markdown",
      "source": [
        "## Evaluate All Folds on Test Set"
      ],
      "metadata": {
        "id": "Kp07-gtGNGee"
      },
      "id": "Kp07-gtGNGee"
    },
    {
      "cell_type": "code",
      "source": [
        "folds = []\n",
        "for i in range(NUM_FOLDS):\n",
        "  model_name = 'fold_' + str(i+1) + '.bin'\n",
        "  folds.append(model_name)"
      ],
      "metadata": {
        "id": "A3JTPddZlI5f"
      },
      "id": "A3JTPddZlI5f",
      "execution_count": null,
      "outputs": []
    },
    {
      "cell_type": "code",
      "source": [
        "def plot_table(fold_n, report, accuracy, filename):\n",
        "\n",
        "  without_acc = report.loc[['0', '1', '2', 'macro avg', 'weighted avg']]\n",
        "  without_acc = without_acc.rename(index={'0': 'negative', '1': 'positive', '2': 'unclear'})\n",
        "\n",
        "  fig, ax = plt.subplots(figsize=(2,4))\n",
        "  ax.axis('off')\n",
        "  table = pd.plotting.table(ax, without_acc, loc='right',cellLoc='center',rowLoc='center')\n",
        "  table.auto_set_font_size(False)\n",
        "  table.set_fontsize(14)\n",
        "  table.scale(3, 3)\n",
        "  plt.title(('Sentiment Performance After Fine-Tuning: Fold ' + str(fold_n)),\n",
        "            loc='left',fontsize=20)\n",
        "  acc_str = 'Overall Accuracy: '+ str(accuracy.round(decimals=2))\n",
        "  fig.text(0.67, 0.05, acc_str, ha='center', fontsize=14)\n",
        "\n",
        "  plt.savefig(filename, format='png', transparent = True, bbox_inches='tight',pad_inches=0.1)\n",
        "\n",
        "\n",
        "def plot_matrix(fold_n, matrix, filename):\n",
        "  fig = plt.figure(figsize=(10, 8))\n",
        "  ax = sns.heatmap(matrix, annot=True,cmap=\"rocket_r\", fmt = '.0f',\n",
        "              yticklabels=['negative', 'positive', 'unclear'],\n",
        "              xticklabels=['negative', 'positive', 'unclear'],square=True,\n",
        "                  annot_kws={\"size\": 14},cbar=True,\n",
        "                  cbar_kws={'shrink': 0.9})\n",
        "\n",
        "  plt.xticks(fontsize=12)  # X-axis tick labels font size\n",
        "  plt.yticks(fontsize=12)\n",
        "\n",
        "  # Add title and labels\n",
        "  plt.title(('Sentiment Performance After Fine-Tuning: Fold ' + str(fold_n)), fontsize=22, loc='center',\n",
        "            pad=20)\n",
        "  plt.xlabel('Predicted Labels', fontsize=16)\n",
        "  plt.ylabel('True Labels', fontsize=16)\n",
        "\n",
        "  plt.savefig(filename, format='png', transparent = True, bbox_inches='tight',pad_inches=0.1)\n"
      ],
      "metadata": {
        "id": "C32bMPkgNZ7A"
      },
      "id": "C32bMPkgNZ7A",
      "execution_count": null,
      "outputs": []
    },
    {
      "cell_type": "code",
      "source": [
        "from sklearn.metrics import confusion_matrix, ConfusionMatrixDisplay\n",
        "import seaborn as sns\n",
        "\n",
        "fold_n = 1\n",
        "\n",
        "for model_path in folds:\n",
        "    # LOAD MODEL #\n",
        "    if os.path.exists(model_path):\n",
        "      model.load_state_dict(torch.load(model_path))\n",
        "\n",
        "    else:\n",
        "      print(f\"Error: {model_path} does not exist\")\n",
        "\n",
        "    # TEST #\n",
        "    model.eval()\n",
        "    torch.set_grad_enabled(False)\n",
        "\n",
        "    for i, test_batch in enumerate(test_dataloader):\n",
        "      test_status = 'Batch ' + str(i+1) + ' / ' + str(len(test_dataloader))\n",
        "      print(test_status, end='\\r')\n",
        "\n",
        "      b_input_ids = test_batch[0].to(device)\n",
        "      b_input_mask = test_batch[1].to(device)\n",
        "      b_token_type_ids = test_batch[2].to(device)\n",
        "\n",
        "\n",
        "      outputs = model(b_input_ids,\n",
        "                      token_type_ids=None,\n",
        "                      attention_mask=b_input_mask,\n",
        "                      return_dict = False)\n",
        "\n",
        "      preds = outputs[0]\n",
        "      test_preds = preds.detach().cpu().numpy()\n",
        "\n",
        "\n",
        "      if i == 0:  # first batch\n",
        "        stacked_test_preds = test_preds\n",
        "\n",
        "      else:\n",
        "        stacked_test_preds = np.vstack((stacked_test_preds, test_preds))\n",
        "\n",
        "\n",
        "    # Round predictions to either 0 or 1\n",
        "    final_preds = np.argmax(stacked_test_preds, axis=1)\n",
        "\n",
        "    labels = df_test[STANCE]\n",
        "\n",
        "    report, accuracy = classification_report_with_accuracy_score(final_preds, labels)\n",
        "    # report is a DataFrame\n",
        "    print('Fold' + str(fold_n) + ':\\n', report)\n",
        "\n",
        "\n",
        "    table_path = FOLDER_PATH+'Fold ' + str(fold_n) + '_SentimentPerformanceTable_TrainedModel_Seed'+ str(SEED_VAL) + '.png'\n",
        "    plot_table(fold_n, report, accuracy, table_path)\n",
        "\n",
        "\n",
        "    matrix = confusion_matrix(labels, final_preds)\n",
        "\n",
        "    matrix_path = FOLDER_PATH + 'Fold ' + str(fold_n) + '_SentimentConfusionMatrix_TrainedModel_Seed'+ str(SEED_VAL) + '.png'\n",
        "    plot_matrix(fold_n, matrix, matrix_path)\n",
        "\n",
        "    fold_n += 1"
      ],
      "metadata": {
        "id": "z0TYfklLQG1j"
      },
      "id": "z0TYfklLQG1j",
      "execution_count": null,
      "outputs": []
    }
  ],
  "metadata": {
    "kernelspec": {
      "display_name": "Python 3",
      "name": "python3"
    },
    "language_info": {
      "codemirror_mode": {
        "name": "ipython",
        "version": 3
      },
      "file_extension": ".py",
      "mimetype": "text/x-python",
      "name": "python",
      "nbconvert_exporter": "python",
      "pygments_lexer": "ipython3",
      "version": "3.9.12"
    },
    "colab": {
      "provenance": [],
      "gpuType": "T4",
      "collapsed_sections": [
        "8-3218n_elhK"
      ],
      "toc_visible": true,
      "include_colab_link": true
    },
    "accelerator": "GPU",
    "widgets": {
      "application/vnd.jupyter.widget-state+json": {
        "3e27d26bce94410290a45e29ebab6be4": {
          "model_module": "@jupyter-widgets/controls",
          "model_name": "HBoxModel",
          "model_module_version": "1.5.0",
          "state": {
            "_dom_classes": [],
            "_model_module": "@jupyter-widgets/controls",
            "_model_module_version": "1.5.0",
            "_model_name": "HBoxModel",
            "_view_count": null,
            "_view_module": "@jupyter-widgets/controls",
            "_view_module_version": "1.5.0",
            "_view_name": "HBoxView",
            "box_style": "",
            "children": [
              "IPY_MODEL_a836b53496784aef94426225f4ff36aa",
              "IPY_MODEL_d23dbd48992e4332a2cc63508f8d2edb",
              "IPY_MODEL_330623322b4a4c858f602c43d58a3f3f"
            ],
            "layout": "IPY_MODEL_b3cdcdf6b8cb494ca160c4a9d0a75a08"
          }
        },
        "a836b53496784aef94426225f4ff36aa": {
          "model_module": "@jupyter-widgets/controls",
          "model_name": "HTMLModel",
          "model_module_version": "1.5.0",
          "state": {
            "_dom_classes": [],
            "_model_module": "@jupyter-widgets/controls",
            "_model_module_version": "1.5.0",
            "_model_name": "HTMLModel",
            "_view_count": null,
            "_view_module": "@jupyter-widgets/controls",
            "_view_module_version": "1.5.0",
            "_view_name": "HTMLView",
            "description": "",
            "description_tooltip": null,
            "layout": "IPY_MODEL_1646af1527634e23861f3b21972fc8e0",
            "placeholder": "​",
            "style": "IPY_MODEL_92ae30fded364b49996bf1eb71c27721",
            "value": "config.json: 100%"
          }
        },
        "d23dbd48992e4332a2cc63508f8d2edb": {
          "model_module": "@jupyter-widgets/controls",
          "model_name": "FloatProgressModel",
          "model_module_version": "1.5.0",
          "state": {
            "_dom_classes": [],
            "_model_module": "@jupyter-widgets/controls",
            "_model_module_version": "1.5.0",
            "_model_name": "FloatProgressModel",
            "_view_count": null,
            "_view_module": "@jupyter-widgets/controls",
            "_view_module_version": "1.5.0",
            "_view_name": "ProgressView",
            "bar_style": "success",
            "description": "",
            "description_tooltip": null,
            "layout": "IPY_MODEL_f6925cfc8eec483c9ed2ab287a663a41",
            "max": 647,
            "min": 0,
            "orientation": "horizontal",
            "style": "IPY_MODEL_af78d1e21d324bd88c33d82e06d750c2",
            "value": 647
          }
        },
        "330623322b4a4c858f602c43d58a3f3f": {
          "model_module": "@jupyter-widgets/controls",
          "model_name": "HTMLModel",
          "model_module_version": "1.5.0",
          "state": {
            "_dom_classes": [],
            "_model_module": "@jupyter-widgets/controls",
            "_model_module_version": "1.5.0",
            "_model_name": "HTMLModel",
            "_view_count": null,
            "_view_module": "@jupyter-widgets/controls",
            "_view_module_version": "1.5.0",
            "_view_name": "HTMLView",
            "description": "",
            "description_tooltip": null,
            "layout": "IPY_MODEL_d14766f4915942909ba3a05000a957fd",
            "placeholder": "​",
            "style": "IPY_MODEL_690730c0f9a84b1092c3ef80054b8972",
            "value": " 647/647 [00:00&lt;00:00, 10.1kB/s]"
          }
        },
        "b3cdcdf6b8cb494ca160c4a9d0a75a08": {
          "model_module": "@jupyter-widgets/base",
          "model_name": "LayoutModel",
          "model_module_version": "1.2.0",
          "state": {
            "_model_module": "@jupyter-widgets/base",
            "_model_module_version": "1.2.0",
            "_model_name": "LayoutModel",
            "_view_count": null,
            "_view_module": "@jupyter-widgets/base",
            "_view_module_version": "1.2.0",
            "_view_name": "LayoutView",
            "align_content": null,
            "align_items": null,
            "align_self": null,
            "border": null,
            "bottom": null,
            "display": null,
            "flex": null,
            "flex_flow": null,
            "grid_area": null,
            "grid_auto_columns": null,
            "grid_auto_flow": null,
            "grid_auto_rows": null,
            "grid_column": null,
            "grid_gap": null,
            "grid_row": null,
            "grid_template_areas": null,
            "grid_template_columns": null,
            "grid_template_rows": null,
            "height": null,
            "justify_content": null,
            "justify_items": null,
            "left": null,
            "margin": null,
            "max_height": null,
            "max_width": null,
            "min_height": null,
            "min_width": null,
            "object_fit": null,
            "object_position": null,
            "order": null,
            "overflow": null,
            "overflow_x": null,
            "overflow_y": null,
            "padding": null,
            "right": null,
            "top": null,
            "visibility": null,
            "width": null
          }
        },
        "1646af1527634e23861f3b21972fc8e0": {
          "model_module": "@jupyter-widgets/base",
          "model_name": "LayoutModel",
          "model_module_version": "1.2.0",
          "state": {
            "_model_module": "@jupyter-widgets/base",
            "_model_module_version": "1.2.0",
            "_model_name": "LayoutModel",
            "_view_count": null,
            "_view_module": "@jupyter-widgets/base",
            "_view_module_version": "1.2.0",
            "_view_name": "LayoutView",
            "align_content": null,
            "align_items": null,
            "align_self": null,
            "border": null,
            "bottom": null,
            "display": null,
            "flex": null,
            "flex_flow": null,
            "grid_area": null,
            "grid_auto_columns": null,
            "grid_auto_flow": null,
            "grid_auto_rows": null,
            "grid_column": null,
            "grid_gap": null,
            "grid_row": null,
            "grid_template_areas": null,
            "grid_template_columns": null,
            "grid_template_rows": null,
            "height": null,
            "justify_content": null,
            "justify_items": null,
            "left": null,
            "margin": null,
            "max_height": null,
            "max_width": null,
            "min_height": null,
            "min_width": null,
            "object_fit": null,
            "object_position": null,
            "order": null,
            "overflow": null,
            "overflow_x": null,
            "overflow_y": null,
            "padding": null,
            "right": null,
            "top": null,
            "visibility": null,
            "width": null
          }
        },
        "92ae30fded364b49996bf1eb71c27721": {
          "model_module": "@jupyter-widgets/controls",
          "model_name": "DescriptionStyleModel",
          "model_module_version": "1.5.0",
          "state": {
            "_model_module": "@jupyter-widgets/controls",
            "_model_module_version": "1.5.0",
            "_model_name": "DescriptionStyleModel",
            "_view_count": null,
            "_view_module": "@jupyter-widgets/base",
            "_view_module_version": "1.2.0",
            "_view_name": "StyleView",
            "description_width": ""
          }
        },
        "f6925cfc8eec483c9ed2ab287a663a41": {
          "model_module": "@jupyter-widgets/base",
          "model_name": "LayoutModel",
          "model_module_version": "1.2.0",
          "state": {
            "_model_module": "@jupyter-widgets/base",
            "_model_module_version": "1.2.0",
            "_model_name": "LayoutModel",
            "_view_count": null,
            "_view_module": "@jupyter-widgets/base",
            "_view_module_version": "1.2.0",
            "_view_name": "LayoutView",
            "align_content": null,
            "align_items": null,
            "align_self": null,
            "border": null,
            "bottom": null,
            "display": null,
            "flex": null,
            "flex_flow": null,
            "grid_area": null,
            "grid_auto_columns": null,
            "grid_auto_flow": null,
            "grid_auto_rows": null,
            "grid_column": null,
            "grid_gap": null,
            "grid_row": null,
            "grid_template_areas": null,
            "grid_template_columns": null,
            "grid_template_rows": null,
            "height": null,
            "justify_content": null,
            "justify_items": null,
            "left": null,
            "margin": null,
            "max_height": null,
            "max_width": null,
            "min_height": null,
            "min_width": null,
            "object_fit": null,
            "object_position": null,
            "order": null,
            "overflow": null,
            "overflow_x": null,
            "overflow_y": null,
            "padding": null,
            "right": null,
            "top": null,
            "visibility": null,
            "width": null
          }
        },
        "af78d1e21d324bd88c33d82e06d750c2": {
          "model_module": "@jupyter-widgets/controls",
          "model_name": "ProgressStyleModel",
          "model_module_version": "1.5.0",
          "state": {
            "_model_module": "@jupyter-widgets/controls",
            "_model_module_version": "1.5.0",
            "_model_name": "ProgressStyleModel",
            "_view_count": null,
            "_view_module": "@jupyter-widgets/base",
            "_view_module_version": "1.2.0",
            "_view_name": "StyleView",
            "bar_color": null,
            "description_width": ""
          }
        },
        "d14766f4915942909ba3a05000a957fd": {
          "model_module": "@jupyter-widgets/base",
          "model_name": "LayoutModel",
          "model_module_version": "1.2.0",
          "state": {
            "_model_module": "@jupyter-widgets/base",
            "_model_module_version": "1.2.0",
            "_model_name": "LayoutModel",
            "_view_count": null,
            "_view_module": "@jupyter-widgets/base",
            "_view_module_version": "1.2.0",
            "_view_name": "LayoutView",
            "align_content": null,
            "align_items": null,
            "align_self": null,
            "border": null,
            "bottom": null,
            "display": null,
            "flex": null,
            "flex_flow": null,
            "grid_area": null,
            "grid_auto_columns": null,
            "grid_auto_flow": null,
            "grid_auto_rows": null,
            "grid_column": null,
            "grid_gap": null,
            "grid_row": null,
            "grid_template_areas": null,
            "grid_template_columns": null,
            "grid_template_rows": null,
            "height": null,
            "justify_content": null,
            "justify_items": null,
            "left": null,
            "margin": null,
            "max_height": null,
            "max_width": null,
            "min_height": null,
            "min_width": null,
            "object_fit": null,
            "object_position": null,
            "order": null,
            "overflow": null,
            "overflow_x": null,
            "overflow_y": null,
            "padding": null,
            "right": null,
            "top": null,
            "visibility": null,
            "width": null
          }
        },
        "690730c0f9a84b1092c3ef80054b8972": {
          "model_module": "@jupyter-widgets/controls",
          "model_name": "DescriptionStyleModel",
          "model_module_version": "1.5.0",
          "state": {
            "_model_module": "@jupyter-widgets/controls",
            "_model_module_version": "1.5.0",
            "_model_name": "DescriptionStyleModel",
            "_view_count": null,
            "_view_module": "@jupyter-widgets/base",
            "_view_module_version": "1.2.0",
            "_view_name": "StyleView",
            "description_width": ""
          }
        },
        "6803618b2d7d4d3b8f97bd4ef727be60": {
          "model_module": "@jupyter-widgets/controls",
          "model_name": "HBoxModel",
          "model_module_version": "1.5.0",
          "state": {
            "_dom_classes": [],
            "_model_module": "@jupyter-widgets/controls",
            "_model_module_version": "1.5.0",
            "_model_name": "HBoxModel",
            "_view_count": null,
            "_view_module": "@jupyter-widgets/controls",
            "_view_module_version": "1.5.0",
            "_view_name": "HBoxView",
            "box_style": "",
            "children": [
              "IPY_MODEL_fb8e562c19ec41f99a1a44286676947c",
              "IPY_MODEL_eed432208c014628bcccae18d749a872",
              "IPY_MODEL_2049aadfa21647c6bda6df91e747eefd"
            ],
            "layout": "IPY_MODEL_1c94ee1baed64f3f8464ae2992b2b3a1"
          }
        },
        "fb8e562c19ec41f99a1a44286676947c": {
          "model_module": "@jupyter-widgets/controls",
          "model_name": "HTMLModel",
          "model_module_version": "1.5.0",
          "state": {
            "_dom_classes": [],
            "_model_module": "@jupyter-widgets/controls",
            "_model_module_version": "1.5.0",
            "_model_name": "HTMLModel",
            "_view_count": null,
            "_view_module": "@jupyter-widgets/controls",
            "_view_module_version": "1.5.0",
            "_view_name": "HTMLView",
            "description": "",
            "description_tooltip": null,
            "layout": "IPY_MODEL_05645547d69c48dfb78b9a08f5d6dab4",
            "placeholder": "​",
            "style": "IPY_MODEL_b7d4a2ced0ac4814a5deb146e8a4882e",
            "value": "pytorch_model.bin: 100%"
          }
        },
        "eed432208c014628bcccae18d749a872": {
          "model_module": "@jupyter-widgets/controls",
          "model_name": "FloatProgressModel",
          "model_module_version": "1.5.0",
          "state": {
            "_dom_classes": [],
            "_model_module": "@jupyter-widgets/controls",
            "_model_module_version": "1.5.0",
            "_model_name": "FloatProgressModel",
            "_view_count": null,
            "_view_module": "@jupyter-widgets/controls",
            "_view_module_version": "1.5.0",
            "_view_name": "ProgressView",
            "bar_style": "success",
            "description": "",
            "description_tooltip": null,
            "layout": "IPY_MODEL_ccc282fc323949f7acf91b404fd9ec19",
            "max": 438235074,
            "min": 0,
            "orientation": "horizontal",
            "style": "IPY_MODEL_c92cd9aa7da14320a9fdbd0ebb6182a3",
            "value": 438235074
          }
        },
        "2049aadfa21647c6bda6df91e747eefd": {
          "model_module": "@jupyter-widgets/controls",
          "model_name": "HTMLModel",
          "model_module_version": "1.5.0",
          "state": {
            "_dom_classes": [],
            "_model_module": "@jupyter-widgets/controls",
            "_model_module_version": "1.5.0",
            "_model_name": "HTMLModel",
            "_view_count": null,
            "_view_module": "@jupyter-widgets/controls",
            "_view_module_version": "1.5.0",
            "_view_name": "HTMLView",
            "description": "",
            "description_tooltip": null,
            "layout": "IPY_MODEL_db3b092c0a994b1ca91cde34396e218f",
            "placeholder": "​",
            "style": "IPY_MODEL_5460e2c5de984b3e96c356d5d32a731e",
            "value": " 438M/438M [00:04&lt;00:00, 125MB/s]"
          }
        },
        "1c94ee1baed64f3f8464ae2992b2b3a1": {
          "model_module": "@jupyter-widgets/base",
          "model_name": "LayoutModel",
          "model_module_version": "1.2.0",
          "state": {
            "_model_module": "@jupyter-widgets/base",
            "_model_module_version": "1.2.0",
            "_model_name": "LayoutModel",
            "_view_count": null,
            "_view_module": "@jupyter-widgets/base",
            "_view_module_version": "1.2.0",
            "_view_name": "LayoutView",
            "align_content": null,
            "align_items": null,
            "align_self": null,
            "border": null,
            "bottom": null,
            "display": null,
            "flex": null,
            "flex_flow": null,
            "grid_area": null,
            "grid_auto_columns": null,
            "grid_auto_flow": null,
            "grid_auto_rows": null,
            "grid_column": null,
            "grid_gap": null,
            "grid_row": null,
            "grid_template_areas": null,
            "grid_template_columns": null,
            "grid_template_rows": null,
            "height": null,
            "justify_content": null,
            "justify_items": null,
            "left": null,
            "margin": null,
            "max_height": null,
            "max_width": null,
            "min_height": null,
            "min_width": null,
            "object_fit": null,
            "object_position": null,
            "order": null,
            "overflow": null,
            "overflow_x": null,
            "overflow_y": null,
            "padding": null,
            "right": null,
            "top": null,
            "visibility": null,
            "width": null
          }
        },
        "05645547d69c48dfb78b9a08f5d6dab4": {
          "model_module": "@jupyter-widgets/base",
          "model_name": "LayoutModel",
          "model_module_version": "1.2.0",
          "state": {
            "_model_module": "@jupyter-widgets/base",
            "_model_module_version": "1.2.0",
            "_model_name": "LayoutModel",
            "_view_count": null,
            "_view_module": "@jupyter-widgets/base",
            "_view_module_version": "1.2.0",
            "_view_name": "LayoutView",
            "align_content": null,
            "align_items": null,
            "align_self": null,
            "border": null,
            "bottom": null,
            "display": null,
            "flex": null,
            "flex_flow": null,
            "grid_area": null,
            "grid_auto_columns": null,
            "grid_auto_flow": null,
            "grid_auto_rows": null,
            "grid_column": null,
            "grid_gap": null,
            "grid_row": null,
            "grid_template_areas": null,
            "grid_template_columns": null,
            "grid_template_rows": null,
            "height": null,
            "justify_content": null,
            "justify_items": null,
            "left": null,
            "margin": null,
            "max_height": null,
            "max_width": null,
            "min_height": null,
            "min_width": null,
            "object_fit": null,
            "object_position": null,
            "order": null,
            "overflow": null,
            "overflow_x": null,
            "overflow_y": null,
            "padding": null,
            "right": null,
            "top": null,
            "visibility": null,
            "width": null
          }
        },
        "b7d4a2ced0ac4814a5deb146e8a4882e": {
          "model_module": "@jupyter-widgets/controls",
          "model_name": "DescriptionStyleModel",
          "model_module_version": "1.5.0",
          "state": {
            "_model_module": "@jupyter-widgets/controls",
            "_model_module_version": "1.5.0",
            "_model_name": "DescriptionStyleModel",
            "_view_count": null,
            "_view_module": "@jupyter-widgets/base",
            "_view_module_version": "1.2.0",
            "_view_name": "StyleView",
            "description_width": ""
          }
        },
        "ccc282fc323949f7acf91b404fd9ec19": {
          "model_module": "@jupyter-widgets/base",
          "model_name": "LayoutModel",
          "model_module_version": "1.2.0",
          "state": {
            "_model_module": "@jupyter-widgets/base",
            "_model_module_version": "1.2.0",
            "_model_name": "LayoutModel",
            "_view_count": null,
            "_view_module": "@jupyter-widgets/base",
            "_view_module_version": "1.2.0",
            "_view_name": "LayoutView",
            "align_content": null,
            "align_items": null,
            "align_self": null,
            "border": null,
            "bottom": null,
            "display": null,
            "flex": null,
            "flex_flow": null,
            "grid_area": null,
            "grid_auto_columns": null,
            "grid_auto_flow": null,
            "grid_auto_rows": null,
            "grid_column": null,
            "grid_gap": null,
            "grid_row": null,
            "grid_template_areas": null,
            "grid_template_columns": null,
            "grid_template_rows": null,
            "height": null,
            "justify_content": null,
            "justify_items": null,
            "left": null,
            "margin": null,
            "max_height": null,
            "max_width": null,
            "min_height": null,
            "min_width": null,
            "object_fit": null,
            "object_position": null,
            "order": null,
            "overflow": null,
            "overflow_x": null,
            "overflow_y": null,
            "padding": null,
            "right": null,
            "top": null,
            "visibility": null,
            "width": null
          }
        },
        "c92cd9aa7da14320a9fdbd0ebb6182a3": {
          "model_module": "@jupyter-widgets/controls",
          "model_name": "ProgressStyleModel",
          "model_module_version": "1.5.0",
          "state": {
            "_model_module": "@jupyter-widgets/controls",
            "_model_module_version": "1.5.0",
            "_model_name": "ProgressStyleModel",
            "_view_count": null,
            "_view_module": "@jupyter-widgets/base",
            "_view_module_version": "1.2.0",
            "_view_name": "StyleView",
            "bar_color": null,
            "description_width": ""
          }
        },
        "db3b092c0a994b1ca91cde34396e218f": {
          "model_module": "@jupyter-widgets/base",
          "model_name": "LayoutModel",
          "model_module_version": "1.2.0",
          "state": {
            "_model_module": "@jupyter-widgets/base",
            "_model_module_version": "1.2.0",
            "_model_name": "LayoutModel",
            "_view_count": null,
            "_view_module": "@jupyter-widgets/base",
            "_view_module_version": "1.2.0",
            "_view_name": "LayoutView",
            "align_content": null,
            "align_items": null,
            "align_self": null,
            "border": null,
            "bottom": null,
            "display": null,
            "flex": null,
            "flex_flow": null,
            "grid_area": null,
            "grid_auto_columns": null,
            "grid_auto_flow": null,
            "grid_auto_rows": null,
            "grid_column": null,
            "grid_gap": null,
            "grid_row": null,
            "grid_template_areas": null,
            "grid_template_columns": null,
            "grid_template_rows": null,
            "height": null,
            "justify_content": null,
            "justify_items": null,
            "left": null,
            "margin": null,
            "max_height": null,
            "max_width": null,
            "min_height": null,
            "min_width": null,
            "object_fit": null,
            "object_position": null,
            "order": null,
            "overflow": null,
            "overflow_x": null,
            "overflow_y": null,
            "padding": null,
            "right": null,
            "top": null,
            "visibility": null,
            "width": null
          }
        },
        "5460e2c5de984b3e96c356d5d32a731e": {
          "model_module": "@jupyter-widgets/controls",
          "model_name": "DescriptionStyleModel",
          "model_module_version": "1.5.0",
          "state": {
            "_model_module": "@jupyter-widgets/controls",
            "_model_module_version": "1.5.0",
            "_model_name": "DescriptionStyleModel",
            "_view_count": null,
            "_view_module": "@jupyter-widgets/base",
            "_view_module_version": "1.2.0",
            "_view_name": "StyleView",
            "description_width": ""
          }
        },
        "824e3d8171dd4e218b3741b070a3058e": {
          "model_module": "@jupyter-widgets/controls",
          "model_name": "HBoxModel",
          "model_module_version": "1.5.0",
          "state": {
            "_dom_classes": [],
            "_model_module": "@jupyter-widgets/controls",
            "_model_module_version": "1.5.0",
            "_model_name": "HBoxModel",
            "_view_count": null,
            "_view_module": "@jupyter-widgets/controls",
            "_view_module_version": "1.5.0",
            "_view_name": "HBoxView",
            "box_style": "",
            "children": [
              "IPY_MODEL_823f1fd8305c4c51915d643b53f800ff",
              "IPY_MODEL_7e1a9592a8694a1db7b3d5c12971e092",
              "IPY_MODEL_e5837f699a7843f3b5190a789cb54b10"
            ],
            "layout": "IPY_MODEL_59eee67f04f144808a7bfb37ef5f694e"
          }
        },
        "823f1fd8305c4c51915d643b53f800ff": {
          "model_module": "@jupyter-widgets/controls",
          "model_name": "HTMLModel",
          "model_module_version": "1.5.0",
          "state": {
            "_dom_classes": [],
            "_model_module": "@jupyter-widgets/controls",
            "_model_module_version": "1.5.0",
            "_model_name": "HTMLModel",
            "_view_count": null,
            "_view_module": "@jupyter-widgets/controls",
            "_view_module_version": "1.5.0",
            "_view_name": "HTMLView",
            "description": "",
            "description_tooltip": null,
            "layout": "IPY_MODEL_eb0b261e28784174b6d3a0e41643e7b1",
            "placeholder": "​",
            "style": "IPY_MODEL_9a26fc48094e46018ea002878d1ac87f",
            "value": "tokenizer_config.json: 100%"
          }
        },
        "7e1a9592a8694a1db7b3d5c12971e092": {
          "model_module": "@jupyter-widgets/controls",
          "model_name": "FloatProgressModel",
          "model_module_version": "1.5.0",
          "state": {
            "_dom_classes": [],
            "_model_module": "@jupyter-widgets/controls",
            "_model_module_version": "1.5.0",
            "_model_name": "FloatProgressModel",
            "_view_count": null,
            "_view_module": "@jupyter-widgets/controls",
            "_view_module_version": "1.5.0",
            "_view_name": "ProgressView",
            "bar_style": "success",
            "description": "",
            "description_tooltip": null,
            "layout": "IPY_MODEL_58594ee71fcd41258685d1a38e21fa44",
            "max": 43,
            "min": 0,
            "orientation": "horizontal",
            "style": "IPY_MODEL_36bd4d1c8fad4751a6e3c61f3a052b9c",
            "value": 43
          }
        },
        "e5837f699a7843f3b5190a789cb54b10": {
          "model_module": "@jupyter-widgets/controls",
          "model_name": "HTMLModel",
          "model_module_version": "1.5.0",
          "state": {
            "_dom_classes": [],
            "_model_module": "@jupyter-widgets/controls",
            "_model_module_version": "1.5.0",
            "_model_name": "HTMLModel",
            "_view_count": null,
            "_view_module": "@jupyter-widgets/controls",
            "_view_module_version": "1.5.0",
            "_view_name": "HTMLView",
            "description": "",
            "description_tooltip": null,
            "layout": "IPY_MODEL_fb95cd482a764c02850b4532b80c62fb",
            "placeholder": "​",
            "style": "IPY_MODEL_ceb0ee62bac040f89d77a37584bb0e82",
            "value": " 43.0/43.0 [00:00&lt;00:00, 471B/s]"
          }
        },
        "59eee67f04f144808a7bfb37ef5f694e": {
          "model_module": "@jupyter-widgets/base",
          "model_name": "LayoutModel",
          "model_module_version": "1.2.0",
          "state": {
            "_model_module": "@jupyter-widgets/base",
            "_model_module_version": "1.2.0",
            "_model_name": "LayoutModel",
            "_view_count": null,
            "_view_module": "@jupyter-widgets/base",
            "_view_module_version": "1.2.0",
            "_view_name": "LayoutView",
            "align_content": null,
            "align_items": null,
            "align_self": null,
            "border": null,
            "bottom": null,
            "display": null,
            "flex": null,
            "flex_flow": null,
            "grid_area": null,
            "grid_auto_columns": null,
            "grid_auto_flow": null,
            "grid_auto_rows": null,
            "grid_column": null,
            "grid_gap": null,
            "grid_row": null,
            "grid_template_areas": null,
            "grid_template_columns": null,
            "grid_template_rows": null,
            "height": null,
            "justify_content": null,
            "justify_items": null,
            "left": null,
            "margin": null,
            "max_height": null,
            "max_width": null,
            "min_height": null,
            "min_width": null,
            "object_fit": null,
            "object_position": null,
            "order": null,
            "overflow": null,
            "overflow_x": null,
            "overflow_y": null,
            "padding": null,
            "right": null,
            "top": null,
            "visibility": null,
            "width": null
          }
        },
        "eb0b261e28784174b6d3a0e41643e7b1": {
          "model_module": "@jupyter-widgets/base",
          "model_name": "LayoutModel",
          "model_module_version": "1.2.0",
          "state": {
            "_model_module": "@jupyter-widgets/base",
            "_model_module_version": "1.2.0",
            "_model_name": "LayoutModel",
            "_view_count": null,
            "_view_module": "@jupyter-widgets/base",
            "_view_module_version": "1.2.0",
            "_view_name": "LayoutView",
            "align_content": null,
            "align_items": null,
            "align_self": null,
            "border": null,
            "bottom": null,
            "display": null,
            "flex": null,
            "flex_flow": null,
            "grid_area": null,
            "grid_auto_columns": null,
            "grid_auto_flow": null,
            "grid_auto_rows": null,
            "grid_column": null,
            "grid_gap": null,
            "grid_row": null,
            "grid_template_areas": null,
            "grid_template_columns": null,
            "grid_template_rows": null,
            "height": null,
            "justify_content": null,
            "justify_items": null,
            "left": null,
            "margin": null,
            "max_height": null,
            "max_width": null,
            "min_height": null,
            "min_width": null,
            "object_fit": null,
            "object_position": null,
            "order": null,
            "overflow": null,
            "overflow_x": null,
            "overflow_y": null,
            "padding": null,
            "right": null,
            "top": null,
            "visibility": null,
            "width": null
          }
        },
        "9a26fc48094e46018ea002878d1ac87f": {
          "model_module": "@jupyter-widgets/controls",
          "model_name": "DescriptionStyleModel",
          "model_module_version": "1.5.0",
          "state": {
            "_model_module": "@jupyter-widgets/controls",
            "_model_module_version": "1.5.0",
            "_model_name": "DescriptionStyleModel",
            "_view_count": null,
            "_view_module": "@jupyter-widgets/base",
            "_view_module_version": "1.2.0",
            "_view_name": "StyleView",
            "description_width": ""
          }
        },
        "58594ee71fcd41258685d1a38e21fa44": {
          "model_module": "@jupyter-widgets/base",
          "model_name": "LayoutModel",
          "model_module_version": "1.2.0",
          "state": {
            "_model_module": "@jupyter-widgets/base",
            "_model_module_version": "1.2.0",
            "_model_name": "LayoutModel",
            "_view_count": null,
            "_view_module": "@jupyter-widgets/base",
            "_view_module_version": "1.2.0",
            "_view_name": "LayoutView",
            "align_content": null,
            "align_items": null,
            "align_self": null,
            "border": null,
            "bottom": null,
            "display": null,
            "flex": null,
            "flex_flow": null,
            "grid_area": null,
            "grid_auto_columns": null,
            "grid_auto_flow": null,
            "grid_auto_rows": null,
            "grid_column": null,
            "grid_gap": null,
            "grid_row": null,
            "grid_template_areas": null,
            "grid_template_columns": null,
            "grid_template_rows": null,
            "height": null,
            "justify_content": null,
            "justify_items": null,
            "left": null,
            "margin": null,
            "max_height": null,
            "max_width": null,
            "min_height": null,
            "min_width": null,
            "object_fit": null,
            "object_position": null,
            "order": null,
            "overflow": null,
            "overflow_x": null,
            "overflow_y": null,
            "padding": null,
            "right": null,
            "top": null,
            "visibility": null,
            "width": null
          }
        },
        "36bd4d1c8fad4751a6e3c61f3a052b9c": {
          "model_module": "@jupyter-widgets/controls",
          "model_name": "ProgressStyleModel",
          "model_module_version": "1.5.0",
          "state": {
            "_model_module": "@jupyter-widgets/controls",
            "_model_module_version": "1.5.0",
            "_model_name": "ProgressStyleModel",
            "_view_count": null,
            "_view_module": "@jupyter-widgets/base",
            "_view_module_version": "1.2.0",
            "_view_name": "StyleView",
            "bar_color": null,
            "description_width": ""
          }
        },
        "fb95cd482a764c02850b4532b80c62fb": {
          "model_module": "@jupyter-widgets/base",
          "model_name": "LayoutModel",
          "model_module_version": "1.2.0",
          "state": {
            "_model_module": "@jupyter-widgets/base",
            "_model_module_version": "1.2.0",
            "_model_name": "LayoutModel",
            "_view_count": null,
            "_view_module": "@jupyter-widgets/base",
            "_view_module_version": "1.2.0",
            "_view_name": "LayoutView",
            "align_content": null,
            "align_items": null,
            "align_self": null,
            "border": null,
            "bottom": null,
            "display": null,
            "flex": null,
            "flex_flow": null,
            "grid_area": null,
            "grid_auto_columns": null,
            "grid_auto_flow": null,
            "grid_auto_rows": null,
            "grid_column": null,
            "grid_gap": null,
            "grid_row": null,
            "grid_template_areas": null,
            "grid_template_columns": null,
            "grid_template_rows": null,
            "height": null,
            "justify_content": null,
            "justify_items": null,
            "left": null,
            "margin": null,
            "max_height": null,
            "max_width": null,
            "min_height": null,
            "min_width": null,
            "object_fit": null,
            "object_position": null,
            "order": null,
            "overflow": null,
            "overflow_x": null,
            "overflow_y": null,
            "padding": null,
            "right": null,
            "top": null,
            "visibility": null,
            "width": null
          }
        },
        "ceb0ee62bac040f89d77a37584bb0e82": {
          "model_module": "@jupyter-widgets/controls",
          "model_name": "DescriptionStyleModel",
          "model_module_version": "1.5.0",
          "state": {
            "_model_module": "@jupyter-widgets/controls",
            "_model_module_version": "1.5.0",
            "_model_name": "DescriptionStyleModel",
            "_view_count": null,
            "_view_module": "@jupyter-widgets/base",
            "_view_module_version": "1.2.0",
            "_view_name": "StyleView",
            "description_width": ""
          }
        },
        "b63d1bac2afc4696addd54944cbbff87": {
          "model_module": "@jupyter-widgets/controls",
          "model_name": "HBoxModel",
          "model_module_version": "1.5.0",
          "state": {
            "_dom_classes": [],
            "_model_module": "@jupyter-widgets/controls",
            "_model_module_version": "1.5.0",
            "_model_name": "HBoxModel",
            "_view_count": null,
            "_view_module": "@jupyter-widgets/controls",
            "_view_module_version": "1.5.0",
            "_view_name": "HBoxView",
            "box_style": "",
            "children": [
              "IPY_MODEL_7d664d2e572e4f8d8bbbae926d8c1b5c",
              "IPY_MODEL_984bb2fa0a02487587e68cb21fe8c46e",
              "IPY_MODEL_cc796df27a584d31ad6b86f01ac8a3f3"
            ],
            "layout": "IPY_MODEL_7647c3ec2208429c92a8a83acbe69f46"
          }
        },
        "7d664d2e572e4f8d8bbbae926d8c1b5c": {
          "model_module": "@jupyter-widgets/controls",
          "model_name": "HTMLModel",
          "model_module_version": "1.5.0",
          "state": {
            "_dom_classes": [],
            "_model_module": "@jupyter-widgets/controls",
            "_model_module_version": "1.5.0",
            "_model_name": "HTMLModel",
            "_view_count": null,
            "_view_module": "@jupyter-widgets/controls",
            "_view_module_version": "1.5.0",
            "_view_name": "HTMLView",
            "description": "",
            "description_tooltip": null,
            "layout": "IPY_MODEL_227235c3223942ff9062c9ddbaf3fe60",
            "placeholder": "​",
            "style": "IPY_MODEL_aab571af549441a68f6f1f4ef1f96901",
            "value": "vocab.txt: 100%"
          }
        },
        "984bb2fa0a02487587e68cb21fe8c46e": {
          "model_module": "@jupyter-widgets/controls",
          "model_name": "FloatProgressModel",
          "model_module_version": "1.5.0",
          "state": {
            "_dom_classes": [],
            "_model_module": "@jupyter-widgets/controls",
            "_model_module_version": "1.5.0",
            "_model_name": "FloatProgressModel",
            "_view_count": null,
            "_view_module": "@jupyter-widgets/controls",
            "_view_module_version": "1.5.0",
            "_view_name": "ProgressView",
            "bar_style": "success",
            "description": "",
            "description_tooltip": null,
            "layout": "IPY_MODEL_f97132593d1648069e262f0139f3ecb9",
            "max": 209528,
            "min": 0,
            "orientation": "horizontal",
            "style": "IPY_MODEL_e89b0fabfab544ac8477c90a1bca8611",
            "value": 209528
          }
        },
        "cc796df27a584d31ad6b86f01ac8a3f3": {
          "model_module": "@jupyter-widgets/controls",
          "model_name": "HTMLModel",
          "model_module_version": "1.5.0",
          "state": {
            "_dom_classes": [],
            "_model_module": "@jupyter-widgets/controls",
            "_model_module_version": "1.5.0",
            "_model_name": "HTMLModel",
            "_view_count": null,
            "_view_module": "@jupyter-widgets/controls",
            "_view_module_version": "1.5.0",
            "_view_name": "HTMLView",
            "description": "",
            "description_tooltip": null,
            "layout": "IPY_MODEL_d2e8b143e9664376a1977dc0d9ea6ac4",
            "placeholder": "​",
            "style": "IPY_MODEL_7521a51d5259488e8e140e41564cc419",
            "value": " 210k/210k [00:00&lt;00:00, 2.15MB/s]"
          }
        },
        "7647c3ec2208429c92a8a83acbe69f46": {
          "model_module": "@jupyter-widgets/base",
          "model_name": "LayoutModel",
          "model_module_version": "1.2.0",
          "state": {
            "_model_module": "@jupyter-widgets/base",
            "_model_module_version": "1.2.0",
            "_model_name": "LayoutModel",
            "_view_count": null,
            "_view_module": "@jupyter-widgets/base",
            "_view_module_version": "1.2.0",
            "_view_name": "LayoutView",
            "align_content": null,
            "align_items": null,
            "align_self": null,
            "border": null,
            "bottom": null,
            "display": null,
            "flex": null,
            "flex_flow": null,
            "grid_area": null,
            "grid_auto_columns": null,
            "grid_auto_flow": null,
            "grid_auto_rows": null,
            "grid_column": null,
            "grid_gap": null,
            "grid_row": null,
            "grid_template_areas": null,
            "grid_template_columns": null,
            "grid_template_rows": null,
            "height": null,
            "justify_content": null,
            "justify_items": null,
            "left": null,
            "margin": null,
            "max_height": null,
            "max_width": null,
            "min_height": null,
            "min_width": null,
            "object_fit": null,
            "object_position": null,
            "order": null,
            "overflow": null,
            "overflow_x": null,
            "overflow_y": null,
            "padding": null,
            "right": null,
            "top": null,
            "visibility": null,
            "width": null
          }
        },
        "227235c3223942ff9062c9ddbaf3fe60": {
          "model_module": "@jupyter-widgets/base",
          "model_name": "LayoutModel",
          "model_module_version": "1.2.0",
          "state": {
            "_model_module": "@jupyter-widgets/base",
            "_model_module_version": "1.2.0",
            "_model_name": "LayoutModel",
            "_view_count": null,
            "_view_module": "@jupyter-widgets/base",
            "_view_module_version": "1.2.0",
            "_view_name": "LayoutView",
            "align_content": null,
            "align_items": null,
            "align_self": null,
            "border": null,
            "bottom": null,
            "display": null,
            "flex": null,
            "flex_flow": null,
            "grid_area": null,
            "grid_auto_columns": null,
            "grid_auto_flow": null,
            "grid_auto_rows": null,
            "grid_column": null,
            "grid_gap": null,
            "grid_row": null,
            "grid_template_areas": null,
            "grid_template_columns": null,
            "grid_template_rows": null,
            "height": null,
            "justify_content": null,
            "justify_items": null,
            "left": null,
            "margin": null,
            "max_height": null,
            "max_width": null,
            "min_height": null,
            "min_width": null,
            "object_fit": null,
            "object_position": null,
            "order": null,
            "overflow": null,
            "overflow_x": null,
            "overflow_y": null,
            "padding": null,
            "right": null,
            "top": null,
            "visibility": null,
            "width": null
          }
        },
        "aab571af549441a68f6f1f4ef1f96901": {
          "model_module": "@jupyter-widgets/controls",
          "model_name": "DescriptionStyleModel",
          "model_module_version": "1.5.0",
          "state": {
            "_model_module": "@jupyter-widgets/controls",
            "_model_module_version": "1.5.0",
            "_model_name": "DescriptionStyleModel",
            "_view_count": null,
            "_view_module": "@jupyter-widgets/base",
            "_view_module_version": "1.2.0",
            "_view_name": "StyleView",
            "description_width": ""
          }
        },
        "f97132593d1648069e262f0139f3ecb9": {
          "model_module": "@jupyter-widgets/base",
          "model_name": "LayoutModel",
          "model_module_version": "1.2.0",
          "state": {
            "_model_module": "@jupyter-widgets/base",
            "_model_module_version": "1.2.0",
            "_model_name": "LayoutModel",
            "_view_count": null,
            "_view_module": "@jupyter-widgets/base",
            "_view_module_version": "1.2.0",
            "_view_name": "LayoutView",
            "align_content": null,
            "align_items": null,
            "align_self": null,
            "border": null,
            "bottom": null,
            "display": null,
            "flex": null,
            "flex_flow": null,
            "grid_area": null,
            "grid_auto_columns": null,
            "grid_auto_flow": null,
            "grid_auto_rows": null,
            "grid_column": null,
            "grid_gap": null,
            "grid_row": null,
            "grid_template_areas": null,
            "grid_template_columns": null,
            "grid_template_rows": null,
            "height": null,
            "justify_content": null,
            "justify_items": null,
            "left": null,
            "margin": null,
            "max_height": null,
            "max_width": null,
            "min_height": null,
            "min_width": null,
            "object_fit": null,
            "object_position": null,
            "order": null,
            "overflow": null,
            "overflow_x": null,
            "overflow_y": null,
            "padding": null,
            "right": null,
            "top": null,
            "visibility": null,
            "width": null
          }
        },
        "e89b0fabfab544ac8477c90a1bca8611": {
          "model_module": "@jupyter-widgets/controls",
          "model_name": "ProgressStyleModel",
          "model_module_version": "1.5.0",
          "state": {
            "_model_module": "@jupyter-widgets/controls",
            "_model_module_version": "1.5.0",
            "_model_name": "ProgressStyleModel",
            "_view_count": null,
            "_view_module": "@jupyter-widgets/base",
            "_view_module_version": "1.2.0",
            "_view_name": "StyleView",
            "bar_color": null,
            "description_width": ""
          }
        },
        "d2e8b143e9664376a1977dc0d9ea6ac4": {
          "model_module": "@jupyter-widgets/base",
          "model_name": "LayoutModel",
          "model_module_version": "1.2.0",
          "state": {
            "_model_module": "@jupyter-widgets/base",
            "_model_module_version": "1.2.0",
            "_model_name": "LayoutModel",
            "_view_count": null,
            "_view_module": "@jupyter-widgets/base",
            "_view_module_version": "1.2.0",
            "_view_name": "LayoutView",
            "align_content": null,
            "align_items": null,
            "align_self": null,
            "border": null,
            "bottom": null,
            "display": null,
            "flex": null,
            "flex_flow": null,
            "grid_area": null,
            "grid_auto_columns": null,
            "grid_auto_flow": null,
            "grid_auto_rows": null,
            "grid_column": null,
            "grid_gap": null,
            "grid_row": null,
            "grid_template_areas": null,
            "grid_template_columns": null,
            "grid_template_rows": null,
            "height": null,
            "justify_content": null,
            "justify_items": null,
            "left": null,
            "margin": null,
            "max_height": null,
            "max_width": null,
            "min_height": null,
            "min_width": null,
            "object_fit": null,
            "object_position": null,
            "order": null,
            "overflow": null,
            "overflow_x": null,
            "overflow_y": null,
            "padding": null,
            "right": null,
            "top": null,
            "visibility": null,
            "width": null
          }
        },
        "7521a51d5259488e8e140e41564cc419": {
          "model_module": "@jupyter-widgets/controls",
          "model_name": "DescriptionStyleModel",
          "model_module_version": "1.5.0",
          "state": {
            "_model_module": "@jupyter-widgets/controls",
            "_model_module_version": "1.5.0",
            "_model_name": "DescriptionStyleModel",
            "_view_count": null,
            "_view_module": "@jupyter-widgets/base",
            "_view_module_version": "1.2.0",
            "_view_name": "StyleView",
            "description_width": ""
          }
        },
        "af5b81a040ab48a387ab1a5f8622279c": {
          "model_module": "@jupyter-widgets/controls",
          "model_name": "HBoxModel",
          "model_module_version": "1.5.0",
          "state": {
            "_dom_classes": [],
            "_model_module": "@jupyter-widgets/controls",
            "_model_module_version": "1.5.0",
            "_model_name": "HBoxModel",
            "_view_count": null,
            "_view_module": "@jupyter-widgets/controls",
            "_view_module_version": "1.5.0",
            "_view_name": "HBoxView",
            "box_style": "",
            "children": [
              "IPY_MODEL_e1751329a54b4168a0b9ee528c6e248d",
              "IPY_MODEL_b263c4f824b7405fa7f4e734350e9f4f",
              "IPY_MODEL_f6250881d0b04dfebee2ca5f2fde6eda"
            ],
            "layout": "IPY_MODEL_22d82b9358b44093bf250ff4c3c63258"
          }
        },
        "e1751329a54b4168a0b9ee528c6e248d": {
          "model_module": "@jupyter-widgets/controls",
          "model_name": "HTMLModel",
          "model_module_version": "1.5.0",
          "state": {
            "_dom_classes": [],
            "_model_module": "@jupyter-widgets/controls",
            "_model_module_version": "1.5.0",
            "_model_name": "HTMLModel",
            "_view_count": null,
            "_view_module": "@jupyter-widgets/controls",
            "_view_module_version": "1.5.0",
            "_view_name": "HTMLView",
            "description": "",
            "description_tooltip": null,
            "layout": "IPY_MODEL_afaa7e75b1c04bd1be2820cc5849bede",
            "placeholder": "​",
            "style": "IPY_MODEL_3b176dc2058c4690b52aa95e87dd1d62",
            "value": "added_tokens.json: 100%"
          }
        },
        "b263c4f824b7405fa7f4e734350e9f4f": {
          "model_module": "@jupyter-widgets/controls",
          "model_name": "FloatProgressModel",
          "model_module_version": "1.5.0",
          "state": {
            "_dom_classes": [],
            "_model_module": "@jupyter-widgets/controls",
            "_model_module_version": "1.5.0",
            "_model_name": "FloatProgressModel",
            "_view_count": null,
            "_view_module": "@jupyter-widgets/controls",
            "_view_module_version": "1.5.0",
            "_view_name": "ProgressView",
            "bar_style": "success",
            "description": "",
            "description_tooltip": null,
            "layout": "IPY_MODEL_09f0079e7d74475a985d979c92097e97",
            "max": 2,
            "min": 0,
            "orientation": "horizontal",
            "style": "IPY_MODEL_7c7940de43bc4b59ac9905bbe2f2da0d",
            "value": 2
          }
        },
        "f6250881d0b04dfebee2ca5f2fde6eda": {
          "model_module": "@jupyter-widgets/controls",
          "model_name": "HTMLModel",
          "model_module_version": "1.5.0",
          "state": {
            "_dom_classes": [],
            "_model_module": "@jupyter-widgets/controls",
            "_model_module_version": "1.5.0",
            "_model_name": "HTMLModel",
            "_view_count": null,
            "_view_module": "@jupyter-widgets/controls",
            "_view_module_version": "1.5.0",
            "_view_name": "HTMLView",
            "description": "",
            "description_tooltip": null,
            "layout": "IPY_MODEL_e0d5ad2b34bf454a9715902741f6c1a1",
            "placeholder": "​",
            "style": "IPY_MODEL_cc792430c8b546d1ac3784ebbe8c4a24",
            "value": " 2.00/2.00 [00:00&lt;00:00, 20.6B/s]"
          }
        },
        "22d82b9358b44093bf250ff4c3c63258": {
          "model_module": "@jupyter-widgets/base",
          "model_name": "LayoutModel",
          "model_module_version": "1.2.0",
          "state": {
            "_model_module": "@jupyter-widgets/base",
            "_model_module_version": "1.2.0",
            "_model_name": "LayoutModel",
            "_view_count": null,
            "_view_module": "@jupyter-widgets/base",
            "_view_module_version": "1.2.0",
            "_view_name": "LayoutView",
            "align_content": null,
            "align_items": null,
            "align_self": null,
            "border": null,
            "bottom": null,
            "display": null,
            "flex": null,
            "flex_flow": null,
            "grid_area": null,
            "grid_auto_columns": null,
            "grid_auto_flow": null,
            "grid_auto_rows": null,
            "grid_column": null,
            "grid_gap": null,
            "grid_row": null,
            "grid_template_areas": null,
            "grid_template_columns": null,
            "grid_template_rows": null,
            "height": null,
            "justify_content": null,
            "justify_items": null,
            "left": null,
            "margin": null,
            "max_height": null,
            "max_width": null,
            "min_height": null,
            "min_width": null,
            "object_fit": null,
            "object_position": null,
            "order": null,
            "overflow": null,
            "overflow_x": null,
            "overflow_y": null,
            "padding": null,
            "right": null,
            "top": null,
            "visibility": null,
            "width": null
          }
        },
        "afaa7e75b1c04bd1be2820cc5849bede": {
          "model_module": "@jupyter-widgets/base",
          "model_name": "LayoutModel",
          "model_module_version": "1.2.0",
          "state": {
            "_model_module": "@jupyter-widgets/base",
            "_model_module_version": "1.2.0",
            "_model_name": "LayoutModel",
            "_view_count": null,
            "_view_module": "@jupyter-widgets/base",
            "_view_module_version": "1.2.0",
            "_view_name": "LayoutView",
            "align_content": null,
            "align_items": null,
            "align_self": null,
            "border": null,
            "bottom": null,
            "display": null,
            "flex": null,
            "flex_flow": null,
            "grid_area": null,
            "grid_auto_columns": null,
            "grid_auto_flow": null,
            "grid_auto_rows": null,
            "grid_column": null,
            "grid_gap": null,
            "grid_row": null,
            "grid_template_areas": null,
            "grid_template_columns": null,
            "grid_template_rows": null,
            "height": null,
            "justify_content": null,
            "justify_items": null,
            "left": null,
            "margin": null,
            "max_height": null,
            "max_width": null,
            "min_height": null,
            "min_width": null,
            "object_fit": null,
            "object_position": null,
            "order": null,
            "overflow": null,
            "overflow_x": null,
            "overflow_y": null,
            "padding": null,
            "right": null,
            "top": null,
            "visibility": null,
            "width": null
          }
        },
        "3b176dc2058c4690b52aa95e87dd1d62": {
          "model_module": "@jupyter-widgets/controls",
          "model_name": "DescriptionStyleModel",
          "model_module_version": "1.5.0",
          "state": {
            "_model_module": "@jupyter-widgets/controls",
            "_model_module_version": "1.5.0",
            "_model_name": "DescriptionStyleModel",
            "_view_count": null,
            "_view_module": "@jupyter-widgets/base",
            "_view_module_version": "1.2.0",
            "_view_name": "StyleView",
            "description_width": ""
          }
        },
        "09f0079e7d74475a985d979c92097e97": {
          "model_module": "@jupyter-widgets/base",
          "model_name": "LayoutModel",
          "model_module_version": "1.2.0",
          "state": {
            "_model_module": "@jupyter-widgets/base",
            "_model_module_version": "1.2.0",
            "_model_name": "LayoutModel",
            "_view_count": null,
            "_view_module": "@jupyter-widgets/base",
            "_view_module_version": "1.2.0",
            "_view_name": "LayoutView",
            "align_content": null,
            "align_items": null,
            "align_self": null,
            "border": null,
            "bottom": null,
            "display": null,
            "flex": null,
            "flex_flow": null,
            "grid_area": null,
            "grid_auto_columns": null,
            "grid_auto_flow": null,
            "grid_auto_rows": null,
            "grid_column": null,
            "grid_gap": null,
            "grid_row": null,
            "grid_template_areas": null,
            "grid_template_columns": null,
            "grid_template_rows": null,
            "height": null,
            "justify_content": null,
            "justify_items": null,
            "left": null,
            "margin": null,
            "max_height": null,
            "max_width": null,
            "min_height": null,
            "min_width": null,
            "object_fit": null,
            "object_position": null,
            "order": null,
            "overflow": null,
            "overflow_x": null,
            "overflow_y": null,
            "padding": null,
            "right": null,
            "top": null,
            "visibility": null,
            "width": null
          }
        },
        "7c7940de43bc4b59ac9905bbe2f2da0d": {
          "model_module": "@jupyter-widgets/controls",
          "model_name": "ProgressStyleModel",
          "model_module_version": "1.5.0",
          "state": {
            "_model_module": "@jupyter-widgets/controls",
            "_model_module_version": "1.5.0",
            "_model_name": "ProgressStyleModel",
            "_view_count": null,
            "_view_module": "@jupyter-widgets/base",
            "_view_module_version": "1.2.0",
            "_view_name": "StyleView",
            "bar_color": null,
            "description_width": ""
          }
        },
        "e0d5ad2b34bf454a9715902741f6c1a1": {
          "model_module": "@jupyter-widgets/base",
          "model_name": "LayoutModel",
          "model_module_version": "1.2.0",
          "state": {
            "_model_module": "@jupyter-widgets/base",
            "_model_module_version": "1.2.0",
            "_model_name": "LayoutModel",
            "_view_count": null,
            "_view_module": "@jupyter-widgets/base",
            "_view_module_version": "1.2.0",
            "_view_name": "LayoutView",
            "align_content": null,
            "align_items": null,
            "align_self": null,
            "border": null,
            "bottom": null,
            "display": null,
            "flex": null,
            "flex_flow": null,
            "grid_area": null,
            "grid_auto_columns": null,
            "grid_auto_flow": null,
            "grid_auto_rows": null,
            "grid_column": null,
            "grid_gap": null,
            "grid_row": null,
            "grid_template_areas": null,
            "grid_template_columns": null,
            "grid_template_rows": null,
            "height": null,
            "justify_content": null,
            "justify_items": null,
            "left": null,
            "margin": null,
            "max_height": null,
            "max_width": null,
            "min_height": null,
            "min_width": null,
            "object_fit": null,
            "object_position": null,
            "order": null,
            "overflow": null,
            "overflow_x": null,
            "overflow_y": null,
            "padding": null,
            "right": null,
            "top": null,
            "visibility": null,
            "width": null
          }
        },
        "cc792430c8b546d1ac3784ebbe8c4a24": {
          "model_module": "@jupyter-widgets/controls",
          "model_name": "DescriptionStyleModel",
          "model_module_version": "1.5.0",
          "state": {
            "_model_module": "@jupyter-widgets/controls",
            "_model_module_version": "1.5.0",
            "_model_name": "DescriptionStyleModel",
            "_view_count": null,
            "_view_module": "@jupyter-widgets/base",
            "_view_module_version": "1.2.0",
            "_view_name": "StyleView",
            "description_width": ""
          }
        },
        "0c2255ba5e0d487bbee4722fc48dc786": {
          "model_module": "@jupyter-widgets/controls",
          "model_name": "HBoxModel",
          "model_module_version": "1.5.0",
          "state": {
            "_dom_classes": [],
            "_model_module": "@jupyter-widgets/controls",
            "_model_module_version": "1.5.0",
            "_model_name": "HBoxModel",
            "_view_count": null,
            "_view_module": "@jupyter-widgets/controls",
            "_view_module_version": "1.5.0",
            "_view_name": "HBoxView",
            "box_style": "",
            "children": [
              "IPY_MODEL_5c07ee9c3904487e821ccf73fe9d326e",
              "IPY_MODEL_0e969f13f3fd48e2a43bb15bd712dcd5",
              "IPY_MODEL_6ecae52ff2f549be9309579b17dda561"
            ],
            "layout": "IPY_MODEL_afd318c22bf7480787545cfa957050ef"
          }
        },
        "5c07ee9c3904487e821ccf73fe9d326e": {
          "model_module": "@jupyter-widgets/controls",
          "model_name": "HTMLModel",
          "model_module_version": "1.5.0",
          "state": {
            "_dom_classes": [],
            "_model_module": "@jupyter-widgets/controls",
            "_model_module_version": "1.5.0",
            "_model_name": "HTMLModel",
            "_view_count": null,
            "_view_module": "@jupyter-widgets/controls",
            "_view_module_version": "1.5.0",
            "_view_name": "HTMLView",
            "description": "",
            "description_tooltip": null,
            "layout": "IPY_MODEL_dec12e075e23453b9443d798ea870c8f",
            "placeholder": "​",
            "style": "IPY_MODEL_52d95bb34fce407daa96616b1760ed4e",
            "value": "special_tokens_map.json: 100%"
          }
        },
        "0e969f13f3fd48e2a43bb15bd712dcd5": {
          "model_module": "@jupyter-widgets/controls",
          "model_name": "FloatProgressModel",
          "model_module_version": "1.5.0",
          "state": {
            "_dom_classes": [],
            "_model_module": "@jupyter-widgets/controls",
            "_model_module_version": "1.5.0",
            "_model_name": "FloatProgressModel",
            "_view_count": null,
            "_view_module": "@jupyter-widgets/controls",
            "_view_module_version": "1.5.0",
            "_view_name": "ProgressView",
            "bar_style": "success",
            "description": "",
            "description_tooltip": null,
            "layout": "IPY_MODEL_90ad3098ef964a56bead7b667edda385",
            "max": 112,
            "min": 0,
            "orientation": "horizontal",
            "style": "IPY_MODEL_775cf482f759485a86af70882e629cea",
            "value": 112
          }
        },
        "6ecae52ff2f549be9309579b17dda561": {
          "model_module": "@jupyter-widgets/controls",
          "model_name": "HTMLModel",
          "model_module_version": "1.5.0",
          "state": {
            "_dom_classes": [],
            "_model_module": "@jupyter-widgets/controls",
            "_model_module_version": "1.5.0",
            "_model_name": "HTMLModel",
            "_view_count": null,
            "_view_module": "@jupyter-widgets/controls",
            "_view_module_version": "1.5.0",
            "_view_name": "HTMLView",
            "description": "",
            "description_tooltip": null,
            "layout": "IPY_MODEL_5054f65ba9164b9b8a189936e00636bb",
            "placeholder": "​",
            "style": "IPY_MODEL_d1f56ff2ad51472aa2014f9172d59c29",
            "value": " 112/112 [00:00&lt;00:00, 962B/s]"
          }
        },
        "afd318c22bf7480787545cfa957050ef": {
          "model_module": "@jupyter-widgets/base",
          "model_name": "LayoutModel",
          "model_module_version": "1.2.0",
          "state": {
            "_model_module": "@jupyter-widgets/base",
            "_model_module_version": "1.2.0",
            "_model_name": "LayoutModel",
            "_view_count": null,
            "_view_module": "@jupyter-widgets/base",
            "_view_module_version": "1.2.0",
            "_view_name": "LayoutView",
            "align_content": null,
            "align_items": null,
            "align_self": null,
            "border": null,
            "bottom": null,
            "display": null,
            "flex": null,
            "flex_flow": null,
            "grid_area": null,
            "grid_auto_columns": null,
            "grid_auto_flow": null,
            "grid_auto_rows": null,
            "grid_column": null,
            "grid_gap": null,
            "grid_row": null,
            "grid_template_areas": null,
            "grid_template_columns": null,
            "grid_template_rows": null,
            "height": null,
            "justify_content": null,
            "justify_items": null,
            "left": null,
            "margin": null,
            "max_height": null,
            "max_width": null,
            "min_height": null,
            "min_width": null,
            "object_fit": null,
            "object_position": null,
            "order": null,
            "overflow": null,
            "overflow_x": null,
            "overflow_y": null,
            "padding": null,
            "right": null,
            "top": null,
            "visibility": null,
            "width": null
          }
        },
        "dec12e075e23453b9443d798ea870c8f": {
          "model_module": "@jupyter-widgets/base",
          "model_name": "LayoutModel",
          "model_module_version": "1.2.0",
          "state": {
            "_model_module": "@jupyter-widgets/base",
            "_model_module_version": "1.2.0",
            "_model_name": "LayoutModel",
            "_view_count": null,
            "_view_module": "@jupyter-widgets/base",
            "_view_module_version": "1.2.0",
            "_view_name": "LayoutView",
            "align_content": null,
            "align_items": null,
            "align_self": null,
            "border": null,
            "bottom": null,
            "display": null,
            "flex": null,
            "flex_flow": null,
            "grid_area": null,
            "grid_auto_columns": null,
            "grid_auto_flow": null,
            "grid_auto_rows": null,
            "grid_column": null,
            "grid_gap": null,
            "grid_row": null,
            "grid_template_areas": null,
            "grid_template_columns": null,
            "grid_template_rows": null,
            "height": null,
            "justify_content": null,
            "justify_items": null,
            "left": null,
            "margin": null,
            "max_height": null,
            "max_width": null,
            "min_height": null,
            "min_width": null,
            "object_fit": null,
            "object_position": null,
            "order": null,
            "overflow": null,
            "overflow_x": null,
            "overflow_y": null,
            "padding": null,
            "right": null,
            "top": null,
            "visibility": null,
            "width": null
          }
        },
        "52d95bb34fce407daa96616b1760ed4e": {
          "model_module": "@jupyter-widgets/controls",
          "model_name": "DescriptionStyleModel",
          "model_module_version": "1.5.0",
          "state": {
            "_model_module": "@jupyter-widgets/controls",
            "_model_module_version": "1.5.0",
            "_model_name": "DescriptionStyleModel",
            "_view_count": null,
            "_view_module": "@jupyter-widgets/base",
            "_view_module_version": "1.2.0",
            "_view_name": "StyleView",
            "description_width": ""
          }
        },
        "90ad3098ef964a56bead7b667edda385": {
          "model_module": "@jupyter-widgets/base",
          "model_name": "LayoutModel",
          "model_module_version": "1.2.0",
          "state": {
            "_model_module": "@jupyter-widgets/base",
            "_model_module_version": "1.2.0",
            "_model_name": "LayoutModel",
            "_view_count": null,
            "_view_module": "@jupyter-widgets/base",
            "_view_module_version": "1.2.0",
            "_view_name": "LayoutView",
            "align_content": null,
            "align_items": null,
            "align_self": null,
            "border": null,
            "bottom": null,
            "display": null,
            "flex": null,
            "flex_flow": null,
            "grid_area": null,
            "grid_auto_columns": null,
            "grid_auto_flow": null,
            "grid_auto_rows": null,
            "grid_column": null,
            "grid_gap": null,
            "grid_row": null,
            "grid_template_areas": null,
            "grid_template_columns": null,
            "grid_template_rows": null,
            "height": null,
            "justify_content": null,
            "justify_items": null,
            "left": null,
            "margin": null,
            "max_height": null,
            "max_width": null,
            "min_height": null,
            "min_width": null,
            "object_fit": null,
            "object_position": null,
            "order": null,
            "overflow": null,
            "overflow_x": null,
            "overflow_y": null,
            "padding": null,
            "right": null,
            "top": null,
            "visibility": null,
            "width": null
          }
        },
        "775cf482f759485a86af70882e629cea": {
          "model_module": "@jupyter-widgets/controls",
          "model_name": "ProgressStyleModel",
          "model_module_version": "1.5.0",
          "state": {
            "_model_module": "@jupyter-widgets/controls",
            "_model_module_version": "1.5.0",
            "_model_name": "ProgressStyleModel",
            "_view_count": null,
            "_view_module": "@jupyter-widgets/base",
            "_view_module_version": "1.2.0",
            "_view_name": "StyleView",
            "bar_color": null,
            "description_width": ""
          }
        },
        "5054f65ba9164b9b8a189936e00636bb": {
          "model_module": "@jupyter-widgets/base",
          "model_name": "LayoutModel",
          "model_module_version": "1.2.0",
          "state": {
            "_model_module": "@jupyter-widgets/base",
            "_model_module_version": "1.2.0",
            "_model_name": "LayoutModel",
            "_view_count": null,
            "_view_module": "@jupyter-widgets/base",
            "_view_module_version": "1.2.0",
            "_view_name": "LayoutView",
            "align_content": null,
            "align_items": null,
            "align_self": null,
            "border": null,
            "bottom": null,
            "display": null,
            "flex": null,
            "flex_flow": null,
            "grid_area": null,
            "grid_auto_columns": null,
            "grid_auto_flow": null,
            "grid_auto_rows": null,
            "grid_column": null,
            "grid_gap": null,
            "grid_row": null,
            "grid_template_areas": null,
            "grid_template_columns": null,
            "grid_template_rows": null,
            "height": null,
            "justify_content": null,
            "justify_items": null,
            "left": null,
            "margin": null,
            "max_height": null,
            "max_width": null,
            "min_height": null,
            "min_width": null,
            "object_fit": null,
            "object_position": null,
            "order": null,
            "overflow": null,
            "overflow_x": null,
            "overflow_y": null,
            "padding": null,
            "right": null,
            "top": null,
            "visibility": null,
            "width": null
          }
        },
        "d1f56ff2ad51472aa2014f9172d59c29": {
          "model_module": "@jupyter-widgets/controls",
          "model_name": "DescriptionStyleModel",
          "model_module_version": "1.5.0",
          "state": {
            "_model_module": "@jupyter-widgets/controls",
            "_model_module_version": "1.5.0",
            "_model_name": "DescriptionStyleModel",
            "_view_count": null,
            "_view_module": "@jupyter-widgets/base",
            "_view_module_version": "1.2.0",
            "_view_name": "StyleView",
            "description_width": ""
          }
        }
      }
    }
  },
  "nbformat": 4,
  "nbformat_minor": 5
}